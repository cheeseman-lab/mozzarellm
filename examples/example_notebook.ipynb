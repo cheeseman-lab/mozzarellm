{
 "cells": [
  {
   "cell_type": "code",
   "execution_count": null,
   "id": "590b2d9b",
   "metadata": {},
   "outputs": [],
   "source": [
    "import os\n",
    "import sys\n",
    "\n",
    "notebook_dir = os.path.abspath(os.path.dirname(\"__file__\"))\n",
    "project_root = os.path.abspath(os.path.join(notebook_dir, \"..\"))  # Go up one level\n",
    "if project_root not in sys.path:\n",
    "    sys.path.insert(0, project_root)"
   ]
  },
  {
   "cell_type": "code",
   "execution_count": null,
   "id": "3d9c625c",
   "metadata": {},
   "outputs": [],
   "source": [
    "# Import necessary libraries\n",
    "from dotenv import load_dotenv\n",
    "\n",
    "# Import from mozzarellm package\n",
    "from mozzarellm import analyze_gene_clusters\n",
    "\n",
    "# Load environment variables (for API keys)\n",
    "load_dotenv()\n",
    "\n",
    "# Set up paths and parameters\n",
    "PROJECT_NAME = \"example_analysis\"\n",
    "RESULTS_DIR = os.path.join(project_root, \"results\", PROJECT_NAME)\n",
    "PROCESSED_FILE = os.path.join(project_root, \"data\", \"sample_gene_sets.csv\")\n",
    "GENE_FEATURES = os.path.join(\n",
    "    project_root, \"data\", \"HeLa_essentials/essentials_uniprot.csv\"\n",
    ")"
   ]
  },
  {
   "cell_type": "code",
   "execution_count": null,
   "id": "15de3078",
   "metadata": {},
   "outputs": [],
   "source": [
    "# Create results directory if it doesn't exist\n",
    "os.makedirs(RESULTS_DIR, exist_ok=True)\n",
    "\n",
    "# Run analysis with OpenAI GPT-4o\n",
    "print(\"Running analysis with OpenAI GPT-4o...\")\n",
    "openai_results = analyze_gene_clusters(\n",
    "    input_file=PROCESSED_FILE,\n",
    "    output_file=f\"{RESULTS_DIR}/gpt-4o\",\n",
    "    config_path=\"config_openai.json\",\n",
    "    model_name=\"gpt-4o\",\n",
    "    custom_prompt_path=\"top_targets.txt\",\n",
    "    gene_features_path=GENE_FEATURES,\n",
    "    screen_info_path=\"HeLa_interphase_screen_info.txt\",\n",
    "    gene_column=\"genes\",\n",
    "    gene_sep=\";\",\n",
    "    batch_size=1,\n",
    "    cluster_id_column=\"cluster_id\",\n",
    ")\n",
    "\n",
    "# Run analysis with Anthropic Claude-3-7-Sonnet\n",
    "print(\"Running analysis with Anthropic Claude-3-7-Sonnet...\")\n",
    "claude_results = analyze_gene_clusters(\n",
    "    input_file=PROCESSED_FILE,\n",
    "    output_file=f\"{RESULTS_DIR}/claude-3-7-sonnet\",\n",
    "    config_path=\"config_anthropic.json\",\n",
    "    model_name=\"claude-3-7-sonnet-20250219\",\n",
    "    custom_prompt_path=\"top_targets.txt\",\n",
    "    gene_features_path=GENE_FEATURES,\n",
    "    screen_info_path=\"HeLa_interphase_screen_info.txt\",\n",
    "    gene_column=\"genes\",\n",
    "    gene_sep=\";\",\n",
    "    batch_size=1,\n",
    "    cluster_id_column=\"cluster_id\",\n",
    ")\n",
    "\n",
    "print(f\"Analysis complete. Results saved to {RESULTS_DIR}/\")"
   ]
  }
 ],
 "metadata": {
  "kernelspec": {
   "display_name": "mozzarellm_editable",
   "language": "python",
   "name": "python3"
  },
  "language_info": {
   "codemirror_mode": {
    "name": "ipython",
    "version": 3
   },
   "file_extension": ".py",
   "mimetype": "text/x-python",
   "name": "python",
   "nbconvert_exporter": "python",
   "pygments_lexer": "ipython3",
   "version": "3.11.11"
  }
 },
 "nbformat": 4,
 "nbformat_minor": 5
}
