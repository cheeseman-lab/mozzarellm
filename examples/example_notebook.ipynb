{
 "cells": [
  {
   "cell_type": "code",
   "execution_count": null,
   "id": "590b2d9b",
   "metadata": {},
   "outputs": [],
   "source": [
    "import os\n",
    "import pandas as pd\n",
    "\n",
    "notebook_dir = os.path.abspath(os.path.dirname(\"__file__\"))\n",
    "project_root = os.path.abspath(os.path.join(notebook_dir, \"..\"))"
   ]
  },
  {
   "cell_type": "code",
   "execution_count": null,
   "id": "3d9c625c",
   "metadata": {},
   "outputs": [],
   "source": [
    "# Import from mozzarellm package\n",
    "from mozzarellm import analyze_gene_clusters, reshape_to_clusters\n",
    "from mozzarellm.prompts import ROBUST_SCREEN_CONTEXT, ROBUST_CLUSTER_PROMPT\n",
    "from mozzarellm.configs import DEFAULT_OPENAI_REASONING_CONFIG\n",
    "\n",
    "# You can have a .env file that stores your keys or set your api key here:\n",
    "# os.environ[\"OPENAI_API_KEY\"] = \"your_openai_key_here\""
   ]
  },
  {
   "cell_type": "code",
   "execution_count": null,
   "id": "444be205",
   "metadata": {},
   "outputs": [],
   "source": [
    "# Read sample data from the notebook dir:\n",
    "sample_data = pd.read_csv(os.path.join(notebook_dir, \"sample_data.csv\"))"
   ]
  },
  {
   "cell_type": "code",
   "execution_count": null,
   "id": "149a6489",
   "metadata": {},
   "outputs": [],
   "source": [
    "# Reshape sample data\n",
    "cluster_df, gene_features = reshape_to_clusters(\n",
    "    input_df=sample_data, uniprot_col=\"uniprot_function\", verbose=True\n",
    ")"
   ]
  },
  {
   "cell_type": "code",
   "execution_count": null,
   "id": "fa4b6de4",
   "metadata": {},
   "outputs": [],
   "source": [
    "display(cluster_df)\n",
    "display(gene_features)"
   ]
  },
  {
   "cell_type": "code",
   "execution_count": null,
   "id": "9760d805",
   "metadata": {},
   "outputs": [],
   "source": [
    "print(ROBUST_SCREEN_CONTEXT)"
   ]
  },
  {
   "cell_type": "code",
   "execution_count": null,
   "id": "fbb54253",
   "metadata": {},
   "outputs": [],
   "source": [
    "print(ROBUST_CLUSTER_PROMPT)"
   ]
  },
  {
   "cell_type": "code",
   "execution_count": null,
   "id": "2be27528",
   "metadata": {},
   "outputs": [],
   "source": [
    "DEFAULT_OPENAI_REASONING_CONFIG"
   ]
  },
  {
   "cell_type": "code",
   "execution_count": null,
   "id": "15de3078",
   "metadata": {},
   "outputs": [],
   "source": [
    "# Run analysis with OpenAI GPT-4o\n",
    "openai_results = analyze_gene_clusters(\n",
    "    # Input data options\n",
    "    input_df=cluster_df,\n",
    "    # Model and configuration\n",
    "    model_name=\"o4-mini\",\n",
    "    config_dict=DEFAULT_OPENAI_REASONING_CONFIG,\n",
    "    # Analysis context and prompts\n",
    "    screen_context=ROBUST_SCREEN_CONTEXT,\n",
    "    cluster_analysis_prompt=ROBUST_CLUSTER_PROMPT,\n",
    "    # Gene annotations\n",
    "    gene_annotations_df=gene_features,\n",
    "    # Processing options\n",
    "    batch_size=1,\n",
    "    # Output options\n",
    "    save_outputs=False,\n",
    "    outputs_to_generate=[\"json\", \"clusters\", \"flagged_genes\"],\n",
    ")"
   ]
  },
  {
   "cell_type": "code",
   "execution_count": null,
   "id": "a40b0122",
   "metadata": {},
   "outputs": [],
   "source": [
    "openai_results[\"cluster_df\"]"
   ]
  },
  {
   "cell_type": "code",
   "execution_count": null,
   "id": "21bea059",
   "metadata": {},
   "outputs": [],
   "source": [
    "openai_results[\"gene_df\"]"
   ]
  }
 ],
 "metadata": {
  "kernelspec": {
   "display_name": "mozzarellm_editable",
   "language": "python",
   "name": "python3"
  },
  "language_info": {
   "codemirror_mode": {
    "name": "ipython",
    "version": 3
   },
   "file_extension": ".py",
   "mimetype": "text/x-python",
   "name": "python",
   "nbconvert_exporter": "python",
   "pygments_lexer": "ipython3",
   "version": "3.11.11"
  }
 },
 "nbformat": 4,
 "nbformat_minor": 5
}
