{
 "cells": [
  {
   "cell_type": "code",
   "execution_count": 1,
   "id": "590b2d9b",
   "metadata": {},
   "outputs": [],
   "source": [
    "import os\n",
    "import sys\n",
    "\n",
    "notebook_dir = os.path.abspath(os.path.dirname(\"__file__\"))\n",
    "project_root = os.path.abspath(os.path.join(notebook_dir, \"..\"))  # Go up one level\n",
    "if project_root not in sys.path:\n",
    "    sys.path.insert(0, project_root)"
   ]
  },
  {
   "cell_type": "code",
   "execution_count": 2,
   "id": "3d9c625c",
   "metadata": {},
   "outputs": [],
   "source": [
    "# Import necessary libraries\n",
    "from dotenv import load_dotenv\n",
    "\n",
    "# Import from mozzarellm package\n",
    "from mozzarellm import analyze_gene_clusters\n",
    "\n",
    "# Load environment variables (for API keys)\n",
    "load_dotenv()\n",
    "\n",
    "# Set up paths and parameters\n",
    "PROJECT_NAME = \"example_analysis\"\n",
    "RESULTS_DIR = os.path.join(project_root, \"results\", PROJECT_NAME)\n",
    "PROCESSED_FILE = os.path.join(project_root, \"data\", \"sample_gene_sets.csv\")\n",
    "GENE_FEATURES = os.path.join(\n",
    "    project_root, \"data\", \"HeLa_essentials/essentials_uniprot.csv\"\n",
    ")"
   ]
  },
  {
   "cell_type": "code",
   "execution_count": 3,
   "id": "15de3078",
   "metadata": {},
   "outputs": [
    {
     "name": "stderr",
     "output_type": "stream",
     "text": [
      "INFO:cluster_analysis_20250503_185128.log:Processing 7 clusters with model gpt-4o\n"
     ]
    },
    {
     "name": "stdout",
     "output_type": "stream",
     "text": [
      "Running analysis with OpenAI GPT-4o...\n",
      "Loaded data with 7 rows and columns: ['cluster_id', 'genes']\n",
      "Loaded features for 1095 genes\n",
      "Loaded screen information: 2129 characters\n"
     ]
    },
    {
     "name": "stderr",
     "output_type": "stream",
     "text": [
      "Processing clusters:   0%|          | 0/7 [00:00<?, ?it/s]INFO:cluster_analysis_20250503_185128.log:Accessing OpenAI API\n"
     ]
    },
    {
     "name": "stdout",
     "output_type": "stream",
     "text": [
      "Attempting to load template from: top_targets.txt\n",
      "Template found at: /lab/barcheese01/mdiberna/mozzarellm/mozzarellm/prompts/top_targets.txt\n",
      "Successfully loaded template (3457 characters)\n",
      "Appending output format instructions to template\n",
      "Added 6 gene feature descriptions to prompt\n"
     ]
    },
    {
     "name": "stderr",
     "output_type": "stream",
     "text": [
      "INFO:cluster_analysis_20250503_185128.log:API call successful: 3679 tokens, $0.0368\n",
      "INFO:cluster_analysis_20250503_185128.log:Success for cluster 149\n",
      "Processing clusters:  14%|█▍        | 1/7 [00:06<00:39,  6.51s/it]INFO:cluster_analysis_20250503_185128.log:Accessing OpenAI API\n"
     ]
    },
    {
     "name": "stdout",
     "output_type": "stream",
     "text": [
      "Attempting to load template from: top_targets.txt\n",
      "Template found at: /lab/barcheese01/mdiberna/mozzarellm/mozzarellm/prompts/top_targets.txt\n",
      "Successfully loaded template (3457 characters)\n",
      "Appending output format instructions to template\n",
      "Added 2 gene feature descriptions to prompt\n"
     ]
    },
    {
     "name": "stderr",
     "output_type": "stream",
     "text": [
      "INFO:cluster_analysis_20250503_185128.log:API call successful: 2312 tokens, $0.0231\n",
      "INFO:cluster_analysis_20250503_185128.log:Success for cluster 121\n",
      "Processing clusters:  29%|██▊       | 2/7 [00:14<00:35,  7.18s/it]INFO:cluster_analysis_20250503_185128.log:Accessing OpenAI API\n"
     ]
    },
    {
     "name": "stdout",
     "output_type": "stream",
     "text": [
      "Attempting to load template from: top_targets.txt\n",
      "Template found at: /lab/barcheese01/mdiberna/mozzarellm/mozzarellm/prompts/top_targets.txt\n",
      "Successfully loaded template (3457 characters)\n",
      "Appending output format instructions to template\n",
      "Added 5 gene feature descriptions to prompt\n"
     ]
    },
    {
     "name": "stderr",
     "output_type": "stream",
     "text": [
      "INFO:cluster_analysis_20250503_185128.log:API call successful: 2569 tokens, $0.0257\n",
      "INFO:cluster_analysis_20250503_185128.log:Success for cluster 21\n",
      "Processing clusters:  43%|████▎     | 3/7 [00:22<00:30,  7.51s/it]INFO:cluster_analysis_20250503_185128.log:Accessing OpenAI API\n"
     ]
    },
    {
     "name": "stdout",
     "output_type": "stream",
     "text": [
      "Attempting to load template from: top_targets.txt\n",
      "Template found at: /lab/barcheese01/mdiberna/mozzarellm/mozzarellm/prompts/top_targets.txt\n",
      "Successfully loaded template (3457 characters)\n",
      "Appending output format instructions to template\n",
      "Added 3 gene feature descriptions to prompt\n"
     ]
    },
    {
     "name": "stderr",
     "output_type": "stream",
     "text": [
      "INFO:cluster_analysis_20250503_185128.log:API call successful: 2734 tokens, $0.0273\n",
      "INFO:cluster_analysis_20250503_185128.log:Success for cluster 167\n",
      "Processing clusters:  57%|█████▋    | 4/7 [00:30<00:23,  7.95s/it]INFO:cluster_analysis_20250503_185128.log:Accessing OpenAI API\n"
     ]
    },
    {
     "name": "stdout",
     "output_type": "stream",
     "text": [
      "Attempting to load template from: top_targets.txt\n",
      "Template found at: /lab/barcheese01/mdiberna/mozzarellm/mozzarellm/prompts/top_targets.txt\n",
      "Successfully loaded template (3457 characters)\n",
      "Appending output format instructions to template\n",
      "Added 2 gene feature descriptions to prompt\n"
     ]
    },
    {
     "name": "stderr",
     "output_type": "stream",
     "text": [
      "INFO:cluster_analysis_20250503_185128.log:API call successful: 2645 tokens, $0.0265\n",
      "INFO:cluster_analysis_20250503_185128.log:Success for cluster 197\n",
      "INFO:cluster_analysis_20250503_185128.log:Saved progress for 5 clusters\n",
      "Processing clusters:  71%|███████▏  | 5/7 [00:36<00:13,  7.00s/it]INFO:cluster_analysis_20250503_185128.log:Accessing OpenAI API\n"
     ]
    },
    {
     "name": "stdout",
     "output_type": "stream",
     "text": [
      "Attempting to load template from: top_targets.txt\n",
      "Template found at: /lab/barcheese01/mdiberna/mozzarellm/mozzarellm/prompts/top_targets.txt\n",
      "Successfully loaded template (3457 characters)\n",
      "Appending output format instructions to template\n",
      "Added 3 gene feature descriptions to prompt\n"
     ]
    },
    {
     "name": "stderr",
     "output_type": "stream",
     "text": [
      "INFO:cluster_analysis_20250503_185128.log:API call successful: 2234 tokens, $0.0223\n",
      "INFO:cluster_analysis_20250503_185128.log:Success for cluster 37\n",
      "Processing clusters:  86%|████████▌ | 6/7 [00:42<00:06,  6.85s/it]INFO:cluster_analysis_20250503_185128.log:Accessing OpenAI API\n"
     ]
    },
    {
     "name": "stdout",
     "output_type": "stream",
     "text": [
      "Attempting to load template from: top_targets.txt\n",
      "Template found at: /lab/barcheese01/mdiberna/mozzarellm/mozzarellm/prompts/top_targets.txt\n",
      "Successfully loaded template (3457 characters)\n",
      "Appending output format instructions to template\n",
      "No relevant gene features found for this cluster\n"
     ]
    },
    {
     "name": "stderr",
     "output_type": "stream",
     "text": [
      "INFO:cluster_analysis_20250503_185128.log:API call successful: 1797 tokens, $0.0180\n",
      "INFO:cluster_analysis_20250503_185128.log:Success for cluster 94\n",
      "Processing clusters: 100%|██████████| 7/7 [00:46<00:00,  6.64s/it]\n",
      "INFO:cluster_analysis_20250503_185128.log:Completed analysis for 7 clusters\n",
      "INFO:cluster_analysis_20250503_185215.log:Processing 7 clusters with model claude-3-7-sonnet-20250219\n"
     ]
    },
    {
     "name": "stdout",
     "output_type": "stream",
     "text": [
      "Running analysis with Anthropic Claude-3-7-Sonnet...\n",
      "Loaded data with 7 rows and columns: ['cluster_id', 'genes']\n",
      "Loaded features for 1095 genes\n",
      "Loaded screen information: 2129 characters\n"
     ]
    },
    {
     "name": "stderr",
     "output_type": "stream",
     "text": [
      "Processing clusters:   0%|          | 0/7 [00:00<?, ?it/s]INFO:cluster_analysis_20250503_185215.log:Using Anthropic Claude API\n"
     ]
    },
    {
     "name": "stdout",
     "output_type": "stream",
     "text": [
      "Attempting to load template from: top_targets.txt\n",
      "Template found at: /lab/barcheese01/mdiberna/mozzarellm/mozzarellm/prompts/top_targets.txt\n",
      "Successfully loaded template (3457 characters)\n",
      "Appending output format instructions to template\n",
      "Added 6 gene feature descriptions to prompt\n"
     ]
    },
    {
     "name": "stderr",
     "output_type": "stream",
     "text": [
      "INFO:cluster_analysis_20250503_185215.log:Anthropic API call successful: model=claude-3-7-sonnet-20250219\n",
      "INFO:cluster_analysis_20250503_185215.log:Success for cluster 149\n",
      "Processing clusters:  14%|█▍        | 1/7 [00:21<02:09, 21.58s/it]INFO:cluster_analysis_20250503_185215.log:Using Anthropic Claude API\n"
     ]
    },
    {
     "name": "stdout",
     "output_type": "stream",
     "text": [
      "Attempting to load template from: top_targets.txt\n",
      "Template found at: /lab/barcheese01/mdiberna/mozzarellm/mozzarellm/prompts/top_targets.txt\n",
      "Successfully loaded template (3457 characters)\n",
      "Appending output format instructions to template\n",
      "Added 2 gene feature descriptions to prompt\n"
     ]
    },
    {
     "name": "stderr",
     "output_type": "stream",
     "text": [
      "INFO:cluster_analysis_20250503_185215.log:Anthropic API call successful: model=claude-3-7-sonnet-20250219\n",
      "INFO:cluster_analysis_20250503_185215.log:Success for cluster 121\n",
      "Processing clusters:  29%|██▊       | 2/7 [00:39<01:37, 19.50s/it]INFO:cluster_analysis_20250503_185215.log:Using Anthropic Claude API\n"
     ]
    },
    {
     "name": "stdout",
     "output_type": "stream",
     "text": [
      "Attempting to load template from: top_targets.txt\n",
      "Template found at: /lab/barcheese01/mdiberna/mozzarellm/mozzarellm/prompts/top_targets.txt\n",
      "Successfully loaded template (3457 characters)\n",
      "Appending output format instructions to template\n",
      "Added 5 gene feature descriptions to prompt\n"
     ]
    },
    {
     "name": "stderr",
     "output_type": "stream",
     "text": [
      "INFO:cluster_analysis_20250503_185215.log:Anthropic API call successful: model=claude-3-7-sonnet-20250219\n",
      "INFO:cluster_analysis_20250503_185215.log:Success for cluster 21\n",
      "Processing clusters:  43%|████▎     | 3/7 [01:08<01:35, 23.85s/it]INFO:cluster_analysis_20250503_185215.log:Using Anthropic Claude API\n"
     ]
    },
    {
     "name": "stdout",
     "output_type": "stream",
     "text": [
      "Attempting to load template from: top_targets.txt\n",
      "Template found at: /lab/barcheese01/mdiberna/mozzarellm/mozzarellm/prompts/top_targets.txt\n",
      "Successfully loaded template (3457 characters)\n",
      "Appending output format instructions to template\n",
      "Added 3 gene feature descriptions to prompt\n"
     ]
    },
    {
     "name": "stderr",
     "output_type": "stream",
     "text": [
      "INFO:cluster_analysis_20250503_185215.log:Anthropic API call successful: model=claude-3-7-sonnet-20250219\n",
      "INFO:cluster_analysis_20250503_185215.log:Success for cluster 167\n",
      "Processing clusters:  57%|█████▋    | 4/7 [01:21<00:57, 19.31s/it]INFO:cluster_analysis_20250503_185215.log:Using Anthropic Claude API\n"
     ]
    },
    {
     "name": "stdout",
     "output_type": "stream",
     "text": [
      "Attempting to load template from: top_targets.txt\n",
      "Template found at: /lab/barcheese01/mdiberna/mozzarellm/mozzarellm/prompts/top_targets.txt\n",
      "Successfully loaded template (3457 characters)\n",
      "Appending output format instructions to template\n",
      "Added 2 gene feature descriptions to prompt\n"
     ]
    },
    {
     "name": "stderr",
     "output_type": "stream",
     "text": [
      "INFO:cluster_analysis_20250503_185215.log:Anthropic API call successful: model=claude-3-7-sonnet-20250219\n",
      "INFO:cluster_analysis_20250503_185215.log:Success for cluster 197\n",
      "INFO:cluster_analysis_20250503_185215.log:Saved progress for 5 clusters\n",
      "Processing clusters:  71%|███████▏  | 5/7 [01:34<00:34, 17.30s/it]INFO:cluster_analysis_20250503_185215.log:Using Anthropic Claude API\n"
     ]
    },
    {
     "name": "stdout",
     "output_type": "stream",
     "text": [
      "Attempting to load template from: top_targets.txt\n",
      "Template found at: /lab/barcheese01/mdiberna/mozzarellm/mozzarellm/prompts/top_targets.txt\n",
      "Successfully loaded template (3457 characters)\n",
      "Appending output format instructions to template\n",
      "Added 3 gene feature descriptions to prompt\n"
     ]
    },
    {
     "name": "stderr",
     "output_type": "stream",
     "text": [
      "INFO:cluster_analysis_20250503_185215.log:Anthropic API call successful: model=claude-3-7-sonnet-20250219\n",
      "INFO:cluster_analysis_20250503_185215.log:Success for cluster 37\n",
      "Processing clusters:  86%|████████▌ | 6/7 [01:49<00:16, 16.55s/it]INFO:cluster_analysis_20250503_185215.log:Using Anthropic Claude API\n"
     ]
    },
    {
     "name": "stdout",
     "output_type": "stream",
     "text": [
      "Attempting to load template from: top_targets.txt\n",
      "Template found at: /lab/barcheese01/mdiberna/mozzarellm/mozzarellm/prompts/top_targets.txt\n",
      "Successfully loaded template (3457 characters)\n",
      "Appending output format instructions to template\n",
      "No relevant gene features found for this cluster\n"
     ]
    },
    {
     "name": "stderr",
     "output_type": "stream",
     "text": [
      "INFO:cluster_analysis_20250503_185215.log:Anthropic API call successful: model=claude-3-7-sonnet-20250219\n",
      "INFO:cluster_analysis_20250503_185215.log:Success for cluster 94\n",
      "Processing clusters: 100%|██████████| 7/7 [02:00<00:00, 17.19s/it]\n",
      "INFO:cluster_analysis_20250503_185215.log:Completed analysis for 7 clusters\n"
     ]
    },
    {
     "name": "stdout",
     "output_type": "stream",
     "text": [
      "Analysis complete. Results saved to /lab/barcheese01/mdiberna/mozzarellm/results/example_analysis/\n"
     ]
    }
   ],
   "source": [
    "# Create results directory if it doesn't exist\n",
    "os.makedirs(RESULTS_DIR, exist_ok=True)\n",
    "\n",
    "# Run analysis with OpenAI GPT-4o\n",
    "print(\"Running analysis with OpenAI GPT-4o...\")\n",
    "openai_results = analyze_gene_clusters(\n",
    "    input_file=PROCESSED_FILE,\n",
    "    output_file=f\"{RESULTS_DIR}/gpt-4o\",\n",
    "    config_path=\"config_openai.json\",\n",
    "    model_name=\"gpt-4o\",\n",
    "    custom_prompt_path=\"top_targets.txt\",\n",
    "    gene_features_path=GENE_FEATURES,\n",
    "    screen_info_path=\"HeLa_interphase_screen_info.txt\",\n",
    "    gene_column=\"genes\",\n",
    "    gene_sep=\";\",\n",
    "    batch_size=1,\n",
    "    cluster_id_column=\"cluster_id\",\n",
    ")\n",
    "\n",
    "# Run analysis with Anthropic Claude-3-7-Sonnet\n",
    "print(\"Running analysis with Anthropic Claude-3-7-Sonnet...\")\n",
    "claude_results = analyze_gene_clusters(\n",
    "    input_file=PROCESSED_FILE,\n",
    "    output_file=f\"{RESULTS_DIR}/claude-3-7-sonnet\",\n",
    "    config_path=\"config_anthropic.json\",\n",
    "    model_name=\"claude-3-7-sonnet-20250219\",\n",
    "    custom_prompt_path=\"top_targets.txt\",\n",
    "    gene_features_path=GENE_FEATURES,\n",
    "    screen_info_path=\"HeLa_interphase_screen_info.txt\",\n",
    "    gene_column=\"genes\",\n",
    "    gene_sep=\";\",\n",
    "    batch_size=1,\n",
    "    cluster_id_column=\"cluster_id\",\n",
    ")\n",
    "\n",
    "print(f\"Analysis complete. Results saved to {RESULTS_DIR}/\")"
   ]
  }
 ],
 "metadata": {
  "kernelspec": {
   "display_name": "mozzarellm_editable",
   "language": "python",
   "name": "python3"
  },
  "language_info": {
   "codemirror_mode": {
    "name": "ipython",
    "version": 3
   },
   "file_extension": ".py",
   "mimetype": "text/x-python",
   "name": "python",
   "nbconvert_exporter": "python",
   "pygments_lexer": "ipython3",
   "version": "3.11.11"
  }
 },
 "nbformat": 4,
 "nbformat_minor": 5
}
