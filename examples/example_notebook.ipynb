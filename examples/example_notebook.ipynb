{
 "cells": [
  {
   "cell_type": "code",
   "execution_count": 1,
   "id": "590b2d9b",
   "metadata": {},
   "outputs": [],
   "source": [
    "import os\n",
    "import sys\n",
    "import pandas as pd\n",
    "\n",
    "notebook_dir = os.path.abspath(os.path.dirname(\"__file__\"))\n",
    "project_root = os.path.abspath(os.path.join(notebook_dir, \"..\"))  # Go up one level"
   ]
  },
  {
   "cell_type": "code",
   "execution_count": 2,
   "id": "3d9c625c",
   "metadata": {},
   "outputs": [],
   "source": [
    "# Import from mozzarellm package\n",
    "from mozzarellm import analyze_gene_clusters, reshape_to_clusters\n",
    "from mozzarellm.prompts import ROBUST_SCREEN_CONTEXT, ROBUST_CLUSTER_PROMPT\n",
    "from mozzarellm.configs import (\n",
    "    DEFAULT_CONFIG,\n",
    "    DEFAULT_ANTHROPIC_CONFIG,\n",
    "    DEFAULT_GEMINI_CONFIG,\n",
    "    DEFAULT_OPENAI_CONFIG,\n",
    "    DEFAULT_OPENAI_REASONING_CONFIG,\n",
    ")\n",
    "\n",
    "# You can also set these variables in your notebook or script\n",
    "# os.environ[\"OPENAI_API_KEY\"] = \"your_openai_key_here\"\n",
    "# os.environ[\"ANTHROPIC_API_KEY\"] = \"your_anthropic_key_here\"\n",
    "# os.environ[\"GOOGLE_API_KEY\"] = \"your_google_key_here\""
   ]
  },
  {
   "cell_type": "code",
   "execution_count": 3,
   "id": "444be205",
   "metadata": {},
   "outputs": [],
   "source": [
    "# Read sample data from the notebook dir:\n",
    "sample_data = pd.read_csv(os.path.join(notebook_dir, \"sample_data.csv\"))"
   ]
  },
  {
   "cell_type": "code",
   "execution_count": 6,
   "id": "149a6489",
   "metadata": {},
   "outputs": [
    {
     "name": "stdout",
     "output_type": "stream",
     "text": [
      "Using provided DataFrame with 140 rows\n",
      "Found 140 genes across 6 clusters\n",
      "Extracting gene features from uniprot_function column\n"
     ]
    }
   ],
   "source": [
    "# Reshape sample data\n",
    "cluster_df, gene_features = reshape_to_clusters(\n",
    "    input_df=sample_data, uniprot_col=\"uniprot_function\", verbose=True\n",
    ")"
   ]
  },
  {
   "cell_type": "code",
   "execution_count": 8,
   "id": "fa4b6de4",
   "metadata": {},
   "outputs": [
    {
     "data": {
      "text/html": [
       "<div>\n",
       "<style scoped>\n",
       "    .dataframe tbody tr th:only-of-type {\n",
       "        vertical-align: middle;\n",
       "    }\n",
       "\n",
       "    .dataframe tbody tr th {\n",
       "        vertical-align: top;\n",
       "    }\n",
       "\n",
       "    .dataframe thead th {\n",
       "        text-align: right;\n",
       "    }\n",
       "</style>\n",
       "<table border=\"1\" class=\"dataframe\">\n",
       "  <thead>\n",
       "    <tr style=\"text-align: right;\">\n",
       "      <th></th>\n",
       "      <th>cluster_id</th>\n",
       "      <th>genes</th>\n",
       "    </tr>\n",
       "  </thead>\n",
       "  <tbody>\n",
       "    <tr>\n",
       "      <th>0</th>\n",
       "      <td>21</td>\n",
       "      <td>AATF;ABT1;BYSL;BMS1;C1orf131;EIF3M;EIF4A1;ESF1...</td>\n",
       "    </tr>\n",
       "    <tr>\n",
       "      <th>1</th>\n",
       "      <td>37</td>\n",
       "      <td>SRSF3;PDPK1;RICTOR;RPTOR;SEH1L;SGF29;PRKAR1A;P...</td>\n",
       "    </tr>\n",
       "    <tr>\n",
       "      <th>2</th>\n",
       "      <td>121</td>\n",
       "      <td>CCDC174;FAM32A;GABPA;SP2;N6AMT1;SETD2;SON;POU5...</td>\n",
       "    </tr>\n",
       "    <tr>\n",
       "      <th>3</th>\n",
       "      <td>149</td>\n",
       "      <td>KRAS;BRAF;NDUFV2;NDUFA6;NDUFC1;RAD23B;SNAPC1;N...</td>\n",
       "    </tr>\n",
       "    <tr>\n",
       "      <th>4</th>\n",
       "      <td>167</td>\n",
       "      <td>POMP;PSMA2;PSMB7;PSMB3;PSMA7;PSMB2;PSMA1;PSMA4...</td>\n",
       "    </tr>\n",
       "    <tr>\n",
       "      <th>5</th>\n",
       "      <td>197</td>\n",
       "      <td>SPAST;NCOR2;NCAPD3;HNRNPD;MCM3;METTL14;METTL3;...</td>\n",
       "    </tr>\n",
       "  </tbody>\n",
       "</table>\n",
       "</div>"
      ],
      "text/plain": [
       "   cluster_id                                              genes\n",
       "0          21  AATF;ABT1;BYSL;BMS1;C1orf131;EIF3M;EIF4A1;ESF1...\n",
       "1          37  SRSF3;PDPK1;RICTOR;RPTOR;SEH1L;SGF29;PRKAR1A;P...\n",
       "2         121  CCDC174;FAM32A;GABPA;SP2;N6AMT1;SETD2;SON;POU5...\n",
       "3         149  KRAS;BRAF;NDUFV2;NDUFA6;NDUFC1;RAD23B;SNAPC1;N...\n",
       "4         167  POMP;PSMA2;PSMB7;PSMB3;PSMA7;PSMB2;PSMA1;PSMA4...\n",
       "5         197  SPAST;NCOR2;NCAPD3;HNRNPD;MCM3;METTL14;METTL3;..."
      ]
     },
     "metadata": {},
     "output_type": "display_data"
    },
    {
     "data": {
      "text/html": [
       "<div>\n",
       "<style scoped>\n",
       "    .dataframe tbody tr th:only-of-type {\n",
       "        vertical-align: middle;\n",
       "    }\n",
       "\n",
       "    .dataframe tbody tr th {\n",
       "        vertical-align: top;\n",
       "    }\n",
       "\n",
       "    .dataframe thead th {\n",
       "        text-align: right;\n",
       "    }\n",
       "</style>\n",
       "<table border=\"1\" class=\"dataframe\">\n",
       "  <thead>\n",
       "    <tr style=\"text-align: right;\">\n",
       "      <th></th>\n",
       "      <th>gene_symbol</th>\n",
       "      <th>uniprot_function</th>\n",
       "    </tr>\n",
       "  </thead>\n",
       "  <tbody>\n",
       "    <tr>\n",
       "      <th>0</th>\n",
       "      <td>AATF</td>\n",
       "      <td>Part of the small subunit (SSU) processome, fi...</td>\n",
       "    </tr>\n",
       "    <tr>\n",
       "      <th>1</th>\n",
       "      <td>ABT1</td>\n",
       "      <td>Could be a novel TATA-binding protein (TBP) wh...</td>\n",
       "    </tr>\n",
       "    <tr>\n",
       "      <th>2</th>\n",
       "      <td>BYSL</td>\n",
       "      <td>Required for processing of 20S pre-rRNA precur...</td>\n",
       "    </tr>\n",
       "    <tr>\n",
       "      <th>3</th>\n",
       "      <td>BMS1</td>\n",
       "      <td>GTPase required for the synthesis of 40S ribos...</td>\n",
       "    </tr>\n",
       "    <tr>\n",
       "      <th>4</th>\n",
       "      <td>C1orf131</td>\n",
       "      <td>Part of the small subunit (SSU) processome, fi...</td>\n",
       "    </tr>\n",
       "    <tr>\n",
       "      <th>...</th>\n",
       "      <td>...</td>\n",
       "      <td>...</td>\n",
       "    </tr>\n",
       "    <tr>\n",
       "      <th>135</th>\n",
       "      <td>METTL3</td>\n",
       "      <td>The METTL3-METTL14 heterodimer forms a N6-meth...</td>\n",
       "    </tr>\n",
       "    <tr>\n",
       "      <th>136</th>\n",
       "      <td>FITM1</td>\n",
       "      <td>Plays an important role in the formation of li...</td>\n",
       "    </tr>\n",
       "    <tr>\n",
       "      <th>137</th>\n",
       "      <td>PTCHD4</td>\n",
       "      <td>Could act as a repressor of canonical hedgehog...</td>\n",
       "    </tr>\n",
       "    <tr>\n",
       "      <th>138</th>\n",
       "      <td>VRK1</td>\n",
       "      <td>Serine/threonine kinase involved in the regula...</td>\n",
       "    </tr>\n",
       "    <tr>\n",
       "      <th>139</th>\n",
       "      <td>UFL1</td>\n",
       "      <td>E3 protein ligase that mediates ufmylation, th...</td>\n",
       "    </tr>\n",
       "  </tbody>\n",
       "</table>\n",
       "<p>140 rows × 2 columns</p>\n",
       "</div>"
      ],
      "text/plain": [
       "    gene_symbol                                   uniprot_function\n",
       "0          AATF  Part of the small subunit (SSU) processome, fi...\n",
       "1          ABT1  Could be a novel TATA-binding protein (TBP) wh...\n",
       "2          BYSL  Required for processing of 20S pre-rRNA precur...\n",
       "3          BMS1  GTPase required for the synthesis of 40S ribos...\n",
       "4      C1orf131  Part of the small subunit (SSU) processome, fi...\n",
       "..          ...                                                ...\n",
       "135      METTL3  The METTL3-METTL14 heterodimer forms a N6-meth...\n",
       "136       FITM1  Plays an important role in the formation of li...\n",
       "137      PTCHD4  Could act as a repressor of canonical hedgehog...\n",
       "138        VRK1  Serine/threonine kinase involved in the regula...\n",
       "139        UFL1  E3 protein ligase that mediates ufmylation, th...\n",
       "\n",
       "[140 rows x 2 columns]"
      ]
     },
     "metadata": {},
     "output_type": "display_data"
    }
   ],
   "source": [
    "display(cluster_df)\n",
    "display(gene_features)"
   ]
  },
  {
   "cell_type": "code",
   "execution_count": 9,
   "id": "9760d805",
   "metadata": {},
   "outputs": [
    {
     "name": "stdout",
     "output_type": "stream",
     "text": [
      "\n",
      "Genes grouped within a cluster tend to exhibit similar morphological phenotypes in this context, suggesting that they may participate in the same biological process or pathway. However, not all clusters will correspond to a defined or coherent biological pathway.\n",
      "\n",
      "When evaluating pathway confidence, apply these stringent criteria:\n",
      "\n",
      "HIGH CONFIDENCE:\n",
      "- Multiple well-established genes (≥3) with strong literature support in the same specific pathway\n",
      "- Clear functional relationship between genes that explains the observed phenotypic clustering\n",
      "- Genes represent different aspects or components of the same biological process\n",
      "- The pathway assignment explains >60% of genes in the cluster\n",
      "\n",
      "MEDIUM CONFIDENCE:\n",
      "- Some established genes (1-2) from a specific pathway, with additional supporting genes\n",
      "- Functional relationship is plausible but has some gaps or uncertainties\n",
      "- Some genes in the cluster have unclear relationship to the proposed pathway\n",
      "- The pathway assignment explains 40-60% of genes in the cluster\n",
      "\n",
      "LOW CONFIDENCE:\n",
      "- Few or no established pathway genes, but a plausible functional theme\n",
      "- Significant heterogeneity in gene functions within the cluster\n",
      "- The proposed pathway is very broad or general\n",
      "- The pathway assignment explains <40% of genes in the cluster\n",
      "\n",
      "CLUSTERS WITH NO COHERENT PATHWAY:\n",
      "- For clusters with no clear functional relationship among genes\n",
      "- Clusters where genes belong to many unrelated pathways\n",
      "- Clusters containing nontargeting control genes\n",
      "- Clusters where you cannot identify a dominant biological process\n",
      "\n",
      "For clusters with no coherent pathway, set:\n",
      "- \"pathway_confidence\": \"Low\"\n",
      "- \"dominant_process\": \"No coherent biological pathway\"\n",
      "- And explain the reasoning clearly in the \"summary\" field\n",
      "\n",
      "The goal is NOT to force-fit clusters into pathways, but to identify clusters where a clear biological signal emerges from the phenotypic grouping. Mark clusters without a coherent biological signature as indicated above rather than assigning biologically implausible pathways.\n",
      "\n"
     ]
    }
   ],
   "source": [
    "print(ROBUST_SCREEN_CONTEXT)"
   ]
  },
  {
   "cell_type": "code",
   "execution_count": 10,
   "id": "fbb54253",
   "metadata": {},
   "outputs": [
    {
     "name": "stdout",
     "output_type": "stream",
     "text": [
      "\n",
      "Analyze gene cluster {cluster_id} to identify the dominant biological pathway and classify genes:\n",
      "\n",
      "Genes: {gene_list}\n",
      "\n",
      "For each cluster:\n",
      "1. Identify the dominant biological pathway, focusing on specific molecular mechanisms rather than general terms\n",
      "2. For clusters with coherent biological signatures, classify each gene into one of three mutually exclusive categories:\n",
      "   - ESTABLISHED: Well-known members of the identified pathway with clear functional roles in this pathway\n",
      "   - UNCHARACTERIZED: Genes with minimal to no functional annotation in ANY published literature\n",
      "   - NOVEL_ROLE: Genes with published functional annotation in OTHER pathways that may have additional roles in the dominant pathway\n",
      "\n",
      "3. For both UNCHARACTERIZED and NOVEL_ROLE genes:\n",
      "   - Assign a priority score (1-10) for follow-up investigation\n",
      "   - Provide a rationale explaining why this gene merits investigation\n",
      "\n",
      "4. Provide a concise summary of the key findings for each cluster\n",
      "\n",
      "When classifying and prioritizing genes, apply these specific criteria:\n",
      "\n",
      "1. ESTABLISHED PATHWAY GENES:\n",
      "   - Genes with well-documented roles in the identified pathway\n",
      "   - Supported by multiple publications demonstrating direct involvement\n",
      "   - Often serve as canonical members or markers of the pathway\n",
      "\n",
      "2. UNCHARACTERIZED GENES:\n",
      "   A gene is considered UNCHARACTERIZED only if MOST of these criteria are met:\n",
      "   - Limited or no experimental validation of function in any pathway\n",
      "   - Few (0-2) publications specifically focused on this gene\n",
      "   - Unknown molecular function or biological process\n",
      "\n",
      "   Priority scoring for UNCHARACTERIZED genes:\n",
      "   - 8–10: Virtually unstudied (0–1 publications); uncharacterized molecular function; potential for novel discovery\n",
      "   - 6–7: Extremely limited data; may have 1–2 preliminary findings but little known function\n",
      "   - 4–5: Some characterization exists, but function remains unclear or incomplete\n",
      "   - 1–3: Partial evidence for involvement in known pathways; not a strong candidate for novel discovery\n",
      "\n",
      "3. NOVEL_ROLE GENES:\n",
      "   These are genes with established functions in other pathways, but plausibly contribute to the identified pathway in a novel way.\n",
      "\n",
      "   Priority scoring for NOVEL_ROLE genes:\n",
      "   - 8–10: Compelling rationale for a previously unrecognized role in this pathway; role would be surprising and high-impact; minimal existing literature makes this a major discovery risk\n",
      "   - 6–7: Some indirect or tangential evidence suggesting a new role; not previously linked to this pathway but fits plausibly\n",
      "   - 4–5: Functional overlap or localization hints at a novel connection, but likely already speculated or partially known\n",
      "   - 1–3: Existing data already supports involvement in this pathway; not a novel role — deprioritize\n",
      "\n",
      "High scores should only be assigned if the novel connection is plausible but not already established. Genes with substantial evidence for the pathway should receive a lower priority, as they are not truly \"novel.\"\n",
      "\n",
      "IMPORTANT CONSIDERATIONS:\n",
      "- Do NOT use mere presence in the cluster as evidence for prioritization\n",
      "- Be conservative when assigning genes to the \"NOVEL ROLE\" or \"UNCHARACTERIZED\" categories. Do so only when there is a meaningful deviation from known pathway biology or a lack of functional annotation, respectively\n",
      "- For any gene with substantial literature, it should NOT be classified as UNCHARACTERIZED\n",
      "- The goal is not to speculate but to flag only the most promising candidates for follow-up\n",
      "\n"
     ]
    }
   ],
   "source": [
    "print(ROBUST_CLUSTER_PROMPT)"
   ]
  },
  {
   "cell_type": "code",
   "execution_count": 11,
   "id": "01fe61cf",
   "metadata": {},
   "outputs": [],
   "source": [
    "RESULTS_DIR = os.path.join(project_root, \"results\", \"example_data\")"
   ]
  },
  {
   "cell_type": "code",
   "execution_count": null,
   "id": "15de3078",
   "metadata": {},
   "outputs": [
    {
     "name": "stderr",
     "output_type": "stream",
     "text": [
      "ERROR:root:Error loading config file: stat: path should be string, bytes, os.PathLike or integer, not dict\n",
      "INFO:cluster_analysis_20250506_143344.log:Processing 6 clusters with model o4-mini\n"
     ]
    },
    {
     "name": "stdout",
     "output_type": "stream",
     "text": [
      "Loaded data with 6 rows and columns: ['cluster_id', 'genes']\n",
      "Created annotations dictionary with 140 entries from DataFrame\n"
     ]
    },
    {
     "name": "stderr",
     "output_type": "stream",
     "text": [
      "Processing clusters:   0%|          | 0/6 [00:00<?, ?it/s]INFO:cluster_analysis_20250506_143344.log:Accessing OpenAI API\n"
     ]
    },
    {
     "name": "stdout",
     "output_type": "stream",
     "text": [
      "Using default template for type: cluster\n",
      "Appending output format instructions to template\n",
      "Added 39 gene feature descriptions to prompt\n"
     ]
    },
    {
     "name": "stderr",
     "output_type": "stream",
     "text": [
      "INFO:cluster_analysis_20250506_143344.log:API call successful: 11799 tokens, $0.1180\n",
      "INFO:cluster_analysis_20250506_143344.log:Success for cluster 21\n",
      "Processing clusters:  17%|█▋        | 1/6 [00:47<03:56, 47.38s/it]INFO:cluster_analysis_20250506_143344.log:Accessing OpenAI API\n"
     ]
    },
    {
     "name": "stdout",
     "output_type": "stream",
     "text": [
      "Using default template for type: cluster\n",
      "Appending output format instructions to template\n",
      "Added 33 gene feature descriptions to prompt\n"
     ]
    }
   ],
   "source": [
    "# Create results directory if it doesn't exist\n",
    "os.makedirs(RESULTS_DIR, exist_ok=True)\n",
    "\n",
    "# Run analysis with OpenAI GPT-4o\n",
    "openai_results = analyze_gene_clusters(\n",
    "    # Input data options\n",
    "    input_df=cluster_df,\n",
    "    # Model and configuration\n",
    "    model_name=\"o4-mini\",\n",
    "    config_path=DEFAULT_OPENAI_REASONING_CONFIG,\n",
    "    # Analysis context and prompts\n",
    "    screen_context=ROBUST_SCREEN_CONTEXT,\n",
    "    cluster_analysis_prompt=ROBUST_CLUSTER_PROMPT,\n",
    "    # Gene annotations\n",
    "    gene_annotations_df=gene_features,\n",
    "    # Processing options\n",
    "    batch_size=1,\n",
    "    # Output options\n",
    "    output_file=f\"{RESULTS_DIR}/gpt-4o\",\n",
    "    save_outputs=True,\n",
    "    outputs_to_generate=[\"json\", \"clusters\", \"flagged_genes\"],\n",
    ")"
   ]
  }
 ],
 "metadata": {
  "kernelspec": {
   "display_name": "mozzarellm_editable",
   "language": "python",
   "name": "python3"
  },
  "language_info": {
   "codemirror_mode": {
    "name": "ipython",
    "version": 3
   },
   "file_extension": ".py",
   "mimetype": "text/x-python",
   "name": "python",
   "nbconvert_exporter": "python",
   "pygments_lexer": "ipython3",
   "version": "3.11.11"
  }
 },
 "nbformat": 4,
 "nbformat_minor": 5
}
