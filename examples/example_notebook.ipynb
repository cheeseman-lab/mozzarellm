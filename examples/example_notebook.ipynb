{
 "cells": [
  {
   "cell_type": "code",
   "execution_count": 1,
   "id": "590b2d9b",
   "metadata": {},
   "outputs": [],
   "source": [
    "import os\n",
    "import sys\n",
    "\n",
    "notebook_dir = os.path.abspath(os.path.dirname('__file__'))\n",
    "project_root = os.path.abspath(os.path.join(notebook_dir, '..'))  # Go up one level\n",
    "if project_root not in sys.path:\n",
    "    sys.path.insert(0, project_root)"
   ]
  },
  {
   "cell_type": "code",
   "execution_count": 2,
   "id": "3d9c625c",
   "metadata": {},
   "outputs": [],
   "source": [
    "# Import necessary libraries\n",
    "from dotenv import load_dotenv\n",
    "\n",
    "# Import from mozzarellm package\n",
    "from mozzarellm import analyze_gene_clusters\n",
    "\n",
    "# Load environment variables (for API keys)\n",
    "load_dotenv()\n",
    "\n",
    "# Set up paths and parameters\n",
    "PROJECT_NAME = \"example_analysis\"\n",
    "RESULTS_DIR = os.path.join(project_root, \"results\", PROJECT_NAME)\n",
    "PROCESSED_FILE = os.path.join(project_root, \"data\", \"sample_gene_sets.csv\")\n",
    "GENE_FEATURES = os.path.join(project_root, \"data\", \"HeLa_essentials/essentials_uniprot.csv\")"
   ]
  },
  {
   "cell_type": "code",
   "execution_count": 3,
   "id": "27c5906b",
   "metadata": {},
   "outputs": [],
   "source": [
    "# # Step 1: Reshape clusters - now using the refactored function\n",
    "# print(\"Preprocessing data: Converting raw data to cluster format...\")\n",
    "# cluster_df = reshape_to_clusters(\n",
    "#     input_file=INPUT_FILE,\n",
    "#     output_file=PROCESSED_FILE,\n",
    "#     sep=\",\",\n",
    "#     gene_col=\"gene_symbol_0\",\n",
    "#     cluster_col=\"cluster\",\n",
    "#     gene_sep=\";\"\n",
    "# )\n",
    "\n",
    "# # Display a sample of the reshaped data\n",
    "# print(\"Sample of reshaped data:\")\n",
    "# display(cluster_df.head())"
   ]
  },
  {
   "cell_type": "code",
   "execution_count": 4,
   "id": "15de3078",
   "metadata": {},
   "outputs": [
    {
     "name": "stdout",
     "output_type": "stream",
     "text": [
      "Running analysis with OpenAI GPT-4o...\n",
      "Loaded data with 7 rows and columns: ['cluster_id', 'genes']\n",
      "Loaded features for 1095 genes\n",
      "Loaded screen information: 2129 characters\n"
     ]
    },
    {
     "name": "stderr",
     "output_type": "stream",
     "text": [
      "Processing clusters:   0%|          | 0/7 [00:00<?, ?it/s]"
     ]
    },
    {
     "name": "stdout",
     "output_type": "stream",
     "text": [
      "Added 6 gene feature descriptions to prompt\n"
     ]
    },
    {
     "name": "stderr",
     "output_type": "stream",
     "text": [
      "Processing clusters:  14%|█▍        | 1/7 [00:09<00:54,  9.16s/it]"
     ]
    },
    {
     "name": "stdout",
     "output_type": "stream",
     "text": [
      "Added 2 gene feature descriptions to prompt\n"
     ]
    },
    {
     "name": "stderr",
     "output_type": "stream",
     "text": [
      "Processing clusters:  29%|██▊       | 2/7 [00:14<00:35,  7.07s/it]"
     ]
    },
    {
     "name": "stdout",
     "output_type": "stream",
     "text": [
      "Added 5 gene feature descriptions to prompt\n"
     ]
    },
    {
     "name": "stderr",
     "output_type": "stream",
     "text": [
      "Processing clusters:  43%|████▎     | 3/7 [00:23<00:30,  7.63s/it]"
     ]
    },
    {
     "name": "stdout",
     "output_type": "stream",
     "text": [
      "Added 3 gene feature descriptions to prompt\n"
     ]
    },
    {
     "name": "stderr",
     "output_type": "stream",
     "text": [
      "Processing clusters:  57%|█████▋    | 4/7 [00:28<00:20,  6.69s/it]"
     ]
    },
    {
     "name": "stdout",
     "output_type": "stream",
     "text": [
      "Added 2 gene feature descriptions to prompt\n"
     ]
    },
    {
     "name": "stderr",
     "output_type": "stream",
     "text": [
      "INFO:cluster_analysis_20250501_180431.log:Saved progress for 5 clusters\n",
      "Processing clusters:  71%|███████▏  | 5/7 [00:37<00:14,  7.49s/it]INFO:cluster_analysis_20250501_180431.log:Accessing OpenAI API\n"
     ]
    },
    {
     "name": "stdout",
     "output_type": "stream",
     "text": [
      "Added 3 gene feature descriptions to prompt\n"
     ]
    },
    {
     "name": "stderr",
     "output_type": "stream",
     "text": [
      "INFO:cluster_analysis_20250501_180431.log:API call successful: 2272 tokens, $0.0227\n",
      "INFO:cluster_analysis_20250501_180431.log:Success for cluster 37\n",
      "Processing clusters:  86%|████████▌ | 6/7 [00:45<00:07,  7.69s/it]INFO:cluster_analysis_20250501_180431.log:Accessing OpenAI API\n"
     ]
    },
    {
     "name": "stdout",
     "output_type": "stream",
     "text": [
      "No relevant gene features found for this cluster\n"
     ]
    },
    {
     "name": "stderr",
     "output_type": "stream",
     "text": [
      "INFO:cluster_analysis_20250501_180431.log:API call successful: 1796 tokens, $0.0180\n",
      "INFO:cluster_analysis_20250501_180431.log:Success for cluster 94\n",
      "Processing clusters: 100%|██████████| 7/7 [00:48<00:00,  6.99s/it]\n",
      "INFO:cluster_analysis_20250501_180431.log:Completed analysis for 7 clusters\n",
      "INFO:cluster_analysis_20250501_180520.log:Processing 7 clusters with model claude-3-7-sonnet-20250219\n"
     ]
    },
    {
     "name": "stdout",
     "output_type": "stream",
     "text": [
      "Running analysis with Anthropic Claude-3-7-Sonnet...\n",
      "Loaded data with 7 rows and columns: ['cluster_id', 'genes']\n",
      "Loaded features for 1095 genes\n",
      "Loaded screen information: 2129 characters\n"
     ]
    },
    {
     "name": "stderr",
     "output_type": "stream",
     "text": [
      "Processing clusters:   0%|          | 0/7 [00:00<?, ?it/s]INFO:cluster_analysis_20250501_180520.log:Using Anthropic Claude API\n"
     ]
    },
    {
     "name": "stdout",
     "output_type": "stream",
     "text": [
      "Added 6 gene feature descriptions to prompt\n"
     ]
    },
    {
     "name": "stderr",
     "output_type": "stream",
     "text": [
      "INFO:cluster_analysis_20250501_180520.log:Anthropic API call successful: model=claude-3-7-sonnet-20250219\n",
      "INFO:cluster_analysis_20250501_180520.log:Success for cluster 149\n",
      "Processing clusters:  14%|█▍        | 1/7 [00:23<02:19, 23.23s/it]INFO:cluster_analysis_20250501_180520.log:Using Anthropic Claude API\n"
     ]
    },
    {
     "name": "stdout",
     "output_type": "stream",
     "text": [
      "Added 2 gene feature descriptions to prompt\n"
     ]
    },
    {
     "name": "stderr",
     "output_type": "stream",
     "text": [
      "INFO:cluster_analysis_20250501_180520.log:Anthropic API call successful: model=claude-3-7-sonnet-20250219\n",
      "INFO:cluster_analysis_20250501_180520.log:Success for cluster 121\n",
      "Processing clusters:  29%|██▊       | 2/7 [00:41<01:42, 20.43s/it]INFO:cluster_analysis_20250501_180520.log:Using Anthropic Claude API\n"
     ]
    },
    {
     "name": "stdout",
     "output_type": "stream",
     "text": [
      "Added 5 gene feature descriptions to prompt\n"
     ]
    },
    {
     "name": "stderr",
     "output_type": "stream",
     "text": [
      "INFO:cluster_analysis_20250501_180520.log:Anthropic API call successful: model=claude-3-7-sonnet-20250219\n",
      "INFO:cluster_analysis_20250501_180520.log:Success for cluster 21\n",
      "Processing clusters:  43%|████▎     | 3/7 [01:03<01:24, 21.12s/it]INFO:cluster_analysis_20250501_180520.log:Using Anthropic Claude API\n"
     ]
    },
    {
     "name": "stdout",
     "output_type": "stream",
     "text": [
      "Added 3 gene feature descriptions to prompt\n"
     ]
    },
    {
     "name": "stderr",
     "output_type": "stream",
     "text": [
      "INFO:cluster_analysis_20250501_180520.log:Anthropic API call successful: model=claude-3-7-sonnet-20250219\n",
      "INFO:cluster_analysis_20250501_180520.log:Success for cluster 167\n",
      "Processing clusters:  57%|█████▋    | 4/7 [01:15<00:52, 17.37s/it]INFO:cluster_analysis_20250501_180520.log:Using Anthropic Claude API\n"
     ]
    },
    {
     "name": "stdout",
     "output_type": "stream",
     "text": [
      "Added 2 gene feature descriptions to prompt\n"
     ]
    },
    {
     "name": "stderr",
     "output_type": "stream",
     "text": [
      "INFO:cluster_analysis_20250501_180520.log:Anthropic API call successful: model=claude-3-7-sonnet-20250219\n",
      "INFO:cluster_analysis_20250501_180520.log:Success for cluster 197\n",
      "INFO:cluster_analysis_20250501_180520.log:Saved progress for 5 clusters\n",
      "Processing clusters:  71%|███████▏  | 5/7 [01:30<00:32, 16.49s/it]INFO:cluster_analysis_20250501_180520.log:Using Anthropic Claude API\n"
     ]
    },
    {
     "name": "stdout",
     "output_type": "stream",
     "text": [
      "Added 3 gene feature descriptions to prompt\n"
     ]
    },
    {
     "name": "stderr",
     "output_type": "stream",
     "text": [
      "INFO:cluster_analysis_20250501_180520.log:Anthropic API call successful: model=claude-3-7-sonnet-20250219\n",
      "INFO:cluster_analysis_20250501_180520.log:Success for cluster 37\n",
      "Processing clusters:  86%|████████▌ | 6/7 [01:42<00:15, 15.11s/it]INFO:cluster_analysis_20250501_180520.log:Using Anthropic Claude API\n"
     ]
    },
    {
     "name": "stdout",
     "output_type": "stream",
     "text": [
      "No relevant gene features found for this cluster\n"
     ]
    },
    {
     "name": "stderr",
     "output_type": "stream",
     "text": [
      "INFO:cluster_analysis_20250501_180520.log:Anthropic API call successful: model=claude-3-7-sonnet-20250219\n",
      "INFO:cluster_analysis_20250501_180520.log:Success for cluster 94\n",
      "Processing clusters: 100%|██████████| 7/7 [01:52<00:00, 16.06s/it]\n",
      "INFO:cluster_analysis_20250501_180520.log:Completed analysis for 7 clusters\n"
     ]
    },
    {
     "name": "stdout",
     "output_type": "stream",
     "text": [
      "Analysis complete. Results saved to /lab/barcheese01/mdiberna/mozzarellm/results/example_analysis/\n"
     ]
    }
   ],
   "source": [
    "# Create results directory if it doesn't exist\n",
    "os.makedirs(RESULTS_DIR, exist_ok=True)\n",
    "\n",
    "# Step 1: Run analysis with OpenAI GPT-4o\n",
    "print(\"Running analysis with OpenAI GPT-4o...\")\n",
    "openai_results = analyze_gene_clusters(\n",
    "    input_file=PROCESSED_FILE,\n",
    "    output_file=f\"{RESULTS_DIR}/gpt-4o\",\n",
    "    config_path=os.path.join(project_root, \"config_openai.json\"),\n",
    "    model_name=\"gpt-4o\",\n",
    "    custom_prompt_path=os.path.join(project_root, \"mozzarellm\", \"prompts\", \"top_targets.txt\"),\n",
    "    gene_features_path=GENE_FEATURES,\n",
    "    screen_info_path=os.path.join(project_root, \"mozzarellm\", \"prompts\", \"HeLa_interphase_screen_info.txt\"),\n",
    "    gene_column=\"genes\",\n",
    "    gene_sep=\";\",\n",
    "    batch_size=1,\n",
    "    cluster_id_column=\"cluster_id\",\n",
    ")\n",
    "\n",
    "# Step 2: Run analysis with Anthropic Claude-3-7-Sonnet\n",
    "print(\"Running analysis with Anthropic Claude-3-7-Sonnet...\")\n",
    "claude_results = analyze_gene_clusters(\n",
    "    input_file=PROCESSED_FILE,\n",
    "    output_file=f\"{RESULTS_DIR}/claude-3-7-sonnet\",\n",
    "    config_path=os.path.join(project_root, \"config_anthropic.json\"),\n",
    "    model_name=\"claude-3-7-sonnet-20250219\",\n",
    "    custom_prompt_path=os.path.join(project_root, \"mozzarellm\", \"prompts\", \"top_targets.txt\"),\n",
    "    gene_features_path=GENE_FEATURES,\n",
    "    screen_info_path=os.path.join(project_root, \"mozzarellm\", \"prompts\", \"HeLa_interphase_screen_info.txt\"),\n",
    "    gene_column=\"genes\",\n",
    "    gene_sep=\";\",\n",
    "    batch_size=1,\n",
    "    cluster_id_column=\"cluster_id\",\n",
    ")\n",
    "\n",
    "print(f\"Analysis complete. Results saved to {RESULTS_DIR}/\")"
   ]
  }
 ],
 "metadata": {
  "kernelspec": {
   "display_name": "mozzarellm_test",
   "language": "python",
   "name": "python3"
  },
  "language_info": {
   "codemirror_mode": {
    "name": "ipython",
    "version": 3
   },
   "file_extension": ".py",
   "mimetype": "text/x-python",
   "name": "python",
   "nbconvert_exporter": "python",
   "pygments_lexer": "ipython3",
   "version": "3.11.11"
  }
 },
 "nbformat": 4,
 "nbformat_minor": 5
}
