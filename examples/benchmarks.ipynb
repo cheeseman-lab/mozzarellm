{
 "cells": [
  {
   "cell_type": "code",
   "execution_count": 2,
   "id": "590b2d9b",
   "metadata": {},
   "outputs": [],
   "source": [
    "import os\n",
    "import pandas as pd\n",
    "from collections import defaultdict\n",
    "\n",
    "notebook_dir = os.path.abspath(os.path.dirname(\"__file__\"))\n",
    "project_root = os.path.abspath(os.path.join(notebook_dir, \"..\"))"
   ]
  },
  {
   "cell_type": "code",
   "execution_count": 3,
   "id": "2e9831e2",
   "metadata": {},
   "outputs": [
    {
     "data": {
      "text/html": [
       "<div>\n",
       "<style scoped>\n",
       "    .dataframe tbody tr th:only-of-type {\n",
       "        vertical-align: middle;\n",
       "    }\n",
       "\n",
       "    .dataframe tbody tr th {\n",
       "        vertical-align: top;\n",
       "    }\n",
       "\n",
       "    .dataframe thead th {\n",
       "        text-align: right;\n",
       "    }\n",
       "</style>\n",
       "<table border=\"1\" class=\"dataframe\">\n",
       "  <thead>\n",
       "    <tr style=\"text-align: right;\">\n",
       "      <th></th>\n",
       "      <th>cluster</th>\n",
       "      <th>gene_symbol</th>\n",
       "    </tr>\n",
       "  </thead>\n",
       "  <tbody>\n",
       "    <tr>\n",
       "      <th>0</th>\n",
       "      <td>21</td>\n",
       "      <td>AATF</td>\n",
       "    </tr>\n",
       "    <tr>\n",
       "      <th>1</th>\n",
       "      <td>21</td>\n",
       "      <td>ABT1</td>\n",
       "    </tr>\n",
       "    <tr>\n",
       "      <th>6</th>\n",
       "      <td>21</td>\n",
       "      <td>BYSL</td>\n",
       "    </tr>\n",
       "    <tr>\n",
       "      <th>4</th>\n",
       "      <td>21</td>\n",
       "      <td>BMS1</td>\n",
       "    </tr>\n",
       "    <tr>\n",
       "      <th>7</th>\n",
       "      <td>21</td>\n",
       "      <td>C1orf131</td>\n",
       "    </tr>\n",
       "    <tr>\n",
       "      <th>...</th>\n",
       "      <td>...</td>\n",
       "      <td>...</td>\n",
       "    </tr>\n",
       "    <tr>\n",
       "      <th>56</th>\n",
       "      <td>197</td>\n",
       "      <td>METTL3</td>\n",
       "    </tr>\n",
       "    <tr>\n",
       "      <th>31</th>\n",
       "      <td>197</td>\n",
       "      <td>FITM1</td>\n",
       "    </tr>\n",
       "    <tr>\n",
       "      <th>98</th>\n",
       "      <td>197</td>\n",
       "      <td>PTCHD4</td>\n",
       "    </tr>\n",
       "    <tr>\n",
       "      <th>134</th>\n",
       "      <td>197</td>\n",
       "      <td>VRK1</td>\n",
       "    </tr>\n",
       "    <tr>\n",
       "      <th>130</th>\n",
       "      <td>197</td>\n",
       "      <td>UFL1</td>\n",
       "    </tr>\n",
       "  </tbody>\n",
       "</table>\n",
       "<p>140 rows × 2 columns</p>\n",
       "</div>"
      ],
      "text/plain": [
       "     cluster gene_symbol\n",
       "0         21        AATF\n",
       "1         21        ABT1\n",
       "6         21        BYSL\n",
       "4         21        BMS1\n",
       "7         21    C1orf131\n",
       "..       ...         ...\n",
       "56       197      METTL3\n",
       "31       197       FITM1\n",
       "98       197      PTCHD4\n",
       "134      197        VRK1\n",
       "130      197        UFL1\n",
       "\n",
       "[140 rows x 2 columns]"
      ]
     },
     "metadata": {},
     "output_type": "display_data"
    }
   ],
   "source": [
    "# Read the Funk dataset and clean\n",
    "funk = pd.read_excel(\n",
    "    os.path.join(project_root, \"data/benchmarks/1-s2.0-S0092867422013599-mmc4.xlsx\"),\n",
    "    skiprows=1,\n",
    ")\n",
    "# Select only the rows where cluster is in 149, 121, 21, 167, 197, 37\n",
    "funk = funk[funk[\"Interphase cluster\"].isin([149, 121, 21, 167, 197, 37])].reset_index(\n",
    "    drop=True\n",
    ")\n",
    "# Rename \"Gene symbol\" to \"gene_symbol\" and \"Interphase cluster\" to \"cluster\"\n",
    "funk.rename(\n",
    "    columns={\n",
    "        \"Gene symbol\": \"gene_symbol\",\n",
    "        \"Interphase cluster\": \"cluster\",\n",
    "    },\n",
    "    inplace=True,\n",
    ")\n",
    "# Drop all other columns\n",
    "funk = funk[[\"cluster\", \"gene_symbol\"]]\n",
    "# Sort by cluster\n",
    "funk.sort_values(by=[\"cluster\"], inplace=True)\n",
    "# Display the Funk dataset\n",
    "display(funk)"
   ]
  },
  {
   "cell_type": "code",
   "execution_count": 4,
   "id": "8aea9e72",
   "metadata": {},
   "outputs": [
    {
     "data": {
      "text/html": [
       "<div>\n",
       "<style scoped>\n",
       "    .dataframe tbody tr th:only-of-type {\n",
       "        vertical-align: middle;\n",
       "    }\n",
       "\n",
       "    .dataframe tbody tr th {\n",
       "        vertical-align: top;\n",
       "    }\n",
       "\n",
       "    .dataframe thead th {\n",
       "        text-align: right;\n",
       "    }\n",
       "</style>\n",
       "<table border=\"1\" class=\"dataframe\">\n",
       "  <thead>\n",
       "    <tr style=\"text-align: right;\">\n",
       "      <th></th>\n",
       "      <th>cluster</th>\n",
       "      <th>gene_symbol</th>\n",
       "    </tr>\n",
       "  </thead>\n",
       "  <tbody>\n",
       "    <tr>\n",
       "      <th>0</th>\n",
       "      <td>2067</td>\n",
       "      <td>AAGAB</td>\n",
       "    </tr>\n",
       "    <tr>\n",
       "      <th>1</th>\n",
       "      <td>2067</td>\n",
       "      <td>AGFG1</td>\n",
       "    </tr>\n",
       "    <tr>\n",
       "      <th>2</th>\n",
       "      <td>2067</td>\n",
       "      <td>AP2A1</td>\n",
       "    </tr>\n",
       "    <tr>\n",
       "      <th>3</th>\n",
       "      <td>2067</td>\n",
       "      <td>AP2A2</td>\n",
       "    </tr>\n",
       "    <tr>\n",
       "      <th>4</th>\n",
       "      <td>2067</td>\n",
       "      <td>AP2B1</td>\n",
       "    </tr>\n",
       "    <tr>\n",
       "      <th>5</th>\n",
       "      <td>2067</td>\n",
       "      <td>AP2M1</td>\n",
       "    </tr>\n",
       "    <tr>\n",
       "      <th>6</th>\n",
       "      <td>2067</td>\n",
       "      <td>AP2S1</td>\n",
       "    </tr>\n",
       "    <tr>\n",
       "      <th>7</th>\n",
       "      <td>2067</td>\n",
       "      <td>C15orf57</td>\n",
       "    </tr>\n",
       "    <tr>\n",
       "      <th>8</th>\n",
       "      <td>2067</td>\n",
       "      <td>FCHO2</td>\n",
       "    </tr>\n",
       "    <tr>\n",
       "      <th>9</th>\n",
       "      <td>2067</td>\n",
       "      <td>PICALM</td>\n",
       "    </tr>\n",
       "    <tr>\n",
       "      <th>10</th>\n",
       "      <td>2213</td>\n",
       "      <td>AGPS</td>\n",
       "    </tr>\n",
       "    <tr>\n",
       "      <th>11</th>\n",
       "      <td>2213</td>\n",
       "      <td>EPT1</td>\n",
       "    </tr>\n",
       "    <tr>\n",
       "      <th>12</th>\n",
       "      <td>2213</td>\n",
       "      <td>FAR1</td>\n",
       "    </tr>\n",
       "    <tr>\n",
       "      <th>13</th>\n",
       "      <td>2213</td>\n",
       "      <td>GNPAT</td>\n",
       "    </tr>\n",
       "    <tr>\n",
       "      <th>14</th>\n",
       "      <td>2213</td>\n",
       "      <td>PCYT2</td>\n",
       "    </tr>\n",
       "    <tr>\n",
       "      <th>15</th>\n",
       "      <td>2213</td>\n",
       "      <td>PEX7</td>\n",
       "    </tr>\n",
       "    <tr>\n",
       "      <th>16</th>\n",
       "      <td>2213</td>\n",
       "      <td>SEC14L1</td>\n",
       "    </tr>\n",
       "    <tr>\n",
       "      <th>17</th>\n",
       "      <td>2213</td>\n",
       "      <td>TMEM189</td>\n",
       "    </tr>\n",
       "  </tbody>\n",
       "</table>\n",
       "</div>"
      ],
      "text/plain": [
       "    cluster gene_symbol\n",
       "0      2067       AAGAB\n",
       "1      2067       AGFG1\n",
       "2      2067       AP2A1\n",
       "3      2067       AP2A2\n",
       "4      2067       AP2B1\n",
       "5      2067       AP2M1\n",
       "6      2067       AP2S1\n",
       "7      2067    C15orf57\n",
       "8      2067       FCHO2\n",
       "9      2067      PICALM\n",
       "10     2213        AGPS\n",
       "11     2213        EPT1\n",
       "12     2213        FAR1\n",
       "13     2213       GNPAT\n",
       "14     2213       PCYT2\n",
       "15     2213        PEX7\n",
       "16     2213     SEC14L1\n",
       "17     2213     TMEM189"
      ]
     },
     "metadata": {},
     "output_type": "display_data"
    }
   ],
   "source": [
    "# Read the Wainberg dataset and clean\n",
    "wainberg = pd.read_excel(\n",
    "    os.path.join(project_root, \"data/benchmarks/Supplementary_Data_2.xlsx\"),\n",
    "    sheet_name=\"Co-essential Modules\",\n",
    "    skiprows=(0, 1),\n",
    ")\n",
    "# Select Module # 2067 and 2213\n",
    "wainberg = wainberg[wainberg[\"Module #\"].isin([2067, 2213])].reset_index(drop=True)\n",
    "# Create a new dataframe to store the reshaped data\n",
    "reshaped_data = []\n",
    "# Process each row in the original dataframe\n",
    "for _, row in wainberg.iterrows():\n",
    "    module_num = row[\"Module #\"]\n",
    "\n",
    "    # Process 'Genes' column\n",
    "    if pd.notna(row[\"Genes\"]):\n",
    "        reshaped_data.append({\"cluster\": module_num, \"gene_symbol\": row[\"Genes\"]})\n",
    "\n",
    "    # Process all the 'Unnamed: X' columns that contain gene symbols\n",
    "    for col in wainberg.columns:\n",
    "        if col.startswith(\"Unnamed:\") and pd.notna(row[col]):\n",
    "            # Skip empty cells or non-gene values\n",
    "            if isinstance(row[col], str) and row[col].strip() != \"\":\n",
    "                reshaped_data.append({\"cluster\": module_num, \"gene_symbol\": row[col]})\n",
    "            elif isinstance(row[col], (int, float)) and not pd.isna(row[col]):\n",
    "                # Convert numeric values to string if they appear to be gene IDs\n",
    "                reshaped_data.append(\n",
    "                    {\"cluster\": module_num, \"gene_symbol\": str(row[col])}\n",
    "                )\n",
    "# Create the reshaped dataframe\n",
    "wainberg = pd.DataFrame(reshaped_data)\n",
    "# Sort by cluster\n",
    "wainberg.sort_values(by=[\"cluster\"], inplace=True)\n",
    "# Display the Wainberg dataset\n",
    "display(wainberg)"
   ]
  },
  {
   "cell_type": "code",
   "execution_count": 5,
   "id": "7e755477",
   "metadata": {},
   "outputs": [
    {
     "data": {
      "text/html": [
       "<div>\n",
       "<style scoped>\n",
       "    .dataframe tbody tr th:only-of-type {\n",
       "        vertical-align: middle;\n",
       "    }\n",
       "\n",
       "    .dataframe tbody tr th {\n",
       "        vertical-align: top;\n",
       "    }\n",
       "\n",
       "    .dataframe thead th {\n",
       "        text-align: right;\n",
       "    }\n",
       "</style>\n",
       "<table border=\"1\" class=\"dataframe\">\n",
       "  <thead>\n",
       "    <tr style=\"text-align: right;\">\n",
       "      <th></th>\n",
       "      <th>cluster</th>\n",
       "      <th>gene_symbol</th>\n",
       "    </tr>\n",
       "  </thead>\n",
       "  <tbody>\n",
       "    <tr>\n",
       "      <th>0</th>\n",
       "      <td>C5255</td>\n",
       "      <td>RPP30</td>\n",
       "    </tr>\n",
       "    <tr>\n",
       "      <th>13</th>\n",
       "      <td>C5255</td>\n",
       "      <td>RNASEH1</td>\n",
       "    </tr>\n",
       "    <tr>\n",
       "      <th>12</th>\n",
       "      <td>C5255</td>\n",
       "      <td>POP1</td>\n",
       "    </tr>\n",
       "    <tr>\n",
       "      <th>11</th>\n",
       "      <td>C5255</td>\n",
       "      <td>OSGEP</td>\n",
       "    </tr>\n",
       "    <tr>\n",
       "      <th>10</th>\n",
       "      <td>C5255</td>\n",
       "      <td>POP7</td>\n",
       "    </tr>\n",
       "    <tr>\n",
       "      <th>9</th>\n",
       "      <td>C5255</td>\n",
       "      <td>C18orf21</td>\n",
       "    </tr>\n",
       "    <tr>\n",
       "      <th>7</th>\n",
       "      <td>C5255</td>\n",
       "      <td>RPP14</td>\n",
       "    </tr>\n",
       "    <tr>\n",
       "      <th>8</th>\n",
       "      <td>C5255</td>\n",
       "      <td>RPP40</td>\n",
       "    </tr>\n",
       "    <tr>\n",
       "      <th>5</th>\n",
       "      <td>C5255</td>\n",
       "      <td>RPP38</td>\n",
       "    </tr>\n",
       "    <tr>\n",
       "      <th>4</th>\n",
       "      <td>C5255</td>\n",
       "      <td>GON7</td>\n",
       "    </tr>\n",
       "    <tr>\n",
       "      <th>3</th>\n",
       "      <td>C5255</td>\n",
       "      <td>RPP25L</td>\n",
       "    </tr>\n",
       "    <tr>\n",
       "      <th>2</th>\n",
       "      <td>C5255</td>\n",
       "      <td>POP5</td>\n",
       "    </tr>\n",
       "    <tr>\n",
       "      <th>1</th>\n",
       "      <td>C5255</td>\n",
       "      <td>MAGED2</td>\n",
       "    </tr>\n",
       "    <tr>\n",
       "      <th>6</th>\n",
       "      <td>C5255</td>\n",
       "      <td>POP4</td>\n",
       "    </tr>\n",
       "    <tr>\n",
       "      <th>16</th>\n",
       "      <td>C5415</td>\n",
       "      <td>STAT1</td>\n",
       "    </tr>\n",
       "    <tr>\n",
       "      <th>14</th>\n",
       "      <td>C5415</td>\n",
       "      <td>DPP9</td>\n",
       "    </tr>\n",
       "    <tr>\n",
       "      <th>15</th>\n",
       "      <td>C5415</td>\n",
       "      <td>STAT2</td>\n",
       "    </tr>\n",
       "    <tr>\n",
       "      <th>17</th>\n",
       "      <td>C5415</td>\n",
       "      <td>IRF9</td>\n",
       "    </tr>\n",
       "  </tbody>\n",
       "</table>\n",
       "</div>"
      ],
      "text/plain": [
       "   cluster gene_symbol\n",
       "0    C5255       RPP30\n",
       "13   C5255     RNASEH1\n",
       "12   C5255        POP1\n",
       "11   C5255       OSGEP\n",
       "10   C5255        POP7\n",
       "9    C5255    C18orf21\n",
       "7    C5255       RPP14\n",
       "8    C5255       RPP40\n",
       "5    C5255       RPP38\n",
       "4    C5255        GON7\n",
       "3    C5255      RPP25L\n",
       "2    C5255        POP5\n",
       "1    C5255      MAGED2\n",
       "6    C5255        POP4\n",
       "16   C5415       STAT1\n",
       "14   C5415        DPP9\n",
       "15   C5415       STAT2\n",
       "17   C5415        IRF9"
      ]
     },
     "metadata": {},
     "output_type": "display_data"
    }
   ],
   "source": [
    "schaffer = pd.read_excel(\n",
    "    os.path.join(project_root, \"data/benchmarks/U2OS Cell Map Assemblies.xlsx\")\n",
    ")\n",
    "# Select Assembly ID C5255, C5415\n",
    "schaffer = schaffer[schaffer[\"Assembly ID\"].isin([\"C5255\", \"C5415\"])].reset_index(\n",
    "    drop=True\n",
    ")\n",
    "# Create a new dataframe to store the reshaped data\n",
    "reshaped_data = []\n",
    "\n",
    "# Process each row in the original dataframe\n",
    "for _, row in schaffer.iterrows():\n",
    "    cluster = row[\"Assembly ID\"]\n",
    "\n",
    "    # Handle the case where Proteins might be missing or NaN\n",
    "    if pd.notna(row[\"Proteins\"]):\n",
    "        # Split the space-separated proteins\n",
    "        proteins = str(row[\"Proteins\"]).split()\n",
    "\n",
    "        # Add each protein to the reshaped data\n",
    "        for protein in proteins:\n",
    "            if protein.strip():  # Skip empty strings\n",
    "                reshaped_data.append(\n",
    "                    {\"cluster\": cluster, \"gene_symbol\": protein.strip()}\n",
    "                )\n",
    "# Create the reshaped dataframe\n",
    "schaffer = pd.DataFrame(reshaped_data)\n",
    "# Rename \"Gene Symbol\" to \"gene_symbol\" and \"Assembly ID\" to \"cluster\"\n",
    "schaffer.rename(\n",
    "    columns={\n",
    "        \"Gene Symbol\": \"gene_symbol\",\n",
    "        \"Assembly ID\": \"cluster\",\n",
    "    },\n",
    "    inplace=True,\n",
    ")\n",
    "# Sort by cluster\n",
    "schaffer.sort_values(by=[\"cluster\"], inplace=True)\n",
    "# Display the Schaffer dataset\n",
    "display(schaffer)"
   ]
  },
  {
   "cell_type": "code",
   "execution_count": 6,
   "id": "4f383584",
   "metadata": {},
   "outputs": [],
   "source": [
    "# Read in the uniprot_data.tsv\n",
    "uniprot_data = pd.read_csv(\n",
    "    os.path.join(project_root, \"data/benchmarks/uniprot_data.tsv\"), sep=\"\\t\"\n",
    ")\n",
    "# Create multiple rows for each gene name with position information\n",
    "expanded_rows = []\n",
    "for _, row in uniprot_data.iterrows():\n",
    "    if pd.notna(row[\"gene_names\"]):\n",
    "        gene_names = row[\"gene_names\"].split()\n",
    "        for position, gene in enumerate(gene_names):\n",
    "            new_row = row.copy()\n",
    "            new_row[\"gene_name\"] = gene\n",
    "            new_row[\"position\"] = position\n",
    "            expanded_rows.append(new_row)\n",
    "# Create expanded dataframe\n",
    "expanded_df = pd.DataFrame(expanded_rows)\n",
    "# Sort by gene_name and position, then drop duplicates keeping the one with lower position\n",
    "expanded_df = expanded_df.sort_values([\"gene_name\", \"position\"])\n",
    "expanded_df = expanded_df.drop_duplicates(\"gene_name\", keep=\"first\")\n",
    "# Select and rename columns\n",
    "uniprot_data = expanded_df[[\"gene_name\", \"entry\", \"function\"]].rename(\n",
    "    columns={\"function\": \"uniprot_function\"}\n",
    ")"
   ]
  },
  {
   "cell_type": "code",
   "execution_count": 7,
   "id": "1ba9148d",
   "metadata": {},
   "outputs": [
    {
     "name": "stdout",
     "output_type": "stream",
     "text": [
      "funk dataset: 140 rows, 5 missing uniprot_function\n",
      "wainberg dataset: 18 rows, 0 missing uniprot_function\n",
      "schaffer dataset: 18 rows, 1 missing uniprot_function\n"
     ]
    }
   ],
   "source": [
    "# Merge each dataset with UniProt data\n",
    "for dataset_name in [\"funk\", \"wainberg\", \"schaffer\"]:\n",
    "    dataset = locals()[dataset_name]  # Access dataset from local variables\n",
    "\n",
    "    # Merge with UniProt data\n",
    "    dataset = dataset.merge(\n",
    "        uniprot_data, how=\"left\", left_on=\"gene_symbol\", right_on=\"gene_name\"\n",
    "    ).drop(columns=\"gene_name\", errors=\"ignore\")\n",
    "\n",
    "    # Print the number of rows in the merged dataset and the number of rows missing a uniprot_function\n",
    "    print(\n",
    "        f\"{dataset_name} dataset: {len(dataset)} rows, {dataset['uniprot_function'].isna().sum()} missing uniprot_function\"\n",
    "    )\n",
    "\n",
    "    # Update the original dataset variable\n",
    "    locals()[dataset_name] = dataset"
   ]
  },
  {
   "cell_type": "code",
   "execution_count": 8,
   "id": "3d9c625c",
   "metadata": {},
   "outputs": [
    {
     "data": {
      "text/html": [
       "<div>\n",
       "<style scoped>\n",
       "    .dataframe tbody tr th:only-of-type {\n",
       "        vertical-align: middle;\n",
       "    }\n",
       "\n",
       "    .dataframe tbody tr th {\n",
       "        vertical-align: top;\n",
       "    }\n",
       "\n",
       "    .dataframe thead th {\n",
       "        text-align: right;\n",
       "    }\n",
       "</style>\n",
       "<table border=\"1\" class=\"dataframe\">\n",
       "  <thead>\n",
       "    <tr style=\"text-align: right;\">\n",
       "      <th></th>\n",
       "      <th>cluster</th>\n",
       "      <th>gene_symbol</th>\n",
       "      <th>entry</th>\n",
       "      <th>uniprot_function</th>\n",
       "    </tr>\n",
       "  </thead>\n",
       "  <tbody>\n",
       "    <tr>\n",
       "      <th>0</th>\n",
       "      <td>21</td>\n",
       "      <td>AATF</td>\n",
       "      <td>Q9NY61</td>\n",
       "      <td>Part of the small subunit (SSU) processome, fi...</td>\n",
       "    </tr>\n",
       "    <tr>\n",
       "      <th>1</th>\n",
       "      <td>21</td>\n",
       "      <td>ABT1</td>\n",
       "      <td>Q9ULW3</td>\n",
       "      <td>Could be a novel TATA-binding protein (TBP) wh...</td>\n",
       "    </tr>\n",
       "    <tr>\n",
       "      <th>2</th>\n",
       "      <td>21</td>\n",
       "      <td>BYSL</td>\n",
       "      <td>Q13895</td>\n",
       "      <td>Required for processing of 20S pre-rRNA precur...</td>\n",
       "    </tr>\n",
       "    <tr>\n",
       "      <th>3</th>\n",
       "      <td>21</td>\n",
       "      <td>BMS1</td>\n",
       "      <td>Q14692</td>\n",
       "      <td>GTPase required for the synthesis of 40S ribos...</td>\n",
       "    </tr>\n",
       "    <tr>\n",
       "      <th>4</th>\n",
       "      <td>21</td>\n",
       "      <td>C1orf131</td>\n",
       "      <td>Q8NDD1</td>\n",
       "      <td>Part of the small subunit (SSU) processome, fi...</td>\n",
       "    </tr>\n",
       "    <tr>\n",
       "      <th>...</th>\n",
       "      <td>...</td>\n",
       "      <td>...</td>\n",
       "      <td>...</td>\n",
       "      <td>...</td>\n",
       "    </tr>\n",
       "    <tr>\n",
       "      <th>135</th>\n",
       "      <td>197</td>\n",
       "      <td>METTL3</td>\n",
       "      <td>Q86U44</td>\n",
       "      <td>The METTL3-METTL14 heterodimer forms a N6-meth...</td>\n",
       "    </tr>\n",
       "    <tr>\n",
       "      <th>136</th>\n",
       "      <td>197</td>\n",
       "      <td>FITM1</td>\n",
       "      <td>A5D6W6</td>\n",
       "      <td>Plays an important role in the formation of li...</td>\n",
       "    </tr>\n",
       "    <tr>\n",
       "      <th>137</th>\n",
       "      <td>197</td>\n",
       "      <td>PTCHD4</td>\n",
       "      <td>Q6ZW05</td>\n",
       "      <td>Could act as a repressor of canonical hedgehog...</td>\n",
       "    </tr>\n",
       "    <tr>\n",
       "      <th>138</th>\n",
       "      <td>197</td>\n",
       "      <td>VRK1</td>\n",
       "      <td>Q99986</td>\n",
       "      <td>Serine/threonine kinase involved in the regula...</td>\n",
       "    </tr>\n",
       "    <tr>\n",
       "      <th>139</th>\n",
       "      <td>197</td>\n",
       "      <td>UFL1</td>\n",
       "      <td>O94874</td>\n",
       "      <td>E3 protein ligase that mediates ufmylation, th...</td>\n",
       "    </tr>\n",
       "  </tbody>\n",
       "</table>\n",
       "<p>140 rows × 4 columns</p>\n",
       "</div>"
      ],
      "text/plain": [
       "     cluster gene_symbol   entry  \\\n",
       "0         21        AATF  Q9NY61   \n",
       "1         21        ABT1  Q9ULW3   \n",
       "2         21        BYSL  Q13895   \n",
       "3         21        BMS1  Q14692   \n",
       "4         21    C1orf131  Q8NDD1   \n",
       "..       ...         ...     ...   \n",
       "135      197      METTL3  Q86U44   \n",
       "136      197       FITM1  A5D6W6   \n",
       "137      197      PTCHD4  Q6ZW05   \n",
       "138      197        VRK1  Q99986   \n",
       "139      197        UFL1  O94874   \n",
       "\n",
       "                                      uniprot_function  \n",
       "0    Part of the small subunit (SSU) processome, fi...  \n",
       "1    Could be a novel TATA-binding protein (TBP) wh...  \n",
       "2    Required for processing of 20S pre-rRNA precur...  \n",
       "3    GTPase required for the synthesis of 40S ribos...  \n",
       "4    Part of the small subunit (SSU) processome, fi...  \n",
       "..                                                 ...  \n",
       "135  The METTL3-METTL14 heterodimer forms a N6-meth...  \n",
       "136  Plays an important role in the formation of li...  \n",
       "137  Could act as a repressor of canonical hedgehog...  \n",
       "138  Serine/threonine kinase involved in the regula...  \n",
       "139  E3 protein ligase that mediates ufmylation, th...  \n",
       "\n",
       "[140 rows x 4 columns]"
      ]
     },
     "metadata": {},
     "output_type": "display_data"
    },
    {
     "data": {
      "text/html": [
       "<div>\n",
       "<style scoped>\n",
       "    .dataframe tbody tr th:only-of-type {\n",
       "        vertical-align: middle;\n",
       "    }\n",
       "\n",
       "    .dataframe tbody tr th {\n",
       "        vertical-align: top;\n",
       "    }\n",
       "\n",
       "    .dataframe thead th {\n",
       "        text-align: right;\n",
       "    }\n",
       "</style>\n",
       "<table border=\"1\" class=\"dataframe\">\n",
       "  <thead>\n",
       "    <tr style=\"text-align: right;\">\n",
       "      <th></th>\n",
       "      <th>cluster</th>\n",
       "      <th>gene_symbol</th>\n",
       "      <th>entry</th>\n",
       "      <th>uniprot_function</th>\n",
       "    </tr>\n",
       "  </thead>\n",
       "  <tbody>\n",
       "    <tr>\n",
       "      <th>0</th>\n",
       "      <td>2067</td>\n",
       "      <td>AAGAB</td>\n",
       "      <td>Q6PD74</td>\n",
       "      <td>May be involved in endocytic recycling of grow...</td>\n",
       "    </tr>\n",
       "    <tr>\n",
       "      <th>1</th>\n",
       "      <td>2067</td>\n",
       "      <td>AGFG1</td>\n",
       "      <td>P52594</td>\n",
       "      <td>Required for vesicle docking or fusion during ...</td>\n",
       "    </tr>\n",
       "    <tr>\n",
       "      <th>2</th>\n",
       "      <td>2067</td>\n",
       "      <td>AP2A1</td>\n",
       "      <td>O95782</td>\n",
       "      <td>Component of the adaptor protein complex 2 (AP...</td>\n",
       "    </tr>\n",
       "    <tr>\n",
       "      <th>3</th>\n",
       "      <td>2067</td>\n",
       "      <td>AP2A2</td>\n",
       "      <td>O94973</td>\n",
       "      <td>Component of the adaptor protein complex 2 (AP...</td>\n",
       "    </tr>\n",
       "    <tr>\n",
       "      <th>4</th>\n",
       "      <td>2067</td>\n",
       "      <td>AP2B1</td>\n",
       "      <td>P63010</td>\n",
       "      <td>Component of the adaptor protein complex 2 (AP...</td>\n",
       "    </tr>\n",
       "    <tr>\n",
       "      <th>5</th>\n",
       "      <td>2067</td>\n",
       "      <td>AP2M1</td>\n",
       "      <td>Q96CW1</td>\n",
       "      <td>Component of the adaptor protein complex 2 (AP...</td>\n",
       "    </tr>\n",
       "    <tr>\n",
       "      <th>6</th>\n",
       "      <td>2067</td>\n",
       "      <td>AP2S1</td>\n",
       "      <td>P53680</td>\n",
       "      <td>Component of the adaptor protein complex 2 (AP...</td>\n",
       "    </tr>\n",
       "    <tr>\n",
       "      <th>7</th>\n",
       "      <td>2067</td>\n",
       "      <td>C15orf57</td>\n",
       "      <td>Q9BV29</td>\n",
       "      <td>Regulates clathrin-mediated endocytsois of car...</td>\n",
       "    </tr>\n",
       "    <tr>\n",
       "      <th>8</th>\n",
       "      <td>2067</td>\n",
       "      <td>FCHO2</td>\n",
       "      <td>Q0JRZ9</td>\n",
       "      <td>Functions in an early step of clathrin-mediate...</td>\n",
       "    </tr>\n",
       "    <tr>\n",
       "      <th>9</th>\n",
       "      <td>2067</td>\n",
       "      <td>PICALM</td>\n",
       "      <td>Q13492</td>\n",
       "      <td>Cytoplasmic adapter protein that plays a criti...</td>\n",
       "    </tr>\n",
       "    <tr>\n",
       "      <th>10</th>\n",
       "      <td>2213</td>\n",
       "      <td>AGPS</td>\n",
       "      <td>O00116</td>\n",
       "      <td>Catalyzes the exchange of the acyl chain in ac...</td>\n",
       "    </tr>\n",
       "    <tr>\n",
       "      <th>11</th>\n",
       "      <td>2213</td>\n",
       "      <td>EPT1</td>\n",
       "      <td>Q9C0D9</td>\n",
       "      <td>Ethanolaminephosphotransferase that catalyzes ...</td>\n",
       "    </tr>\n",
       "    <tr>\n",
       "      <th>12</th>\n",
       "      <td>2213</td>\n",
       "      <td>FAR1</td>\n",
       "      <td>Q8WVX9</td>\n",
       "      <td>Catalyzes the reduction of saturated and unsat...</td>\n",
       "    </tr>\n",
       "    <tr>\n",
       "      <th>13</th>\n",
       "      <td>2213</td>\n",
       "      <td>GNPAT</td>\n",
       "      <td>O15228</td>\n",
       "      <td>Dihydroxyacetonephosphate acyltransferase cata...</td>\n",
       "    </tr>\n",
       "    <tr>\n",
       "      <th>14</th>\n",
       "      <td>2213</td>\n",
       "      <td>PCYT2</td>\n",
       "      <td>Q99447</td>\n",
       "      <td>Ethanolamine-phosphate cytidylyltransferase th...</td>\n",
       "    </tr>\n",
       "    <tr>\n",
       "      <th>15</th>\n",
       "      <td>2213</td>\n",
       "      <td>PEX7</td>\n",
       "      <td>O00628</td>\n",
       "      <td>Receptor required for the peroxisomal import o...</td>\n",
       "    </tr>\n",
       "    <tr>\n",
       "      <th>16</th>\n",
       "      <td>2213</td>\n",
       "      <td>SEC14L1</td>\n",
       "      <td>Q92503</td>\n",
       "      <td>May play a role in innate immunity by inhibiti...</td>\n",
       "    </tr>\n",
       "    <tr>\n",
       "      <th>17</th>\n",
       "      <td>2213</td>\n",
       "      <td>TMEM189</td>\n",
       "      <td>A5PLL7</td>\n",
       "      <td>Plasmanylethanolamine desaturase involved in p...</td>\n",
       "    </tr>\n",
       "  </tbody>\n",
       "</table>\n",
       "</div>"
      ],
      "text/plain": [
       "    cluster gene_symbol   entry  \\\n",
       "0      2067       AAGAB  Q6PD74   \n",
       "1      2067       AGFG1  P52594   \n",
       "2      2067       AP2A1  O95782   \n",
       "3      2067       AP2A2  O94973   \n",
       "4      2067       AP2B1  P63010   \n",
       "5      2067       AP2M1  Q96CW1   \n",
       "6      2067       AP2S1  P53680   \n",
       "7      2067    C15orf57  Q9BV29   \n",
       "8      2067       FCHO2  Q0JRZ9   \n",
       "9      2067      PICALM  Q13492   \n",
       "10     2213        AGPS  O00116   \n",
       "11     2213        EPT1  Q9C0D9   \n",
       "12     2213        FAR1  Q8WVX9   \n",
       "13     2213       GNPAT  O15228   \n",
       "14     2213       PCYT2  Q99447   \n",
       "15     2213        PEX7  O00628   \n",
       "16     2213     SEC14L1  Q92503   \n",
       "17     2213     TMEM189  A5PLL7   \n",
       "\n",
       "                                     uniprot_function  \n",
       "0   May be involved in endocytic recycling of grow...  \n",
       "1   Required for vesicle docking or fusion during ...  \n",
       "2   Component of the adaptor protein complex 2 (AP...  \n",
       "3   Component of the adaptor protein complex 2 (AP...  \n",
       "4   Component of the adaptor protein complex 2 (AP...  \n",
       "5   Component of the adaptor protein complex 2 (AP...  \n",
       "6   Component of the adaptor protein complex 2 (AP...  \n",
       "7   Regulates clathrin-mediated endocytsois of car...  \n",
       "8   Functions in an early step of clathrin-mediate...  \n",
       "9   Cytoplasmic adapter protein that plays a criti...  \n",
       "10  Catalyzes the exchange of the acyl chain in ac...  \n",
       "11  Ethanolaminephosphotransferase that catalyzes ...  \n",
       "12  Catalyzes the reduction of saturated and unsat...  \n",
       "13  Dihydroxyacetonephosphate acyltransferase cata...  \n",
       "14  Ethanolamine-phosphate cytidylyltransferase th...  \n",
       "15  Receptor required for the peroxisomal import o...  \n",
       "16  May play a role in innate immunity by inhibiti...  \n",
       "17  Plasmanylethanolamine desaturase involved in p...  "
      ]
     },
     "metadata": {},
     "output_type": "display_data"
    },
    {
     "data": {
      "text/html": [
       "<div>\n",
       "<style scoped>\n",
       "    .dataframe tbody tr th:only-of-type {\n",
       "        vertical-align: middle;\n",
       "    }\n",
       "\n",
       "    .dataframe tbody tr th {\n",
       "        vertical-align: top;\n",
       "    }\n",
       "\n",
       "    .dataframe thead th {\n",
       "        text-align: right;\n",
       "    }\n",
       "</style>\n",
       "<table border=\"1\" class=\"dataframe\">\n",
       "  <thead>\n",
       "    <tr style=\"text-align: right;\">\n",
       "      <th></th>\n",
       "      <th>cluster</th>\n",
       "      <th>gene_symbol</th>\n",
       "      <th>entry</th>\n",
       "      <th>uniprot_function</th>\n",
       "    </tr>\n",
       "  </thead>\n",
       "  <tbody>\n",
       "    <tr>\n",
       "      <th>0</th>\n",
       "      <td>C5255</td>\n",
       "      <td>RPP30</td>\n",
       "      <td>P78346</td>\n",
       "      <td>Component of ribonuclease P, a ribonucleoprote...</td>\n",
       "    </tr>\n",
       "    <tr>\n",
       "      <th>1</th>\n",
       "      <td>C5255</td>\n",
       "      <td>RNASEH1</td>\n",
       "      <td>O60930</td>\n",
       "      <td>Endonuclease that specifically degrades the RN...</td>\n",
       "    </tr>\n",
       "    <tr>\n",
       "      <th>2</th>\n",
       "      <td>C5255</td>\n",
       "      <td>POP1</td>\n",
       "      <td>Q99575</td>\n",
       "      <td>Component of ribonuclease P, a ribonucleoprote...</td>\n",
       "    </tr>\n",
       "    <tr>\n",
       "      <th>3</th>\n",
       "      <td>C5255</td>\n",
       "      <td>OSGEP</td>\n",
       "      <td>Q9NPF4</td>\n",
       "      <td>Component of the EKC/KEOPS complex that is req...</td>\n",
       "    </tr>\n",
       "    <tr>\n",
       "      <th>4</th>\n",
       "      <td>C5255</td>\n",
       "      <td>POP7</td>\n",
       "      <td>O75817</td>\n",
       "      <td>Component of ribonuclease P, a ribonucleoprote...</td>\n",
       "    </tr>\n",
       "    <tr>\n",
       "      <th>5</th>\n",
       "      <td>C5255</td>\n",
       "      <td>C18orf21</td>\n",
       "      <td>Q32NC0</td>\n",
       "      <td>NaN</td>\n",
       "    </tr>\n",
       "    <tr>\n",
       "      <th>6</th>\n",
       "      <td>C5255</td>\n",
       "      <td>RPP14</td>\n",
       "      <td>O95059</td>\n",
       "      <td>Component of ribonuclease P, a ribonucleoprote...</td>\n",
       "    </tr>\n",
       "    <tr>\n",
       "      <th>7</th>\n",
       "      <td>C5255</td>\n",
       "      <td>RPP40</td>\n",
       "      <td>O75818</td>\n",
       "      <td>Component of ribonuclease P, a ribonucleoprote...</td>\n",
       "    </tr>\n",
       "    <tr>\n",
       "      <th>8</th>\n",
       "      <td>C5255</td>\n",
       "      <td>RPP38</td>\n",
       "      <td>P78345</td>\n",
       "      <td>Component of ribonuclease P, a ribonucleoprote...</td>\n",
       "    </tr>\n",
       "    <tr>\n",
       "      <th>9</th>\n",
       "      <td>C5255</td>\n",
       "      <td>GON7</td>\n",
       "      <td>Q9BXV9</td>\n",
       "      <td>Component of the EKC/KEOPS complex that is req...</td>\n",
       "    </tr>\n",
       "    <tr>\n",
       "      <th>10</th>\n",
       "      <td>C5255</td>\n",
       "      <td>RPP25L</td>\n",
       "      <td>Q8N5L8</td>\n",
       "      <td>May be a component of ribonuclease P or MRP.</td>\n",
       "    </tr>\n",
       "    <tr>\n",
       "      <th>11</th>\n",
       "      <td>C5255</td>\n",
       "      <td>POP5</td>\n",
       "      <td>Q969H6</td>\n",
       "      <td>Component of ribonuclease P, a protein complex...</td>\n",
       "    </tr>\n",
       "    <tr>\n",
       "      <th>12</th>\n",
       "      <td>C5255</td>\n",
       "      <td>MAGED2</td>\n",
       "      <td>Q9UNF1</td>\n",
       "      <td>Regulates the expression, localization to the ...</td>\n",
       "    </tr>\n",
       "    <tr>\n",
       "      <th>13</th>\n",
       "      <td>C5255</td>\n",
       "      <td>POP4</td>\n",
       "      <td>O95707</td>\n",
       "      <td>Component of ribonuclease P, a ribonucleoprote...</td>\n",
       "    </tr>\n",
       "    <tr>\n",
       "      <th>14</th>\n",
       "      <td>C5415</td>\n",
       "      <td>STAT1</td>\n",
       "      <td>P42224</td>\n",
       "      <td>Signal transducer and transcription activator ...</td>\n",
       "    </tr>\n",
       "    <tr>\n",
       "      <th>15</th>\n",
       "      <td>C5415</td>\n",
       "      <td>DPP9</td>\n",
       "      <td>Q86TI2</td>\n",
       "      <td>Dipeptidyl peptidase that cleaves off N-termin...</td>\n",
       "    </tr>\n",
       "    <tr>\n",
       "      <th>16</th>\n",
       "      <td>C5415</td>\n",
       "      <td>STAT2</td>\n",
       "      <td>P52630</td>\n",
       "      <td>Signal transducer and activator of transcripti...</td>\n",
       "    </tr>\n",
       "    <tr>\n",
       "      <th>17</th>\n",
       "      <td>C5415</td>\n",
       "      <td>IRF9</td>\n",
       "      <td>Q00978</td>\n",
       "      <td>Transcription factor that plays an essential r...</td>\n",
       "    </tr>\n",
       "  </tbody>\n",
       "</table>\n",
       "</div>"
      ],
      "text/plain": [
       "   cluster gene_symbol   entry  \\\n",
       "0    C5255       RPP30  P78346   \n",
       "1    C5255     RNASEH1  O60930   \n",
       "2    C5255        POP1  Q99575   \n",
       "3    C5255       OSGEP  Q9NPF4   \n",
       "4    C5255        POP7  O75817   \n",
       "5    C5255    C18orf21  Q32NC0   \n",
       "6    C5255       RPP14  O95059   \n",
       "7    C5255       RPP40  O75818   \n",
       "8    C5255       RPP38  P78345   \n",
       "9    C5255        GON7  Q9BXV9   \n",
       "10   C5255      RPP25L  Q8N5L8   \n",
       "11   C5255        POP5  Q969H6   \n",
       "12   C5255      MAGED2  Q9UNF1   \n",
       "13   C5255        POP4  O95707   \n",
       "14   C5415       STAT1  P42224   \n",
       "15   C5415        DPP9  Q86TI2   \n",
       "16   C5415       STAT2  P52630   \n",
       "17   C5415        IRF9  Q00978   \n",
       "\n",
       "                                     uniprot_function  \n",
       "0   Component of ribonuclease P, a ribonucleoprote...  \n",
       "1   Endonuclease that specifically degrades the RN...  \n",
       "2   Component of ribonuclease P, a ribonucleoprote...  \n",
       "3   Component of the EKC/KEOPS complex that is req...  \n",
       "4   Component of ribonuclease P, a ribonucleoprote...  \n",
       "5                                                 NaN  \n",
       "6   Component of ribonuclease P, a ribonucleoprote...  \n",
       "7   Component of ribonuclease P, a ribonucleoprote...  \n",
       "8   Component of ribonuclease P, a ribonucleoprote...  \n",
       "9   Component of the EKC/KEOPS complex that is req...  \n",
       "10       May be a component of ribonuclease P or MRP.  \n",
       "11  Component of ribonuclease P, a protein complex...  \n",
       "12  Regulates the expression, localization to the ...  \n",
       "13  Component of ribonuclease P, a ribonucleoprote...  \n",
       "14  Signal transducer and transcription activator ...  \n",
       "15  Dipeptidyl peptidase that cleaves off N-termin...  \n",
       "16  Signal transducer and activator of transcripti...  \n",
       "17  Transcription factor that plays an essential r...  "
      ]
     },
     "metadata": {},
     "output_type": "display_data"
    }
   ],
   "source": [
    "display(funk)\n",
    "display(wainberg)\n",
    "display(schaffer)"
   ]
  },
  {
   "cell_type": "code",
   "execution_count": 12,
   "id": "00a5fcce",
   "metadata": {},
   "outputs": [],
   "source": [
    "from mozzarellm import analyze_gene_clusters, reshape_to_clusters\n",
    "from mozzarellm.prompts import ROBUST_SCREEN_CONTEXT, ROBUST_CLUSTER_PROMPT\n",
    "from mozzarellm.configs import DEFAULT_OPENAI_REASONING_CONFIG, DEFAULT_OPENAI_CONFIG, DEFAULT_ANTHROPIC_CONFIG, DEFAULT_GEMINI_CONFIG"
   ]
  },
  {
   "cell_type": "markdown",
   "id": "34006815",
   "metadata": {},
   "source": [
    "### Reshape clusters"
   ]
  },
  {
   "cell_type": "code",
   "execution_count": 11,
   "id": "472c1b70",
   "metadata": {},
   "outputs": [
    {
     "name": "stdout",
     "output_type": "stream",
     "text": [
      "Using provided DataFrame with 140 rows\n",
      "Found 140 genes across 6 clusters\n",
      "Extracting gene features from uniprot_function column\n",
      "Processed funk: 6 clusters with 140 unique genes\n",
      "Using provided DataFrame with 18 rows\n",
      "Found 18 genes across 2 clusters\n",
      "Extracting gene features from uniprot_function column\n",
      "Processed wainberg: 2 clusters with 18 unique genes\n",
      "Using provided DataFrame with 18 rows\n",
      "Found 18 genes across 2 clusters\n",
      "Extracting gene features from uniprot_function column\n",
      "Could not convert cluster_id to numeric: Unable to parse string \"C5255\" at position 0. Sorting as strings.\n",
      "Processed schaffer: 2 clusters with 18 unique genes\n"
     ]
    }
   ],
   "source": [
    "GENE_COL = \"gene_symbol\"\n",
    "CLUSTER_COL = \"cluster\"\n",
    "UNIPROT_COL = \"uniprot_function\"\n",
    "\n",
    "# Dictionary to store the processed results\n",
    "processed_data = {}\n",
    "\n",
    "for dataset_name in [\"funk\", \"wainberg\", \"schaffer\"]:\n",
    "    # Get the dataset from local variables\n",
    "    sample_data = locals()[dataset_name]\n",
    "    \n",
    "    # Process with reshape_to_clusters without saving\n",
    "    cluster_df, gene_features = reshape_to_clusters(\n",
    "        input_df=sample_data,\n",
    "        gene_col=GENE_COL,\n",
    "        cluster_col=CLUSTER_COL, \n",
    "        uniprot_col=UNIPROT_COL,\n",
    "        verbose=True\n",
    "    )\n",
    "    \n",
    "    # Store results in dictionary for later use\n",
    "    processed_data[dataset_name] = {\n",
    "        \"clusters\": cluster_df,\n",
    "        \"gene_features\": gene_features\n",
    "    }\n",
    "    \n",
    "    # Print summary stats\n",
    "    print(f\"Processed {dataset_name}: {len(cluster_df)} clusters with {len(gene_features)} unique genes\")"
   ]
  },
  {
   "cell_type": "markdown",
   "id": "ca33a6a2",
   "metadata": {},
   "source": [
    "### Knowledge cutoffs:\n",
    "- o4-mini: May 2024\n",
    "- o3: May 2024\n",
    "- o3-mini: Sep 2023\n",
    "- gpt-4.1: May 2024\n",
    "- gpt-4o: Sep 2023\n",
    "- claude-3-7-sonnet-20250219: Nov 2024\n",
    "- claude-3-5-haiku-20241022: Apr 2024\n",
    "- gemini-2.5-pro-preview-03-25: Jan 2025\n",
    "- gemini-2.5-flash-preview-04-17: Jan 2025"
   ]
  },
  {
   "cell_type": "code",
   "execution_count": null,
   "id": "6d6fdff5",
   "metadata": {},
   "outputs": [
    {
     "name": "stdout",
     "output_type": "stream",
     "text": [
      "\n",
      "============================================================\n",
      "Processing dataset: funk\n",
      "============================================================\n",
      "\n",
      "--------------------------------------------------\n",
      "Running o4-mini on funk\n",
      "--------------------------------------------------\n",
      "Loaded data with 6 rows and columns: ['cluster_id', 'genes']\n",
      "Created annotations dictionary with 140 entries from DataFrame\n"
     ]
    },
    {
     "name": "stderr",
     "output_type": "stream",
     "text": [
      "Processing clusters:   0%|          | 0/6 [00:00<?, ?it/s]"
     ]
    },
    {
     "name": "stdout",
     "output_type": "stream",
     "text": [
      "Using provided template string\n",
      "Appending output format instructions to template\n",
      "Added 39 gene feature descriptions to prompt\n"
     ]
    },
    {
     "name": "stderr",
     "output_type": "stream",
     "text": [
      "Processing clusters:  17%|█▋        | 1/6 [00:37<03:08, 37.68s/it]"
     ]
    },
    {
     "name": "stdout",
     "output_type": "stream",
     "text": [
      "Using provided template string\n",
      "Appending output format instructions to template\n",
      "Added 33 gene feature descriptions to prompt\n"
     ]
    },
    {
     "name": "stderr",
     "output_type": "stream",
     "text": [
      "Processing clusters:  33%|███▎      | 2/6 [01:05<02:07, 31.80s/it]"
     ]
    },
    {
     "name": "stdout",
     "output_type": "stream",
     "text": [
      "Using provided template string\n",
      "Appending output format instructions to template\n",
      "Added 22 gene feature descriptions to prompt\n"
     ]
    },
    {
     "name": "stderr",
     "output_type": "stream",
     "text": [
      "Processing clusters:  50%|█████     | 3/6 [02:08<02:18, 46.12s/it]"
     ]
    },
    {
     "name": "stdout",
     "output_type": "stream",
     "text": [
      "Using provided template string\n",
      "Appending output format instructions to template\n",
      "Added 19 gene feature descriptions to prompt\n"
     ]
    },
    {
     "name": "stderr",
     "output_type": "stream",
     "text": [
      "Processing clusters:  67%|██████▋   | 4/6 [02:34<01:16, 38.06s/it]"
     ]
    },
    {
     "name": "stdout",
     "output_type": "stream",
     "text": [
      "Using provided template string\n",
      "Appending output format instructions to template\n",
      "Added 16 gene feature descriptions to prompt\n"
     ]
    },
    {
     "name": "stderr",
     "output_type": "stream",
     "text": [
      "INFO:cluster_analysis_20250506_153406.log:Saved progress for 5 clusters\n",
      "Processing clusters:  83%|████████▎ | 5/6 [02:55<00:32, 32.19s/it]INFO:cluster_analysis_20250506_153406.log:Accessing OpenAI API\n"
     ]
    },
    {
     "name": "stdout",
     "output_type": "stream",
     "text": [
      "Using provided template string\n",
      "Appending output format instructions to template\n",
      "Added 11 gene feature descriptions to prompt\n"
     ]
    },
    {
     "name": "stderr",
     "output_type": "stream",
     "text": [
      "INFO:cluster_analysis_20250506_153406.log:API call successful: 9370 tokens, $0.0937\n",
      "INFO:cluster_analysis_20250506_153406.log:Success for cluster 197\n",
      "Processing clusters: 100%|██████████| 6/6 [03:15<00:00, 32.62s/it]\n",
      "INFO:cluster_analysis_20250506_153406.log:Completed analysis for 6 clusters\n",
      "INFO:cluster_analysis_20250506_153721.log:Processing 6 clusters with model o4-mini\n"
     ]
    },
    {
     "name": "stdout",
     "output_type": "stream",
     "text": [
      "✓ Successfully analyzed funk with openai_reasoning o4-mini\n",
      "\n",
      "--------------------------------------------------\n",
      "Running o3-mini on funk\n",
      "--------------------------------------------------\n",
      "Loaded data with 6 rows and columns: ['cluster_id', 'genes']\n",
      "Created annotations dictionary with 140 entries from DataFrame\n"
     ]
    },
    {
     "name": "stderr",
     "output_type": "stream",
     "text": [
      "Processing clusters:   0%|          | 0/6 [00:00<?, ?it/s]INFO:cluster_analysis_20250506_153721.log:Accessing OpenAI API\n"
     ]
    },
    {
     "name": "stdout",
     "output_type": "stream",
     "text": [
      "Using provided template string\n",
      "Appending output format instructions to template\n",
      "Added 39 gene feature descriptions to prompt\n"
     ]
    },
    {
     "name": "stderr",
     "output_type": "stream",
     "text": [
      "INFO:cluster_analysis_20250506_153721.log:API call successful: 12590 tokens, $0.1259\n",
      "INFO:cluster_analysis_20250506_153721.log:Success for cluster 21\n",
      "Processing clusters:  17%|█▋        | 1/6 [00:31<02:35, 31.16s/it]INFO:cluster_analysis_20250506_153721.log:Accessing OpenAI API\n"
     ]
    },
    {
     "name": "stdout",
     "output_type": "stream",
     "text": [
      "Using provided template string\n",
      "Appending output format instructions to template\n",
      "Added 33 gene feature descriptions to prompt\n"
     ]
    },
    {
     "name": "stderr",
     "output_type": "stream",
     "text": [
      "INFO:cluster_analysis_20250506_153721.log:API call successful: 18808 tokens, $0.1881\n",
      "INFO:cluster_analysis_20250506_153721.log:Success for cluster 37\n",
      "Processing clusters:  33%|███▎      | 2/6 [00:58<01:54, 28.62s/it]INFO:cluster_analysis_20250506_153721.log:Accessing OpenAI API\n"
     ]
    },
    {
     "name": "stdout",
     "output_type": "stream",
     "text": [
      "Using provided template string\n",
      "Appending output format instructions to template\n",
      "Added 22 gene feature descriptions to prompt\n"
     ]
    },
    {
     "name": "stderr",
     "output_type": "stream",
     "text": [
      "INFO:cluster_analysis_20250506_153721.log:API call successful: 13148 tokens, $0.1315\n",
      "INFO:cluster_analysis_20250506_153721.log:Success for cluster 121\n",
      "Processing clusters:  50%|█████     | 3/6 [01:48<01:55, 38.46s/it]INFO:cluster_analysis_20250506_153721.log:Accessing OpenAI API\n"
     ]
    },
    {
     "name": "stdout",
     "output_type": "stream",
     "text": [
      "Using provided template string\n",
      "Appending output format instructions to template\n",
      "Added 19 gene feature descriptions to prompt\n"
     ]
    },
    {
     "name": "stderr",
     "output_type": "stream",
     "text": [
      "INFO:cluster_analysis_20250506_153721.log:API call successful: 7896 tokens, $0.0790\n",
      "INFO:cluster_analysis_20250506_153721.log:Success for cluster 149\n",
      "Processing clusters:  67%|██████▋   | 4/6 [02:25<01:15, 37.89s/it]INFO:cluster_analysis_20250506_153721.log:Accessing OpenAI API\n"
     ]
    },
    {
     "name": "stdout",
     "output_type": "stream",
     "text": [
      "Using provided template string\n",
      "Appending output format instructions to template\n",
      "Added 16 gene feature descriptions to prompt\n"
     ]
    },
    {
     "name": "stderr",
     "output_type": "stream",
     "text": [
      "INFO:cluster_analysis_20250506_153721.log:API call successful: 7124 tokens, $0.0712\n",
      "INFO:cluster_analysis_20250506_153721.log:Success for cluster 167\n",
      "INFO:cluster_analysis_20250506_153721.log:Saved progress for 5 clusters\n",
      "Processing clusters:  83%|████████▎ | 5/6 [02:47<00:32, 32.19s/it]INFO:cluster_analysis_20250506_153721.log:Accessing OpenAI API\n"
     ]
    },
    {
     "name": "stdout",
     "output_type": "stream",
     "text": [
      "Using provided template string\n",
      "Appending output format instructions to template\n",
      "Added 11 gene feature descriptions to prompt\n"
     ]
    },
    {
     "name": "stderr",
     "output_type": "stream",
     "text": [
      "INFO:cluster_analysis_20250506_153721.log:API call successful: 9370 tokens, $0.0937\n",
      "INFO:cluster_analysis_20250506_153721.log:Success for cluster 197\n",
      "Processing clusters: 100%|██████████| 6/6 [03:12<00:00, 32.04s/it]\n",
      "INFO:cluster_analysis_20250506_153721.log:Completed analysis for 6 clusters\n",
      "INFO:cluster_analysis_20250506_154034.log:Processing 6 clusters with model o4-mini\n"
     ]
    },
    {
     "name": "stdout",
     "output_type": "stream",
     "text": [
      "✓ Successfully analyzed funk with openai_reasoning o3-mini\n",
      "\n",
      "--------------------------------------------------\n",
      "Running gpt-4.1 on funk\n",
      "--------------------------------------------------\n",
      "Loaded data with 6 rows and columns: ['cluster_id', 'genes']\n",
      "Created annotations dictionary with 140 entries from DataFrame\n"
     ]
    },
    {
     "name": "stderr",
     "output_type": "stream",
     "text": [
      "Processing clusters:   0%|          | 0/6 [00:00<?, ?it/s]INFO:cluster_analysis_20250506_154034.log:Accessing OpenAI API\n"
     ]
    },
    {
     "name": "stdout",
     "output_type": "stream",
     "text": [
      "Using provided template string\n",
      "Appending output format instructions to template\n",
      "Added 39 gene feature descriptions to prompt\n"
     ]
    },
    {
     "name": "stderr",
     "output_type": "stream",
     "text": [
      "INFO:cluster_analysis_20250506_154034.log:API call successful: 12590 tokens, $0.1259\n",
      "INFO:cluster_analysis_20250506_154034.log:Success for cluster 21\n",
      "Processing clusters:  17%|█▋        | 1/6 [00:34<02:53, 34.62s/it]INFO:cluster_analysis_20250506_154034.log:Accessing OpenAI API\n"
     ]
    },
    {
     "name": "stdout",
     "output_type": "stream",
     "text": [
      "Using provided template string\n",
      "Appending output format instructions to template\n",
      "Added 33 gene feature descriptions to prompt\n"
     ]
    },
    {
     "name": "stderr",
     "output_type": "stream",
     "text": [
      "INFO:cluster_analysis_20250506_154034.log:API call successful: 18808 tokens, $0.1881\n",
      "INFO:cluster_analysis_20250506_154034.log:Success for cluster 37\n",
      "Processing clusters:  33%|███▎      | 2/6 [01:12<02:25, 36.50s/it]INFO:cluster_analysis_20250506_154034.log:Accessing OpenAI API\n"
     ]
    },
    {
     "name": "stdout",
     "output_type": "stream",
     "text": [
      "Using provided template string\n",
      "Appending output format instructions to template\n",
      "Added 22 gene feature descriptions to prompt\n"
     ]
    },
    {
     "name": "stderr",
     "output_type": "stream",
     "text": [
      "INFO:cluster_analysis_20250506_154034.log:API call successful: 13148 tokens, $0.1315\n",
      "INFO:cluster_analysis_20250506_154034.log:Success for cluster 121\n",
      "Processing clusters:  50%|█████     | 3/6 [02:00<02:05, 41.96s/it]INFO:cluster_analysis_20250506_154034.log:Accessing OpenAI API\n"
     ]
    },
    {
     "name": "stdout",
     "output_type": "stream",
     "text": [
      "Using provided template string\n",
      "Appending output format instructions to template\n",
      "Added 19 gene feature descriptions to prompt\n"
     ]
    },
    {
     "name": "stderr",
     "output_type": "stream",
     "text": [
      "INFO:cluster_analysis_20250506_154034.log:API call successful: 7896 tokens, $0.0790\n",
      "INFO:cluster_analysis_20250506_154034.log:Success for cluster 149\n",
      "Processing clusters:  67%|██████▋   | 4/6 [02:25<01:10, 35.06s/it]INFO:cluster_analysis_20250506_154034.log:Accessing OpenAI API\n"
     ]
    },
    {
     "name": "stdout",
     "output_type": "stream",
     "text": [
      "Using provided template string\n",
      "Appending output format instructions to template\n",
      "Added 16 gene feature descriptions to prompt\n"
     ]
    },
    {
     "name": "stderr",
     "output_type": "stream",
     "text": [
      "INFO:cluster_analysis_20250506_154034.log:API call successful: 7124 tokens, $0.0712\n",
      "INFO:cluster_analysis_20250506_154034.log:Success for cluster 167\n",
      "INFO:cluster_analysis_20250506_154034.log:Saved progress for 5 clusters\n",
      "Processing clusters:  83%|████████▎ | 5/6 [02:38<00:27, 27.27s/it]INFO:cluster_analysis_20250506_154034.log:Accessing OpenAI API\n"
     ]
    },
    {
     "name": "stdout",
     "output_type": "stream",
     "text": [
      "Using provided template string\n",
      "Appending output format instructions to template\n",
      "Added 11 gene feature descriptions to prompt\n"
     ]
    },
    {
     "name": "stderr",
     "output_type": "stream",
     "text": [
      "INFO:cluster_analysis_20250506_154034.log:API call successful: 9370 tokens, $0.0937\n",
      "INFO:cluster_analysis_20250506_154034.log:Success for cluster 197\n",
      "Processing clusters: 100%|██████████| 6/6 [02:57<00:00, 29.52s/it]\n",
      "INFO:cluster_analysis_20250506_154034.log:Completed analysis for 6 clusters\n",
      "INFO:cluster_analysis_20250506_154331.log:Processing 6 clusters with model o4-mini\n"
     ]
    },
    {
     "name": "stdout",
     "output_type": "stream",
     "text": [
      "✓ Successfully analyzed funk with openai_reasoning gpt-4.1\n",
      "\n",
      "--------------------------------------------------\n",
      "Running gpt-4o on funk\n",
      "--------------------------------------------------\n",
      "Loaded data with 6 rows and columns: ['cluster_id', 'genes']\n",
      "Created annotations dictionary with 140 entries from DataFrame\n"
     ]
    },
    {
     "name": "stderr",
     "output_type": "stream",
     "text": [
      "Processing clusters:   0%|          | 0/6 [00:00<?, ?it/s]INFO:cluster_analysis_20250506_154331.log:Accessing OpenAI API\n"
     ]
    },
    {
     "name": "stdout",
     "output_type": "stream",
     "text": [
      "Using provided template string\n",
      "Appending output format instructions to template\n",
      "Added 39 gene feature descriptions to prompt\n"
     ]
    },
    {
     "name": "stderr",
     "output_type": "stream",
     "text": [
      "INFO:cluster_analysis_20250506_154331.log:API call successful: 12590 tokens, $0.1259\n",
      "INFO:cluster_analysis_20250506_154331.log:Success for cluster 21\n",
      "Processing clusters:  17%|█▋        | 1/6 [00:32<02:44, 33.00s/it]INFO:cluster_analysis_20250506_154331.log:Accessing OpenAI API\n"
     ]
    },
    {
     "name": "stdout",
     "output_type": "stream",
     "text": [
      "Using provided template string\n",
      "Appending output format instructions to template\n",
      "Added 33 gene feature descriptions to prompt\n"
     ]
    },
    {
     "name": "stderr",
     "output_type": "stream",
     "text": [
      "INFO:cluster_analysis_20250506_154331.log:API call successful: 18808 tokens, $0.1881\n",
      "INFO:cluster_analysis_20250506_154331.log:Success for cluster 37\n",
      "Processing clusters:  33%|███▎      | 2/6 [00:58<01:54, 28.65s/it]INFO:cluster_analysis_20250506_154331.log:Accessing OpenAI API\n"
     ]
    },
    {
     "name": "stdout",
     "output_type": "stream",
     "text": [
      "Using provided template string\n",
      "Appending output format instructions to template\n",
      "Added 22 gene feature descriptions to prompt\n"
     ]
    },
    {
     "name": "stderr",
     "output_type": "stream",
     "text": [
      "INFO:cluster_analysis_20250506_154331.log:API call successful: 13148 tokens, $0.1315\n",
      "INFO:cluster_analysis_20250506_154331.log:Success for cluster 121\n",
      "Processing clusters:  50%|█████     | 3/6 [01:45<01:51, 37.03s/it]INFO:cluster_analysis_20250506_154331.log:Accessing OpenAI API\n"
     ]
    },
    {
     "name": "stdout",
     "output_type": "stream",
     "text": [
      "Using provided template string\n",
      "Appending output format instructions to template\n",
      "Added 19 gene feature descriptions to prompt\n"
     ]
    },
    {
     "name": "stderr",
     "output_type": "stream",
     "text": [
      "INFO:cluster_analysis_20250506_154331.log:API call successful: 7896 tokens, $0.0790\n",
      "INFO:cluster_analysis_20250506_154331.log:Success for cluster 149\n",
      "Processing clusters:  67%|██████▋   | 4/6 [02:07<01:02, 31.11s/it]INFO:cluster_analysis_20250506_154331.log:Accessing OpenAI API\n"
     ]
    },
    {
     "name": "stdout",
     "output_type": "stream",
     "text": [
      "Using provided template string\n",
      "Appending output format instructions to template\n",
      "Added 16 gene feature descriptions to prompt\n"
     ]
    },
    {
     "name": "stderr",
     "output_type": "stream",
     "text": [
      "INFO:cluster_analysis_20250506_154331.log:API call successful: 7124 tokens, $0.0712\n",
      "INFO:cluster_analysis_20250506_154331.log:Success for cluster 167\n",
      "INFO:cluster_analysis_20250506_154331.log:Saved progress for 5 clusters\n",
      "Processing clusters:  83%|████████▎ | 5/6 [02:26<00:26, 26.68s/it]INFO:cluster_analysis_20250506_154331.log:Accessing OpenAI API\n"
     ]
    },
    {
     "name": "stdout",
     "output_type": "stream",
     "text": [
      "Using provided template string\n",
      "Appending output format instructions to template\n",
      "Added 11 gene feature descriptions to prompt\n"
     ]
    },
    {
     "name": "stderr",
     "output_type": "stream",
     "text": [
      "Processing clusters:  83%|████████▎ | 5/6 [02:35<00:31, 31.00s/it]\n"
     ]
    },
    {
     "ename": "KeyboardInterrupt",
     "evalue": "",
     "output_type": "error",
     "traceback": [
      "\u001b[31m---------------------------------------------------------------------------\u001b[39m",
      "\u001b[31mKeyboardInterrupt\u001b[39m                         Traceback (most recent call last)",
      "\u001b[36mCell\u001b[39m\u001b[36m \u001b[39m\u001b[32mIn[14]\u001b[39m\u001b[32m, line 54\u001b[39m\n\u001b[32m     50\u001b[39m os.makedirs(RESULTS_DIR, exist_ok=\u001b[38;5;28;01mTrue\u001b[39;00m)\n\u001b[32m     52\u001b[39m \u001b[38;5;28;01mtry\u001b[39;00m:\n\u001b[32m     53\u001b[39m     \u001b[38;5;66;03m# Run the analysis with in-memory DataFrames\u001b[39;00m\n\u001b[32m---> \u001b[39m\u001b[32m54\u001b[39m     results = \u001b[43manalyze_gene_clusters\u001b[49m\u001b[43m(\u001b[49m\n\u001b[32m     55\u001b[39m \u001b[43m        \u001b[49m\u001b[38;5;66;43;03m# Input data options\u001b[39;49;00m\n\u001b[32m     56\u001b[39m \u001b[43m        \u001b[49m\u001b[43minput_df\u001b[49m\u001b[43m=\u001b[49m\u001b[43mcluster_df\u001b[49m\u001b[43m,\u001b[49m\n\u001b[32m     57\u001b[39m \u001b[43m        \u001b[49m\u001b[38;5;66;43;03m# Model and configuration\u001b[39;49;00m\n\u001b[32m     58\u001b[39m \u001b[43m        \u001b[49m\u001b[43mmodel_name\u001b[49m\u001b[43m=\u001b[49m\u001b[43mMODEL_NAME\u001b[49m\u001b[43m,\u001b[49m\n\u001b[32m     59\u001b[39m \u001b[43m        \u001b[49m\u001b[43mconfig_dict\u001b[49m\u001b[43m=\u001b[49m\u001b[43mconfig_dict\u001b[49m\u001b[43m,\u001b[49m\n\u001b[32m     60\u001b[39m \u001b[43m        \u001b[49m\u001b[38;5;66;43;03m# Analysis context and prompts\u001b[39;49;00m\n\u001b[32m     61\u001b[39m \u001b[43m        \u001b[49m\u001b[43mscreen_context\u001b[49m\u001b[43m=\u001b[49m\u001b[43mROBUST_SCREEN_CONTEXT\u001b[49m\u001b[43m,\u001b[49m\n\u001b[32m     62\u001b[39m \u001b[43m        \u001b[49m\u001b[43mcluster_analysis_prompt\u001b[49m\u001b[43m=\u001b[49m\u001b[43mROBUST_CLUSTER_PROMPT\u001b[49m\u001b[43m,\u001b[49m\n\u001b[32m     63\u001b[39m \u001b[43m        \u001b[49m\u001b[38;5;66;43;03m# Gene annotations\u001b[39;49;00m\n\u001b[32m     64\u001b[39m \u001b[43m        \u001b[49m\u001b[43mgene_annotations_df\u001b[49m\u001b[43m=\u001b[49m\u001b[43mgene_features\u001b[49m\u001b[43m,\u001b[49m\n\u001b[32m     65\u001b[39m \u001b[43m        \u001b[49m\u001b[38;5;66;43;03m# Processing options\u001b[39;49;00m\n\u001b[32m     66\u001b[39m \u001b[43m        \u001b[49m\u001b[43mbatch_size\u001b[49m\u001b[43m=\u001b[49m\u001b[32;43m1\u001b[39;49m\u001b[43m,\u001b[49m\n\u001b[32m     67\u001b[39m \u001b[43m        \u001b[49m\u001b[38;5;66;43;03m# Output options\u001b[39;49;00m\n\u001b[32m     68\u001b[39m \u001b[43m        \u001b[49m\u001b[43moutput_file\u001b[49m\u001b[43m=\u001b[49m\u001b[33;43mf\u001b[39;49m\u001b[33;43m\"\u001b[39;49m\u001b[38;5;132;43;01m{\u001b[39;49;00m\u001b[43mRESULTS_DIR\u001b[49m\u001b[38;5;132;43;01m}\u001b[39;49;00m\u001b[33;43m/\u001b[39;49m\u001b[38;5;132;43;01m{\u001b[39;49;00m\u001b[43mMODEL_NAME\u001b[49m\u001b[43m.\u001b[49m\u001b[43mreplace\u001b[49m\u001b[43m(\u001b[49m\u001b[33;43m'\u001b[39;49m\u001b[33;43m/\u001b[39;49m\u001b[33;43m'\u001b[39;49m\u001b[43m,\u001b[49m\u001b[38;5;250;43m \u001b[39;49m\u001b[33;43m'\u001b[39;49m\u001b[33;43m_\u001b[39;49m\u001b[33;43m'\u001b[39;49m\u001b[43m)\u001b[49m\u001b[38;5;132;43;01m}\u001b[39;49;00m\u001b[33;43m\"\u001b[39;49m\u001b[43m,\u001b[49m\n\u001b[32m     69\u001b[39m \u001b[43m        \u001b[49m\u001b[43msave_outputs\u001b[49m\u001b[43m=\u001b[49m\u001b[38;5;28;43;01mTrue\u001b[39;49;00m\u001b[43m,\u001b[49m\n\u001b[32m     70\u001b[39m \u001b[43m        \u001b[49m\u001b[43moutputs_to_generate\u001b[49m\u001b[43m=\u001b[49m\u001b[43m[\u001b[49m\u001b[33;43m\"\u001b[39;49m\u001b[33;43mjson\u001b[39;49m\u001b[33;43m\"\u001b[39;49m\u001b[43m,\u001b[49m\u001b[43m \u001b[49m\u001b[33;43m\"\u001b[39;49m\u001b[33;43mclusters\u001b[39;49m\u001b[33;43m\"\u001b[39;49m\u001b[43m,\u001b[49m\u001b[43m \u001b[49m\u001b[33;43m\"\u001b[39;49m\u001b[33;43mflagged_genes\u001b[39;49m\u001b[33;43m\"\u001b[39;49m\u001b[43m]\u001b[49m\u001b[43m,\u001b[49m\n\u001b[32m     71\u001b[39m \u001b[43m    \u001b[49m\u001b[43m)\u001b[49m\n\u001b[32m     73\u001b[39m     results_summary[dataset_name][\u001b[33mf\u001b[39m\u001b[33m\"\u001b[39m\u001b[38;5;132;01m{\u001b[39;00mprovider\u001b[38;5;132;01m}\u001b[39;00m\u001b[33m_\u001b[39m\u001b[38;5;132;01m{\u001b[39;00mMODEL_NAME\u001b[38;5;132;01m}\u001b[39;00m\u001b[33m\"\u001b[39m] = \u001b[33m\"\u001b[39m\u001b[33mSuccess\u001b[39m\u001b[33m\"\u001b[39m\n\u001b[32m     74\u001b[39m     \u001b[38;5;28mprint\u001b[39m(\u001b[33mf\u001b[39m\u001b[33m\"\u001b[39m\u001b[33m✓ Successfully analyzed \u001b[39m\u001b[38;5;132;01m{\u001b[39;00mdataset_name\u001b[38;5;132;01m}\u001b[39;00m\u001b[33m with \u001b[39m\u001b[38;5;132;01m{\u001b[39;00mprovider\u001b[38;5;132;01m}\u001b[39;00m\u001b[33m \u001b[39m\u001b[38;5;132;01m{\u001b[39;00mMODEL_NAME\u001b[38;5;132;01m}\u001b[39;00m\u001b[33m\"\u001b[39m)\n",
      "\u001b[36mFile \u001b[39m\u001b[32m/lab/barcheese01/mdiberna/mozzarellm/mozzarellm/utils/cluster_analyzer.py:215\u001b[39m, in \u001b[36manalyze_gene_clusters\u001b[39m\u001b[34m(input_file, input_df, input_sep, gene_column, gene_sep, cluster_id_column, model_name, config_path, config_dict, screen_context_path, screen_context, cluster_analysis_prompt_path, cluster_analysis_prompt, gene_annotations_path, gene_annotations_df, batch_size, start_idx, end_idx, output_file, save_outputs, outputs_to_generate)\u001b[39m\n\u001b[32m    212\u001b[39m     context = load_screen_context(screen_context_path)\n\u001b[32m    214\u001b[39m \u001b[38;5;66;03m# Process clusters\u001b[39;00m\n\u001b[32m--> \u001b[39m\u001b[32m215\u001b[39m results = \u001b[43mprocess_clusters\u001b[49m\u001b[43m(\u001b[49m\n\u001b[32m    216\u001b[39m \u001b[43m    \u001b[49m\u001b[43mdf\u001b[49m\u001b[43m=\u001b[49m\u001b[43mdf\u001b[49m\u001b[43m,\u001b[49m\n\u001b[32m    217\u001b[39m \u001b[43m    \u001b[49m\u001b[43mconfig\u001b[49m\u001b[43m=\u001b[49m\u001b[43mconfig\u001b[49m\u001b[43m,\u001b[49m\n\u001b[32m    218\u001b[39m \u001b[43m    \u001b[49m\u001b[43mgene_column\u001b[49m\u001b[43m=\u001b[49m\u001b[43mgene_column\u001b[49m\u001b[43m,\u001b[49m\n\u001b[32m    219\u001b[39m \u001b[43m    \u001b[49m\u001b[43mgene_sep\u001b[49m\u001b[43m=\u001b[49m\u001b[43mgene_sep\u001b[49m\u001b[43m,\u001b[49m\n\u001b[32m    220\u001b[39m \u001b[43m    \u001b[49m\u001b[43mout_file\u001b[49m\u001b[43m=\u001b[49m\u001b[43moutput_file\u001b[49m\u001b[43m \u001b[49m\u001b[38;5;28;43;01mif\u001b[39;49;00m\u001b[43m \u001b[49m\u001b[43msave_outputs\u001b[49m\u001b[43m \u001b[49m\u001b[38;5;28;43;01melse\u001b[39;49;00m\u001b[43m \u001b[49m\u001b[38;5;28;43;01mNone\u001b[39;49;00m\u001b[43m,\u001b[49m\n\u001b[32m    221\u001b[39m \u001b[43m    \u001b[49m\u001b[43mcluster_analysis_prompt_path\u001b[49m\u001b[43m=\u001b[49m\u001b[43mcluster_analysis_prompt_path\u001b[49m\u001b[43m,\u001b[49m\n\u001b[32m    222\u001b[39m \u001b[43m    \u001b[49m\u001b[43mcluster_analysis_prompt\u001b[49m\u001b[43m=\u001b[49m\u001b[43mcluster_analysis_prompt\u001b[49m\u001b[43m,\u001b[49m\n\u001b[32m    223\u001b[39m \u001b[43m    \u001b[49m\u001b[43mgene_annotations_dict\u001b[49m\u001b[43m=\u001b[49m\u001b[43mannotations\u001b[49m\u001b[43m,\u001b[49m\n\u001b[32m    224\u001b[39m \u001b[43m    \u001b[49m\u001b[43mscreen_context\u001b[49m\u001b[43m=\u001b[49m\u001b[43mcontext\u001b[49m\u001b[43m,\u001b[49m\n\u001b[32m    225\u001b[39m \u001b[43m    \u001b[49m\u001b[43mbatch_size\u001b[49m\u001b[43m=\u001b[49m\u001b[43mbatch_size\u001b[49m\u001b[43m,\u001b[49m\n\u001b[32m    226\u001b[39m \u001b[43m    \u001b[49m\u001b[43mstart_idx\u001b[49m\u001b[43m=\u001b[49m\u001b[43mstart_idx\u001b[49m\u001b[43m,\u001b[49m\n\u001b[32m    227\u001b[39m \u001b[43m    \u001b[49m\u001b[43mend_idx\u001b[49m\u001b[43m=\u001b[49m\u001b[43mend_idx\u001b[49m\u001b[43m,\u001b[49m\n\u001b[32m    228\u001b[39m \u001b[43m    \u001b[49m\u001b[43mcluster_id_column\u001b[49m\u001b[43m=\u001b[49m\u001b[43mcluster_id_column\u001b[49m\u001b[43m,\u001b[49m\n\u001b[32m    229\u001b[39m \u001b[43m    \u001b[49m\u001b[43msave_outputs\u001b[49m\u001b[43m=\u001b[49m\u001b[43msave_outputs\u001b[49m\u001b[43m,\u001b[49m\n\u001b[32m    230\u001b[39m \u001b[43m    \u001b[49m\u001b[43moutputs_to_generate\u001b[49m\u001b[43m=\u001b[49m\u001b[43moutputs_to_generate\u001b[49m\u001b[43m,\u001b[49m\n\u001b[32m    231\u001b[39m \u001b[43m\u001b[49m\u001b[43m)\u001b[49m\n\u001b[32m    233\u001b[39m \u001b[38;5;28;01mreturn\u001b[39;00m results\n",
      "\u001b[36mFile \u001b[39m\u001b[32m/lab/barcheese01/mdiberna/mozzarellm/mozzarellm/utils/cluster_analyzer.py:356\u001b[39m, in \u001b[36mprocess_clusters\u001b[39m\u001b[34m(df, config, gene_column, gene_sep, out_file, cluster_analysis_prompt_path, cluster_analysis_prompt, gene_annotations_dict, screen_context, batch_size, start_idx, end_idx, log_name, use_tqdm, cluster_id_column, save_outputs, outputs_to_generate)\u001b[39m\n\u001b[32m    346\u001b[39m \u001b[38;5;66;03m# Create prompt and query LLM\u001b[39;00m\n\u001b[32m    347\u001b[39m prompt = make_cluster_analysis_prompt(\n\u001b[32m    348\u001b[39m     cluster_id,\n\u001b[32m    349\u001b[39m     genes,\n\u001b[32m   (...)\u001b[39m\u001b[32m    353\u001b[39m     template_string=cluster_analysis_prompt,  \u001b[38;5;66;03m# Pass the string template if provided\u001b[39;00m\n\u001b[32m    354\u001b[39m )\n\u001b[32m--> \u001b[39m\u001b[32m356\u001b[39m analysis, error = \u001b[43mquery_llm\u001b[49m\u001b[43m(\u001b[49m\n\u001b[32m    357\u001b[39m \u001b[43m    \u001b[49m\u001b[43mcontext\u001b[49m\u001b[43m,\u001b[49m\n\u001b[32m    358\u001b[39m \u001b[43m    \u001b[49m\u001b[43mprompt\u001b[49m\u001b[43m,\u001b[49m\n\u001b[32m    359\u001b[39m \u001b[43m    \u001b[49m\u001b[43mmodel\u001b[49m\u001b[43m,\u001b[49m\n\u001b[32m    360\u001b[39m \u001b[43m    \u001b[49m\u001b[43mtemperature\u001b[49m\u001b[43m,\u001b[49m\n\u001b[32m    361\u001b[39m \u001b[43m    \u001b[49m\u001b[43mmax_tokens\u001b[49m\u001b[43m,\u001b[49m\n\u001b[32m    362\u001b[39m \u001b[43m    \u001b[49m\u001b[43mrate_per_token\u001b[49m\u001b[43m,\u001b[49m\n\u001b[32m    363\u001b[39m \u001b[43m    \u001b[49m\u001b[43mlog_file\u001b[49m\u001b[43m,\u001b[49m\n\u001b[32m    364\u001b[39m \u001b[43m    \u001b[49m\u001b[43mdollar_limit\u001b[49m\u001b[43m,\u001b[49m\n\u001b[32m    365\u001b[39m \u001b[43m    \u001b[49m\u001b[43mconstant\u001b[49m\u001b[43m.\u001b[49m\u001b[43mSEED\u001b[49m\u001b[43m,\u001b[49m\n\u001b[32m    366\u001b[39m \u001b[43m\u001b[49m\u001b[43m)\u001b[49m\n\u001b[32m    368\u001b[39m \u001b[38;5;66;03m# Process the analysis if we got one\u001b[39;00m\n\u001b[32m    369\u001b[39m \u001b[38;5;28;01mif\u001b[39;00m analysis:\n\u001b[32m    370\u001b[39m     \u001b[38;5;66;03m# Parse the structured output\u001b[39;00m\n",
      "\u001b[36mFile \u001b[39m\u001b[32m/lab/barcheese01/mdiberna/mozzarellm/mozzarellm/utils/cluster_analyzer.py:557\u001b[39m, in \u001b[36mquery_llm\u001b[39m\u001b[34m(context, prompt, model, temperature, max_tokens, rate_per_token, log_file, dollar_limit, seed)\u001b[39m\n\u001b[32m    555\u001b[39m \u001b[38;5;28;01mif\u001b[39;00m model.startswith(\u001b[33m\"\u001b[39m\u001b[33mgpt\u001b[39m\u001b[33m\"\u001b[39m) \u001b[38;5;129;01mor\u001b[39;00m model.startswith(\u001b[33m\"\u001b[39m\u001b[33mo4\u001b[39m\u001b[33m\"\u001b[39m) \u001b[38;5;129;01mor\u001b[39;00m model.startswith(\u001b[33m\"\u001b[39m\u001b[33mo3\u001b[39m\u001b[33m\"\u001b[39m):\n\u001b[32m    556\u001b[39m     logger.info(\u001b[33m\"\u001b[39m\u001b[33mAccessing OpenAI API\u001b[39m\u001b[33m\"\u001b[39m)\n\u001b[32m--> \u001b[39m\u001b[32m557\u001b[39m     \u001b[38;5;28;01mreturn\u001b[39;00m \u001b[43mopenai_chat\u001b[49m\u001b[43m(\u001b[49m\n\u001b[32m    558\u001b[39m \u001b[43m        \u001b[49m\u001b[43mcontext\u001b[49m\u001b[43m,\u001b[49m\n\u001b[32m    559\u001b[39m \u001b[43m        \u001b[49m\u001b[43mprompt\u001b[49m\u001b[43m,\u001b[49m\n\u001b[32m    560\u001b[39m \u001b[43m        \u001b[49m\u001b[43mmodel\u001b[49m\u001b[43m,\u001b[49m\n\u001b[32m    561\u001b[39m \u001b[43m        \u001b[49m\u001b[43mtemperature\u001b[49m\u001b[43m,\u001b[49m\n\u001b[32m    562\u001b[39m \u001b[43m        \u001b[49m\u001b[43mmax_tokens\u001b[49m\u001b[43m,\u001b[49m\n\u001b[32m    563\u001b[39m \u001b[43m        \u001b[49m\u001b[43mrate_per_token\u001b[49m\u001b[43m,\u001b[49m\n\u001b[32m    564\u001b[39m \u001b[43m        \u001b[49m\u001b[43mlog_file\u001b[49m\u001b[43m,\u001b[49m\n\u001b[32m    565\u001b[39m \u001b[43m        \u001b[49m\u001b[43mdollar_limit\u001b[49m\u001b[43m,\u001b[49m\n\u001b[32m    566\u001b[39m \u001b[43m        \u001b[49m\u001b[43mseed\u001b[49m\u001b[43m,\u001b[49m\n\u001b[32m    567\u001b[39m \u001b[43m    \u001b[49m\u001b[43m)\u001b[49m\n\u001b[32m    568\u001b[39m \u001b[38;5;28;01melif\u001b[39;00m model.startswith(\u001b[33m\"\u001b[39m\u001b[33mgemini\u001b[39m\u001b[33m\"\u001b[39m):\n\u001b[32m    569\u001b[39m     logger.info(\u001b[33m\"\u001b[39m\u001b[33mUsing Google Gemini API\u001b[39m\u001b[33m\"\u001b[39m)\n",
      "\u001b[36mFile \u001b[39m\u001b[32m/lab/barcheese01/mdiberna/mozzarellm/mozzarellm/utils/openai_query.py:68\u001b[39m, in \u001b[36mopenai_chat\u001b[39m\u001b[34m(context, prompt, model, temperature, max_tokens, rate_per_token, log_file, dollar_limit, seed)\u001b[39m\n\u001b[32m     66\u001b[39m \u001b[38;5;28;01mfor\u001b[39;00m attempt \u001b[38;5;129;01min\u001b[39;00m \u001b[38;5;28mrange\u001b[39m(max_retries):\n\u001b[32m     67\u001b[39m     \u001b[38;5;28;01mtry\u001b[39;00m:\n\u001b[32m---> \u001b[39m\u001b[32m68\u001b[39m         response = \u001b[43mclient\u001b[49m\u001b[43m.\u001b[49m\u001b[43mchat\u001b[49m\u001b[43m.\u001b[49m\u001b[43mcompletions\u001b[49m\u001b[43m.\u001b[49m\u001b[43mcreate\u001b[49m\u001b[43m(\u001b[49m\n\u001b[32m     69\u001b[39m \u001b[43m            \u001b[49m\u001b[43mmodel\u001b[49m\u001b[43m=\u001b[49m\u001b[43mmodel\u001b[49m\u001b[43m,\u001b[49m\n\u001b[32m     70\u001b[39m \u001b[43m            \u001b[49m\u001b[43mmessages\u001b[49m\u001b[43m=\u001b[49m\u001b[43mmessages\u001b[49m\u001b[43m,\u001b[49m\n\u001b[32m     71\u001b[39m \u001b[43m            \u001b[49m\u001b[43mtemperature\u001b[49m\u001b[43m=\u001b[49m\u001b[43mtemperature\u001b[49m\u001b[43m,\u001b[49m\n\u001b[32m     72\u001b[39m \u001b[43m            \u001b[49m\u001b[43mmax_completion_tokens\u001b[49m\u001b[43m=\u001b[49m\u001b[43mmax_tokens\u001b[49m\u001b[43m,\u001b[49m\n\u001b[32m     73\u001b[39m \u001b[43m            \u001b[49m\u001b[43mseed\u001b[49m\u001b[43m=\u001b[49m\u001b[43mseed\u001b[49m\u001b[43m,\u001b[49m\n\u001b[32m     74\u001b[39m \u001b[43m        \u001b[49m\u001b[43m)\u001b[49m\n\u001b[32m     76\u001b[39m         \u001b[38;5;66;03m# Extract the analysis and fingerprint\u001b[39;00m\n\u001b[32m     77\u001b[39m         analysis_text = response.choices[\u001b[32m0\u001b[39m].message.content\n",
      "\u001b[36mFile \u001b[39m\u001b[32m/lab/barcheese01/mdiberna/miniconda3/envs/mozzarellm_editable/lib/python3.11/site-packages/openai/_utils/_utils.py:287\u001b[39m, in \u001b[36mrequired_args.<locals>.inner.<locals>.wrapper\u001b[39m\u001b[34m(*args, **kwargs)\u001b[39m\n\u001b[32m    285\u001b[39m             msg = \u001b[33mf\u001b[39m\u001b[33m\"\u001b[39m\u001b[33mMissing required argument: \u001b[39m\u001b[38;5;132;01m{\u001b[39;00mquote(missing[\u001b[32m0\u001b[39m])\u001b[38;5;132;01m}\u001b[39;00m\u001b[33m\"\u001b[39m\n\u001b[32m    286\u001b[39m     \u001b[38;5;28;01mraise\u001b[39;00m \u001b[38;5;167;01mTypeError\u001b[39;00m(msg)\n\u001b[32m--> \u001b[39m\u001b[32m287\u001b[39m \u001b[38;5;28;01mreturn\u001b[39;00m \u001b[43mfunc\u001b[49m\u001b[43m(\u001b[49m\u001b[43m*\u001b[49m\u001b[43margs\u001b[49m\u001b[43m,\u001b[49m\u001b[43m \u001b[49m\u001b[43m*\u001b[49m\u001b[43m*\u001b[49m\u001b[43mkwargs\u001b[49m\u001b[43m)\u001b[49m\n",
      "\u001b[36mFile \u001b[39m\u001b[32m/lab/barcheese01/mdiberna/miniconda3/envs/mozzarellm_editable/lib/python3.11/site-packages/openai/resources/chat/completions/completions.py:925\u001b[39m, in \u001b[36mCompletions.create\u001b[39m\u001b[34m(self, messages, model, audio, frequency_penalty, function_call, functions, logit_bias, logprobs, max_completion_tokens, max_tokens, metadata, modalities, n, parallel_tool_calls, prediction, presence_penalty, reasoning_effort, response_format, seed, service_tier, stop, store, stream, stream_options, temperature, tool_choice, tools, top_logprobs, top_p, user, web_search_options, extra_headers, extra_query, extra_body, timeout)\u001b[39m\n\u001b[32m    882\u001b[39m \u001b[38;5;129m@required_args\u001b[39m([\u001b[33m\"\u001b[39m\u001b[33mmessages\u001b[39m\u001b[33m\"\u001b[39m, \u001b[33m\"\u001b[39m\u001b[33mmodel\u001b[39m\u001b[33m\"\u001b[39m], [\u001b[33m\"\u001b[39m\u001b[33mmessages\u001b[39m\u001b[33m\"\u001b[39m, \u001b[33m\"\u001b[39m\u001b[33mmodel\u001b[39m\u001b[33m\"\u001b[39m, \u001b[33m\"\u001b[39m\u001b[33mstream\u001b[39m\u001b[33m\"\u001b[39m])\n\u001b[32m    883\u001b[39m \u001b[38;5;28;01mdef\u001b[39;00m\u001b[38;5;250m \u001b[39m\u001b[34mcreate\u001b[39m(\n\u001b[32m    884\u001b[39m     \u001b[38;5;28mself\u001b[39m,\n\u001b[32m   (...)\u001b[39m\u001b[32m    922\u001b[39m     timeout: \u001b[38;5;28mfloat\u001b[39m | httpx.Timeout | \u001b[38;5;28;01mNone\u001b[39;00m | NotGiven = NOT_GIVEN,\n\u001b[32m    923\u001b[39m ) -> ChatCompletion | Stream[ChatCompletionChunk]:\n\u001b[32m    924\u001b[39m     validate_response_format(response_format)\n\u001b[32m--> \u001b[39m\u001b[32m925\u001b[39m     \u001b[38;5;28;01mreturn\u001b[39;00m \u001b[38;5;28;43mself\u001b[39;49m\u001b[43m.\u001b[49m\u001b[43m_post\u001b[49m\u001b[43m(\u001b[49m\n\u001b[32m    926\u001b[39m \u001b[43m        \u001b[49m\u001b[33;43m\"\u001b[39;49m\u001b[33;43m/chat/completions\u001b[39;49m\u001b[33;43m\"\u001b[39;49m\u001b[43m,\u001b[49m\n\u001b[32m    927\u001b[39m \u001b[43m        \u001b[49m\u001b[43mbody\u001b[49m\u001b[43m=\u001b[49m\u001b[43mmaybe_transform\u001b[49m\u001b[43m(\u001b[49m\n\u001b[32m    928\u001b[39m \u001b[43m            \u001b[49m\u001b[43m{\u001b[49m\n\u001b[32m    929\u001b[39m \u001b[43m                \u001b[49m\u001b[33;43m\"\u001b[39;49m\u001b[33;43mmessages\u001b[39;49m\u001b[33;43m\"\u001b[39;49m\u001b[43m:\u001b[49m\u001b[43m \u001b[49m\u001b[43mmessages\u001b[49m\u001b[43m,\u001b[49m\n\u001b[32m    930\u001b[39m \u001b[43m                \u001b[49m\u001b[33;43m\"\u001b[39;49m\u001b[33;43mmodel\u001b[39;49m\u001b[33;43m\"\u001b[39;49m\u001b[43m:\u001b[49m\u001b[43m \u001b[49m\u001b[43mmodel\u001b[49m\u001b[43m,\u001b[49m\n\u001b[32m    931\u001b[39m \u001b[43m                \u001b[49m\u001b[33;43m\"\u001b[39;49m\u001b[33;43maudio\u001b[39;49m\u001b[33;43m\"\u001b[39;49m\u001b[43m:\u001b[49m\u001b[43m \u001b[49m\u001b[43maudio\u001b[49m\u001b[43m,\u001b[49m\n\u001b[32m    932\u001b[39m \u001b[43m                \u001b[49m\u001b[33;43m\"\u001b[39;49m\u001b[33;43mfrequency_penalty\u001b[39;49m\u001b[33;43m\"\u001b[39;49m\u001b[43m:\u001b[49m\u001b[43m \u001b[49m\u001b[43mfrequency_penalty\u001b[49m\u001b[43m,\u001b[49m\n\u001b[32m    933\u001b[39m \u001b[43m                \u001b[49m\u001b[33;43m\"\u001b[39;49m\u001b[33;43mfunction_call\u001b[39;49m\u001b[33;43m\"\u001b[39;49m\u001b[43m:\u001b[49m\u001b[43m \u001b[49m\u001b[43mfunction_call\u001b[49m\u001b[43m,\u001b[49m\n\u001b[32m    934\u001b[39m \u001b[43m                \u001b[49m\u001b[33;43m\"\u001b[39;49m\u001b[33;43mfunctions\u001b[39;49m\u001b[33;43m\"\u001b[39;49m\u001b[43m:\u001b[49m\u001b[43m \u001b[49m\u001b[43mfunctions\u001b[49m\u001b[43m,\u001b[49m\n\u001b[32m    935\u001b[39m \u001b[43m                \u001b[49m\u001b[33;43m\"\u001b[39;49m\u001b[33;43mlogit_bias\u001b[39;49m\u001b[33;43m\"\u001b[39;49m\u001b[43m:\u001b[49m\u001b[43m \u001b[49m\u001b[43mlogit_bias\u001b[49m\u001b[43m,\u001b[49m\n\u001b[32m    936\u001b[39m \u001b[43m                \u001b[49m\u001b[33;43m\"\u001b[39;49m\u001b[33;43mlogprobs\u001b[39;49m\u001b[33;43m\"\u001b[39;49m\u001b[43m:\u001b[49m\u001b[43m \u001b[49m\u001b[43mlogprobs\u001b[49m\u001b[43m,\u001b[49m\n\u001b[32m    937\u001b[39m \u001b[43m                \u001b[49m\u001b[33;43m\"\u001b[39;49m\u001b[33;43mmax_completion_tokens\u001b[39;49m\u001b[33;43m\"\u001b[39;49m\u001b[43m:\u001b[49m\u001b[43m \u001b[49m\u001b[43mmax_completion_tokens\u001b[49m\u001b[43m,\u001b[49m\n\u001b[32m    938\u001b[39m \u001b[43m                \u001b[49m\u001b[33;43m\"\u001b[39;49m\u001b[33;43mmax_tokens\u001b[39;49m\u001b[33;43m\"\u001b[39;49m\u001b[43m:\u001b[49m\u001b[43m \u001b[49m\u001b[43mmax_tokens\u001b[49m\u001b[43m,\u001b[49m\n\u001b[32m    939\u001b[39m \u001b[43m                \u001b[49m\u001b[33;43m\"\u001b[39;49m\u001b[33;43mmetadata\u001b[39;49m\u001b[33;43m\"\u001b[39;49m\u001b[43m:\u001b[49m\u001b[43m \u001b[49m\u001b[43mmetadata\u001b[49m\u001b[43m,\u001b[49m\n\u001b[32m    940\u001b[39m \u001b[43m                \u001b[49m\u001b[33;43m\"\u001b[39;49m\u001b[33;43mmodalities\u001b[39;49m\u001b[33;43m\"\u001b[39;49m\u001b[43m:\u001b[49m\u001b[43m \u001b[49m\u001b[43mmodalities\u001b[49m\u001b[43m,\u001b[49m\n\u001b[32m    941\u001b[39m \u001b[43m                \u001b[49m\u001b[33;43m\"\u001b[39;49m\u001b[33;43mn\u001b[39;49m\u001b[33;43m\"\u001b[39;49m\u001b[43m:\u001b[49m\u001b[43m \u001b[49m\u001b[43mn\u001b[49m\u001b[43m,\u001b[49m\n\u001b[32m    942\u001b[39m \u001b[43m                \u001b[49m\u001b[33;43m\"\u001b[39;49m\u001b[33;43mparallel_tool_calls\u001b[39;49m\u001b[33;43m\"\u001b[39;49m\u001b[43m:\u001b[49m\u001b[43m \u001b[49m\u001b[43mparallel_tool_calls\u001b[49m\u001b[43m,\u001b[49m\n\u001b[32m    943\u001b[39m \u001b[43m                \u001b[49m\u001b[33;43m\"\u001b[39;49m\u001b[33;43mprediction\u001b[39;49m\u001b[33;43m\"\u001b[39;49m\u001b[43m:\u001b[49m\u001b[43m \u001b[49m\u001b[43mprediction\u001b[49m\u001b[43m,\u001b[49m\n\u001b[32m    944\u001b[39m \u001b[43m                \u001b[49m\u001b[33;43m\"\u001b[39;49m\u001b[33;43mpresence_penalty\u001b[39;49m\u001b[33;43m\"\u001b[39;49m\u001b[43m:\u001b[49m\u001b[43m \u001b[49m\u001b[43mpresence_penalty\u001b[49m\u001b[43m,\u001b[49m\n\u001b[32m    945\u001b[39m \u001b[43m                \u001b[49m\u001b[33;43m\"\u001b[39;49m\u001b[33;43mreasoning_effort\u001b[39;49m\u001b[33;43m\"\u001b[39;49m\u001b[43m:\u001b[49m\u001b[43m \u001b[49m\u001b[43mreasoning_effort\u001b[49m\u001b[43m,\u001b[49m\n\u001b[32m    946\u001b[39m \u001b[43m                \u001b[49m\u001b[33;43m\"\u001b[39;49m\u001b[33;43mresponse_format\u001b[39;49m\u001b[33;43m\"\u001b[39;49m\u001b[43m:\u001b[49m\u001b[43m \u001b[49m\u001b[43mresponse_format\u001b[49m\u001b[43m,\u001b[49m\n\u001b[32m    947\u001b[39m \u001b[43m                \u001b[49m\u001b[33;43m\"\u001b[39;49m\u001b[33;43mseed\u001b[39;49m\u001b[33;43m\"\u001b[39;49m\u001b[43m:\u001b[49m\u001b[43m \u001b[49m\u001b[43mseed\u001b[49m\u001b[43m,\u001b[49m\n\u001b[32m    948\u001b[39m \u001b[43m                \u001b[49m\u001b[33;43m\"\u001b[39;49m\u001b[33;43mservice_tier\u001b[39;49m\u001b[33;43m\"\u001b[39;49m\u001b[43m:\u001b[49m\u001b[43m \u001b[49m\u001b[43mservice_tier\u001b[49m\u001b[43m,\u001b[49m\n\u001b[32m    949\u001b[39m \u001b[43m                \u001b[49m\u001b[33;43m\"\u001b[39;49m\u001b[33;43mstop\u001b[39;49m\u001b[33;43m\"\u001b[39;49m\u001b[43m:\u001b[49m\u001b[43m \u001b[49m\u001b[43mstop\u001b[49m\u001b[43m,\u001b[49m\n\u001b[32m    950\u001b[39m \u001b[43m                \u001b[49m\u001b[33;43m\"\u001b[39;49m\u001b[33;43mstore\u001b[39;49m\u001b[33;43m\"\u001b[39;49m\u001b[43m:\u001b[49m\u001b[43m \u001b[49m\u001b[43mstore\u001b[49m\u001b[43m,\u001b[49m\n\u001b[32m    951\u001b[39m \u001b[43m                \u001b[49m\u001b[33;43m\"\u001b[39;49m\u001b[33;43mstream\u001b[39;49m\u001b[33;43m\"\u001b[39;49m\u001b[43m:\u001b[49m\u001b[43m \u001b[49m\u001b[43mstream\u001b[49m\u001b[43m,\u001b[49m\n\u001b[32m    952\u001b[39m \u001b[43m                \u001b[49m\u001b[33;43m\"\u001b[39;49m\u001b[33;43mstream_options\u001b[39;49m\u001b[33;43m\"\u001b[39;49m\u001b[43m:\u001b[49m\u001b[43m \u001b[49m\u001b[43mstream_options\u001b[49m\u001b[43m,\u001b[49m\n\u001b[32m    953\u001b[39m \u001b[43m                \u001b[49m\u001b[33;43m\"\u001b[39;49m\u001b[33;43mtemperature\u001b[39;49m\u001b[33;43m\"\u001b[39;49m\u001b[43m:\u001b[49m\u001b[43m \u001b[49m\u001b[43mtemperature\u001b[49m\u001b[43m,\u001b[49m\n\u001b[32m    954\u001b[39m \u001b[43m                \u001b[49m\u001b[33;43m\"\u001b[39;49m\u001b[33;43mtool_choice\u001b[39;49m\u001b[33;43m\"\u001b[39;49m\u001b[43m:\u001b[49m\u001b[43m \u001b[49m\u001b[43mtool_choice\u001b[49m\u001b[43m,\u001b[49m\n\u001b[32m    955\u001b[39m \u001b[43m                \u001b[49m\u001b[33;43m\"\u001b[39;49m\u001b[33;43mtools\u001b[39;49m\u001b[33;43m\"\u001b[39;49m\u001b[43m:\u001b[49m\u001b[43m \u001b[49m\u001b[43mtools\u001b[49m\u001b[43m,\u001b[49m\n\u001b[32m    956\u001b[39m \u001b[43m                \u001b[49m\u001b[33;43m\"\u001b[39;49m\u001b[33;43mtop_logprobs\u001b[39;49m\u001b[33;43m\"\u001b[39;49m\u001b[43m:\u001b[49m\u001b[43m \u001b[49m\u001b[43mtop_logprobs\u001b[49m\u001b[43m,\u001b[49m\n\u001b[32m    957\u001b[39m \u001b[43m                \u001b[49m\u001b[33;43m\"\u001b[39;49m\u001b[33;43mtop_p\u001b[39;49m\u001b[33;43m\"\u001b[39;49m\u001b[43m:\u001b[49m\u001b[43m \u001b[49m\u001b[43mtop_p\u001b[49m\u001b[43m,\u001b[49m\n\u001b[32m    958\u001b[39m \u001b[43m                \u001b[49m\u001b[33;43m\"\u001b[39;49m\u001b[33;43muser\u001b[39;49m\u001b[33;43m\"\u001b[39;49m\u001b[43m:\u001b[49m\u001b[43m \u001b[49m\u001b[43muser\u001b[49m\u001b[43m,\u001b[49m\n\u001b[32m    959\u001b[39m \u001b[43m                \u001b[49m\u001b[33;43m\"\u001b[39;49m\u001b[33;43mweb_search_options\u001b[39;49m\u001b[33;43m\"\u001b[39;49m\u001b[43m:\u001b[49m\u001b[43m \u001b[49m\u001b[43mweb_search_options\u001b[49m\u001b[43m,\u001b[49m\n\u001b[32m    960\u001b[39m \u001b[43m            \u001b[49m\u001b[43m}\u001b[49m\u001b[43m,\u001b[49m\n\u001b[32m    961\u001b[39m \u001b[43m            \u001b[49m\u001b[43mcompletion_create_params\u001b[49m\u001b[43m.\u001b[49m\u001b[43mCompletionCreateParamsStreaming\u001b[49m\n\u001b[32m    962\u001b[39m \u001b[43m            \u001b[49m\u001b[38;5;28;43;01mif\u001b[39;49;00m\u001b[43m \u001b[49m\u001b[43mstream\u001b[49m\n\u001b[32m    963\u001b[39m \u001b[43m            \u001b[49m\u001b[38;5;28;43;01melse\u001b[39;49;00m\u001b[43m \u001b[49m\u001b[43mcompletion_create_params\u001b[49m\u001b[43m.\u001b[49m\u001b[43mCompletionCreateParamsNonStreaming\u001b[49m\u001b[43m,\u001b[49m\n\u001b[32m    964\u001b[39m \u001b[43m        \u001b[49m\u001b[43m)\u001b[49m\u001b[43m,\u001b[49m\n\u001b[32m    965\u001b[39m \u001b[43m        \u001b[49m\u001b[43moptions\u001b[49m\u001b[43m=\u001b[49m\u001b[43mmake_request_options\u001b[49m\u001b[43m(\u001b[49m\n\u001b[32m    966\u001b[39m \u001b[43m            \u001b[49m\u001b[43mextra_headers\u001b[49m\u001b[43m=\u001b[49m\u001b[43mextra_headers\u001b[49m\u001b[43m,\u001b[49m\u001b[43m \u001b[49m\u001b[43mextra_query\u001b[49m\u001b[43m=\u001b[49m\u001b[43mextra_query\u001b[49m\u001b[43m,\u001b[49m\u001b[43m \u001b[49m\u001b[43mextra_body\u001b[49m\u001b[43m=\u001b[49m\u001b[43mextra_body\u001b[49m\u001b[43m,\u001b[49m\u001b[43m \u001b[49m\u001b[43mtimeout\u001b[49m\u001b[43m=\u001b[49m\u001b[43mtimeout\u001b[49m\n\u001b[32m    967\u001b[39m \u001b[43m        \u001b[49m\u001b[43m)\u001b[49m\u001b[43m,\u001b[49m\n\u001b[32m    968\u001b[39m \u001b[43m        \u001b[49m\u001b[43mcast_to\u001b[49m\u001b[43m=\u001b[49m\u001b[43mChatCompletion\u001b[49m\u001b[43m,\u001b[49m\n\u001b[32m    969\u001b[39m \u001b[43m        \u001b[49m\u001b[43mstream\u001b[49m\u001b[43m=\u001b[49m\u001b[43mstream\u001b[49m\u001b[43m \u001b[49m\u001b[38;5;129;43;01mor\u001b[39;49;00m\u001b[43m \u001b[49m\u001b[38;5;28;43;01mFalse\u001b[39;49;00m\u001b[43m,\u001b[49m\n\u001b[32m    970\u001b[39m \u001b[43m        \u001b[49m\u001b[43mstream_cls\u001b[49m\u001b[43m=\u001b[49m\u001b[43mStream\u001b[49m\u001b[43m[\u001b[49m\u001b[43mChatCompletionChunk\u001b[49m\u001b[43m]\u001b[49m\u001b[43m,\u001b[49m\n\u001b[32m    971\u001b[39m \u001b[43m    \u001b[49m\u001b[43m)\u001b[49m\n",
      "\u001b[36mFile \u001b[39m\u001b[32m/lab/barcheese01/mdiberna/miniconda3/envs/mozzarellm_editable/lib/python3.11/site-packages/openai/_base_client.py:1239\u001b[39m, in \u001b[36mSyncAPIClient.post\u001b[39m\u001b[34m(self, path, cast_to, body, options, files, stream, stream_cls)\u001b[39m\n\u001b[32m   1225\u001b[39m \u001b[38;5;28;01mdef\u001b[39;00m\u001b[38;5;250m \u001b[39m\u001b[34mpost\u001b[39m(\n\u001b[32m   1226\u001b[39m     \u001b[38;5;28mself\u001b[39m,\n\u001b[32m   1227\u001b[39m     path: \u001b[38;5;28mstr\u001b[39m,\n\u001b[32m   (...)\u001b[39m\u001b[32m   1234\u001b[39m     stream_cls: \u001b[38;5;28mtype\u001b[39m[_StreamT] | \u001b[38;5;28;01mNone\u001b[39;00m = \u001b[38;5;28;01mNone\u001b[39;00m,\n\u001b[32m   1235\u001b[39m ) -> ResponseT | _StreamT:\n\u001b[32m   1236\u001b[39m     opts = FinalRequestOptions.construct(\n\u001b[32m   1237\u001b[39m         method=\u001b[33m\"\u001b[39m\u001b[33mpost\u001b[39m\u001b[33m\"\u001b[39m, url=path, json_data=body, files=to_httpx_files(files), **options\n\u001b[32m   1238\u001b[39m     )\n\u001b[32m-> \u001b[39m\u001b[32m1239\u001b[39m     \u001b[38;5;28;01mreturn\u001b[39;00m cast(ResponseT, \u001b[38;5;28;43mself\u001b[39;49m\u001b[43m.\u001b[49m\u001b[43mrequest\u001b[49m\u001b[43m(\u001b[49m\u001b[43mcast_to\u001b[49m\u001b[43m,\u001b[49m\u001b[43m \u001b[49m\u001b[43mopts\u001b[49m\u001b[43m,\u001b[49m\u001b[43m \u001b[49m\u001b[43mstream\u001b[49m\u001b[43m=\u001b[49m\u001b[43mstream\u001b[49m\u001b[43m,\u001b[49m\u001b[43m \u001b[49m\u001b[43mstream_cls\u001b[49m\u001b[43m=\u001b[49m\u001b[43mstream_cls\u001b[49m\u001b[43m)\u001b[49m)\n",
      "\u001b[36mFile \u001b[39m\u001b[32m/lab/barcheese01/mdiberna/miniconda3/envs/mozzarellm_editable/lib/python3.11/site-packages/openai/_base_client.py:969\u001b[39m, in \u001b[36mSyncAPIClient.request\u001b[39m\u001b[34m(self, cast_to, options, stream, stream_cls)\u001b[39m\n\u001b[32m    967\u001b[39m response = \u001b[38;5;28;01mNone\u001b[39;00m\n\u001b[32m    968\u001b[39m \u001b[38;5;28;01mtry\u001b[39;00m:\n\u001b[32m--> \u001b[39m\u001b[32m969\u001b[39m     response = \u001b[38;5;28;43mself\u001b[39;49m\u001b[43m.\u001b[49m\u001b[43m_client\u001b[49m\u001b[43m.\u001b[49m\u001b[43msend\u001b[49m\u001b[43m(\u001b[49m\n\u001b[32m    970\u001b[39m \u001b[43m        \u001b[49m\u001b[43mrequest\u001b[49m\u001b[43m,\u001b[49m\n\u001b[32m    971\u001b[39m \u001b[43m        \u001b[49m\u001b[43mstream\u001b[49m\u001b[43m=\u001b[49m\u001b[43mstream\u001b[49m\u001b[43m \u001b[49m\u001b[38;5;129;43;01mor\u001b[39;49;00m\u001b[43m \u001b[49m\u001b[38;5;28;43mself\u001b[39;49m\u001b[43m.\u001b[49m\u001b[43m_should_stream_response_body\u001b[49m\u001b[43m(\u001b[49m\u001b[43mrequest\u001b[49m\u001b[43m=\u001b[49m\u001b[43mrequest\u001b[49m\u001b[43m)\u001b[49m\u001b[43m,\u001b[49m\n\u001b[32m    972\u001b[39m \u001b[43m        \u001b[49m\u001b[43m*\u001b[49m\u001b[43m*\u001b[49m\u001b[43mkwargs\u001b[49m\u001b[43m,\u001b[49m\n\u001b[32m    973\u001b[39m \u001b[43m    \u001b[49m\u001b[43m)\u001b[49m\n\u001b[32m    974\u001b[39m \u001b[38;5;28;01mexcept\u001b[39;00m httpx.TimeoutException \u001b[38;5;28;01mas\u001b[39;00m err:\n\u001b[32m    975\u001b[39m     log.debug(\u001b[33m\"\u001b[39m\u001b[33mEncountered httpx.TimeoutException\u001b[39m\u001b[33m\"\u001b[39m, exc_info=\u001b[38;5;28;01mTrue\u001b[39;00m)\n",
      "\u001b[36mFile \u001b[39m\u001b[32m/lab/barcheese01/mdiberna/miniconda3/envs/mozzarellm_editable/lib/python3.11/site-packages/httpx/_client.py:914\u001b[39m, in \u001b[36mClient.send\u001b[39m\u001b[34m(self, request, stream, auth, follow_redirects)\u001b[39m\n\u001b[32m    910\u001b[39m \u001b[38;5;28mself\u001b[39m._set_timeout(request)\n\u001b[32m    912\u001b[39m auth = \u001b[38;5;28mself\u001b[39m._build_request_auth(request, auth)\n\u001b[32m--> \u001b[39m\u001b[32m914\u001b[39m response = \u001b[38;5;28;43mself\u001b[39;49m\u001b[43m.\u001b[49m\u001b[43m_send_handling_auth\u001b[49m\u001b[43m(\u001b[49m\n\u001b[32m    915\u001b[39m \u001b[43m    \u001b[49m\u001b[43mrequest\u001b[49m\u001b[43m,\u001b[49m\n\u001b[32m    916\u001b[39m \u001b[43m    \u001b[49m\u001b[43mauth\u001b[49m\u001b[43m=\u001b[49m\u001b[43mauth\u001b[49m\u001b[43m,\u001b[49m\n\u001b[32m    917\u001b[39m \u001b[43m    \u001b[49m\u001b[43mfollow_redirects\u001b[49m\u001b[43m=\u001b[49m\u001b[43mfollow_redirects\u001b[49m\u001b[43m,\u001b[49m\n\u001b[32m    918\u001b[39m \u001b[43m    \u001b[49m\u001b[43mhistory\u001b[49m\u001b[43m=\u001b[49m\u001b[43m[\u001b[49m\u001b[43m]\u001b[49m\u001b[43m,\u001b[49m\n\u001b[32m    919\u001b[39m \u001b[43m\u001b[49m\u001b[43m)\u001b[49m\n\u001b[32m    920\u001b[39m \u001b[38;5;28;01mtry\u001b[39;00m:\n\u001b[32m    921\u001b[39m     \u001b[38;5;28;01mif\u001b[39;00m \u001b[38;5;129;01mnot\u001b[39;00m stream:\n",
      "\u001b[36mFile \u001b[39m\u001b[32m/lab/barcheese01/mdiberna/miniconda3/envs/mozzarellm_editable/lib/python3.11/site-packages/httpx/_client.py:942\u001b[39m, in \u001b[36mClient._send_handling_auth\u001b[39m\u001b[34m(self, request, auth, follow_redirects, history)\u001b[39m\n\u001b[32m    939\u001b[39m request = \u001b[38;5;28mnext\u001b[39m(auth_flow)\n\u001b[32m    941\u001b[39m \u001b[38;5;28;01mwhile\u001b[39;00m \u001b[38;5;28;01mTrue\u001b[39;00m:\n\u001b[32m--> \u001b[39m\u001b[32m942\u001b[39m     response = \u001b[38;5;28;43mself\u001b[39;49m\u001b[43m.\u001b[49m\u001b[43m_send_handling_redirects\u001b[49m\u001b[43m(\u001b[49m\n\u001b[32m    943\u001b[39m \u001b[43m        \u001b[49m\u001b[43mrequest\u001b[49m\u001b[43m,\u001b[49m\n\u001b[32m    944\u001b[39m \u001b[43m        \u001b[49m\u001b[43mfollow_redirects\u001b[49m\u001b[43m=\u001b[49m\u001b[43mfollow_redirects\u001b[49m\u001b[43m,\u001b[49m\n\u001b[32m    945\u001b[39m \u001b[43m        \u001b[49m\u001b[43mhistory\u001b[49m\u001b[43m=\u001b[49m\u001b[43mhistory\u001b[49m\u001b[43m,\u001b[49m\n\u001b[32m    946\u001b[39m \u001b[43m    \u001b[49m\u001b[43m)\u001b[49m\n\u001b[32m    947\u001b[39m     \u001b[38;5;28;01mtry\u001b[39;00m:\n\u001b[32m    948\u001b[39m         \u001b[38;5;28;01mtry\u001b[39;00m:\n",
      "\u001b[36mFile \u001b[39m\u001b[32m/lab/barcheese01/mdiberna/miniconda3/envs/mozzarellm_editable/lib/python3.11/site-packages/httpx/_client.py:979\u001b[39m, in \u001b[36mClient._send_handling_redirects\u001b[39m\u001b[34m(self, request, follow_redirects, history)\u001b[39m\n\u001b[32m    976\u001b[39m \u001b[38;5;28;01mfor\u001b[39;00m hook \u001b[38;5;129;01min\u001b[39;00m \u001b[38;5;28mself\u001b[39m._event_hooks[\u001b[33m\"\u001b[39m\u001b[33mrequest\u001b[39m\u001b[33m\"\u001b[39m]:\n\u001b[32m    977\u001b[39m     hook(request)\n\u001b[32m--> \u001b[39m\u001b[32m979\u001b[39m response = \u001b[38;5;28;43mself\u001b[39;49m\u001b[43m.\u001b[49m\u001b[43m_send_single_request\u001b[49m\u001b[43m(\u001b[49m\u001b[43mrequest\u001b[49m\u001b[43m)\u001b[49m\n\u001b[32m    980\u001b[39m \u001b[38;5;28;01mtry\u001b[39;00m:\n\u001b[32m    981\u001b[39m     \u001b[38;5;28;01mfor\u001b[39;00m hook \u001b[38;5;129;01min\u001b[39;00m \u001b[38;5;28mself\u001b[39m._event_hooks[\u001b[33m\"\u001b[39m\u001b[33mresponse\u001b[39m\u001b[33m\"\u001b[39m]:\n",
      "\u001b[36mFile \u001b[39m\u001b[32m/lab/barcheese01/mdiberna/miniconda3/envs/mozzarellm_editable/lib/python3.11/site-packages/httpx/_client.py:1014\u001b[39m, in \u001b[36mClient._send_single_request\u001b[39m\u001b[34m(self, request)\u001b[39m\n\u001b[32m   1009\u001b[39m     \u001b[38;5;28;01mraise\u001b[39;00m \u001b[38;5;167;01mRuntimeError\u001b[39;00m(\n\u001b[32m   1010\u001b[39m         \u001b[33m\"\u001b[39m\u001b[33mAttempted to send an async request with a sync Client instance.\u001b[39m\u001b[33m\"\u001b[39m\n\u001b[32m   1011\u001b[39m     )\n\u001b[32m   1013\u001b[39m \u001b[38;5;28;01mwith\u001b[39;00m request_context(request=request):\n\u001b[32m-> \u001b[39m\u001b[32m1014\u001b[39m     response = \u001b[43mtransport\u001b[49m\u001b[43m.\u001b[49m\u001b[43mhandle_request\u001b[49m\u001b[43m(\u001b[49m\u001b[43mrequest\u001b[49m\u001b[43m)\u001b[49m\n\u001b[32m   1016\u001b[39m \u001b[38;5;28;01massert\u001b[39;00m \u001b[38;5;28misinstance\u001b[39m(response.stream, SyncByteStream)\n\u001b[32m   1018\u001b[39m response.request = request\n",
      "\u001b[36mFile \u001b[39m\u001b[32m/lab/barcheese01/mdiberna/miniconda3/envs/mozzarellm_editable/lib/python3.11/site-packages/httpx/_transports/default.py:250\u001b[39m, in \u001b[36mHTTPTransport.handle_request\u001b[39m\u001b[34m(self, request)\u001b[39m\n\u001b[32m    237\u001b[39m req = httpcore.Request(\n\u001b[32m    238\u001b[39m     method=request.method,\n\u001b[32m    239\u001b[39m     url=httpcore.URL(\n\u001b[32m   (...)\u001b[39m\u001b[32m    247\u001b[39m     extensions=request.extensions,\n\u001b[32m    248\u001b[39m )\n\u001b[32m    249\u001b[39m \u001b[38;5;28;01mwith\u001b[39;00m map_httpcore_exceptions():\n\u001b[32m--> \u001b[39m\u001b[32m250\u001b[39m     resp = \u001b[38;5;28;43mself\u001b[39;49m\u001b[43m.\u001b[49m\u001b[43m_pool\u001b[49m\u001b[43m.\u001b[49m\u001b[43mhandle_request\u001b[49m\u001b[43m(\u001b[49m\u001b[43mreq\u001b[49m\u001b[43m)\u001b[49m\n\u001b[32m    252\u001b[39m \u001b[38;5;28;01massert\u001b[39;00m \u001b[38;5;28misinstance\u001b[39m(resp.stream, typing.Iterable)\n\u001b[32m    254\u001b[39m \u001b[38;5;28;01mreturn\u001b[39;00m Response(\n\u001b[32m    255\u001b[39m     status_code=resp.status,\n\u001b[32m    256\u001b[39m     headers=resp.headers,\n\u001b[32m    257\u001b[39m     stream=ResponseStream(resp.stream),\n\u001b[32m    258\u001b[39m     extensions=resp.extensions,\n\u001b[32m    259\u001b[39m )\n",
      "\u001b[36mFile \u001b[39m\u001b[32m/lab/barcheese01/mdiberna/miniconda3/envs/mozzarellm_editable/lib/python3.11/site-packages/httpcore/_sync/connection_pool.py:256\u001b[39m, in \u001b[36mConnectionPool.handle_request\u001b[39m\u001b[34m(self, request)\u001b[39m\n\u001b[32m    253\u001b[39m         closing = \u001b[38;5;28mself\u001b[39m._assign_requests_to_connections()\n\u001b[32m    255\u001b[39m     \u001b[38;5;28mself\u001b[39m._close_connections(closing)\n\u001b[32m--> \u001b[39m\u001b[32m256\u001b[39m     \u001b[38;5;28;01mraise\u001b[39;00m exc \u001b[38;5;28;01mfrom\u001b[39;00m\u001b[38;5;250m \u001b[39m\u001b[38;5;28;01mNone\u001b[39;00m\n\u001b[32m    258\u001b[39m \u001b[38;5;66;03m# Return the response. Note that in this case we still have to manage\u001b[39;00m\n\u001b[32m    259\u001b[39m \u001b[38;5;66;03m# the point at which the response is closed.\u001b[39;00m\n\u001b[32m    260\u001b[39m \u001b[38;5;28;01massert\u001b[39;00m \u001b[38;5;28misinstance\u001b[39m(response.stream, typing.Iterable)\n",
      "\u001b[36mFile \u001b[39m\u001b[32m/lab/barcheese01/mdiberna/miniconda3/envs/mozzarellm_editable/lib/python3.11/site-packages/httpcore/_sync/connection_pool.py:236\u001b[39m, in \u001b[36mConnectionPool.handle_request\u001b[39m\u001b[34m(self, request)\u001b[39m\n\u001b[32m    232\u001b[39m connection = pool_request.wait_for_connection(timeout=timeout)\n\u001b[32m    234\u001b[39m \u001b[38;5;28;01mtry\u001b[39;00m:\n\u001b[32m    235\u001b[39m     \u001b[38;5;66;03m# Send the request on the assigned connection.\u001b[39;00m\n\u001b[32m--> \u001b[39m\u001b[32m236\u001b[39m     response = \u001b[43mconnection\u001b[49m\u001b[43m.\u001b[49m\u001b[43mhandle_request\u001b[49m\u001b[43m(\u001b[49m\n\u001b[32m    237\u001b[39m \u001b[43m        \u001b[49m\u001b[43mpool_request\u001b[49m\u001b[43m.\u001b[49m\u001b[43mrequest\u001b[49m\n\u001b[32m    238\u001b[39m \u001b[43m    \u001b[49m\u001b[43m)\u001b[49m\n\u001b[32m    239\u001b[39m \u001b[38;5;28;01mexcept\u001b[39;00m ConnectionNotAvailable:\n\u001b[32m    240\u001b[39m     \u001b[38;5;66;03m# In some cases a connection may initially be available to\u001b[39;00m\n\u001b[32m    241\u001b[39m     \u001b[38;5;66;03m# handle a request, but then become unavailable.\u001b[39;00m\n\u001b[32m    242\u001b[39m     \u001b[38;5;66;03m#\u001b[39;00m\n\u001b[32m    243\u001b[39m     \u001b[38;5;66;03m# In this case we clear the connection and try again.\u001b[39;00m\n\u001b[32m    244\u001b[39m     pool_request.clear_connection()\n",
      "\u001b[36mFile \u001b[39m\u001b[32m/lab/barcheese01/mdiberna/miniconda3/envs/mozzarellm_editable/lib/python3.11/site-packages/httpcore/_sync/connection.py:103\u001b[39m, in \u001b[36mHTTPConnection.handle_request\u001b[39m\u001b[34m(self, request)\u001b[39m\n\u001b[32m    100\u001b[39m     \u001b[38;5;28mself\u001b[39m._connect_failed = \u001b[38;5;28;01mTrue\u001b[39;00m\n\u001b[32m    101\u001b[39m     \u001b[38;5;28;01mraise\u001b[39;00m exc\n\u001b[32m--> \u001b[39m\u001b[32m103\u001b[39m \u001b[38;5;28;01mreturn\u001b[39;00m \u001b[38;5;28;43mself\u001b[39;49m\u001b[43m.\u001b[49m\u001b[43m_connection\u001b[49m\u001b[43m.\u001b[49m\u001b[43mhandle_request\u001b[49m\u001b[43m(\u001b[49m\u001b[43mrequest\u001b[49m\u001b[43m)\u001b[49m\n",
      "\u001b[36mFile \u001b[39m\u001b[32m/lab/barcheese01/mdiberna/miniconda3/envs/mozzarellm_editable/lib/python3.11/site-packages/httpcore/_sync/http11.py:136\u001b[39m, in \u001b[36mHTTP11Connection.handle_request\u001b[39m\u001b[34m(self, request)\u001b[39m\n\u001b[32m    134\u001b[39m     \u001b[38;5;28;01mwith\u001b[39;00m Trace(\u001b[33m\"\u001b[39m\u001b[33mresponse_closed\u001b[39m\u001b[33m\"\u001b[39m, logger, request) \u001b[38;5;28;01mas\u001b[39;00m trace:\n\u001b[32m    135\u001b[39m         \u001b[38;5;28mself\u001b[39m._response_closed()\n\u001b[32m--> \u001b[39m\u001b[32m136\u001b[39m \u001b[38;5;28;01mraise\u001b[39;00m exc\n",
      "\u001b[36mFile \u001b[39m\u001b[32m/lab/barcheese01/mdiberna/miniconda3/envs/mozzarellm_editable/lib/python3.11/site-packages/httpcore/_sync/http11.py:106\u001b[39m, in \u001b[36mHTTP11Connection.handle_request\u001b[39m\u001b[34m(self, request)\u001b[39m\n\u001b[32m     95\u001b[39m     \u001b[38;5;28;01mpass\u001b[39;00m\n\u001b[32m     97\u001b[39m \u001b[38;5;28;01mwith\u001b[39;00m Trace(\n\u001b[32m     98\u001b[39m     \u001b[33m\"\u001b[39m\u001b[33mreceive_response_headers\u001b[39m\u001b[33m\"\u001b[39m, logger, request, kwargs\n\u001b[32m     99\u001b[39m ) \u001b[38;5;28;01mas\u001b[39;00m trace:\n\u001b[32m    100\u001b[39m     (\n\u001b[32m    101\u001b[39m         http_version,\n\u001b[32m    102\u001b[39m         status,\n\u001b[32m    103\u001b[39m         reason_phrase,\n\u001b[32m    104\u001b[39m         headers,\n\u001b[32m    105\u001b[39m         trailing_data,\n\u001b[32m--> \u001b[39m\u001b[32m106\u001b[39m     ) = \u001b[38;5;28;43mself\u001b[39;49m\u001b[43m.\u001b[49m\u001b[43m_receive_response_headers\u001b[49m\u001b[43m(\u001b[49m\u001b[43m*\u001b[49m\u001b[43m*\u001b[49m\u001b[43mkwargs\u001b[49m\u001b[43m)\u001b[49m\n\u001b[32m    107\u001b[39m     trace.return_value = (\n\u001b[32m    108\u001b[39m         http_version,\n\u001b[32m    109\u001b[39m         status,\n\u001b[32m    110\u001b[39m         reason_phrase,\n\u001b[32m    111\u001b[39m         headers,\n\u001b[32m    112\u001b[39m     )\n\u001b[32m    114\u001b[39m network_stream = \u001b[38;5;28mself\u001b[39m._network_stream\n",
      "\u001b[36mFile \u001b[39m\u001b[32m/lab/barcheese01/mdiberna/miniconda3/envs/mozzarellm_editable/lib/python3.11/site-packages/httpcore/_sync/http11.py:177\u001b[39m, in \u001b[36mHTTP11Connection._receive_response_headers\u001b[39m\u001b[34m(self, request)\u001b[39m\n\u001b[32m    174\u001b[39m timeout = timeouts.get(\u001b[33m\"\u001b[39m\u001b[33mread\u001b[39m\u001b[33m\"\u001b[39m, \u001b[38;5;28;01mNone\u001b[39;00m)\n\u001b[32m    176\u001b[39m \u001b[38;5;28;01mwhile\u001b[39;00m \u001b[38;5;28;01mTrue\u001b[39;00m:\n\u001b[32m--> \u001b[39m\u001b[32m177\u001b[39m     event = \u001b[38;5;28;43mself\u001b[39;49m\u001b[43m.\u001b[49m\u001b[43m_receive_event\u001b[49m\u001b[43m(\u001b[49m\u001b[43mtimeout\u001b[49m\u001b[43m=\u001b[49m\u001b[43mtimeout\u001b[49m\u001b[43m)\u001b[49m\n\u001b[32m    178\u001b[39m     \u001b[38;5;28;01mif\u001b[39;00m \u001b[38;5;28misinstance\u001b[39m(event, h11.Response):\n\u001b[32m    179\u001b[39m         \u001b[38;5;28;01mbreak\u001b[39;00m\n",
      "\u001b[36mFile \u001b[39m\u001b[32m/lab/barcheese01/mdiberna/miniconda3/envs/mozzarellm_editable/lib/python3.11/site-packages/httpcore/_sync/http11.py:217\u001b[39m, in \u001b[36mHTTP11Connection._receive_event\u001b[39m\u001b[34m(self, timeout)\u001b[39m\n\u001b[32m    214\u001b[39m     event = \u001b[38;5;28mself\u001b[39m._h11_state.next_event()\n\u001b[32m    216\u001b[39m \u001b[38;5;28;01mif\u001b[39;00m event \u001b[38;5;129;01mis\u001b[39;00m h11.NEED_DATA:\n\u001b[32m--> \u001b[39m\u001b[32m217\u001b[39m     data = \u001b[38;5;28;43mself\u001b[39;49m\u001b[43m.\u001b[49m\u001b[43m_network_stream\u001b[49m\u001b[43m.\u001b[49m\u001b[43mread\u001b[49m\u001b[43m(\u001b[49m\n\u001b[32m    218\u001b[39m \u001b[43m        \u001b[49m\u001b[38;5;28;43mself\u001b[39;49m\u001b[43m.\u001b[49m\u001b[43mREAD_NUM_BYTES\u001b[49m\u001b[43m,\u001b[49m\u001b[43m \u001b[49m\u001b[43mtimeout\u001b[49m\u001b[43m=\u001b[49m\u001b[43mtimeout\u001b[49m\n\u001b[32m    219\u001b[39m \u001b[43m    \u001b[49m\u001b[43m)\u001b[49m\n\u001b[32m    221\u001b[39m     \u001b[38;5;66;03m# If we feed this case through h11 we'll raise an exception like:\u001b[39;00m\n\u001b[32m    222\u001b[39m     \u001b[38;5;66;03m#\u001b[39;00m\n\u001b[32m    223\u001b[39m     \u001b[38;5;66;03m#     httpcore.RemoteProtocolError: can't handle event type\u001b[39;00m\n\u001b[32m   (...)\u001b[39m\u001b[32m    227\u001b[39m     \u001b[38;5;66;03m# perspective. Instead we handle this case distinctly and treat\u001b[39;00m\n\u001b[32m    228\u001b[39m     \u001b[38;5;66;03m# it as a ConnectError.\u001b[39;00m\n\u001b[32m    229\u001b[39m     \u001b[38;5;28;01mif\u001b[39;00m data == \u001b[33mb\u001b[39m\u001b[33m\"\u001b[39m\u001b[33m\"\u001b[39m \u001b[38;5;129;01mand\u001b[39;00m \u001b[38;5;28mself\u001b[39m._h11_state.their_state == h11.SEND_RESPONSE:\n",
      "\u001b[36mFile \u001b[39m\u001b[32m/lab/barcheese01/mdiberna/miniconda3/envs/mozzarellm_editable/lib/python3.11/site-packages/httpcore/_backends/sync.py:128\u001b[39m, in \u001b[36mSyncStream.read\u001b[39m\u001b[34m(self, max_bytes, timeout)\u001b[39m\n\u001b[32m    126\u001b[39m \u001b[38;5;28;01mwith\u001b[39;00m map_exceptions(exc_map):\n\u001b[32m    127\u001b[39m     \u001b[38;5;28mself\u001b[39m._sock.settimeout(timeout)\n\u001b[32m--> \u001b[39m\u001b[32m128\u001b[39m     \u001b[38;5;28;01mreturn\u001b[39;00m \u001b[38;5;28;43mself\u001b[39;49m\u001b[43m.\u001b[49m\u001b[43m_sock\u001b[49m\u001b[43m.\u001b[49m\u001b[43mrecv\u001b[49m\u001b[43m(\u001b[49m\u001b[43mmax_bytes\u001b[49m\u001b[43m)\u001b[49m\n",
      "\u001b[36mFile \u001b[39m\u001b[32m/lab/barcheese01/mdiberna/miniconda3/envs/mozzarellm_editable/lib/python3.11/ssl.py:1295\u001b[39m, in \u001b[36mSSLSocket.recv\u001b[39m\u001b[34m(self, buflen, flags)\u001b[39m\n\u001b[32m   1291\u001b[39m     \u001b[38;5;28;01mif\u001b[39;00m flags != \u001b[32m0\u001b[39m:\n\u001b[32m   1292\u001b[39m         \u001b[38;5;28;01mraise\u001b[39;00m \u001b[38;5;167;01mValueError\u001b[39;00m(\n\u001b[32m   1293\u001b[39m             \u001b[33m\"\u001b[39m\u001b[33mnon-zero flags not allowed in calls to recv() on \u001b[39m\u001b[38;5;132;01m%s\u001b[39;00m\u001b[33m\"\u001b[39m %\n\u001b[32m   1294\u001b[39m             \u001b[38;5;28mself\u001b[39m.\u001b[34m__class__\u001b[39m)\n\u001b[32m-> \u001b[39m\u001b[32m1295\u001b[39m     \u001b[38;5;28;01mreturn\u001b[39;00m \u001b[38;5;28;43mself\u001b[39;49m\u001b[43m.\u001b[49m\u001b[43mread\u001b[49m\u001b[43m(\u001b[49m\u001b[43mbuflen\u001b[49m\u001b[43m)\u001b[49m\n\u001b[32m   1296\u001b[39m \u001b[38;5;28;01melse\u001b[39;00m:\n\u001b[32m   1297\u001b[39m     \u001b[38;5;28;01mreturn\u001b[39;00m \u001b[38;5;28msuper\u001b[39m().recv(buflen, flags)\n",
      "\u001b[36mFile \u001b[39m\u001b[32m/lab/barcheese01/mdiberna/miniconda3/envs/mozzarellm_editable/lib/python3.11/ssl.py:1168\u001b[39m, in \u001b[36mSSLSocket.read\u001b[39m\u001b[34m(self, len, buffer)\u001b[39m\n\u001b[32m   1166\u001b[39m         \u001b[38;5;28;01mreturn\u001b[39;00m \u001b[38;5;28mself\u001b[39m._sslobj.read(\u001b[38;5;28mlen\u001b[39m, buffer)\n\u001b[32m   1167\u001b[39m     \u001b[38;5;28;01melse\u001b[39;00m:\n\u001b[32m-> \u001b[39m\u001b[32m1168\u001b[39m         \u001b[38;5;28;01mreturn\u001b[39;00m \u001b[38;5;28;43mself\u001b[39;49m\u001b[43m.\u001b[49m\u001b[43m_sslobj\u001b[49m\u001b[43m.\u001b[49m\u001b[43mread\u001b[49m\u001b[43m(\u001b[49m\u001b[38;5;28;43mlen\u001b[39;49m\u001b[43m)\u001b[49m\n\u001b[32m   1169\u001b[39m \u001b[38;5;28;01mexcept\u001b[39;00m SSLError \u001b[38;5;28;01mas\u001b[39;00m x:\n\u001b[32m   1170\u001b[39m     \u001b[38;5;28;01mif\u001b[39;00m x.args[\u001b[32m0\u001b[39m] == SSL_ERROR_EOF \u001b[38;5;129;01mand\u001b[39;00m \u001b[38;5;28mself\u001b[39m.suppress_ragged_eofs:\n",
      "\u001b[31mKeyboardInterrupt\u001b[39m: "
     ]
    }
   ],
   "source": [
    "# Define the models and configurations to test\n",
    "models_to_test = {\n",
    "    \"openai_reasoning\": {\n",
    "        \"models\": [\"o4-mini\", \"o3-mini\"],\n",
    "        \"config\": DEFAULT_OPENAI_REASONING_CONFIG\n",
    "    },\n",
    "    \"openai\": {\n",
    "        \"models\": [\"gpt-4.1\", \"gpt-4o\"],\n",
    "        \"config\": DEFAULT_OPENAI_CONFIG\n",
    "    },\n",
    "    \"anthropic\": {\n",
    "        \"models\": [\"claude-3-7-sonnet-20250219\", \"claude-3-5-haiku-20241022\"],\n",
    "        \"config\": DEFAULT_ANTHROPIC_CONFIG\n",
    "    },\n",
    "    \"gemini\": {\n",
    "        \"models\": [\"gemini-2.5-pro-preview-03-25\", \"gemini-2.5-flash-preview-04-17\"],\n",
    "        \"config\": DEFAULT_GEMINI_CONFIG\n",
    "    }\n",
    "}\n",
    "\n",
    "# Dictionary to track results\n",
    "results_summary = {}\n",
    "\n",
    "# Loop through datasets\n",
    "for dataset_name in [\"funk\", 'wainberg', 'schaffer']:\n",
    "    print(f\"\\n{'='*60}\")\n",
    "    print(f\"Processing dataset: {dataset_name}\")\n",
    "    print(f\"{'='*60}\")\n",
    "    \n",
    "    results_summary[dataset_name] = {}\n",
    "    \n",
    "    # Get the processed data from our dictionary\n",
    "    cluster_df = processed_data[dataset_name][\"clusters\"]\n",
    "    gene_features = processed_data[dataset_name][\"gene_features\"]\n",
    "    \n",
    "    # Loop through each configuration and model\n",
    "    for provider, provider_info in models_to_test.items():\n",
    "        models = provider_info[\"models\"]\n",
    "        config_dict = provider_info[\"config\"]\n",
    "        \n",
    "        for MODEL_NAME in models:\n",
    "            print(f\"\\n{'-'*50}\")\n",
    "            print(f\"Running {MODEL_NAME} on {dataset_name}\")\n",
    "            print(f\"{'-'*50}\")\n",
    "            \n",
    "            # Define results directory for this model\n",
    "            RESULTS_DIR = os.path.join(\n",
    "                project_root, f\"results/{dataset_name}/{provider}/{MODEL_NAME.replace('/', '_')}\"\n",
    "            )\n",
    "            os.makedirs(RESULTS_DIR, exist_ok=True)\n",
    "            \n",
    "            try:\n",
    "                # Run the analysis with in-memory DataFrames\n",
    "                results = analyze_gene_clusters(\n",
    "                    # Input data options\n",
    "                    input_df=cluster_df,\n",
    "                    # Model and configuration\n",
    "                    model_name=MODEL_NAME,\n",
    "                    config_dict=config_dict,\n",
    "                    # Analysis context and prompts\n",
    "                    screen_context=ROBUST_SCREEN_CONTEXT,\n",
    "                    cluster_analysis_prompt=ROBUST_CLUSTER_PROMPT,\n",
    "                    # Gene annotations\n",
    "                    gene_annotations_df=gene_features,\n",
    "                    # Processing options\n",
    "                    batch_size=1,\n",
    "                    # Output options\n",
    "                    output_file=f\"{RESULTS_DIR}/{MODEL_NAME.replace('/', '_')}\",\n",
    "                    save_outputs=True,\n",
    "                    outputs_to_generate=[\"json\", \"clusters\", \"flagged_genes\"],\n",
    "                )\n",
    "                \n",
    "                results_summary[dataset_name][f\"{provider}_{MODEL_NAME}\"] = \"Success\"\n",
    "                print(f\"✓ Successfully analyzed {dataset_name} with {provider} {MODEL_NAME}\")\n",
    "                \n",
    "            except Exception as e:\n",
    "                results_summary[dataset_name][f\"{provider}_{MODEL_NAME}\"] = f\"Failed: {str(e)}\"\n",
    "                print(f\"✗ Error analyzing {dataset_name} with {provider} {MODEL_NAME}: {str(e)}\")\n",
    "\n",
    "# Print final summary\n",
    "print(\"\\n\\n\" + \"=\"*80)\n",
    "print(\"BENCHMARK RESULTS SUMMARY:\")\n",
    "print(\"=\"*80)\n",
    "for dataset, model_results in results_summary.items():\n",
    "    print(f\"\\nDataset: {dataset}\")\n",
    "    for model, result in model_results.items():\n",
    "        status = \"✓\" if result == \"Success\" else \"✗\"\n",
    "        print(f\"  {status} {model}: {result}\")"
   ]
  },
  {
   "cell_type": "code",
   "execution_count": 12,
   "id": "f7ba9b59",
   "metadata": {},
   "outputs": [
    {
     "name": "stderr",
     "output_type": "stream",
     "text": [
      "INFO:cluster_analysis_20250505_144653.log:Processing 6 clusters with model o4-mini\n"
     ]
    },
    {
     "name": "stdout",
     "output_type": "stream",
     "text": [
      "\n",
      "============================================================\n",
      "Processing dataset: funk\n",
      "============================================================\n",
      "\n",
      "--------------------------------------------------\n",
      "Running o4-mini on funk\n",
      "--------------------------------------------------\n",
      "Loaded data with 6 rows and columns: ['cluster_id', 'genes']\n",
      "Loaded features for 140 genes\n",
      "Loaded screen information: 2129 characters\n"
     ]
    },
    {
     "name": "stderr",
     "output_type": "stream",
     "text": [
      "Processing clusters:   0%|          | 0/6 [00:00<?, ?it/s]INFO:cluster_analysis_20250505_144653.log:Accessing OpenAI API\n"
     ]
    },
    {
     "name": "stdout",
     "output_type": "stream",
     "text": [
      "Attempting to load template from: top_targets.txt\n",
      "Template found at: /lab/barcheese01/mdiberna/mozzarellm/mozzarellm/prompts/top_targets.txt\n",
      "Successfully loaded template (3457 characters)\n",
      "Appending output format instructions to template\n",
      "Added 39 gene feature descriptions to prompt\n"
     ]
    },
    {
     "name": "stderr",
     "output_type": "stream",
     "text": [
      "INFO:cluster_analysis_20250505_144653.log:API call successful: 13443 tokens, $0.1344\n",
      "INFO:cluster_analysis_20250505_144653.log:Success for cluster 21\n",
      "Processing clusters:  17%|█▋        | 1/6 [00:50<04:12, 50.55s/it]INFO:cluster_analysis_20250505_144653.log:Accessing OpenAI API\n"
     ]
    },
    {
     "name": "stdout",
     "output_type": "stream",
     "text": [
      "Attempting to load template from: top_targets.txt\n",
      "Template found at: /lab/barcheese01/mdiberna/mozzarellm/mozzarellm/prompts/top_targets.txt\n",
      "Successfully loaded template (3457 characters)\n",
      "Appending output format instructions to template\n",
      "Added 33 gene feature descriptions to prompt\n"
     ]
    },
    {
     "name": "stderr",
     "output_type": "stream",
     "text": [
      "INFO:cluster_analysis_20250505_144653.log:API call successful: 21150 tokens, $0.2115\n",
      "INFO:cluster_analysis_20250505_144653.log:Success for cluster 37\n",
      "Processing clusters:  33%|███▎      | 2/6 [01:37<03:14, 48.70s/it]INFO:cluster_analysis_20250505_144653.log:Accessing OpenAI API\n"
     ]
    },
    {
     "name": "stdout",
     "output_type": "stream",
     "text": [
      "Attempting to load template from: top_targets.txt\n",
      "Template found at: /lab/barcheese01/mdiberna/mozzarellm/mozzarellm/prompts/top_targets.txt\n",
      "Successfully loaded template (3457 characters)\n",
      "Appending output format instructions to template\n",
      "Added 22 gene feature descriptions to prompt\n"
     ]
    },
    {
     "name": "stderr",
     "output_type": "stream",
     "text": [
      "INFO:cluster_analysis_20250505_144653.log:API call successful: 10565 tokens, $0.1057\n",
      "INFO:cluster_analysis_20250505_144653.log:Success for cluster 121\n",
      "Processing clusters:  50%|█████     | 3/6 [02:17<02:13, 44.54s/it]INFO:cluster_analysis_20250505_144653.log:Accessing OpenAI API\n"
     ]
    },
    {
     "name": "stdout",
     "output_type": "stream",
     "text": [
      "Attempting to load template from: top_targets.txt\n",
      "Template found at: /lab/barcheese01/mdiberna/mozzarellm/mozzarellm/prompts/top_targets.txt\n",
      "Successfully loaded template (3457 characters)\n",
      "Appending output format instructions to template\n",
      "Added 19 gene feature descriptions to prompt\n"
     ]
    },
    {
     "name": "stderr",
     "output_type": "stream",
     "text": [
      "INFO:cluster_analysis_20250505_144653.log:API call successful: 7955 tokens, $0.0796\n",
      "INFO:cluster_analysis_20250505_144653.log:Success for cluster 149\n",
      "Processing clusters:  67%|██████▋   | 4/6 [02:46<01:16, 38.24s/it]INFO:cluster_analysis_20250505_144653.log:Accessing OpenAI API\n"
     ]
    },
    {
     "name": "stdout",
     "output_type": "stream",
     "text": [
      "Attempting to load template from: top_targets.txt\n",
      "Template found at: /lab/barcheese01/mdiberna/mozzarellm/mozzarellm/prompts/top_targets.txt\n",
      "Successfully loaded template (3457 characters)\n",
      "Appending output format instructions to template\n",
      "Added 16 gene feature descriptions to prompt\n"
     ]
    },
    {
     "name": "stderr",
     "output_type": "stream",
     "text": [
      "INFO:cluster_analysis_20250505_144653.log:API call successful: 6852 tokens, $0.0685\n",
      "INFO:cluster_analysis_20250505_144653.log:Success for cluster 167\n",
      "INFO:cluster_analysis_20250505_144653.log:Saved progress for 5 clusters\n",
      "Processing clusters:  83%|████████▎ | 5/6 [03:11<00:33, 33.67s/it]INFO:cluster_analysis_20250505_144653.log:Accessing OpenAI API\n"
     ]
    },
    {
     "name": "stdout",
     "output_type": "stream",
     "text": [
      "Attempting to load template from: top_targets.txt\n",
      "Template found at: /lab/barcheese01/mdiberna/mozzarellm/mozzarellm/prompts/top_targets.txt\n",
      "Successfully loaded template (3457 characters)\n",
      "Appending output format instructions to template\n",
      "Added 11 gene feature descriptions to prompt\n"
     ]
    },
    {
     "name": "stderr",
     "output_type": "stream",
     "text": [
      "INFO:cluster_analysis_20250505_144653.log:API call successful: 11053 tokens, $0.1105\n",
      "INFO:cluster_analysis_20250505_144653.log:Success for cluster 197\n",
      "Processing clusters: 100%|██████████| 6/6 [03:49<00:00, 38.23s/it]\n",
      "INFO:cluster_analysis_20250505_144653.log:Completed analysis for 6 clusters\n",
      "INFO:cluster_analysis_20250505_145042.log:Processing 6 clusters with model o3-mini\n"
     ]
    },
    {
     "name": "stdout",
     "output_type": "stream",
     "text": [
      "✓ Successfully analyzed funk with o4-mini\n",
      "\n",
      "--------------------------------------------------\n",
      "Running o3-mini on funk\n",
      "--------------------------------------------------\n",
      "Loaded data with 6 rows and columns: ['cluster_id', 'genes']\n",
      "Loaded features for 140 genes\n",
      "Loaded screen information: 2129 characters\n"
     ]
    },
    {
     "name": "stderr",
     "output_type": "stream",
     "text": [
      "Processing clusters:   0%|          | 0/6 [00:00<?, ?it/s]INFO:cluster_analysis_20250505_145042.log:Accessing OpenAI API\n"
     ]
    },
    {
     "name": "stdout",
     "output_type": "stream",
     "text": [
      "Attempting to load template from: top_targets.txt\n",
      "Template found at: /lab/barcheese01/mdiberna/mozzarellm/mozzarellm/prompts/top_targets.txt\n",
      "Successfully loaded template (3457 characters)\n",
      "Appending output format instructions to template\n",
      "Added 39 gene feature descriptions to prompt\n"
     ]
    },
    {
     "name": "stderr",
     "output_type": "stream",
     "text": [
      "INFO:cluster_analysis_20250505_145042.log:API call successful: 12935 tokens, $0.1294\n",
      "INFO:cluster_analysis_20250505_145042.log:Success for cluster 21\n",
      "Processing clusters:  17%|█▋        | 1/6 [00:54<04:34, 54.97s/it]INFO:cluster_analysis_20250505_145042.log:Accessing OpenAI API\n"
     ]
    },
    {
     "name": "stdout",
     "output_type": "stream",
     "text": [
      "Attempting to load template from: top_targets.txt\n",
      "Template found at: /lab/barcheese01/mdiberna/mozzarellm/mozzarellm/prompts/top_targets.txt\n",
      "Successfully loaded template (3457 characters)\n",
      "Appending output format instructions to template\n",
      "Added 33 gene feature descriptions to prompt\n"
     ]
    },
    {
     "name": "stderr",
     "output_type": "stream",
     "text": [
      "INFO:cluster_analysis_20250505_145042.log:API call successful: 21134 tokens, $0.2113\n",
      "INFO:cluster_analysis_20250505_145042.log:Success for cluster 37\n",
      "Processing clusters:  33%|███▎      | 2/6 [01:47<03:34, 53.75s/it]INFO:cluster_analysis_20250505_145042.log:Accessing OpenAI API\n"
     ]
    },
    {
     "name": "stdout",
     "output_type": "stream",
     "text": [
      "Attempting to load template from: top_targets.txt\n",
      "Template found at: /lab/barcheese01/mdiberna/mozzarellm/mozzarellm/prompts/top_targets.txt\n",
      "Successfully loaded template (3457 characters)\n",
      "Appending output format instructions to template\n",
      "Added 22 gene feature descriptions to prompt\n"
     ]
    },
    {
     "name": "stderr",
     "output_type": "stream",
     "text": [
      "INFO:cluster_analysis_20250505_145042.log:API call successful: 12219 tokens, $0.1222\n",
      "INFO:cluster_analysis_20250505_145042.log:Success for cluster 121\n",
      "Processing clusters:  50%|█████     | 3/6 [02:30<02:26, 48.72s/it]INFO:cluster_analysis_20250505_145042.log:Accessing OpenAI API\n"
     ]
    },
    {
     "name": "stdout",
     "output_type": "stream",
     "text": [
      "Attempting to load template from: top_targets.txt\n",
      "Template found at: /lab/barcheese01/mdiberna/mozzarellm/mozzarellm/prompts/top_targets.txt\n",
      "Successfully loaded template (3457 characters)\n",
      "Appending output format instructions to template\n",
      "Added 19 gene feature descriptions to prompt\n"
     ]
    },
    {
     "name": "stderr",
     "output_type": "stream",
     "text": [
      "INFO:cluster_analysis_20250505_145042.log:API call successful: 8729 tokens, $0.0873\n",
      "INFO:cluster_analysis_20250505_145042.log:Success for cluster 149\n",
      "Processing clusters:  67%|██████▋   | 4/6 [03:04<01:25, 42.76s/it]INFO:cluster_analysis_20250505_145042.log:Accessing OpenAI API\n"
     ]
    },
    {
     "name": "stdout",
     "output_type": "stream",
     "text": [
      "Attempting to load template from: top_targets.txt\n",
      "Template found at: /lab/barcheese01/mdiberna/mozzarellm/mozzarellm/prompts/top_targets.txt\n",
      "Successfully loaded template (3457 characters)\n",
      "Appending output format instructions to template\n",
      "Added 16 gene feature descriptions to prompt\n"
     ]
    },
    {
     "name": "stderr",
     "output_type": "stream",
     "text": [
      "INFO:cluster_analysis_20250505_145042.log:API call successful: 7314 tokens, $0.0731\n",
      "INFO:cluster_analysis_20250505_145042.log:Success for cluster 167\n",
      "INFO:cluster_analysis_20250505_145042.log:Saved progress for 5 clusters\n",
      "Processing clusters:  83%|████████▎ | 5/6 [03:25<00:34, 34.92s/it]INFO:cluster_analysis_20250505_145042.log:Accessing OpenAI API\n"
     ]
    },
    {
     "name": "stdout",
     "output_type": "stream",
     "text": [
      "Attempting to load template from: top_targets.txt\n",
      "Template found at: /lab/barcheese01/mdiberna/mozzarellm/mozzarellm/prompts/top_targets.txt\n",
      "Successfully loaded template (3457 characters)\n",
      "Appending output format instructions to template\n",
      "Added 11 gene feature descriptions to prompt\n"
     ]
    },
    {
     "name": "stderr",
     "output_type": "stream",
     "text": [
      "INFO:cluster_analysis_20250505_145042.log:API call successful: 10238 tokens, $0.1024\n",
      "INFO:cluster_analysis_20250505_145042.log:Success for cluster 197\n",
      "Processing clusters: 100%|██████████| 6/6 [03:56<00:00, 39.41s/it]\n",
      "INFO:cluster_analysis_20250505_145042.log:Completed analysis for 6 clusters\n",
      "INFO:cluster_analysis_20250505_145439.log:Processing 6 clusters with model gpt-4.1\n"
     ]
    },
    {
     "name": "stdout",
     "output_type": "stream",
     "text": [
      "✓ Successfully analyzed funk with o3-mini\n",
      "\n",
      "--------------------------------------------------\n",
      "Running gpt-4.1 on funk\n",
      "--------------------------------------------------\n",
      "Loaded data with 6 rows and columns: ['cluster_id', 'genes']\n",
      "Loaded features for 140 genes\n",
      "Loaded screen information: 2129 characters\n"
     ]
    },
    {
     "name": "stderr",
     "output_type": "stream",
     "text": [
      "Processing clusters:   0%|          | 0/6 [00:00<?, ?it/s]INFO:cluster_analysis_20250505_145439.log:Accessing OpenAI API\n"
     ]
    },
    {
     "name": "stdout",
     "output_type": "stream",
     "text": [
      "Attempting to load template from: top_targets.txt\n",
      "Template found at: /lab/barcheese01/mdiberna/mozzarellm/mozzarellm/prompts/top_targets.txt\n",
      "Successfully loaded template (3457 characters)\n",
      "Appending output format instructions to template\n",
      "Added 39 gene feature descriptions to prompt\n"
     ]
    },
    {
     "name": "stderr",
     "output_type": "stream",
     "text": [
      "INFO:cluster_analysis_20250505_145439.log:API call successful: 9065 tokens, $0.0907\n",
      "INFO:cluster_analysis_20250505_145439.log:Success for cluster 21\n",
      "Processing clusters:  17%|█▋        | 1/6 [00:22<01:54, 22.91s/it]INFO:cluster_analysis_20250505_145439.log:Accessing OpenAI API\n"
     ]
    },
    {
     "name": "stdout",
     "output_type": "stream",
     "text": [
      "Attempting to load template from: top_targets.txt\n",
      "Template found at: /lab/barcheese01/mdiberna/mozzarellm/mozzarellm/prompts/top_targets.txt\n",
      "Successfully loaded template (3457 characters)\n",
      "Appending output format instructions to template\n",
      "Added 33 gene feature descriptions to prompt\n"
     ]
    },
    {
     "name": "stderr",
     "output_type": "stream",
     "text": [
      "INFO:cluster_analysis_20250505_145439.log:API call successful: 16739 tokens, $0.1674\n",
      "INFO:cluster_analysis_20250505_145439.log:Success for cluster 37\n",
      "Processing clusters:  33%|███▎      | 2/6 [00:52<01:48, 27.09s/it]INFO:cluster_analysis_20250505_145439.log:Accessing OpenAI API\n"
     ]
    },
    {
     "name": "stdout",
     "output_type": "stream",
     "text": [
      "Attempting to load template from: top_targets.txt\n",
      "Template found at: /lab/barcheese01/mdiberna/mozzarellm/mozzarellm/prompts/top_targets.txt\n",
      "Successfully loaded template (3457 characters)\n",
      "Appending output format instructions to template\n",
      "Added 22 gene feature descriptions to prompt\n"
     ]
    },
    {
     "name": "stderr",
     "output_type": "stream",
     "text": [
      "INFO:cluster_analysis_20250505_145439.log:API call successful: 7687 tokens, $0.0769\n",
      "INFO:cluster_analysis_20250505_145439.log:Success for cluster 121\n",
      "Processing clusters:  50%|█████     | 3/6 [01:08<01:05, 21.79s/it]INFO:cluster_analysis_20250505_145439.log:Accessing OpenAI API\n"
     ]
    },
    {
     "name": "stdout",
     "output_type": "stream",
     "text": [
      "Attempting to load template from: top_targets.txt\n",
      "Template found at: /lab/barcheese01/mdiberna/mozzarellm/mozzarellm/prompts/top_targets.txt\n",
      "Successfully loaded template (3457 characters)\n",
      "Appending output format instructions to template\n",
      "Added 19 gene feature descriptions to prompt\n"
     ]
    },
    {
     "name": "stderr",
     "output_type": "stream",
     "text": [
      "INFO:cluster_analysis_20250505_145439.log:API call successful: 5601 tokens, $0.0560\n",
      "INFO:cluster_analysis_20250505_145439.log:Success for cluster 149\n",
      "Processing clusters:  67%|██████▋   | 4/6 [01:21<00:36, 18.31s/it]INFO:cluster_analysis_20250505_145439.log:Accessing OpenAI API\n"
     ]
    },
    {
     "name": "stdout",
     "output_type": "stream",
     "text": [
      "Attempting to load template from: top_targets.txt\n",
      "Template found at: /lab/barcheese01/mdiberna/mozzarellm/mozzarellm/prompts/top_targets.txt\n",
      "Successfully loaded template (3457 characters)\n",
      "Appending output format instructions to template\n",
      "Added 16 gene feature descriptions to prompt\n"
     ]
    },
    {
     "name": "stderr",
     "output_type": "stream",
     "text": [
      "INFO:cluster_analysis_20250505_145439.log:API call successful: 6055 tokens, $0.0606\n",
      "INFO:cluster_analysis_20250505_145439.log:Success for cluster 167\n",
      "INFO:cluster_analysis_20250505_145439.log:Saved progress for 5 clusters\n",
      "Processing clusters:  83%|████████▎ | 5/6 [01:38<00:17, 17.71s/it]INFO:cluster_analysis_20250505_145439.log:Accessing OpenAI API\n"
     ]
    },
    {
     "name": "stdout",
     "output_type": "stream",
     "text": [
      "Attempting to load template from: top_targets.txt\n",
      "Template found at: /lab/barcheese01/mdiberna/mozzarellm/mozzarellm/prompts/top_targets.txt\n",
      "Successfully loaded template (3457 characters)\n",
      "Appending output format instructions to template\n",
      "Added 11 gene feature descriptions to prompt\n"
     ]
    },
    {
     "name": "stderr",
     "output_type": "stream",
     "text": [
      "INFO:cluster_analysis_20250505_145439.log:API call successful: 7768 tokens, $0.0777\n",
      "INFO:cluster_analysis_20250505_145439.log:Success for cluster 197\n",
      "Processing clusters: 100%|██████████| 6/6 [01:51<00:00, 18.50s/it]\n",
      "INFO:cluster_analysis_20250505_145439.log:Completed analysis for 6 clusters\n",
      "INFO:cluster_analysis_20250505_145630.log:Processing 6 clusters with model gpt-4o\n"
     ]
    },
    {
     "name": "stdout",
     "output_type": "stream",
     "text": [
      "✓ Successfully analyzed funk with gpt-4.1\n",
      "\n",
      "--------------------------------------------------\n",
      "Running gpt-4o on funk\n",
      "--------------------------------------------------\n",
      "Loaded data with 6 rows and columns: ['cluster_id', 'genes']\n",
      "Loaded features for 140 genes\n",
      "Loaded screen information: 2129 characters\n"
     ]
    },
    {
     "name": "stderr",
     "output_type": "stream",
     "text": [
      "Processing clusters:   0%|          | 0/6 [00:00<?, ?it/s]INFO:cluster_analysis_20250505_145630.log:Accessing OpenAI API\n"
     ]
    },
    {
     "name": "stdout",
     "output_type": "stream",
     "text": [
      "Attempting to load template from: top_targets.txt\n",
      "Template found at: /lab/barcheese01/mdiberna/mozzarellm/mozzarellm/prompts/top_targets.txt\n",
      "Successfully loaded template (3457 characters)\n",
      "Appending output format instructions to template\n",
      "Added 39 gene feature descriptions to prompt\n"
     ]
    },
    {
     "name": "stderr",
     "output_type": "stream",
     "text": [
      "INFO:cluster_analysis_20250505_145630.log:API call successful: 8883 tokens, $0.0888\n",
      "INFO:cluster_analysis_20250505_145630.log:Success for cluster 21\n",
      "Processing clusters:  17%|█▋        | 1/6 [00:09<00:47,  9.54s/it]INFO:cluster_analysis_20250505_145630.log:Accessing OpenAI API\n"
     ]
    },
    {
     "name": "stdout",
     "output_type": "stream",
     "text": [
      "Attempting to load template from: top_targets.txt\n",
      "Template found at: /lab/barcheese01/mdiberna/mozzarellm/mozzarellm/prompts/top_targets.txt\n",
      "Successfully loaded template (3457 characters)\n",
      "Appending output format instructions to template\n",
      "Added 33 gene feature descriptions to prompt\n"
     ]
    },
    {
     "name": "stderr",
     "output_type": "stream",
     "text": [
      "INFO:cluster_analysis_20250505_145630.log:API call successful: 16406 tokens, $0.1641\n",
      "INFO:cluster_analysis_20250505_145630.log:Success for cluster 37\n",
      "Processing clusters:  33%|███▎      | 2/6 [00:18<00:36,  9.10s/it]INFO:cluster_analysis_20250505_145630.log:Accessing OpenAI API\n"
     ]
    },
    {
     "name": "stdout",
     "output_type": "stream",
     "text": [
      "Attempting to load template from: top_targets.txt\n",
      "Template found at: /lab/barcheese01/mdiberna/mozzarellm/mozzarellm/prompts/top_targets.txt\n",
      "Successfully loaded template (3457 characters)\n",
      "Appending output format instructions to template\n",
      "Added 22 gene feature descriptions to prompt\n"
     ]
    },
    {
     "name": "stderr",
     "output_type": "stream",
     "text": [
      "INFO:cluster_analysis_20250505_145630.log:API call successful: 7320 tokens, $0.0732\n",
      "INFO:cluster_analysis_20250505_145630.log:Success for cluster 121\n",
      "Processing clusters:  50%|█████     | 3/6 [00:24<00:23,  7.91s/it]INFO:cluster_analysis_20250505_145630.log:Accessing OpenAI API\n"
     ]
    },
    {
     "name": "stdout",
     "output_type": "stream",
     "text": [
      "Attempting to load template from: top_targets.txt\n",
      "Template found at: /lab/barcheese01/mdiberna/mozzarellm/mozzarellm/prompts/top_targets.txt\n",
      "Successfully loaded template (3457 characters)\n",
      "Appending output format instructions to template\n",
      "Added 19 gene feature descriptions to prompt\n"
     ]
    },
    {
     "name": "stderr",
     "output_type": "stream",
     "text": [
      "INFO:cluster_analysis_20250505_145630.log:API call successful: 5465 tokens, $0.0547\n",
      "INFO:cluster_analysis_20250505_145630.log:Success for cluster 149\n",
      "Processing clusters:  67%|██████▋   | 4/6 [00:31<00:14,  7.27s/it]INFO:cluster_analysis_20250505_145630.log:Accessing OpenAI API\n"
     ]
    },
    {
     "name": "stdout",
     "output_type": "stream",
     "text": [
      "Attempting to load template from: top_targets.txt\n",
      "Template found at: /lab/barcheese01/mdiberna/mozzarellm/mozzarellm/prompts/top_targets.txt\n",
      "Successfully loaded template (3457 characters)\n",
      "Appending output format instructions to template\n",
      "Added 16 gene feature descriptions to prompt\n"
     ]
    },
    {
     "name": "stderr",
     "output_type": "stream",
     "text": [
      "INFO:cluster_analysis_20250505_145630.log:API call successful: 5810 tokens, $0.0581\n",
      "INFO:cluster_analysis_20250505_145630.log:Success for cluster 167\n",
      "INFO:cluster_analysis_20250505_145630.log:Saved progress for 5 clusters\n",
      "Processing clusters:  83%|████████▎ | 5/6 [00:35<00:06,  6.34s/it]INFO:cluster_analysis_20250505_145630.log:Accessing OpenAI API\n"
     ]
    },
    {
     "name": "stdout",
     "output_type": "stream",
     "text": [
      "Attempting to load template from: top_targets.txt\n",
      "Template found at: /lab/barcheese01/mdiberna/mozzarellm/mozzarellm/prompts/top_targets.txt\n",
      "Successfully loaded template (3457 characters)\n",
      "Appending output format instructions to template\n",
      "Added 11 gene feature descriptions to prompt\n"
     ]
    },
    {
     "name": "stderr",
     "output_type": "stream",
     "text": [
      "INFO:cluster_analysis_20250505_145630.log:API call successful: 7690 tokens, $0.0769\n",
      "INFO:cluster_analysis_20250505_145630.log:Success for cluster 197\n",
      "Processing clusters: 100%|██████████| 6/6 [00:50<00:00,  8.38s/it]\n",
      "INFO:cluster_analysis_20250505_145630.log:Completed analysis for 6 clusters\n",
      "INFO:cluster_analysis_20250505_145720.log:Processing 6 clusters with model claude-3-7-sonnet-20250219\n"
     ]
    },
    {
     "name": "stdout",
     "output_type": "stream",
     "text": [
      "✓ Successfully analyzed funk with gpt-4o\n",
      "\n",
      "--------------------------------------------------\n",
      "Running claude-3-7-sonnet-20250219 on funk\n",
      "--------------------------------------------------\n",
      "Loaded data with 6 rows and columns: ['cluster_id', 'genes']\n",
      "Loaded features for 140 genes\n",
      "Loaded screen information: 2129 characters\n"
     ]
    },
    {
     "name": "stderr",
     "output_type": "stream",
     "text": [
      "Processing clusters:   0%|          | 0/6 [00:00<?, ?it/s]INFO:cluster_analysis_20250505_145720.log:Using Anthropic Claude API\n"
     ]
    },
    {
     "name": "stdout",
     "output_type": "stream",
     "text": [
      "Attempting to load template from: top_targets.txt\n",
      "Template found at: /lab/barcheese01/mdiberna/mozzarellm/mozzarellm/prompts/top_targets.txt\n",
      "Successfully loaded template (3457 characters)\n",
      "Appending output format instructions to template\n",
      "Added 39 gene feature descriptions to prompt\n"
     ]
    },
    {
     "name": "stderr",
     "output_type": "stream",
     "text": [
      "INFO:cluster_analysis_20250505_145720.log:Anthropic API call successful: model=claude-3-7-sonnet-20250219\n",
      "INFO:cluster_analysis_20250505_145720.log:Success for cluster 21\n",
      "Processing clusters:  17%|█▋        | 1/6 [00:16<01:24, 16.95s/it]INFO:cluster_analysis_20250505_145720.log:Using Anthropic Claude API\n"
     ]
    },
    {
     "name": "stdout",
     "output_type": "stream",
     "text": [
      "Attempting to load template from: top_targets.txt\n",
      "Template found at: /lab/barcheese01/mdiberna/mozzarellm/mozzarellm/prompts/top_targets.txt\n",
      "Successfully loaded template (3457 characters)\n",
      "Appending output format instructions to template\n",
      "Added 33 gene feature descriptions to prompt\n"
     ]
    },
    {
     "name": "stderr",
     "output_type": "stream",
     "text": [
      "INFO:cluster_analysis_20250505_145720.log:Anthropic API call successful: model=claude-3-7-sonnet-20250219\n",
      "INFO:cluster_analysis_20250505_145720.log:Success for cluster 37\n",
      "Processing clusters:  33%|███▎      | 2/6 [00:47<01:38, 24.74s/it]INFO:cluster_analysis_20250505_145720.log:Using Anthropic Claude API\n"
     ]
    },
    {
     "name": "stdout",
     "output_type": "stream",
     "text": [
      "Attempting to load template from: top_targets.txt\n",
      "Template found at: /lab/barcheese01/mdiberna/mozzarellm/mozzarellm/prompts/top_targets.txt\n",
      "Successfully loaded template (3457 characters)\n",
      "Appending output format instructions to template\n",
      "Added 22 gene feature descriptions to prompt\n"
     ]
    },
    {
     "name": "stderr",
     "output_type": "stream",
     "text": [
      "INFO:cluster_analysis_20250505_145720.log:Anthropic API call successful: model=claude-3-7-sonnet-20250219\n",
      "INFO:cluster_analysis_20250505_145720.log:Success for cluster 121\n",
      "Processing clusters:  50%|█████     | 3/6 [01:12<01:15, 25.14s/it]INFO:cluster_analysis_20250505_145720.log:Using Anthropic Claude API\n"
     ]
    },
    {
     "name": "stdout",
     "output_type": "stream",
     "text": [
      "Attempting to load template from: top_targets.txt\n",
      "Template found at: /lab/barcheese01/mdiberna/mozzarellm/mozzarellm/prompts/top_targets.txt\n",
      "Successfully loaded template (3457 characters)\n",
      "Appending output format instructions to template\n",
      "Added 19 gene feature descriptions to prompt\n"
     ]
    },
    {
     "name": "stderr",
     "output_type": "stream",
     "text": [
      "INFO:cluster_analysis_20250505_145720.log:Anthropic API call successful: model=claude-3-7-sonnet-20250219\n",
      "INFO:cluster_analysis_20250505_145720.log:Success for cluster 149\n",
      "Processing clusters:  67%|██████▋   | 4/6 [01:32<00:46, 23.13s/it]INFO:cluster_analysis_20250505_145720.log:Using Anthropic Claude API\n"
     ]
    },
    {
     "name": "stdout",
     "output_type": "stream",
     "text": [
      "Attempting to load template from: top_targets.txt\n",
      "Template found at: /lab/barcheese01/mdiberna/mozzarellm/mozzarellm/prompts/top_targets.txt\n",
      "Successfully loaded template (3457 characters)\n",
      "Appending output format instructions to template\n",
      "Added 16 gene feature descriptions to prompt\n"
     ]
    },
    {
     "name": "stderr",
     "output_type": "stream",
     "text": [
      "INFO:cluster_analysis_20250505_145720.log:Anthropic API call successful: model=claude-3-7-sonnet-20250219\n",
      "INFO:cluster_analysis_20250505_145720.log:Success for cluster 167\n",
      "INFO:cluster_analysis_20250505_145720.log:Saved progress for 5 clusters\n",
      "Processing clusters:  83%|████████▎ | 5/6 [01:47<00:19, 19.94s/it]INFO:cluster_analysis_20250505_145720.log:Using Anthropic Claude API\n"
     ]
    },
    {
     "name": "stdout",
     "output_type": "stream",
     "text": [
      "Attempting to load template from: top_targets.txt\n",
      "Template found at: /lab/barcheese01/mdiberna/mozzarellm/mozzarellm/prompts/top_targets.txt\n",
      "Successfully loaded template (3457 characters)\n",
      "Appending output format instructions to template\n",
      "Added 11 gene feature descriptions to prompt\n"
     ]
    },
    {
     "name": "stderr",
     "output_type": "stream",
     "text": [
      "INFO:cluster_analysis_20250505_145720.log:Anthropic API call successful: model=claude-3-7-sonnet-20250219\n",
      "INFO:cluster_analysis_20250505_145720.log:Success for cluster 197\n",
      "Processing clusters: 100%|██████████| 6/6 [02:04<00:00, 20.79s/it]\n",
      "INFO:cluster_analysis_20250505_145720.log:Completed analysis for 6 clusters\n",
      "INFO:cluster_analysis_20250505_145925.log:Processing 6 clusters with model claude-3-5-haiku-20241022\n"
     ]
    },
    {
     "name": "stdout",
     "output_type": "stream",
     "text": [
      "✓ Successfully analyzed funk with claude-3-7-sonnet-20250219\n",
      "\n",
      "--------------------------------------------------\n",
      "Running claude-3-5-haiku-20241022 on funk\n",
      "--------------------------------------------------\n",
      "Loaded data with 6 rows and columns: ['cluster_id', 'genes']\n",
      "Loaded features for 140 genes\n",
      "Loaded screen information: 2129 characters\n"
     ]
    },
    {
     "name": "stderr",
     "output_type": "stream",
     "text": [
      "Processing clusters:   0%|          | 0/6 [00:00<?, ?it/s]INFO:cluster_analysis_20250505_145925.log:Using Anthropic Claude API\n"
     ]
    },
    {
     "name": "stdout",
     "output_type": "stream",
     "text": [
      "Attempting to load template from: top_targets.txt\n",
      "Template found at: /lab/barcheese01/mdiberna/mozzarellm/mozzarellm/prompts/top_targets.txt\n",
      "Successfully loaded template (3457 characters)\n",
      "Appending output format instructions to template\n",
      "Added 39 gene feature descriptions to prompt\n"
     ]
    },
    {
     "name": "stderr",
     "output_type": "stream",
     "text": [
      "INFO:cluster_analysis_20250505_145925.log:Anthropic API call successful: model=claude-3-5-haiku-20241022\n",
      "INFO:cluster_analysis_20250505_145925.log:Success for cluster 21\n",
      "Processing clusters:  17%|█▋        | 1/6 [00:14<01:12, 14.56s/it]INFO:cluster_analysis_20250505_145925.log:Using Anthropic Claude API\n"
     ]
    },
    {
     "name": "stdout",
     "output_type": "stream",
     "text": [
      "Attempting to load template from: top_targets.txt\n",
      "Template found at: /lab/barcheese01/mdiberna/mozzarellm/mozzarellm/prompts/top_targets.txt\n",
      "Successfully loaded template (3457 characters)\n",
      "Appending output format instructions to template\n",
      "Added 33 gene feature descriptions to prompt\n"
     ]
    },
    {
     "name": "stderr",
     "output_type": "stream",
     "text": [
      "INFO:cluster_analysis_20250505_145925.log:Anthropic API call successful: model=claude-3-5-haiku-20241022\n",
      "INFO:cluster_analysis_20250505_145925.log:Success for cluster 37\n",
      "Processing clusters:  33%|███▎      | 2/6 [00:25<00:50, 12.69s/it]INFO:cluster_analysis_20250505_145925.log:Using Anthropic Claude API\n"
     ]
    },
    {
     "name": "stdout",
     "output_type": "stream",
     "text": [
      "Attempting to load template from: top_targets.txt\n",
      "Template found at: /lab/barcheese01/mdiberna/mozzarellm/mozzarellm/prompts/top_targets.txt\n",
      "Successfully loaded template (3457 characters)\n",
      "Appending output format instructions to template\n",
      "Added 22 gene feature descriptions to prompt\n"
     ]
    },
    {
     "name": "stderr",
     "output_type": "stream",
     "text": [
      "INFO:cluster_analysis_20250505_145925.log:Anthropic API call successful: model=claude-3-5-haiku-20241022\n",
      "INFO:cluster_analysis_20250505_145925.log:Success for cluster 121\n",
      "Processing clusters:  50%|█████     | 3/6 [00:38<00:37, 12.54s/it]INFO:cluster_analysis_20250505_145925.log:Using Anthropic Claude API\n"
     ]
    },
    {
     "name": "stdout",
     "output_type": "stream",
     "text": [
      "Attempting to load template from: top_targets.txt\n",
      "Template found at: /lab/barcheese01/mdiberna/mozzarellm/mozzarellm/prompts/top_targets.txt\n",
      "Successfully loaded template (3457 characters)\n",
      "Appending output format instructions to template\n",
      "Added 19 gene feature descriptions to prompt\n"
     ]
    },
    {
     "name": "stderr",
     "output_type": "stream",
     "text": [
      "INFO:cluster_analysis_20250505_145925.log:Anthropic API call successful: model=claude-3-5-haiku-20241022\n",
      "INFO:cluster_analysis_20250505_145925.log:Success for cluster 149\n",
      "Processing clusters:  67%|██████▋   | 4/6 [00:49<00:24, 12.09s/it]INFO:cluster_analysis_20250505_145925.log:Using Anthropic Claude API\n"
     ]
    },
    {
     "name": "stdout",
     "output_type": "stream",
     "text": [
      "Attempting to load template from: top_targets.txt\n",
      "Template found at: /lab/barcheese01/mdiberna/mozzarellm/mozzarellm/prompts/top_targets.txt\n",
      "Successfully loaded template (3457 characters)\n",
      "Appending output format instructions to template\n",
      "Added 16 gene feature descriptions to prompt\n"
     ]
    },
    {
     "name": "stderr",
     "output_type": "stream",
     "text": [
      "INFO:cluster_analysis_20250505_145925.log:Anthropic API call successful: model=claude-3-5-haiku-20241022\n",
      "INFO:cluster_analysis_20250505_145925.log:Success for cluster 167\n",
      "INFO:cluster_analysis_20250505_145925.log:Saved progress for 5 clusters\n",
      "Processing clusters:  83%|████████▎ | 5/6 [00:58<00:10, 10.75s/it]INFO:cluster_analysis_20250505_145925.log:Using Anthropic Claude API\n"
     ]
    },
    {
     "name": "stdout",
     "output_type": "stream",
     "text": [
      "Attempting to load template from: top_targets.txt\n",
      "Template found at: /lab/barcheese01/mdiberna/mozzarellm/mozzarellm/prompts/top_targets.txt\n",
      "Successfully loaded template (3457 characters)\n",
      "Appending output format instructions to template\n",
      "Added 11 gene feature descriptions to prompt\n"
     ]
    },
    {
     "name": "stderr",
     "output_type": "stream",
     "text": [
      "INFO:cluster_analysis_20250505_145925.log:Anthropic API call successful: model=claude-3-5-haiku-20241022\n",
      "INFO:cluster_analysis_20250505_145925.log:Success for cluster 197\n",
      "Processing clusters: 100%|██████████| 6/6 [01:10<00:00, 11.68s/it]\n",
      "INFO:cluster_analysis_20250505_145925.log:Completed analysis for 6 clusters\n",
      "INFO:cluster_analysis_20250505_150035.log:Processing 6 clusters with model gemini-2.5-pro-preview-03-25\n"
     ]
    },
    {
     "name": "stdout",
     "output_type": "stream",
     "text": [
      "✓ Successfully analyzed funk with claude-3-5-haiku-20241022\n",
      "\n",
      "--------------------------------------------------\n",
      "Running gemini-2.5-pro-preview-03-25 on funk\n",
      "--------------------------------------------------\n",
      "Loaded data with 6 rows and columns: ['cluster_id', 'genes']\n",
      "Loaded features for 140 genes\n",
      "Loaded screen information: 2129 characters\n"
     ]
    },
    {
     "name": "stderr",
     "output_type": "stream",
     "text": [
      "Processing clusters:   0%|          | 0/6 [00:00<?, ?it/s]INFO:cluster_analysis_20250505_150035.log:Using Google Gemini API\n"
     ]
    },
    {
     "name": "stdout",
     "output_type": "stream",
     "text": [
      "Attempting to load template from: top_targets.txt\n",
      "Template found at: /lab/barcheese01/mdiberna/mozzarellm/mozzarellm/prompts/top_targets.txt\n",
      "Successfully loaded template (3457 characters)\n",
      "Appending output format instructions to template\n",
      "Added 39 gene feature descriptions to prompt\n"
     ]
    },
    {
     "name": "stderr",
     "output_type": "stream",
     "text": [
      "INFO:cluster_analysis_20250505_150035.log:Google Gemini API call successful: model=gemini-2.5-pro-preview-03-25\n",
      "INFO:cluster_analysis_20250505_150035.log:Success for cluster 21\n",
      "Processing clusters:  17%|█▋        | 1/6 [01:08<05:40, 68.12s/it]INFO:cluster_analysis_20250505_150035.log:Using Google Gemini API\n"
     ]
    },
    {
     "name": "stdout",
     "output_type": "stream",
     "text": [
      "Attempting to load template from: top_targets.txt\n",
      "Template found at: /lab/barcheese01/mdiberna/mozzarellm/mozzarellm/prompts/top_targets.txt\n",
      "Successfully loaded template (3457 characters)\n",
      "Appending output format instructions to template\n",
      "Added 33 gene feature descriptions to prompt\n"
     ]
    },
    {
     "name": "stderr",
     "output_type": "stream",
     "text": [
      "INFO:cluster_analysis_20250505_150035.log:Google Gemini API call successful: model=gemini-2.5-pro-preview-03-25\n",
      "INFO:cluster_analysis_20250505_150035.log:Success for cluster 37\n",
      "Processing clusters:  33%|███▎      | 2/6 [02:25<04:54, 73.59s/it]INFO:cluster_analysis_20250505_150035.log:Using Google Gemini API\n"
     ]
    },
    {
     "name": "stdout",
     "output_type": "stream",
     "text": [
      "Attempting to load template from: top_targets.txt\n",
      "Template found at: /lab/barcheese01/mdiberna/mozzarellm/mozzarellm/prompts/top_targets.txt\n",
      "Successfully loaded template (3457 characters)\n",
      "Appending output format instructions to template\n",
      "Added 22 gene feature descriptions to prompt\n"
     ]
    },
    {
     "name": "stderr",
     "output_type": "stream",
     "text": [
      "INFO:cluster_analysis_20250505_150035.log:Google Gemini API call successful: model=gemini-2.5-pro-preview-03-25\n",
      "ERROR:root:Failed to parse JSON object from regex match: Expecting property name enclosed in double quotes: line 24 column 6 (char 416)\n",
      "ERROR:root:Failed to parse JSON object using indices: Expecting property name enclosed in double quotes: line 1 column 2 (char 1)\n",
      "WARNING:root:All standard parsing methods failed, attempting final recovery approach\n",
      "INFO:cluster_analysis_20250505_150035.log:Success for cluster 121\n",
      "Processing clusters:  50%|█████     | 3/6 [03:12<03:03, 61.25s/it]INFO:cluster_analysis_20250505_150035.log:Using Google Gemini API\n"
     ]
    },
    {
     "name": "stdout",
     "output_type": "stream",
     "text": [
      "Attempting to load template from: top_targets.txt\n",
      "Template found at: /lab/barcheese01/mdiberna/mozzarellm/mozzarellm/prompts/top_targets.txt\n",
      "Successfully loaded template (3457 characters)\n",
      "Appending output format instructions to template\n",
      "Added 19 gene feature descriptions to prompt\n"
     ]
    },
    {
     "name": "stderr",
     "output_type": "stream",
     "text": [
      "INFO:cluster_analysis_20250505_150035.log:Google Gemini API call successful: model=gemini-2.5-pro-preview-03-25\n",
      "INFO:cluster_analysis_20250505_150035.log:Success for cluster 149\n",
      "Processing clusters:  67%|██████▋   | 4/6 [04:08<01:58, 59.38s/it]INFO:cluster_analysis_20250505_150035.log:Using Google Gemini API\n"
     ]
    },
    {
     "name": "stdout",
     "output_type": "stream",
     "text": [
      "Attempting to load template from: top_targets.txt\n",
      "Template found at: /lab/barcheese01/mdiberna/mozzarellm/mozzarellm/prompts/top_targets.txt\n",
      "Successfully loaded template (3457 characters)\n",
      "Appending output format instructions to template\n",
      "Added 16 gene feature descriptions to prompt\n"
     ]
    },
    {
     "name": "stderr",
     "output_type": "stream",
     "text": [
      "INFO:cluster_analysis_20250505_150035.log:Google Gemini API call successful: model=gemini-2.5-pro-preview-03-25\n",
      "INFO:cluster_analysis_20250505_150035.log:Success for cluster 167\n",
      "INFO:cluster_analysis_20250505_150035.log:Saved progress for 5 clusters\n",
      "Processing clusters:  83%|████████▎ | 5/6 [04:43<00:50, 50.40s/it]INFO:cluster_analysis_20250505_150035.log:Using Google Gemini API\n"
     ]
    },
    {
     "name": "stdout",
     "output_type": "stream",
     "text": [
      "Attempting to load template from: top_targets.txt\n",
      "Template found at: /lab/barcheese01/mdiberna/mozzarellm/mozzarellm/prompts/top_targets.txt\n",
      "Successfully loaded template (3457 characters)\n",
      "Appending output format instructions to template\n",
      "Added 11 gene feature descriptions to prompt\n"
     ]
    },
    {
     "name": "stderr",
     "output_type": "stream",
     "text": [
      "INFO:cluster_analysis_20250505_150035.log:Google Gemini API call successful: model=gemini-2.5-pro-preview-03-25\n",
      "INFO:cluster_analysis_20250505_150035.log:Success for cluster 197\n",
      "Processing clusters: 100%|██████████| 6/6 [05:31<00:00, 55.33s/it]\n",
      "INFO:cluster_analysis_20250505_150035.log:Completed analysis for 6 clusters\n",
      "INFO:cluster_analysis_20250505_150607.log:Processing 6 clusters with model gemini-2.5-flash-preview-04-17\n"
     ]
    },
    {
     "name": "stdout",
     "output_type": "stream",
     "text": [
      "✓ Successfully analyzed funk with gemini-2.5-pro-preview-03-25\n",
      "\n",
      "--------------------------------------------------\n",
      "Running gemini-2.5-flash-preview-04-17 on funk\n",
      "--------------------------------------------------\n",
      "Loaded data with 6 rows and columns: ['cluster_id', 'genes']\n",
      "Loaded features for 140 genes\n",
      "Loaded screen information: 2129 characters\n"
     ]
    },
    {
     "name": "stderr",
     "output_type": "stream",
     "text": [
      "Processing clusters:   0%|          | 0/6 [00:00<?, ?it/s]INFO:cluster_analysis_20250505_150607.log:Using Google Gemini API\n"
     ]
    },
    {
     "name": "stdout",
     "output_type": "stream",
     "text": [
      "Attempting to load template from: top_targets.txt\n",
      "Template found at: /lab/barcheese01/mdiberna/mozzarellm/mozzarellm/prompts/top_targets.txt\n",
      "Successfully loaded template (3457 characters)\n",
      "Appending output format instructions to template\n",
      "Added 39 gene feature descriptions to prompt\n"
     ]
    },
    {
     "name": "stderr",
     "output_type": "stream",
     "text": [
      "INFO:cluster_analysis_20250505_150607.log:Google Gemini API call successful: model=gemini-2.5-flash-preview-04-17\n",
      "INFO:cluster_analysis_20250505_150607.log:Success for cluster 21\n",
      "Processing clusters:  17%|█▋        | 1/6 [00:33<02:48, 33.75s/it]INFO:cluster_analysis_20250505_150607.log:Using Google Gemini API\n"
     ]
    },
    {
     "name": "stdout",
     "output_type": "stream",
     "text": [
      "Attempting to load template from: top_targets.txt\n",
      "Template found at: /lab/barcheese01/mdiberna/mozzarellm/mozzarellm/prompts/top_targets.txt\n",
      "Successfully loaded template (3457 characters)\n",
      "Appending output format instructions to template\n",
      "Added 33 gene feature descriptions to prompt\n"
     ]
    },
    {
     "name": "stderr",
     "output_type": "stream",
     "text": [
      "INFO:cluster_analysis_20250505_150607.log:Google Gemini API call successful: model=gemini-2.5-flash-preview-04-17\n",
      "ERROR: Error for cluster 37: None\n",
      "ERROR:cluster_analysis_20250505_150607.log:Error for cluster 37: None\n",
      "Processing clusters:  33%|███▎      | 2/6 [01:16<02:37, 39.30s/it]INFO:cluster_analysis_20250505_150607.log:Using Google Gemini API\n"
     ]
    },
    {
     "name": "stdout",
     "output_type": "stream",
     "text": [
      "Attempting to load template from: top_targets.txt\n",
      "Template found at: /lab/barcheese01/mdiberna/mozzarellm/mozzarellm/prompts/top_targets.txt\n",
      "Successfully loaded template (3457 characters)\n",
      "Appending output format instructions to template\n",
      "Added 22 gene feature descriptions to prompt\n"
     ]
    },
    {
     "name": "stderr",
     "output_type": "stream",
     "text": [
      "INFO:cluster_analysis_20250505_150607.log:Google Gemini API call successful: model=gemini-2.5-flash-preview-04-17\n",
      "INFO:cluster_analysis_20250505_150607.log:Success for cluster 121\n",
      "Processing clusters:  50%|█████     | 3/6 [01:49<01:48, 36.26s/it]INFO:cluster_analysis_20250505_150607.log:Using Google Gemini API\n"
     ]
    },
    {
     "name": "stdout",
     "output_type": "stream",
     "text": [
      "Attempting to load template from: top_targets.txt\n",
      "Template found at: /lab/barcheese01/mdiberna/mozzarellm/mozzarellm/prompts/top_targets.txt\n",
      "Successfully loaded template (3457 characters)\n",
      "Appending output format instructions to template\n",
      "Added 19 gene feature descriptions to prompt\n"
     ]
    },
    {
     "name": "stderr",
     "output_type": "stream",
     "text": [
      "INFO:cluster_analysis_20250505_150607.log:Google Gemini API call successful: model=gemini-2.5-flash-preview-04-17\n",
      "INFO:cluster_analysis_20250505_150607.log:Success for cluster 149\n",
      "Processing clusters:  67%|██████▋   | 4/6 [02:23<01:10, 35.47s/it]INFO:cluster_analysis_20250505_150607.log:Using Google Gemini API\n"
     ]
    },
    {
     "name": "stdout",
     "output_type": "stream",
     "text": [
      "Attempting to load template from: top_targets.txt\n",
      "Template found at: /lab/barcheese01/mdiberna/mozzarellm/mozzarellm/prompts/top_targets.txt\n",
      "Successfully loaded template (3457 characters)\n",
      "Appending output format instructions to template\n",
      "Added 16 gene feature descriptions to prompt\n"
     ]
    },
    {
     "name": "stderr",
     "output_type": "stream",
     "text": [
      "INFO:cluster_analysis_20250505_150607.log:Google Gemini API call successful: model=gemini-2.5-flash-preview-04-17\n",
      "INFO:cluster_analysis_20250505_150607.log:Success for cluster 167\n",
      "Processing clusters:  83%|████████▎ | 5/6 [02:39<00:28, 28.24s/it]INFO:cluster_analysis_20250505_150607.log:Using Google Gemini API\n"
     ]
    },
    {
     "name": "stdout",
     "output_type": "stream",
     "text": [
      "Attempting to load template from: top_targets.txt\n",
      "Template found at: /lab/barcheese01/mdiberna/mozzarellm/mozzarellm/prompts/top_targets.txt\n",
      "Successfully loaded template (3457 characters)\n",
      "Appending output format instructions to template\n",
      "Added 11 gene feature descriptions to prompt\n"
     ]
    },
    {
     "name": "stderr",
     "output_type": "stream",
     "text": [
      "INFO:cluster_analysis_20250505_150607.log:Google Gemini API call successful: model=gemini-2.5-flash-preview-04-17\n",
      "INFO:cluster_analysis_20250505_150607.log:Success for cluster 197\n",
      "INFO:cluster_analysis_20250505_150607.log:Saved progress for 5 clusters\n",
      "Processing clusters: 100%|██████████| 6/6 [03:10<00:00, 31.71s/it]\n",
      "INFO:cluster_analysis_20250505_150607.log:Completed analysis for 5 clusters\n"
     ]
    },
    {
     "name": "stdout",
     "output_type": "stream",
     "text": [
      "✓ Successfully analyzed funk with gemini-2.5-flash-preview-04-17\n"
     ]
    }
   ],
   "source": [
    "# Define the models and configurations to test\n",
    "# models_to_test = {\n",
    "#     \"config_openai.json\": [\"o4-mini\"],\n",
    "#     \"config_anthropic.json\": [\"claude-3-7-sonnet-20250219\"],\n",
    "# }\n",
    "# Define the models and configurations to test\n",
    "models_to_test = {\n",
    "    \"config_openai.json\": [\"o4-mini\", \"o3-mini\", \"gpt-4.1\", \"gpt-4o\"],\n",
    "    \"config_anthropic.json\": [\n",
    "        \"claude-3-7-sonnet-20250219\",\n",
    "        \"claude-3-5-haiku-20241022\",\n",
    "    ],\n",
    "    \"config_gemini.json\": [\n",
    "        \"gemini-2.5-pro-preview-03-25\",\n",
    "        \"gemini-2.5-flash-preview-04-17\",\n",
    "    ],\n",
    "}\n",
    "\n",
    "# Set common parameters\n",
    "GENE_COL = \"gene_symbol\"\n",
    "CLUSTER_COL = \"cluster\"\n",
    "UNIPROT_COL = \"uniprot_function\"\n",
    "GENE_SEP = \";\"\n",
    "GENE_COL_LLM = \"genes\"\n",
    "CLUSTER_COL_LLM = \"cluster_id\"\n",
    "SCREEN_INFO_PATH = \"HeLa_interphase_screen_info.txt\"\n",
    "CUSTOM_PROMPT_PATH = \"top_targets.txt\"\n",
    "\n",
    "# Dictionary to track results\n",
    "results_summary = {}\n",
    "\n",
    "# Loop through datasets\n",
    "for dataset_name in [\"funk\"]:  # , 'wainberg', 'schaffer']:\n",
    "    print(f\"\\n{'='*60}\")\n",
    "    print(f\"Processing dataset: {dataset_name}\")\n",
    "    print(f\"{'='*60}\")\n",
    "\n",
    "    results_summary[dataset_name] = {}\n",
    "\n",
    "    # Define the cluster dataframe\n",
    "    cluster_df = locals()[dataset_name]\n",
    "\n",
    "    # Define the output file paths\n",
    "    PROCESSED_FILE = os.path.join(\n",
    "        project_root, f\"data/benchmarks/{dataset_name}/cluster_data.csv\"\n",
    "    )\n",
    "    GENE_FEATURES_FILE = os.path.join(\n",
    "        project_root, f\"data/benchmarks/{dataset_name}/uniprot_data.csv\"\n",
    "    )\n",
    "\n",
    "    # Loop through each configuration and model\n",
    "    for config_file, models in models_to_test.items():\n",
    "        # Full path to config file\n",
    "        CONFIG_PATH = os.path.join(project_root, \"mozzarellm/configs\", config_file)\n",
    "\n",
    "        for MODEL_NAME in models:\n",
    "            print(f\"\\n{'-'*50}\")\n",
    "            print(f\"Running {MODEL_NAME} on {dataset_name}\")\n",
    "            print(f\"{'-'*50}\")\n",
    "\n",
    "            # Define results directory for this model\n",
    "            RESULTS_DIR = os.path.join(\n",
    "                project_root, f\"results/{dataset_name}/{MODEL_NAME.replace('/', '_')}\"\n",
    "            )\n",
    "            os.makedirs(RESULTS_DIR, exist_ok=True)\n",
    "\n",
    "            try:\n",
    "                # Run the analysis\n",
    "                results = analyze_gene_clusters(\n",
    "                    input_file=PROCESSED_FILE,\n",
    "                    output_file=f\"{RESULTS_DIR}/{MODEL_NAME.replace('/', '_')}\",\n",
    "                    config_path=CONFIG_PATH,\n",
    "                    model_name=MODEL_NAME,\n",
    "                    custom_prompt_path=CUSTOM_PROMPT_PATH,\n",
    "                    gene_features_path=GENE_FEATURES_FILE,\n",
    "                    screen_info_path=SCREEN_INFO_PATH,\n",
    "                    gene_column=GENE_COL_LLM,\n",
    "                    gene_sep=GENE_SEP,\n",
    "                    batch_size=1,\n",
    "                    cluster_id_column=CLUSTER_COL_LLM,\n",
    "                )\n",
    "\n",
    "                results_summary[dataset_name][MODEL_NAME] = \"Success\"\n",
    "                print(f\"✓ Successfully analyzed {dataset_name} with {MODEL_NAME}\")\n",
    "\n",
    "            except Exception as e:\n",
    "                results_summary[dataset_name][MODEL_NAME] = f\"Failed: {str(e)}\"\n",
    "                print(f\"✗ Error analyzing {dataset_name} with {MODEL_NAME}: {str(e)}\")"
   ]
  },
  {
   "cell_type": "code",
   "execution_count": 42,
   "id": "a22fbefa",
   "metadata": {},
   "outputs": [],
   "source": [
    "import os\n",
    "import pandas as pd\n",
    "\n",
    "# Datasets to analyze\n",
    "datasets = [\"funk\", \"wainberg\", \"schaffer\"]\n",
    "# Models to check\n",
    "models_to_check = [\n",
    "    \"claude-3-7-sonnet-20250219\",\n",
    "    \"claude-3-5-haiku-20241022\",\n",
    "    \"gemini-2.5-flash-preview-04-17\",\n",
    "    \"gemini-2.5-pro-preview-03-25\",\n",
    "    \"gpt-4.1\",\n",
    "    \"gpt-4o\",\n",
    "    \"o3-mini\",\n",
    "    \"o4-mini\",\n",
    "]\n",
    "\n",
    "\n",
    "def parse_gene_list(gene_str):\n",
    "    \"\"\"Parse gene list string into a list of genes, considering different separators\"\"\"\n",
    "    if not gene_str or pd.isna(gene_str):\n",
    "        return []\n",
    "\n",
    "    gene_str = str(gene_str).strip()\n",
    "\n",
    "    # Try different separators\n",
    "    for separator in [\";\", \",\", \" \"]:\n",
    "        if separator in gene_str:\n",
    "            return [g.strip() for g in gene_str.split(separator) if g.strip()]\n",
    "\n",
    "    # If no separator found but string is not empty\n",
    "    return [gene_str] if gene_str else []\n",
    "\n",
    "\n",
    "def load_data(project_root):\n",
    "    \"\"\"Load benchmark findings and prepare data structures\"\"\"\n",
    "    # Load findings.csv\n",
    "    findings_path = os.path.join(project_root, \"data/benchmarks/findings.csv\")\n",
    "    try:\n",
    "        findings_df = pd.read_csv(findings_path)\n",
    "    except Exception as e:\n",
    "        print(f\"Error loading findings file: {str(e)}\")\n",
    "        return None\n",
    "\n",
    "    # Prepare benchmark data\n",
    "    benchmark_data = defaultdict(dict)\n",
    "\n",
    "    for dataset, group in findings_df.groupby(\"dataset\"):\n",
    "        if dataset not in datasets:\n",
    "            continue\n",
    "\n",
    "        print(f\"\\nAnalyzing dataset: {dataset}\")\n",
    "\n",
    "        # Process findings for this dataset\n",
    "        for _, row in group.iterrows():\n",
    "            cluster = str(row[\"cluster\"])\n",
    "            gene = row[\"gene\"]\n",
    "            function = row[\"function\"]\n",
    "\n",
    "            if cluster not in benchmark_data[dataset]:\n",
    "                benchmark_data[dataset][cluster] = {\"function\": function, \"genes\": []}\n",
    "\n",
    "            benchmark_data[dataset][cluster][\"genes\"].append(gene)\n",
    "\n",
    "    return benchmark_data\n",
    "\n",
    "\n",
    "def load_clusters_data(project_root, dataset, model):\n",
    "    \"\"\"Load clusters data for a specific model and dataset\"\"\"\n",
    "    safe_model_name = model.replace(\"/\", \"_\")\n",
    "    clusters_file = os.path.join(\n",
    "        project_root,\n",
    "        f\"results/{dataset}/{safe_model_name}/{safe_model_name}_clusters.csv\",\n",
    "    )\n",
    "\n",
    "    if not os.path.exists(clusters_file):\n",
    "        print(f\"No clusters file found for {model} on {dataset}\")\n",
    "        return None\n",
    "\n",
    "    try:\n",
    "        return pd.read_csv(clusters_file)\n",
    "    except Exception as e:\n",
    "        print(f\"Error loading clusters for {model} on {dataset}: {str(e)}\")\n",
    "        return None\n",
    "\n",
    "\n",
    "def analyze_model_output(project_root, benchmark_data):\n",
    "    \"\"\"Analyze and compare model outputs with benchmark data\"\"\"\n",
    "    results = defaultdict(lambda: defaultdict(dict))\n",
    "\n",
    "    for dataset, clusters in benchmark_data.items():\n",
    "        # Count benchmark clusters and genes for this dataset\n",
    "        benchmark_clusters = list(clusters.keys())\n",
    "        benchmark_genes = []\n",
    "        for cluster_data in clusters.values():\n",
    "            benchmark_genes.extend(cluster_data[\"genes\"])\n",
    "        benchmark_genes = list(set(benchmark_genes))  # Remove duplicates\n",
    "\n",
    "        for model in models_to_check:\n",
    "            print(f\"  Checking model: {model}\")\n",
    "\n",
    "            # Load clusters.csv for this model and dataset\n",
    "            safe_model_name = model.replace(\"/\", \"_\")\n",
    "            clusters_file = os.path.join(\n",
    "                project_root,\n",
    "                f\"results/{dataset}/{safe_model_name}/{safe_model_name}_clusters.csv\",\n",
    "            )\n",
    "\n",
    "            if not os.path.exists(clusters_file):\n",
    "                # Record failure and continue to next model\n",
    "                results[dataset][model] = create_empty_result(\n",
    "                    benchmark_clusters,\n",
    "                    benchmark_genes,\n",
    "                    \"Failed - No clusters.csv found\",\n",
    "                )\n",
    "                continue\n",
    "\n",
    "            try:\n",
    "                clusters_df = pd.read_csv(clusters_file)\n",
    "            except Exception as e:\n",
    "                # Record error and continue to next model\n",
    "                results[dataset][model] = create_empty_result(\n",
    "                    benchmark_clusters,\n",
    "                    benchmark_genes,\n",
    "                    f\"Failed - Error loading file: {str(e)}\",\n",
    "                )\n",
    "                continue\n",
    "\n",
    "            # Check for required columns\n",
    "            if \"cluster_id\" not in clusters_df.columns:\n",
    "                results[dataset][model] = create_empty_result(\n",
    "                    benchmark_clusters,\n",
    "                    benchmark_genes,\n",
    "                    \"Failed - Missing cluster_id column\",\n",
    "                )\n",
    "                continue\n",
    "\n",
    "            # Process model output\n",
    "            results[dataset][model] = compare_model_to_benchmark(\n",
    "                clusters_df, benchmark_clusters, benchmark_genes, clusters\n",
    "            )\n",
    "\n",
    "    return results\n",
    "\n",
    "\n",
    "def create_empty_result(benchmark_clusters, benchmark_genes, status=\"Failed\"):\n",
    "    \"\"\"Create a default result structure for failed analyses\"\"\"\n",
    "    return {\n",
    "        \"status\": status,\n",
    "        \"cluster_matches\": {},\n",
    "        \"gene_categories\": {},\n",
    "        \"total_clusters\": len(benchmark_clusters),\n",
    "        \"found_clusters\": 0,\n",
    "        \"found_cluster_percent\": 0.0,\n",
    "        \"total_genes\": len(benchmark_genes),\n",
    "        \"found_genes\": 0,\n",
    "        \"found_gene_percent\": 0.0,\n",
    "        \"novel_count\": 0,\n",
    "        \"uncharacterized_count\": 0,\n",
    "    }\n",
    "\n",
    "\n",
    "def compare_model_to_benchmark(\n",
    "    clusters_df, benchmark_clusters, benchmark_genes, benchmark_data\n",
    "):\n",
    "    \"\"\"Compare model output to benchmark data and compute metrics\"\"\"\n",
    "    # Find all columns that might contain genes\n",
    "    gene_columns = [\n",
    "        col\n",
    "        for col in clusters_df.columns\n",
    "        if any(term in col.lower() for term in [\"gene\", \"genes\"])\n",
    "    ]\n",
    "\n",
    "    # Convert cluster IDs to strings for comparison\n",
    "    clusters_df[\"cluster_id_str\"] = clusters_df[\"cluster_id\"].astype(str)\n",
    "\n",
    "    # Initialize tracking\n",
    "    cluster_matches = {}\n",
    "    found_clusters = []\n",
    "    gene_categories = {}\n",
    "    found_genes = []  # This will now only include properly categorized genes\n",
    "    novel_count = 0\n",
    "    uncharacterized_count = 0\n",
    "    established_count = 0\n",
    "\n",
    "    # Check each benchmark cluster\n",
    "    for benchmark_cluster, cluster_info in benchmark_data.items():\n",
    "        benchmark_function = cluster_info[\"function\"].lower()\n",
    "        benchmark_genes_for_cluster = cluster_info[\"genes\"]\n",
    "\n",
    "        # Find matching clusters in model output\n",
    "        cluster_rows = clusters_df[clusters_df[\"cluster_id_str\"] == benchmark_cluster]\n",
    "\n",
    "        if not cluster_rows.empty:\n",
    "            # Found exact cluster match\n",
    "            cluster_matches[benchmark_cluster] = \"found\"\n",
    "            found_clusters.append(benchmark_cluster)\n",
    "\n",
    "            # Check for function match\n",
    "            function_match = check_function_match(cluster_rows, benchmark_function)\n",
    "            if function_match:\n",
    "                cluster_matches[benchmark_cluster] += \"_with_matching_function\"\n",
    "\n",
    "            # Check each gene in this cluster\n",
    "            for gene in benchmark_genes_for_cluster:\n",
    "                # Get the category using the find_gene_category function\n",
    "                gene_category = find_gene_category(cluster_rows, gene, gene_columns)\n",
    "\n",
    "                # Only count genes that are properly categorized into one of the three categories\n",
    "                if gene_category in [\"established\", \"novel_role\", \"uncharacterized\"]:\n",
    "                    found_genes.append(gene)\n",
    "\n",
    "                    # Count each category\n",
    "                    if gene_category == \"novel_role\":\n",
    "                        novel_count += 1\n",
    "                    elif gene_category == \"uncharacterized\":\n",
    "                        uncharacterized_count += 1\n",
    "                    elif gene_category == \"established\":\n",
    "                        established_count += 1\n",
    "\n",
    "                # Always record the category for the gene categorization table\n",
    "                gene_categories[gene] = gene_category\n",
    "        else:\n",
    "            # No exact match, check for similar function in other clusters\n",
    "            function_cluster = find_function_in_other_clusters(\n",
    "                clusters_df, benchmark_function\n",
    "            )\n",
    "            if function_cluster:\n",
    "                cluster_matches[benchmark_cluster] = (\n",
    "                    f\"similar_function_in_{function_cluster}\"\n",
    "                )\n",
    "            else:\n",
    "                cluster_matches[benchmark_cluster] = \"not_found\"\n",
    "\n",
    "    # Calculate metrics\n",
    "    total_clusters = len(benchmark_clusters)\n",
    "    found_cluster_count = len(found_clusters)\n",
    "    found_cluster_percent = (\n",
    "        (found_cluster_count / total_clusters) * 100 if total_clusters > 0 else 0\n",
    "    )\n",
    "\n",
    "    total_genes = len(benchmark_genes)\n",
    "    found_gene_count = len(set(found_genes))  # Ensure uniqueness\n",
    "    found_gene_percent = (\n",
    "        (found_gene_count / total_genes) * 100 if total_genes > 0 else 0\n",
    "    )\n",
    "\n",
    "    # Print summary with more detailed breakdown\n",
    "    print(\n",
    "        f\"    Found {found_cluster_count}/{total_clusters} clusters ({found_cluster_percent:.1f}%)\"\n",
    "    )\n",
    "    print(\n",
    "        f\"    Properly categorized genes: {found_gene_count}/{total_genes} ({found_gene_percent:.1f}%)\"\n",
    "    )\n",
    "    print(\n",
    "        f\"      Established: {established_count}, Novel role: {novel_count}, Uncharacterized: {uncharacterized_count}\"\n",
    "    )\n",
    "\n",
    "    return {\n",
    "        \"status\": \"Success\",\n",
    "        \"total_clusters\": total_clusters,\n",
    "        \"found_clusters\": found_cluster_count,\n",
    "        \"found_cluster_percent\": found_cluster_percent,\n",
    "        \"cluster_matches\": cluster_matches,\n",
    "        \"total_genes\": total_genes,\n",
    "        \"found_genes\": found_gene_count,\n",
    "        \"found_gene_percent\": found_gene_percent,\n",
    "        \"established_count\": established_count,\n",
    "        \"novel_count\": novel_count,\n",
    "        \"uncharacterized_count\": uncharacterized_count,\n",
    "        \"gene_categories\": gene_categories,\n",
    "    }\n",
    "\n",
    "\n",
    "def find_gene_category(cluster_rows, gene, gene_columns):\n",
    "    \"\"\"Find gene in cluster and determine its category\"\"\"\n",
    "    # Check each row in the cluster\n",
    "    for _, row in cluster_rows.iterrows():\n",
    "        # Check each specific category column\n",
    "        if \"novel_role_genes\" in row and pd.notna(row[\"novel_role_genes\"]):\n",
    "            gene_list = parse_gene_list(row[\"novel_role_genes\"])\n",
    "            if gene in gene_list:\n",
    "                return \"novel_role\"  # Found in novel_role category\n",
    "\n",
    "        if \"uncharacterized_genes\" in row and pd.notna(row[\"uncharacterized_genes\"]):\n",
    "            gene_list = parse_gene_list(row[\"uncharacterized_genes\"])\n",
    "            if gene in gene_list:\n",
    "                return \"uncharacterized\"  # Found in uncharacterized category\n",
    "\n",
    "        if \"established_genes\" in row and pd.notna(row[\"established_genes\"]):\n",
    "            gene_list = parse_gene_list(row[\"established_genes\"])\n",
    "            if gene in gene_list:\n",
    "                return \"established\"  # Found in established category\n",
    "\n",
    "    # If we reach here, the gene wasn't found in any of the three category columns\n",
    "\n",
    "    # Check if it's in any general gene column (for the gene categorization table)\n",
    "    for _, row in cluster_rows.iterrows():\n",
    "        for gene_col in gene_columns:\n",
    "            if gene_col in row and pd.notna(row[gene_col]):\n",
    "                gene_list = parse_gene_list(row[gene_col])\n",
    "                if gene in gene_list:\n",
    "                    return \"found_but_uncategorized\"  # Found in a general gene list but not categorized\n",
    "\n",
    "    # If not found anywhere\n",
    "    return \"missing_in_cluster\"\n",
    "\n",
    "\n",
    "def generate_summary_table(results):\n",
    "    \"\"\"Generate enhanced summary table with strict gene categorization metrics\"\"\"\n",
    "    rows = []\n",
    "\n",
    "    for dataset, models in results.items():\n",
    "        for model, data in models.items():\n",
    "            # Skip failed analyses\n",
    "            if data[\"status\"] != \"Success\":\n",
    "                row = {\n",
    "                    \"Dataset\": dataset,\n",
    "                    \"Model\": model,\n",
    "                    \"Status\": data[\"status\"],\n",
    "                    \"Clusters Found\": f\"0/{data['total_clusters']} (0.0%)\",\n",
    "                    \"Genes Found\": f\"0/{data['total_genes']} (0.0%)\",\n",
    "                    \"Established Genes\": 0,\n",
    "                    \"Novel Role Genes\": 0,\n",
    "                    \"Uncharacterized Genes\": 0,\n",
    "                    \"Novel/Unchar Count\": 0,\n",
    "                    \"Novel/Unchar %\": \"0.0%\",\n",
    "                }\n",
    "                rows.append(row)\n",
    "                continue\n",
    "\n",
    "            # Calculate the sum of novel and uncharacterized genes\n",
    "            novel_unchar_count = data[\"novel_count\"] + data[\"uncharacterized_count\"]\n",
    "\n",
    "            # Calculate the percentage of novel and uncharacterized genes out of total genes\n",
    "            novel_unchar_percent = (\n",
    "                (novel_unchar_count / data[\"total_genes\"]) * 100\n",
    "                if data[\"total_genes\"] > 0\n",
    "                else 0\n",
    "            )\n",
    "\n",
    "            # Create a row with all metrics\n",
    "            row = {\n",
    "                \"Dataset\": dataset,\n",
    "                \"Model\": model,\n",
    "                \"Status\": data[\"status\"],\n",
    "                \"Clusters Found\": f\"{data['found_clusters']}/{data['total_clusters']} ({data['found_cluster_percent']:.1f}%)\",\n",
    "                \"Genes Found\": f\"{data['found_genes']}/{data['total_genes']} ({data['found_gene_percent']:.1f}%)\",\n",
    "                \"Established Genes\": data.get(\n",
    "                    \"established_count\", 0\n",
    "                ),  # Add established count\n",
    "                \"Novel Role Genes\": data[\"novel_count\"],\n",
    "                \"Uncharacterized Genes\": data[\"uncharacterized_count\"],\n",
    "                \"Novel/Unchar Count\": novel_unchar_count,\n",
    "                \"Novel/Unchar %\": f\"{novel_unchar_percent:.1f}%\",\n",
    "            }\n",
    "            rows.append(row)\n",
    "\n",
    "    # Convert to DataFrame\n",
    "    if rows:\n",
    "        return pd.DataFrame(rows)\n",
    "    return None\n",
    "\n",
    "\n",
    "def generate_cluster_table(results, project_root):\n",
    "    \"\"\"Generate a cluster information table with biological process and follow-up suggestion\"\"\"\n",
    "    # Collect all unique datasets and clusters\n",
    "    dataset_clusters = {}\n",
    "    all_models = set()\n",
    "\n",
    "    for dataset, models in results.items():\n",
    "        dataset_clusters[dataset] = set()\n",
    "        for model, data in models.items():\n",
    "            all_models.add(model)\n",
    "            if data[\"status\"] == \"Success\":\n",
    "                dataset_clusters[dataset].update(data[\"cluster_matches\"].keys())\n",
    "\n",
    "    # Sort models for consistent column order\n",
    "    sorted_models = sorted(all_models)\n",
    "\n",
    "    # Create rows for the table\n",
    "    rows = []\n",
    "    for dataset, clusters in dataset_clusters.items():\n",
    "        for cluster in sorted(clusters):\n",
    "            # Create a row for each dataset-cluster combination\n",
    "            row = {\"Dataset\": dataset, \"Cluster\": cluster}\n",
    "\n",
    "            # Add columns for each model\n",
    "            for model in sorted_models:\n",
    "                if (\n",
    "                    model in results[dataset]\n",
    "                    and results[dataset][model][\"status\"] == \"Success\"\n",
    "                ):\n",
    "                    # Get the biological process and follow-up suggestion\n",
    "                    process, followup = get_cluster_info(\n",
    "                        project_root, dataset, model, cluster\n",
    "                    )\n",
    "                    row[f\"{model}_biological_process\"] = process\n",
    "                    row[f\"{model}_follow_up\"] = followup\n",
    "                else:\n",
    "                    row[f\"{model}_biological_process\"] = \"N/A\"\n",
    "                    row[f\"{model}_follow_up\"] = \"N/A\"\n",
    "\n",
    "            rows.append(row)\n",
    "\n",
    "    # Convert to DataFrame\n",
    "    if rows:\n",
    "        return pd.DataFrame(rows)\n",
    "    return None\n",
    "\n",
    "\n",
    "def get_cluster_info(project_root, dataset, model, cluster):\n",
    "    \"\"\"Get both biological process and follow-up suggestion for a specific cluster\"\"\"\n",
    "    # Load the clusters file for this model using the provided function\n",
    "    clusters_df = load_clusters_data(project_root, dataset, model)\n",
    "\n",
    "    if clusters_df is None:\n",
    "        return \"File not found\", \"File not found\"\n",
    "\n",
    "    # Convert cluster IDs to strings for comparison\n",
    "    clusters_df[\"cluster_id_str\"] = clusters_df[\"cluster_id\"].astype(str)\n",
    "\n",
    "    # Find the matching cluster\n",
    "    cluster_rows = clusters_df[clusters_df[\"cluster_id_str\"] == cluster]\n",
    "\n",
    "    if cluster_rows.empty:\n",
    "        return \"Cluster not found\", \"Cluster not found\"\n",
    "\n",
    "    # Get biological process\n",
    "    process = \"No process found\"\n",
    "    for column in [\n",
    "        \"cluster_biological_process\",\n",
    "        \"biological_process\",\n",
    "        \"function\",\n",
    "        \"description\",\n",
    "    ]:\n",
    "        if column in cluster_rows.columns and pd.notna(cluster_rows.iloc[0][column]):\n",
    "            process = cluster_rows.iloc[0][column]\n",
    "            break\n",
    "\n",
    "    # Get follow-up suggestion\n",
    "    followup = \"No follow-up found\"\n",
    "    if \"follow_up_suggestion\" in cluster_rows.columns and pd.notna(\n",
    "        cluster_rows.iloc[0][\"follow_up_suggestion\"]\n",
    "    ):\n",
    "        followup = cluster_rows.iloc[0][\"follow_up_suggestion\"]\n",
    "\n",
    "    return process, followup\n",
    "\n",
    "\n",
    "def generate_streamlined_gene_table(results):\n",
    "    \"\"\"Generate a streamlined gene categorization table as requested\"\"\"\n",
    "    # Collect all unique datasets and genes\n",
    "    dataset_genes = {}\n",
    "    all_models = set()\n",
    "\n",
    "    for dataset, models in results.items():\n",
    "        dataset_genes[dataset] = set()\n",
    "        for model, data in models.items():\n",
    "            all_models.add(model)\n",
    "            if data[\"status\"] == \"Success\":\n",
    "                dataset_genes[dataset].update(data[\"gene_categories\"].keys())\n",
    "\n",
    "    # Sort models for consistent column order\n",
    "    sorted_models = sorted(all_models)\n",
    "\n",
    "    # Create rows for the table\n",
    "    rows = []\n",
    "    for dataset, genes in dataset_genes.items():\n",
    "        for gene in sorted(genes):\n",
    "            # Create a row for each dataset-gene combination\n",
    "            row = {\"Dataset\": dataset, \"Gene\": gene}\n",
    "\n",
    "            # Add a column for each model\n",
    "            for model in sorted_models:\n",
    "                if (\n",
    "                    model in results[dataset]\n",
    "                    and results[dataset][model][\"status\"] == \"Success\"\n",
    "                ):\n",
    "                    gene_categories = results[dataset][model][\"gene_categories\"]\n",
    "                    # Get this gene's category for this model (or 'missing_cluster' if not found)\n",
    "                    category = gene_categories.get(gene, \"missing_from_all_clusters\")\n",
    "                    row[model] = category\n",
    "                else:\n",
    "                    row[model] = \"N/A\"  # Model analysis failed\n",
    "\n",
    "            rows.append(row)\n",
    "\n",
    "    # Convert to DataFrame\n",
    "    if rows:\n",
    "        return pd.DataFrame(rows)\n",
    "    return None\n",
    "\n",
    "\n",
    "def generate_reports(project_root, results):\n",
    "    \"\"\"Generate all summary reports\"\"\"\n",
    "    # Basic summary table\n",
    "    summary_df = generate_summary_table(results)\n",
    "    if summary_df is not None:\n",
    "        print(\"\\n=== SUMMARY TABLE ===\")\n",
    "        print(summary_df.to_string())\n",
    "\n",
    "    # Generate streamlined gene categorization table\n",
    "    gene_table = generate_streamlined_gene_table(results)\n",
    "    if gene_table is not None:\n",
    "        print(\"\\n=== GENE CATEGORIZATION TABLE ===\")\n",
    "        print(gene_table.to_string())\n",
    "\n",
    "    # Generate cluster information table\n",
    "    cluster_table = generate_cluster_table(results, project_root)\n",
    "    if cluster_table is not None:\n",
    "        print(\"\\n=== CLUSTER INFORMATION TABLE ===\")\n",
    "        print(cluster_table.to_string())\n",
    "\n",
    "    return summary_df, gene_table, cluster_table"
   ]
  },
  {
   "cell_type": "code",
   "execution_count": 48,
   "id": "cb1fba90",
   "metadata": {},
   "outputs": [
    {
     "name": "stdout",
     "output_type": "stream",
     "text": [
      "\n",
      "Analyzing dataset: funk\n",
      "\n",
      "Analyzing dataset: schaffer\n",
      "\n",
      "Analyzing dataset: wainberg\n",
      "  Checking model: claude-3-7-sonnet-20250219\n",
      "    Found 6/6 clusters (100.0%)\n",
      "    Properly categorized genes: 7/7 (100.0%)\n",
      "      Established: 3, Novel role: 3, Uncharacterized: 1\n",
      "  Checking model: claude-3-5-haiku-20241022\n",
      "    Found 6/6 clusters (100.0%)\n",
      "    Properly categorized genes: 4/7 (57.1%)\n",
      "      Established: 2, Novel role: 1, Uncharacterized: 1\n",
      "  Checking model: gemini-2.5-flash-preview-04-17\n",
      "    Found 5/6 clusters (83.3%)\n",
      "    Properly categorized genes: 6/7 (85.7%)\n",
      "      Established: 3, Novel role: 3, Uncharacterized: 0\n",
      "  Checking model: gemini-2.5-pro-preview-03-25\n",
      "    Found 6/6 clusters (100.0%)\n",
      "    Properly categorized genes: 6/7 (85.7%)\n",
      "      Established: 1, Novel role: 5, Uncharacterized: 0\n",
      "  Checking model: gpt-4.1\n",
      "    Found 6/6 clusters (100.0%)\n",
      "    Properly categorized genes: 4/7 (57.1%)\n",
      "      Established: 2, Novel role: 2, Uncharacterized: 0\n",
      "  Checking model: gpt-4o\n",
      "    Found 6/6 clusters (100.0%)\n",
      "    Properly categorized genes: 4/7 (57.1%)\n",
      "      Established: 2, Novel role: 2, Uncharacterized: 0\n",
      "  Checking model: o3-mini\n",
      "    Found 6/6 clusters (100.0%)\n",
      "    Properly categorized genes: 7/7 (100.0%)\n",
      "      Established: 3, Novel role: 4, Uncharacterized: 0\n",
      "  Checking model: o4-mini\n",
      "    Found 6/6 clusters (100.0%)\n",
      "    Properly categorized genes: 7/7 (100.0%)\n",
      "      Established: 3, Novel role: 4, Uncharacterized: 0\n",
      "  Checking model: claude-3-7-sonnet-20250219\n",
      "    Found 2/2 clusters (100.0%)\n",
      "    Properly categorized genes: 2/2 (100.0%)\n",
      "      Established: 0, Novel role: 1, Uncharacterized: 1\n",
      "  Checking model: claude-3-5-haiku-20241022\n",
      "    Found 2/2 clusters (100.0%)\n",
      "    Properly categorized genes: 2/2 (100.0%)\n",
      "      Established: 0, Novel role: 0, Uncharacterized: 2\n",
      "  Checking model: gemini-2.5-flash-preview-04-17\n",
      "    Found 2/2 clusters (100.0%)\n",
      "    Properly categorized genes: 1/2 (50.0%)\n",
      "      Established: 0, Novel role: 1, Uncharacterized: 0\n",
      "  Checking model: gemini-2.5-pro-preview-03-25\n",
      "    Found 2/2 clusters (100.0%)\n",
      "    Properly categorized genes: 1/2 (50.0%)\n",
      "      Established: 0, Novel role: 1, Uncharacterized: 0\n",
      "  Checking model: gpt-4.1\n",
      "    Found 2/2 clusters (100.0%)\n",
      "    Properly categorized genes: 2/2 (100.0%)\n",
      "      Established: 0, Novel role: 1, Uncharacterized: 1\n",
      "  Checking model: gpt-4o\n",
      "    Found 2/2 clusters (100.0%)\n",
      "    Properly categorized genes: 2/2 (100.0%)\n",
      "      Established: 0, Novel role: 1, Uncharacterized: 1\n",
      "  Checking model: o3-mini\n",
      "    Found 2/2 clusters (100.0%)\n",
      "    Properly categorized genes: 2/2 (100.0%)\n",
      "      Established: 0, Novel role: 1, Uncharacterized: 1\n",
      "  Checking model: o4-mini\n",
      "    Found 2/2 clusters (100.0%)\n",
      "    Properly categorized genes: 2/2 (100.0%)\n",
      "      Established: 0, Novel role: 1, Uncharacterized: 1\n",
      "  Checking model: claude-3-7-sonnet-20250219\n",
      "    Found 2/2 clusters (100.0%)\n",
      "    Properly categorized genes: 2/2 (100.0%)\n",
      "      Established: 1, Novel role: 0, Uncharacterized: 1\n",
      "  Checking model: claude-3-5-haiku-20241022\n",
      "    Found 2/2 clusters (100.0%)\n",
      "    Properly categorized genes: 2/2 (100.0%)\n",
      "      Established: 1, Novel role: 0, Uncharacterized: 1\n",
      "  Checking model: gemini-2.5-flash-preview-04-17\n",
      "    Found 2/2 clusters (100.0%)\n",
      "    Properly categorized genes: 2/2 (100.0%)\n",
      "      Established: 2, Novel role: 0, Uncharacterized: 0\n",
      "  Checking model: gemini-2.5-pro-preview-03-25\n",
      "    Found 2/2 clusters (100.0%)\n",
      "    Properly categorized genes: 1/2 (50.0%)\n",
      "      Established: 1, Novel role: 0, Uncharacterized: 0\n",
      "  Checking model: gpt-4.1\n",
      "    Found 2/2 clusters (100.0%)\n",
      "    Properly categorized genes: 2/2 (100.0%)\n",
      "      Established: 2, Novel role: 0, Uncharacterized: 0\n",
      "  Checking model: gpt-4o\n",
      "    Found 2/2 clusters (100.0%)\n",
      "    Properly categorized genes: 2/2 (100.0%)\n",
      "      Established: 1, Novel role: 1, Uncharacterized: 0\n",
      "  Checking model: o3-mini\n",
      "    Found 2/2 clusters (100.0%)\n",
      "    Properly categorized genes: 2/2 (100.0%)\n",
      "      Established: 2, Novel role: 0, Uncharacterized: 0\n",
      "  Checking model: o4-mini\n",
      "    Found 2/2 clusters (100.0%)\n",
      "    Properly categorized genes: 2/2 (100.0%)\n",
      "      Established: 2, Novel role: 0, Uncharacterized: 0\n",
      "\n",
      "=== SUMMARY TABLE ===\n",
      "     Dataset                           Model   Status Clusters Found   Genes Found  Established Genes  Novel Role Genes  Uncharacterized Genes  Novel/Unchar Count Novel/Unchar %\n",
      "0       funk      claude-3-7-sonnet-20250219  Success   6/6 (100.0%)  7/7 (100.0%)                  3                 3                      1                   4          57.1%\n",
      "1       funk       claude-3-5-haiku-20241022  Success   6/6 (100.0%)   4/7 (57.1%)                  2                 1                      1                   2          28.6%\n",
      "2       funk  gemini-2.5-flash-preview-04-17  Success    5/6 (83.3%)   6/7 (85.7%)                  3                 3                      0                   3          42.9%\n",
      "3       funk    gemini-2.5-pro-preview-03-25  Success   6/6 (100.0%)   6/7 (85.7%)                  1                 5                      0                   5          71.4%\n",
      "4       funk                         gpt-4.1  Success   6/6 (100.0%)   4/7 (57.1%)                  2                 2                      0                   2          28.6%\n",
      "5       funk                          gpt-4o  Success   6/6 (100.0%)   4/7 (57.1%)                  2                 2                      0                   2          28.6%\n",
      "6       funk                         o3-mini  Success   6/6 (100.0%)  7/7 (100.0%)                  3                 4                      0                   4          57.1%\n",
      "7       funk                         o4-mini  Success   6/6 (100.0%)  7/7 (100.0%)                  3                 4                      0                   4          57.1%\n",
      "8   schaffer      claude-3-7-sonnet-20250219  Success   2/2 (100.0%)  2/2 (100.0%)                  0                 1                      1                   2         100.0%\n",
      "9   schaffer       claude-3-5-haiku-20241022  Success   2/2 (100.0%)  2/2 (100.0%)                  0                 0                      2                   2         100.0%\n",
      "10  schaffer  gemini-2.5-flash-preview-04-17  Success   2/2 (100.0%)   1/2 (50.0%)                  0                 1                      0                   1          50.0%\n",
      "11  schaffer    gemini-2.5-pro-preview-03-25  Success   2/2 (100.0%)   1/2 (50.0%)                  0                 1                      0                   1          50.0%\n",
      "12  schaffer                         gpt-4.1  Success   2/2 (100.0%)  2/2 (100.0%)                  0                 1                      1                   2         100.0%\n",
      "13  schaffer                          gpt-4o  Success   2/2 (100.0%)  2/2 (100.0%)                  0                 1                      1                   2         100.0%\n",
      "14  schaffer                         o3-mini  Success   2/2 (100.0%)  2/2 (100.0%)                  0                 1                      1                   2         100.0%\n",
      "15  schaffer                         o4-mini  Success   2/2 (100.0%)  2/2 (100.0%)                  0                 1                      1                   2         100.0%\n",
      "16  wainberg      claude-3-7-sonnet-20250219  Success   2/2 (100.0%)  2/2 (100.0%)                  1                 0                      1                   1          50.0%\n",
      "17  wainberg       claude-3-5-haiku-20241022  Success   2/2 (100.0%)  2/2 (100.0%)                  1                 0                      1                   1          50.0%\n",
      "18  wainberg  gemini-2.5-flash-preview-04-17  Success   2/2 (100.0%)  2/2 (100.0%)                  2                 0                      0                   0           0.0%\n",
      "19  wainberg    gemini-2.5-pro-preview-03-25  Success   2/2 (100.0%)   1/2 (50.0%)                  1                 0                      0                   0           0.0%\n",
      "20  wainberg                         gpt-4.1  Success   2/2 (100.0%)  2/2 (100.0%)                  2                 0                      0                   0           0.0%\n",
      "21  wainberg                          gpt-4o  Success   2/2 (100.0%)  2/2 (100.0%)                  1                 1                      0                   1          50.0%\n",
      "22  wainberg                         o3-mini  Success   2/2 (100.0%)  2/2 (100.0%)                  2                 0                      0                   0           0.0%\n",
      "23  wainberg                         o4-mini  Success   2/2 (100.0%)  2/2 (100.0%)                  2                 0                      0                   0           0.0%\n",
      "\n",
      "=== GENE CATEGORIZATION TABLE ===\n",
      "     Dataset      Gene claude-3-5-haiku-20241022 claude-3-7-sonnet-20250219 gemini-2.5-flash-preview-04-17 gemini-2.5-pro-preview-03-25             gpt-4.1              gpt-4o          o3-mini          o4-mini\n",
      "0       funk   AKIRIN2                novel_role                 novel_role                    established                   novel_role          novel_role          novel_role      established      established\n",
      "1       funk      BRAF        missing_in_cluster                 novel_role                     novel_role                   novel_role  missing_in_cluster  missing_in_cluster       novel_role       novel_role\n",
      "2       funk  C1orf131               established                established                    established                  established         established         established      established      established\n",
      "3       funk   C7orf26           uncharacterized            uncharacterized      missing_from_all_clusters                   novel_role  missing_in_cluster  missing_in_cluster       novel_role       novel_role\n",
      "4       funk    HNRNPD        missing_in_cluster                established                     novel_role                   novel_role          novel_role          novel_role       novel_role       novel_role\n",
      "5       funk      KRAS        missing_in_cluster                 novel_role                     novel_role                   novel_role  missing_in_cluster  missing_in_cluster       novel_role       novel_role\n",
      "6       funk     SETD2               established                established                    established           missing_in_cluster         established         established      established      established\n",
      "7   schaffer  C18orf21           uncharacterized            uncharacterized             missing_in_cluster           missing_in_cluster     uncharacterized     uncharacterized  uncharacterized  uncharacterized\n",
      "8   schaffer      DPP9           uncharacterized                 novel_role                     novel_role                   novel_role          novel_role          novel_role       novel_role       novel_role\n",
      "9   wainberg  C15orf57           uncharacterized            uncharacterized                    established           missing_in_cluster         established          novel_role      established      established\n",
      "10  wainberg   TMEM189               established                established                    established                  established         established         established      established      established\n",
      "\n",
      "=== CLUSTER INFORMATION TABLE ===\n",
      "    Dataset Cluster                             claude-3-5-haiku-20241022_biological_process                                                                                                                                                                                                                                                                                                                                                                                                                                                                                                                  claude-3-5-haiku-20241022_follow_up                  claude-3-7-sonnet-20250219_biological_process                                                                                                                                                                                                                                                                                                                                                                                                                                                                                                                                                                                                                                                                                                                                                                                                                                                                                                                                                                                                                                claude-3-7-sonnet-20250219_follow_up                                         gemini-2.5-flash-preview-04-17_biological_process                                                                                                                                                                                                                                                                                                                                                                                                                                                                                                                                                                                                                                                                                                                                                                                                                                                                                              gemini-2.5-flash-preview-04-17_follow_up                                      gemini-2.5-pro-preview-03-25_biological_process                                                                                                                                                                                                                                                                                                                                                                                                                                                                                                                                                                                                                                                                                                                                                                                                                                                                                                                                                                                                                                   gemini-2.5-pro-preview-03-25_follow_up                                                                                                                 gpt-4.1_biological_process                                                                                                                                                                                                                                                                                                                                                                                                                                                                                                                                                                                                                                                                                                                                                                                                                                                                                                           gpt-4.1_follow_up                              gpt-4o_biological_process                                                                                                                                                                                                                                                                                                                                                                                                                                                                                                                                                                                                                                                                  gpt-4o_follow_up                                                                       o3-mini_biological_process                                                                                                                                                                                                                                                                                                                                                                                                                                                                                                                                                                                                                                                                                                                                                                                                                                                                                                        o3-mini_follow_up                                                                                                         o4-mini_biological_process                                                                                                                                                                                                                                                                                                                                                                                                                                                                                                                                                                                                                                                                             o4-mini_follow_up\n",
      "0      funk     121                    Transcriptional Regulation and Chromatin Modification                                                                                                                                      This cluster reveals a strong coherence in transcriptional regulation and chromatin modification, with multiple transcription factors (GABPA, MAX, MYC, SP2) and chromatin-modifying enzymes (SETD2, ZMYND8) representing core pathway members. The presence of RNA processing proteins and stress response regulators suggests a complex regulatory network governing gene expression and cellular adaptation.                 Transcriptional regulation via MYC/MAX network                                                                                                     This cluster shows a strong signature of transcriptional regulation centered around the MYC/MAX network. MYC and MAX form a well-established heterodimer that regulates transcription of growth-related genes. The cluster includes several established transcription factors (GABPA, GABPB1, SP2) and chromatin regulators (SETD2, ZMYND8) that likely cooperate in MYC-dependent transcriptional programs. RNA-binding proteins (ILF3, HNRNPM) suggest coordination between transcription and RNA processing. Several genes with established roles in other pathways (KEAP1, DDA1, SPAG5) may represent novel connections to MYC-mediated transcription, particularly through protein degradation, oxidative stress response, and cell cycle regulation. The presence of metabolic regulators (SLC38A2) aligns with MYC's known role in metabolic reprogramming. This cluster reveals potential new regulatory mechanisms in the MYC transcriptional network.                                 Mitotic Cell Cycle Progression and Chromosome Segregation                                                                                                                                                                                   Cluster 121 is enriched for genes involved in Mitotic Cell Cycle Progression and Chromosome Segregation (Medium Confidence). Key established members include components of the mitotic spindle (SPAG5), cytokinesis (RAB11FIP4), cell cycle regulators (FAM32A), epigenetic modifiers (SETD2, N6AMT1), RNA processing factors (SON), and transcription factors (MYC, MAX, GABPA, GABPB1) that regulate cell cycle and growth. Several genes with functions in other pathways, such as E3 ligase component DDA1, microtubule regulator MEMO1, and chromatin reader ZMYND8, are identified as high-priority candidates for novel roles in this pathway, suggesting potential uncharacterized mechanisms regulating mitosis or chromosome segregation.                                Transcriptional Regulation and Chromatin Modification                                                                                                              Cluster 121 exhibits a High Confidence signature for 'Transcriptional Regulation and Chromatin Modification'. It contains numerous established transcription factors (MYC, MAX, GABPA, GABPB1, SP2, FOXN1, POU5F1B), chromatin modifiers/readers (SETD2, N6AMT1, ZMYND8), RNA processing factors (SON, ILF3, HNRNPM), and regulators of protein stability impacting transcription (KEAP1, DDA1), accounting for ~68% of the genes. No genes meet the criteria for UNCHARACTERIZED. Several genes with established roles in other processes (e.g., ZBTB11 - likely TF but poorly studied, RAB11FIP4 - trafficking, SPAG5 - mitosis, MEMO1 - migration, CCDC174 - neuronal dev?, FAM32A - apoptosis, SLC38A2 - transport) are flagged as potential NOVEL_ROLE candidates, suggesting potential crosstalk between transcription/chromatin regulation and other cellular processes like signaling, transport, metabolism, and cell cycle/cytoskeleton dynamics.                                                                         MYC-MAX transcriptional signaling network and chromatin regulation                                           Cluster 121 is highly enriched for genes with well-established roles in the MYC-MAX transcriptional network, including canonical transcriptional activators/repressors (MYC, MAX, GABPA/B1, SP2) and a major histone methyltransferase (SETD2) central to chromatin states influencing transcription. Additional genes in the cluster (e.g., SON, ILF3, HNRNPM, ZMYND8) further reinforce a theme of extended chromatin and RNA processing regulation, which converges on the control of gene expression and cell proliferation. CCDC174 and POU5F1B rank as the strongest uncharacterized candidates, having minimal published function. FAM32A and ZBTB11 have plausible but previously unrecognized links to this pathway, meriting further study. The overall clustering points to strong functional coherence centered on transcriptional and chromatin regulation programs.  Transcriptional regulation and chromatin modification                                                                                      Cluster 121 is highly confidently associated with transcriptional regulation and chromatin modification due to the presence of well-established pathway members such as MYC, MAX, SETD2, and members of the GABP transcription factor complex. The novel role for SP2 in this pathway is plausible due to its known DNA binding properties, suggesting its potential underexplored influence in transcriptional regulation. ZBTB11 is identified as uncharacterized, offering significant potential for novel functional discoveries in transcriptional and chromatin modification contexts.                                           Transcriptional regulation and epigenetic modification                                                                                                                                                                                                                         Cluster 121 demonstrates a dominant signal centered on transcriptional regulation and epigenetic modification. Established genes such as MYC, MAX, GABPA, SP2, GABPB1, SETD2, N6AMT1, SON, HNRNPM, and ZMYND8 provide a robust foundation for a transcription–chromatin network. In addition, several genes with well‐characterized roles in other processes (e.g., oxidative stress, cell migration, cytokinesis, and metabolism) emerge as potential novel contributors to this regulatory axis. These novel role candidates warrant further investigation to elucidate potential cross‐talk between classical transcriptional pathways and other cellular processes in interphase HeLa cells.                                      H3K36me3-mediated coupling of transcriptional elongation with co-transcriptional RNA splicing                                                                                                                                                                                                              Cluster 121 groups multiple chromatin writers/readers (SETD2, ZMYND8), splicing cofactors (SON, ILF3, HNRNPM), and general transcription regulators, pointing to a specific mechanism of H3K36me3-mediated coupling between elongation and pre-mRNA processing. High-priority follow-ups include poorly characterized zinc-finger/coactivator genes (ZBTB11, CCDC174, POU5F1B) and known methyltransferases or TFs (N6AMT1, MYC, GABPA) for potential new roles in this pathway.\n",
      "1      funk     149  Mitochondrial Respiratory Chain Complex Assembly and Electron Transport                                                                                                                                                                          This cluster demonstrates a strong coherence in mitochondrial respiratory chain complex assembly, with multiple established Complex I, III, and V subunits. The presence of assembly factors like DMAC1 and multiple respiratory chain complex subunits suggests a focused biological process centered on mitochondrial electron transport chain formation and maintenance.  Mitochondrial respiratory chain complex assembly and function                                                                     Cluster 149 shows a strong signature of mitochondrial respiratory chain complex assembly and function, with 7 established genes directly involved in respiratory complexes I, III, and V. The cluster contains components of Complex I (NDUFV2, NDUFA6, NDUFC1, DMAC1), Complex III (CYC1, UQCRFS1), and Complex V (ATP5ME). Two mitochondrial ribosomal proteins (MRPL57, MRPL55) are uncharacterized with potential specialized roles in translating respiratory chain components. Several genes with established functions in other pathways (KRAS, BRAF, RAD23B, LRPPRC, MRPL18, GATC) may have novel roles in regulating mitochondrial respiratory chain assembly or function, potentially linking signaling pathways, protein quality control, and mitochondrial translation to respiratory chain biogenesis. The highest priority candidates for follow-up are KRAS and BRAF, which could represent novel regulatory connections between oncogenic signaling and mitochondrial function.  Mitochondrial Electron Transport Chain / Oxidative Phosphorylation and related processes                                                                                                                 Cluster 149 is strongly enriched for genes involved in the mitochondrial Electron Transport Chain (ETC) and Oxidative Phosphorylation (OXPHOS), including components of Complexes I, III, and V, as well as factors required for complex assembly, mitochondrial translation (ribosomal proteins, tRNA synthesis, rRNA import), and mitochondrial potential. This pathway is assigned High Confidence, explaining 12 out of 19 genes. No genes were found to be uncharacterized based on available information. Several genes with established roles in other pathways (signaling, protein degradation, cytoskeleton, transcription) are present and classified as Novel Role candidates with varying priority for follow-up, based on the plausibility of their involvement in mitochondrial function or regulation.                                      Mitochondrial Respiration and Protein Synthesis  Cluster 149 exhibits a strong signature for 'Mitochondrial Respiration and Protein Synthesis' (High confidence), encompassing 12 established genes involved in electron transport chain complexes (I, III, V), complex assembly (DMAC1), mitochondrial ribosome components (MRPLs), tRNA modification (GATC), and mitochondrial RNA metabolism (LRPPRC). No genes meet the criteria for 'UNCHARACTERIZED'. Seven genes are classified as 'NOVEL_ROLE', potentially linking other cellular processes to mitochondrial state. NINL (microtubule organization) has the highest priority (6) for investigation due to plausible links to mitochondrial dynamics. RAD23B (ubiquitin receptor) and UBAC2 (ER function) have moderate priority (5), suggesting potential roles in mitochondrial quality control or ER-mitochondria contacts, respectively. KRAS/BRAF (MAPK signaling) have lower priority (4) as their metabolic links are known, while SNAPC1 and LSM11 (nuclear transcription/RNA processing) have minimal priority (1) due to lack of plausible connection.                                                                       Mitochondrial electron transport chain and oxidative phosphorylation                                                                                                                                           This gene cluster shows a high-confidence enrichment for mitochondrial electron transport chain and oxidative phosphorylation, as evidenced by numerous canonical genes for complexes I, III, and V (NDUFV2, NDUFA6, NDUFC1, DMAC1, CYC1, UQCRFS1, ATP5ME, LRPPRC, GATC). Two genes, MRPL55 and MRPL57, remain essentially uncharacterized and are high-priority targets for novel discovery in the context of mitochondrial function. UBAC2 and NINL have plausible but unestablished connections to this pathway and represent interesting leads for possible noncanonical roles in mitochondrial biology. The rest of the cluster contains genes with functions in RNA processing, cell signaling, or the proteasome, which are less directly related to the dominant process.                        Mitochondrial respiratory chain                                                                                                           The gene cluster 149 suggests a medium confidence pathway association with the mitochondrial respiratory chain. Established genes predominantly belong to the mitochondrial complexes I and III, pointing to a concerted function in electron transport and oxidative phosphorylation. Two genes, MRPL57 and MRPL55, lack detailed functional annotation, highlighting them as potential novel contributors to this pathway. Additionally, LRPPRC and DMAC1, despite having other established roles, may have previously underexplored connections within this pathway.                   Mitochondrial oxidative phosphorylation and respiratory chain complex assembly                                                                                                                                                                                                                                                                                       Cluster 149 displays a strong and coherent mitochondrial signature, with a majority of genes representing well-established components of the electron transport chain, its assembly (Complex I and III) and associated mitochondrial translation and tRNA charging functions. In contrast, a minority of genes (e.g., KRAS, BRAF, RAD23B, SNAPC1, NINL, LSM11, UBAC2) traditionally linked to other signaling or nuclear pathways emerge as potential novel contributors. Their co-clustering with mitochondrial machinery suggests promising avenues for further investigation into previously unappreciated mitochondrial roles.                                                      Mitochondrial electron transport chain assembly and oxidative phosphorylation                                                                                                                                                                                                                  Cluster 149 is dominated by mitochondrial oxidative phosphorylation, with core Complex I, III and V subunits, assembly factors, and mitoribosomal components. Two poorly annotated mitoribosomal proteins (MRPL57, MRPL55) emerge as high‐priority candidates for functional study. Several well‐characterized non‐mitochondrial genes (KRAS, BRAF, RAD23B, SNAPC1, NINL, LSM11, UBAC2) may have unrecognized roles in modulating mitochondrial function or OXPHOS assembly.\n",
      "2      funk     167                              Proteasome Assembly and Protein Degradation                                                                                                                                                                                                                This cluster represents a comprehensive collection of proteasome subunits and associated proteins, with a high-confidence pathway focused on proteasome assembly, protein degradation, and nuclear transport. AKIRIN2 emerges as a particularly interesting gene with a potential novel regulatory role in proteasome nuclear import.                               Proteasome assembly and function                                                                                                                                                                                                                                                                                            Cluster 167 shows a highly coherent biological signature centered on proteasome assembly and function. It contains 14 established proteasome genes, including all core components of the 20S proteasome complex (alpha and beta subunits) and POMP, a dedicated proteasome assembly chaperone. Two genes represent potential novel connections: AKIRIN2, recently discovered to function in nuclear proteasome import, and UBE2R2, an E2 ubiquitin-conjugating enzyme that may have undiscovered direct interactions with the proteasome beyond its established role in creating ubiquitinated substrates. The clustering of these genes suggests that proteasome localization and substrate delivery mechanisms may be functionally linked to core proteasome activity.                                                           Proteasomal protein degradation                                                                                                                                                                                                                                                                         Cluster 167 is highly enriched for genes involved in proteasomal protein degradation. The majority of genes are core components of the 20S proteasome (PSMA and PSMB subunits). POMP is an essential chaperone for proteasome assembly. AKIRIN2 is involved in nuclear import of proteasomes. UBE2R2 is an E2 ubiquitin-conjugating enzyme involved in targeting proteins for degradation by the proteasome. All genes have established roles within the ubiquitin-proteasome system or directly related processes essential for proteasomal degradation, resulting in a high confidence pathway assignment with all genes classified as ESTABLISHED members.                                                     Proteasome assembly and function                                                                                                                                                                                                                                                                                                                             Cluster 167 shows exceptionally high confidence for the 'Proteasome assembly and function' pathway. It comprises 13 core subunits of the 20S proteasome (PSMA1-7, PSMB1-4, PSMB6-7), the essential proteasome assembly chaperone POMP, and the ubiquitin-conjugating enzyme UBE2R2, which acts upstream in the ubiquitin-proteasome system. These 15 genes are classified as established members or functionally integral components. AKIRIN2, known for proteasome nuclear import and roles in other pathways like immunity, is flagged as potentially having a novel role or context-specific importance, meriting moderate priority for investigation based on its specific clustering with the core machinery in this phenotypic screen.  20S and 26S proteasome-mediated protein degradation (ubiquitin-dependent and -independent proteolysis, core particle assembly and import)                                              Cluster 167 is dominated by well-established structural subunits and assembly factors of the 20S core and 26S proteasome, indicating a strong signature for ubiquitin-dependent and -independent proteolysis, assembly, and function of the proteasome complex. AKIRIN2, while validated as a mediator of nuclear proteasome import, is less established as a canonical core component and may have regulatory roles worth deeper exploration in this context. UBE2R2, as a ubiquitin conjugating enzyme, connects upstream ubiquitin signaling to substrate selection for degradation, but its specific contributions and regulatory interactions in relation to proteasomal core activity remain less characterized, especially in the context of the observed phenotypic screen. No cluster members are uncharacterized, as all possess substantial functional information.                Proteasome-mediated protein degradation                                                                                                                                                                                                                                         Cluster 167 is dominated by genes involved in proteasome-mediated protein degradation, a critical cellular process essential for maintaining protein homeostasis. Most genes are components of the 20S core proteasome complex, thus establishing a high-confidence pathway. AKIRIN2 and UBE2R2 present novel roles within this pathway—AKIRIN2 for its nuclear proteasome import role and UBE2R2 for its ubiquitin-conjugating function.              Proteasome assembly and proteolytic degradation via the ubiquitin-proteasome system                                                                                                                                                                                                                                                                                                                                                                                                                                                          Cluster 167 is dominated by genes encoding the 20S proteasome core subunits and associated assembly factors, clearly indicating a role in proteasome-mediated protein degradation. All of these subunits along with AKIRIN2, which mediates proteasome nuclear import, are well established in this pathway. UBE2R2, despite its well-known function in ubiquitin conjugation, emerges as a candidate for a novel regulatory connection to proteasome function.                                                 20S proteasome core assembly and ubiquitin-proteasome–mediated protein degradation                                                                                                                                                                                                                                                                                        Cluster 167 is dominated by nearly all 20S proteasome core α/β subunits and the maturation chaperone POMP, together with the proteasome nuclear import adaptor AKIRIN2 and the ubiquitin-conjugating enzyme UBE2R2. This coherent signature points with high confidence to proteasome assembly, nuclear targeting, and ubiquitin-dependent protein degradation as the driving biology of this cluster.\n",
      "3      funk     197                               RNA Modification and Epigenetic Regulation                                                                                                              Cluster 197 reveals a high-confidence RNA modification and epigenetic regulation pathway, centered around m6A methylation (METTL3/METTL14) and transcriptional corepression (NCOR2). The cluster suggests complex interplay between RNA modification, chromatin organization, and post-translational protein modifications, with several genes presenting promising avenues for further investigation into novel regulatory mechanisms.                                RNA modification and processing                                                                                                This cluster reveals a medium-confidence RNA modification and processing pathway, anchored by the established m6A methyltransferase complex components METTL3 and METTL14, along with the RNA-binding protein HNRNPD. The presence of genes involved in diverse cellular processes suggests potential cross-talk between RNA modification and other pathways. UFL1 emerges as a high-priority candidate for investigation due to its established role in ribosome function and potential novel connection to RNA modification. VRK1's involvement in Cajal bodies (RNA processing centers) further supports the RNA processing theme. The cluster also contains minimally characterized genes like FITM1 and PTCHD4 that warrant investigation for potential roles in RNA metabolism. MCM3 and NCAPD3, while not classified as established pathway members, have functions in DNA replication and chromosome condensation that may indirectly affect RNA processing.                                            Cell Cycle Progression and Chromosome Dynamics  Cluster 197 shows a medium confidence enrichment for genes involved in Cell Cycle Progression and Chromosome Dynamics. Established members include SPAST (cytokinesis), NCAPD3 (mitotic chromosome structure), MCM3 (DNA replication), and VRK1 (cell cycle regulation, DNA damage, chromatin). Several genes with established roles in other pathways are also present, suggesting potential novel roles within this context. High-priority candidates for novel roles include FITM1 (lipid metabolism) and PTCHD4 (Hedgehog signaling), whose presence suggests potentially surprising and impactful connections to cell cycle and chromosome dynamics. Other novel role candidates (NCOR2, HNRNPD, METTL14, METTL3, UFL1) have more plausible or partially established links via transcriptional/RNA regulation or DNA damage response, but their specific contributions to the observed phenotype warrant further investigation.                         Regulation of Cell Cycle Progression and Chromosome Dynamics                                                                                                                                                                                                                                                                         Cluster 197 shows a high confidence signature for 'Regulation of Cell Cycle Progression and Chromosome Dynamics'. Established members include MCM3 (replication), NCAPD3 (chromosome condensation), VRK1 (cell cycle kinase), and SPAST (cytokinesis/NE assembly). PTCHD4 is classified as UNCHARACTERIZED due to minimal functional data. Several genes (FITM1, NCOR2, HNRNPD, METTL3, METTL14, UFL1) are classified as potentially having NOVEL_ROLEs, suggesting links between lipid metabolism (FITM1), transcription (NCOR2), RNA processing (HNRNPD, METTL3/14), and ufmylation/DDR (UFL1) with the core cell cycle and chromosome maintenance machinery represented by the established genes. FITM1 and PTCHD4 represent the highest priorities for uncovering potentially novel biology.                                                                                    Chromosome segregation and mitotic chromatin regulation  Cluster 197 is coherently enriched for genes involved in mitosis, particularly the regulation of chromosomal structure and segregation, including NCAPD3 (condensin-2 complex), MCM3 (DNA replication licensing), SPAST (microtubule severing in mitosis), and VRK1 (chromatin kinase). Several additional genes (METTL3, METTL14, HNRNPD, UFL1) have known functions in RNA modification, mRNA metabolism, or protein modification, with emerging or plausible but as-yet unconfirmed roles in chromatin and mitotic regulation. PTCHD4 stands out as the most uncharacterized gene relative to this pathway, presenting an opportunity for novel discovery if it is functionally linked to chromosome segregation phenotypes observed in the OPS screen. Other cluster members such as FITM1 and NCOR2 are likely unrelated to the dominant pathway, potentially reflecting secondary clustering or pleiotropic effects.      Chromosome condensation and cell cycle regulation                                                                                                                                                 Cluster 197 is characterized by genes involved in chromosome condensation and cell cycle regulation, suggesting a medium-confidence grouping around these processes. Established genes like NCAPD3 and VRK1, with clearly documented roles in these pathways, support this hypothesis. Additional genes, such as PTCHD4 and FITM1, are largely uncharacterized regarding this specific pathway, and novel roles are considered plausible but not strongly evidence-backed for genes like HNRNPD, MCM3, METTL14, METTL3, and UFL1.  Mitotic cell division focusing on cytokinesis, spindle disassembly, and chromosome condensation                                                                                                                                                                                                                                                                                                        Cluster 197 displays a coherent signature centered on mitotic cell division, particularly involving cytokinesis, spindle disassembly, and chromosome condensation. Established genes like SPAST, NCAPD3, MCM3, and VRK1 define the core mitotic machinery. Additional genes, although well characterized in other contexts (e.g., transcription regulation, mRNA methylation, hedgehog signaling, ufmylation, and lipid droplet formation), are flagged as potential novel regulators of mitosis. Their investigation may uncover new regulatory layers in the control of cell division in interphase HeLa cells.                                                                                    Mitotic chromosome condensation and cytokinesis                                                                                    Cluster 197 shows a loose enrichment for genes controlling mitotic chromosome condensation (NCAPD3) and cytokinesis (SPAST, VRK1). However, only 3/11 genes fit this theme directly, yielding low pathway confidence. The remainder are well characterized in other processes (RNA methylation, transcriptional repression, replication, lipid storage, hedgehog signaling, ufmylation) and represent candidates for novel roles in mitosis—particularly METTL3/METTL14 (m6A writers) and UFL1 (ufmylation of chromatin proteins), which may impact mitotic transcript regulation or chromatin compaction.\n",
      "4      funk      21                              Ribosome Biogenesis and Pre-rRNA Processing                                                                                                            This cluster represents a highly coherent collection of genes involved in ribosome biogenesis, specifically focused on small subunit (SSU) processome assembly and pre-rRNA processing. The majority of genes are directly involved in nucleolar RNA modification, rRNA processing, and ribosomal subunit maturation. The cluster demonstrates a strong, literature-supported biological theme with multiple established pathway members.                    Ribosome biogenesis and pre-rRNA processing                                                                                                                                                                                                                                           Cluster 21 shows a strong signature of ribosome biogenesis and pre-rRNA processing, with 17 established genes directly involved in this pathway. Many genes are components of the small subunit (SSU) processome, which is critical for 18S rRNA maturation and 40S ribosomal subunit assembly. The cluster also includes translation initiation factors (EIF3 complex members) that function downstream in the same pathway. Three uncharacterized genes (NOC4L, NOL10, RRP12) likely function in ribosome biogenesis based on their names and limited annotation. Three genes with established roles in other pathways (DDX18, NEPRO, INO80) may have novel connections to ribosome biogenesis, potentially linking this process to R-loop regulation, developmental signaling, and chromatin remodeling, respectively.                   Ribosomal RNA processing, ribosome assembly, and translation initiation                                    Cluster 21 is highly enriched for genes involved in Ribosomal RNA processing, ribosome assembly, and translation initiation, indicating this is the dominant biological pathway. A large proportion of the genes (25/39) are established members of these interconnected processes, supporting a high confidence pathway assignment. Three genes (RRP12, NOC4L, NOL10) have minimal to no published functional information and are flagged as high-priority uncharacterized candidates. Several genes with known roles in other pathways, such as DYRK1A (kinase, cell cycle), DDX18 (RNA helicase, R-loops, rDNA), and INO80 (chromatin remodeling, mitosis), are identified as potential novel members with plausible roles in regulating or linking the dominant pathway to other cellular processes, with DDX18 having a particularly strong rationale due to its known function at rDNA loci.                     Ribosome biogenesis (40S subunit maturation and rRNA processing)                                                                                                                                                                                             Cluster 21 exhibits a high-confidence signature for ribosome biogenesis, specifically 40S subunit maturation and rRNA processing. Approximately 64% (25/39) of the genes are established components or direct regulators of this process or closely related functions like translation initiation involving the 40S subunit. Five genes (ABT1, ESF1, NEPRO, SRFBP1, ZCCHC9) meet the criteria for being uncharacterized, with ABT1 having the highest priority due to potential transcriptional links. Nine genes have established roles elsewhere but are flagged for potential novel roles; the kinase DYRK1A and helicase DDX18 are prioritized highest (priority 7) due to plausible molecular functions in regulating or executing steps in ribosome biogenesis. NOC4L (priority 6) is also notable, having a known 60S role but appearing in this 40S-centric cluster.                                                                            Small subunit (SSU) ribosome biogenesis and 18S rRNA maturation                                                                                                  Cluster 21 is dominated by factors involved in small ribosomal subunit (SSU) biogenesis, pre-18S rRNA processing, and assembly. The majority of genes (over 60%) have well-established roles in this pathway, supporting high confidence in pathway identity. Several additional translation initiation factors (EIF3/EIF4) and RNA helicases are present, reflecting close functional ties between ribosome biogenesis and the initiation of translation. Notably, some classic mRNA export and transport genes (RAN, RAE1) co-clustered, highlighting underexplored mechanistic intersections between ribosomal subunit export and canonical nucleocytoplasmic trafficking. One gene (RBIS) remains poorly characterized in terms of precise molecular role in humans, making it a strong candidate for novel discovery.         Ribosome biogenesis and processing of pre-rRNA                                                                         The gene cluster primarily consists of components involved in ribosome biogenesis and pre-rRNA processing, with strong representation from the small subunit (SSU) processome components. Established genes include major players in pre-18S rRNA processing steps. While most genes are characterized, NOC4L and NOL10 lack detailed functional studies. DDX18 and UTP14A present potential novel roles, connecting their established functions with the dominant ribosome biogenesis pathway. This pathway is strongly supported by a significant number of well-documented genes in ribosome assembly.                                         Ribosome biogenesis and 40S ribosomal subunit maturation                                                                                                                                                                                        Cluster 21 exhibits a highly coherent signature for ribosome biogenesis, specifically the maturation of the 40S ribosomal subunit and processing of pre-18S rRNA. The majority of the genes are well-established components of the SSU processome and translation initiation machinery. A subset of genes, although well characterized in other biological contexts such as transcription regulation, chromatin remodeling, kinase signaling, and metabolism, co-cluster with these ribosome biogenesis factors, hinting at possible novel roles in this pathway. Additionally, a few genes lack functional annotation and are high-priority candidates for follow-up studies to define their contributions to ribosome assembly.                                                        Small subunit (40S) ribosomal subunit biogenesis and translation initiation                                                                                      Cluster 21 is overwhelmingly composed of small‐subunit ribosome biogenesis factors (SSU processome and late 40S maturation) plus translation initiation components (eIF3/eIF4). This yields a high‐confidence assignment to 40S ribosomal subunit biogenesis and the early steps of translation initiation. Three uncharacterized genes (RRP12, NOC4L, NOL10) stand out as gaps in the SSU processome. A set of transcriptional regulators and chromatin remodelers (ABT1, ESF1, DYRK1A, INO80, ZCCHC9) may play novel roles in Pol I transcription or nucleolar chromatin dynamics and merit follow-up.\n",
      "5      funk      37                mTOR/TORC1/TORC2 Signaling and Transcriptional Regulation                                                                                                                                                                                    This cluster represents a high-confidence mTOR signaling and transcriptional regulation network. Core mTORC1/mTORC2 complex members are prominently represented, with additional genes suggesting broader regulatory and trafficking connections. The cluster highlights the complex, multi-layered nature of mTOR signaling beyond canonical pathway components.                                         mTOR signaling pathway  Cluster 37 shows a strong enrichment for mTOR signaling pathway components, including the core kinase (MTOR) and essential components of both mTORC1 (RPTOR, MLST8, RHEB) and mTORC2 (RICTOR, MLST8) complexes. Also present are upstream regulators (PDPK1) and components of the GATOR2 complex (WDR24, SEH1L) that regulate mTOR in response to amino acids. The cluster reveals potential novel connections between mTOR signaling and membrane trafficking (TRAPPC and COG family proteins), suggesting that vesicular transport machinery may be coordinated with nutrient sensing. Particularly interesting is SLC4A7, which has recently been identified as providing bicarbonate for nucleotide synthesis downstream of mTORC1, representing a novel metabolic connection. The presence of SGF29 suggests potential epigenetic regulation linked to mTOR activity. Several integrator complex components (INTS9, INTS10, INTS11, INTS4, C7orf26) are also present, suggesting possible connections between mTOR signaling and transcriptional regulation.                                                                         Cluster not found                                                                                                                                                                                                                                                                                                                                                                                                                                                                                                                                                                                                                                                                                                                                                                                                                                                                                                                     Cluster not found                                                               mTOR signaling pathway                                                                                                                                      Cluster 37 exhibits a Medium confidence signature for the mTOR signaling pathway, anchored by the presence of core components MTOR, RPTOR, RICTOR, MLST8, RHEB, PDPK1, and regulators SEH1L, WDR24. No genes meet the strict criteria for being uncharacterized. The cluster integrates mTOR signaling with multiple downstream or related cellular processes, including vesicular trafficking (TRAPP, COG complexes), transcription and RNA processing (Integrator complex, SRSF3, HNRNPU, PTBP1, CDK13), protein folding (Prefoldin), metabolism (GARS1, SLC4A7), and cytoskeletal dynamics (MAP7D1, DYNLL1). Several genes involved in these associated processes, particularly the TRAPP and Integrator complexes, specific RNA processing factors, and the adapter protein DYNLL1, are prioritized (6-7) for investigation regarding potential novel roles in modulating or executing mTOR functions in this cellular context.                             mTOR signaling pathway (including mTORC1/2 complexes and their regulators, effectors, and upstream modulators)                                                                                                                                     Cluster 37 exhibits a high-confidence mTOR pathway signature, with many canonical mTORC1/mTORC2 complex members (MTOR, RPTOR, RICTOR, MLST8, RHEB, PDPK1), upstream regulators (SEH1L, WDR24), and new evidence of downstream metabolic effectors (SLC4A7). Several vesicle trafficking genes (TRAPPC8, TRAPPC11, TRAPPC3) are likely involved in membrane trafficking required for mTOR pathway function and may represent novel regulatory elements. One gene (MAP7D1) is currently poorly characterized and a strong candidate for discovery in this context. The cluster as a whole is highly cohesive for mTOR signaling but includes a set of trafficking and microtubule-associated proteins whose exact mechanistic integration into the pathway is either emerging or unknown.                                 mTOR signaling pathway                Cluster 37 predominantly features genes involved in the mTOR signaling pathway, a key regulator of cellular growth and metabolism. Several genes are well-established components of this pathway, including MTOR, RICTOR, RPTOR, and MLST8, which are core members of the mTOR complexes. Novel roles are suggested for SLC4A7, TRAPPC8, and COG3, which may provide new insights into the extracellular or intercompartmental regulation of mTOR signaling. The high confidence in this pathway designation is due to the presence of multiple established pathway components that collectively elucidate a central role in cell growth and autophagy regulation.        mTOR signaling pathway (integration of mTORC1 and mTORC2 regulation and nutrient sensing)  Cluster 37 is dominated by key mTOR signaling components including PDPK1, RICTOR, RPTOR, MLST8, RHEB, MTOR, SEH1L, WDR24, and SLC4A7—genes with well-documented roles in the assembly, activation, and function of the mTORC1 and mTORC2 complexes. This strong mTOR signature provides high confidence that the cluster’s dominant biological process is mTOR-mediated nutrient sensing and anabolic regulation. The remaining genes, although well characterized in other contexts (e.g., RNA splicing, vesicular trafficking, chromatin regulation), have not been classically linked to mTOR signaling. Their co-clustering suggests they may play novel or modulatory roles in integrating mTOR-driven signals with processes such as RNA processing, protein folding, and intracellular trafficking. These candidates merit focused follow-up studies to elucidate any additional regulatory connections to mTOR.                                                                                mTORC1/2 nutrient- and growth-factor signaling axis  Cluster 37 is dominated by high‐confidence mTOR signaling components spanning both mTORC1 and mTORC2 (MTOR, RPTOR, RICTOR, MLST8, RHEB, PDPK1) and key nutrient sensors (WDR24, SEH1L, SLC4A7). Two genes (ERH, MAP7D1) are virtually unstudied outside of a few reports and merit top priority for uncovering novel mTOR links. A set of vesicle-trafficking and motor proteins (DYNLL1, TRAPPC8, TRAPPC11, COG2/3/4) and the PKA regulator PRKAR1A score as mid‐priority candidates for modulating mTORC1 lysosomal recruitment or cross‐talk. The remainder are well characterized in other processes but lack strong evidence for a direct role in mTOR signaling and are deprioritized.\n",
      "6  schaffer   C5255                                       RNA Processing and tRNA Biogenesis                                                                                                                                                                                                                This cluster represents a highly coherent RNA processing and tRNA biogenesis pathway, with multiple established ribonuclease P and MRP complex components. The majority of genes are involved in tRNA maturation, pre-rRNA processing, and RNA modification, suggesting a tightly coordinated molecular machinery for RNA metabolism.                     tRNA processing via ribonuclease P complex                                                                                                                                                                                                                                                                                               This cluster shows a strong signature of tRNA processing via the ribonuclease P (RNase P) complex, with 9 established components of this complex present (RPP30, POP1, POP7, RPP14, RPP40, RPP38, POP5, POP4, and the putative component RPP25L). Interestingly, the cluster also contains two components of the EKC/KEOPS complex (OSGEP and GON7) that are involved in a different aspect of tRNA modification, suggesting a potential functional link between these two tRNA processing pathways. C18orf21 remains uncharacterized and represents a high-priority candidate for investigation in RNA processing. RNASEH1 and MAGED2 have established roles in other pathways but may have novel connections to tRNA processing that warrant further investigation.                                                                                   Unknown                                                                                                                                                                                                                                                                                                                                                                                                                                                                                                                                                                                                                                                                                                                                                                                                                                                                                                                    No follow-up found                                                                              Unknown                                                                                                                                                                                                                                                                                                                                                                                                                                                                                                                                                                                                                                                                                                                                                                                                                                                                                                                                                                                                                                                       No follow-up found                                                                           tRNA 5'-end processing and tRNA modification (t(6)A37 formation)                                                                                                                                 Cluster C5255 is highly enriched for canonical subunits of the ribonuclease P and MRP complexes (RPP30, POP1, POP7, RPP14, RPP40, RPP38, POP5, POP4, RPP25L), involved in tRNA 5'-end processing and pre-rRNA cleavage, as well as for subunits of the KEOPS complex (OSGEP, GON7), which catalyzes tRNA threonylcarbamoyladenosine (t(6)A37) modification. The cluster thus represents nuclear tRNA processing and modification as the dominant pathway with high confidence. C18orf21 is uncharacterized and merits high-priority investigation for potential roles in this pathway. RNASEH1 and MAGED2, both characterized in other biological contexts, are strong candidates for novel or previously unrecognized roles in nuclear tRNA biogenesis based on the phenotypic clustering.                    Ribonuclease P/MRP complex activity  Cluster C5255 reveals a dominant involvement in the ribonuclease P/MRP complex activity, with several established components of this pathway represented in the gene cluster. C18orf21 remains uncharacterized and may provide insights into unappreciated functions within the ribonuclease landscape. Novel roles are suggested for OSGEP and GON7, known for RNA modification, raising interest in their ribonuclease activity connection, while MAGED2 presents an outlier with its distinct established role yet plausible RNA regulatory function. Further analysis of RNASEH1 and RPP25L may consolidate understanding of these genes' links to the ribonuclease complex.                                                 tRNA maturation via RNase P and t6A modification                                                                                                                                                                                                                                                                                                  Cluster C5255 is dominated by genes that are core components of the RNase P complex and the KEOPS complex, which are critical for tRNA 5'-end cleavage and t6A modification, respectively. This strong representation of tRNA maturation machinery underpins a high confidence assignment of the dominant process. Additionally, RNASEH1 and MAGED2, despite established roles in other pathways, emerge as novel candidates for a potential unrecognized contribution to tRNA processing. C18orf21 remains uncharacterized and merits investigation as a possible new player in this essential RNA processing pathway.  RNase P/MRP-mediated cleavage of tRNA and rRNA precursors and threonylcarbamoyl-adenosine (t6A) modification by the KEOPS complex                                                                                                                                                                                                                                                                  Cluster C5255 is dominated by core RNase P/MRP subunits and t6A-modification factors (KEOPS), suggesting a coherent tRNA/rRNA maturation pathway (High confidence). Two poorly characterized genes (C18orf21, RPP25L) emerge as top candidates for novel RNase P/MRP components. RNASEH1 may play an auxiliary role in resolving R-loops to aid precursor processing, while MAGED2’s link is likely off-target or secondary.\n",
      "7  schaffer   C5415                       Type I Interferon Signaling and Antiviral Response                                                                                                                        This cluster represents a highly coherent group of genes central to type I interferon signaling. STAT1, STAT2, and IRF9 are canonical members of the ISGF3 transcription factor complex that mediates interferon-stimulated gene expression. DPP9 represents a potentially interesting gene with indirect connections to inflammatory responses that merits further investigation for potential interferon-related functions.                            Type I Interferon Signaling Pathway                                                                                                                                                                                                                                                                                                                                                                                                                                                                                    This cluster contains three established components of the type I interferon signaling pathway (STAT1, STAT2, and IRF9) that together form the ISGF3 transcription factor complex, which is essential for interferon-stimulated gene expression and antiviral responses. DPP9, primarily known for its role in inflammasome regulation, appears as a potential novel contributor to interferon signaling. This high-confidence pathway assignment is based on the presence of the complete canonical ISGF3 complex, which is the central mediator of type I interferon responses.                Type I Interferon signaling pathway (ISGF3 complex formation and function)                                                                                                                                                                                                                    Cluster C5415 is strongly associated with the Type I Interferon signaling pathway, specifically the formation and function of the ISGF3 transcription factor complex, as evidenced by the presence of core components STAT1, STAT2, and IRF9. These three genes are classified as ESTABLISHED members of this pathway. DPP9, a gene with known functions in inflammasome inhibition and pyroptosis, is also present in the cluster. DPP9 is classified as a NOVEL_ROLE gene, as its role in the context of Type I IFN signaling is not established. Its co-clustering suggests a potential functional interaction or modulation of the IFN response or related cellular processes, meriting further investigation.  Type I Interferon signaling pathway (ISGF3 complex formation and ISG transcription)                                                                                                                                                                                                                                                                                                                                                                                                                                                                                                                                                                                                                                                                            This cluster exhibits high confidence for the Type I Interferon signaling pathway, containing the three core components of the ISGF3 transcription factor complex (STAT1, STAT2, IRF9). DPP9, primarily known for its role in inflammasome regulation and pyroptosis inhibition, is classified as potentially having a novel role in this pathway, suggested by its phenotypic co-clustering.                                                                Type I interferon signaling and ISGF3-mediated antiviral gene transcription                                                                                                                                                                                                                                                                                                                                                                                                                     Cluster C5415 is centered on the type I interferon signaling pathway, specifically the formation and nuclear function of the ISGF3 transcription factor (STAT1, STAT2, IRF9)—all of which are canonical and well-established pathway components. DPP9 is not a recognized member of this pathway but has defined roles in inflammasome regulation and pyroptosis; its co-clustering suggests the potential for a novel role in modulating interferon-driven responses, meriting targeted investigation.                    Type I Interferon Signaling Pathway                                                                                                                                                                           Cluster C5415 predominantly involves the type I interferon signaling pathway, which is evidenced by the presence of established pathway genes STAT1, STAT2, and IRF9. These genes form the ISGF3 transcription factor complex, which is crucial for propagating antiviral responses upon interferon signaling. DPP9 is identified as a potentially novel contributor to this pathway, with a suggestive role in immune modulation but little direct evidence linking it to type I interferon responses.                                                       Type I Interferon mediated ISGF3 signaling                                                                                                                                                                                                                                                                                                                                                                                                                                                                                                                         Cluster C5415 predominantly represents type I interferon signaling, as evidenced by the central roles of STAT1, STAT2, and IRF9 in forming the ISGF3 transcription factor. DPP9, although characterized in inflammasome regulation and pyroptosis, emerges as a candidate for a novel function within this pathway, hinting at possible cross-talk between inflammatory and antiviral responses.                                             Type I interferon-induced JAK-STAT signaling via ISGF3 and ISRE-mediated transcription                                                                                                                                                                                                                                                                                                                                                                                                                                              C5415 is clearly driven by the type I IFN JAK-STAT pathway forming the ISGF3 complex (STAT1, STAT2, IRF9). DPP9, annotated in inflammasome inhibition, may represent a novel link between protease-mediated regulation and interferon signaling.\n",
      "8  wainberg    2067                                            Clathrin-mediated endocytosis       This cluster represents a highly coherent group of genes primarily involved in clathrin-mediated endocytosis. The majority of genes are established components of the AP-2 adaptor protein complex and associated endocytic machinery, with strong functional evidence for their roles in cargo selection, vesicle formation, and membrane trafficking. The cluster highlights multiple aspects of the endocytosis process, from membrane bending (FCHO2) to cargo recruitment (PICALM) and adaptor protein complex formation (AP-2 subunits).                                  Clathrin-mediated endocytosis                                                                                                                                                                                                                                                                                                                                                               This cluster shows a highly coherent signature of clathrin-mediated endocytosis (CME). The core components include the entire AP-2 adaptor complex (AP2A1, AP2A2, AP2B1, AP2M1, AP2S1), which is essential for cargo selection and clathrin coat assembly, along with established CME regulators PICALM and FCHO2. C15orf57 has recently been identified as a regulator of CME but remains incompletely characterized. AAGAB and AGFG1 have established roles in other vesicular trafficking processes but their specific functions in CME warrant further investigation. This cluster represents a comprehensive collection of proteins involved in the early stages of endocytic vesicle formation.                                                             Clathrin-mediated endocytosis                                                                                                                                                                                                                                                                         Cluster 2067 is highly enriched for genes involved in Clathrin-Mediated Endocytosis (CME). Eight genes (AP2A1, AP2A2, AP2B1, AP2M1, AP2S1, PICALM, FCHO2, C15orf57) are well-established components or regulators of the AP-2 complex and clathrin-coated vesicle formation. Two genes, AAGAB (involved in endocytic recycling) and AGFG1 (involved in vesicle fusion, RNA trafficking, HIV), have established roles in other processes but cluster with CME genes, suggesting potential novel roles within the CME pathway itself. AGFG1 represents a higher priority for investigation due to its less obvious connection to endocytosis compared to AAGAB.                                                                              Unknown                                                                                                                                                                                                                                                                                                                                                                                                                                                                                                                                                                                                                                                                                                                                                                                                                                                                                                                                                                                                                                                       No follow-up found                                       Clathrin-mediated endocytosis (CME) via adaptor protein complex 2 (AP-2) and early vesicle formation                                                                                                                             Cluster 2067 demonstrates a highly coherent signature for the clathrin-mediated endocytosis pathway, centering on AP-2 complex subunits and established accessory/regulatory proteins such as PICALM, FCHO2, and C15orf57. All but two genes (AAGAB, AGFG1) have well-documented roles in CME. AAGAB and AGFG1, although characterized in membrane trafficking or related processes, have not been firmly integrated into the canonical CME pathway and so represent candidates for discovering new mechanistic links. No genes in this cluster conform to the strict criteria for being truly uncharacterized; all have at least moderate published functional evidence. This cluster strongly implicates AP-2-mediated vesicle assembly as the phenotypic driver of the observed OPS pattern.                          Clathrin-mediated endocytosis                                                                         The cluster is characterized by genes involved in clathrin-mediated endocytosis, providing high-confidence identification of this pathway as dominant. The AP2 complex members (AP2A1, AP2A2, AP2B1, AP2M1, AP2S1) and PICALM are well-established components of the pathway. FCHO2 also functions prominently as an early component in pit formation. Potential novel roles include AAGAB, which may further elucidate its participation in endocytic processes, and C15orf57's connection to this pathway. AGFG1 presents a potential cross-pathway link warranting exploration for novel interactions.                                                                    Clathrin-mediated endocytosis                                                                                                                                                                                                                                                                                                                                                                                                                                                                                     Cluster 2067 shows a high confidence signal for clathrin-mediated endocytosis, indicated by multiple well-established core components (AP-2 complex subunits, PICALM, FCHO2, C15orf57, and AAGAB) that directly regulate clathrin-coated vesicle formation and cargo selection. AGFG1, though established in other vesicular trafficking contexts, emerges as a candidate for a novel role in CME, warranting further investigation.                                                                                    AP-2–mediated clathrin-coated vesicle formation                                                                                                                                                                                                                                                                                                                                              Cluster 2067 is dominated by core subunits of the AP-2 adaptor complex and early coat-nucleating factors (FCHO2, PICALM, C15orf57), indicating high-confidence involvement in clathrin-mediated endocytic vesicle formation. AGFG1 and AAGAB emerge as promising candidates for novel roles in AP-2–dependent endocytosis and warrant follow-up.\n",
      "9  wainberg    2213                                     Ether Lipid/Plasmalogen Biosynthesis  This cluster represents a highly coherent group of genes involved in ether lipid and plasmalogen biosynthesis. Multiple genes catalyze critical steps in the pathway, including fatty alcohol production (FAR1), initial acyl transfer (GNPAT, AGPS), ethanolamine phospholipid synthesis (EPT1, PCYT2), and plasmalogen desaturation (TMEM189). The cluster reveals a comprehensive view of the enzymatic steps required for ether lipid production, with potential novel roles for SEC14L1 and PEX7 in pathway regulation or protein trafficking.                   Ether lipid/plasmalogen biosynthesis pathway                                                                                                                                                                                                                                    This cluster shows a strong signature of the ether lipid/plasmalogen biosynthesis pathway, with 5 established genes (AGPS, FAR1, GNPAT, TMEM189, PEX7) directly involved in different steps of this process. AGPS and GNPAT catalyze the initial steps of ether lipid synthesis, FAR1 produces fatty alcohols essential for this pathway, TMEM189 functions as a plasmanylethanolamine desaturase, and PEX7 is required for peroxisomal import of enzymes like AGPS. The cluster also contains genes involved in phosphatidylethanolamine synthesis (EPT1, PCYT2) that may have additional roles in plasmalogen production, and SEC14L1, which may represent a novel connection to ether lipid transport or regulation. This clustering suggests functional coordination between conventional and ether phospholipid metabolism.                                     Ether lipid and phosphatidylethanolamine biosynthesis                                                                                                                                                                                                                                                                        Cluster 2213 is highly enriched for genes involved in the biosynthesis of ether lipids (plasmalogens) and phosphatidylethanolamine (PE). This includes key enzymes in the pathway (GNPAT, AGPS, FAR1, TMEM189, EPT1, PCYT2) and a gene required for peroxisomal import of pathway enzymes (PEX7). These genes represent different steps and cellular compartments involved in this lipid synthesis pathway, supporting a high-confidence assignment. SEC14L1, with known roles in innate immunity and cholinergic transport, is the only gene not directly linked to this pathway, suggesting a potential novel role in lipid metabolism or a related process.                                             Ether lipid and Plasmalogen Biosynthesis                                                                                                                                                                                                                                                                                                                                                                                                                 Cluster 2213 exhibits high confidence for the Ether lipid and Plasmalogen Biosynthesis pathway. Seven genes (AGPS, EPT1, FAR1, GNPAT, PCYT2, PEX7, TMEM189) are established components involved in peroxisomal and ER steps, substrate provision (fatty alcohols), precursor synthesis (CDP-ethanolamine), or peroxisomal import machinery essential for the pathway. SEC14L1, a lipid-binding protein with other known functions, is flagged as potentially having a novel role in this pathway (Priority 7), meriting investigation due to its co-clustering and potential lipid transport/regulatory function within this specific metabolic context.                                                                                      Ether lipid (plasmalogen) biosynthesis and remodeling                                                                    Cluster 2213 is dominated by genes with established, literature-supported roles in ether lipid biosynthesis, particularly the plasmalogen branch. Five genes (AGPS, FAR1, GNPAT, PEX7, TMEM189) are canonical components of this pathway, covering biosynthetic and peroxisomal transport processes. EPT1 and PCYT2, while involved in phosphatidylethanolamine (PE) biosynthesis, participate in the Kennedy pathway and also intersect with plasmalogen synthesis as EPT1 can catalyze synthesis of plasmanyl-PE. SEC14L1 stands out as a strong candidate for a novel connection, given its lipid-related domains and established roles in unrelated signaling and transport processes. There are no truly uncharacterized genes in this cluster. The presence of multiple core ether lipid genes leads to high confidence in the pathway assignment.               Ether lipid and plasmalogen biosynthesis                  This analysis identifies the ether lipid and plasmalogen biosynthesis pathway as the dominant biological process for cluster 2213. AGPS, FAR1, GNPAT, and TMEM189 are established members of this pathway with clear involvement in the synthesis steps. EPT1, PCYT2, and PEX7 are identified as genes with potential novel roles, suggesting they could contribute to ether lipid biosynthesis in ways not fully characterized. SEC14L1 presents a possible novel connection due to its lipid-binding properties, albeit with weaker evidence. Overall, this cluster shows a strong, coherent pathway with several promising avenues for further investigation.                                                             Ether Lipid/Plasmalogen Biosynthesis                                                                                                                                                                                                                                                                                                                                                                                                                Cluster 2213 shows a strong, high-confidence signature for the plasmalogen/ether lipid biosynthesis pathway. Seven genes (AGPS, EPT1, FAR1, GNPAT, PCYT2, PEX7, and TMEM189) are canonical members involved in distinct steps of this pathway from early substrate activation to final desaturation. The outlier, SEC14L1, is traditionally linked to innate immunity, suggesting a potential novel role at the intersection of immune signaling and lipid metabolism, which merits additional follow-up.                                                                              Peroxisomal–ER plasmalogen (ether lipid) biosynthesis                                                                                                                                                                                                                                                                                                                                 Cluster 2213 is driven by the stepwise biosynthesis of plasmalogens: peroxisomal import (PEX7), acyl‐DHAP and alkyl‐DHAP formation (GNPAT, AGPS), fatty alcohol production (FAR1), ER desaturation (TMEM189), and CDP-ethanolamine–dependent headgroup assembly (PCYT2, EPT1). SEC14L1 stands out as a potential novel regulator of plasmalogen distribution.\n",
      "\n",
      "Analysis complete!\n"
     ]
    }
   ],
   "source": [
    "# Load benchmark data\n",
    "benchmark_data = load_data(project_root)\n",
    "\n",
    "# Analyze model outputs\n",
    "results = analyze_model_output(project_root, benchmark_data)\n",
    "\n",
    "# Generate and save reports\n",
    "summary_df, gene_table, cluster_table = generate_reports(project_root, results)\n",
    "\n",
    "print(\"\\nAnalysis complete!\")"
   ]
  },
  {
   "cell_type": "code",
   "execution_count": 54,
   "id": "43d62c9c",
   "metadata": {},
   "outputs": [],
   "source": [
    "# Remove any quotes in the tables\n",
    "def clean_table(df):\n",
    "    \"\"\"Remove quotes from all string columns in the DataFrame\"\"\"\n",
    "    for col in df.select_dtypes(include=[\"object\"]).columns:\n",
    "        df[col] = df[col].str.replace('\"', \"\", regex=False)\n",
    "        df[col] = df[col].str.replace(\"'\", \"\", regex=False)\n",
    "    return df\n",
    "\n",
    "\n",
    "# Clean the tables\n",
    "summary_df = clean_table(summary_df)\n",
    "gene_table = clean_table(gene_table)\n",
    "cluster_table = clean_table(cluster_table)"
   ]
  },
  {
   "cell_type": "code",
   "execution_count": 56,
   "id": "4d3dde53",
   "metadata": {},
   "outputs": [
    {
     "name": "stdout",
     "output_type": "stream",
     "text": [
      "Results saved to /lab/barcheese01/mdiberna/mozzarellm/data/benchmarks/analysis_results.xlsx\n"
     ]
    }
   ],
   "source": [
    "# save all the tables to excel sheets\n",
    "output_file = os.path.join(project_root, \"data/benchmarks/analysis_results.xlsx\")\n",
    "with pd.ExcelWriter(output_file) as writer:\n",
    "    summary_df.to_excel(writer, sheet_name=\"Summary\", index=False)\n",
    "    gene_table.to_excel(writer, sheet_name=\"Gene Categorization\", index=False)\n",
    "    cluster_table.to_excel(writer, sheet_name=\"Cluster Information\", index=False)\n",
    "print(f\"Results saved to {output_file}\")"
   ]
  },
  {
   "cell_type": "code",
   "execution_count": 49,
   "id": "23cb4cd4",
   "metadata": {},
   "outputs": [
    {
     "data": {
      "image/png": "[encoded data removed]",
      "text/plain": [
       "<Figure size 1400x1200 with 2 Axes>"
      ]
     },
     "metadata": {},
     "output_type": "display_data"
    }
   ],
   "source": [
    "import matplotlib.pyplot as plt\n",
    "import seaborn as sns\n",
    "import pandas as pd\n",
    "from matplotlib.ticker import MaxNLocator\n",
    "from matplotlib.lines import Line2D\n",
    "import matplotlib.colors as mcolors\n",
    "\n",
    "# Extract percentages from strings\n",
    "summary_df[\"Novel/Unchar %\"] = (\n",
    "    summary_df[\"Novel/Unchar %\"].str.rstrip(\"%\").astype(float)\n",
    ")\n",
    "\n",
    "# Extract Genes Found percentage from the string format \"X/Y (Z%)\"\n",
    "summary_df[\"Genes Found %\"] = summary_df[\"Genes Found\"].apply(\n",
    "    lambda x: float(x.split(\"(\")[1].split(\"%\")[0])\n",
    ")\n",
    "\n",
    "# Create a model type mapping\n",
    "model_types = {\n",
    "    \"claude-3-7-sonnet-20250219\": \"Claude\",\n",
    "    \"claude-3-5-haiku-20241022\": \"Claude\",\n",
    "    \"gemini-2.5-flash-preview-04-17\": \"Gemini\",\n",
    "    \"gemini-2.5-pro-preview-03-25\": \"Gemini\",\n",
    "    \"gpt-4.1\": \"GPT\",\n",
    "    \"gpt-4o\": \"GPT\",\n",
    "    \"o3-mini\": \"GPT\",\n",
    "    \"o4-mini\": \"GPT\",\n",
    "}\n",
    "\n",
    "# Add model type column\n",
    "summary_df[\"Model Type\"] = summary_df[\"Model\"].map(model_types)\n",
    "\n",
    "# Define base colors for each model type\n",
    "type_base_colors = {\n",
    "    \"Claude\": \"#9467bd\",  # Purple\n",
    "    \"Gemini\": \"#2ca02c\",  # Green\n",
    "    \"GPT\": \"#d62728\",  # Red\n",
    "}\n",
    "\n",
    "# Group models by type\n",
    "models_by_type = {}\n",
    "for model, model_type in model_types.items():\n",
    "    if model_type not in models_by_type:\n",
    "        models_by_type[model_type] = []\n",
    "    models_by_type[model_type].append(model)\n",
    "\n",
    "# Create different shades for each model within the same family\n",
    "model_colors = {}\n",
    "for model_type, models in models_by_type.items():\n",
    "    base_color = mcolors.to_rgb(type_base_colors[model_type])\n",
    "\n",
    "    # Create shades based on number of models\n",
    "    if len(models) == 2:\n",
    "        # For 2 models: one darker, one lighter\n",
    "        model_colors[models[0]] = mcolors.to_hex(\n",
    "            [c * 0.7 for c in base_color]\n",
    "        )  # Darker\n",
    "        model_colors[models[1]] = mcolors.to_hex(\n",
    "            [min(1.0, c * 1.3) for c in base_color]\n",
    "        )  # Lighter\n",
    "    elif len(models) == 4:  # For GPT with 4 models\n",
    "        # Create 4 shades from dark to light\n",
    "        shadings = [0.6, 0.8, 1.0, 1.2]\n",
    "        for i, model in enumerate(models):\n",
    "            shade_factor = shadings[i]\n",
    "            model_colors[model] = mcolors.to_hex(\n",
    "                [min(1.0, c * shade_factor) for c in base_color]\n",
    "            )\n",
    "    else:\n",
    "        # If just one model, use the base color\n",
    "        for model in models:\n",
    "            model_colors[model] = type_base_colors[model_type]\n",
    "\n",
    "# Set the style\n",
    "sns.set(style=\"whitegrid\")\n",
    "\n",
    "# Create a figure with two panels\n",
    "fig, (ax1, ax2) = plt.subplots(2, 1, figsize=(14, 12), sharex=True)\n",
    "\n",
    "# Panel 1: Novel/Uncharacterized Genes\n",
    "sns.barplot(\n",
    "    data=summary_df,\n",
    "    x=\"Dataset\",\n",
    "    y=\"Novel/Unchar %\",\n",
    "    hue=\"Model\",\n",
    "    palette=model_colors,\n",
    "    ax=ax1,\n",
    ")\n",
    "\n",
    "# Set the title and labels for panel 1\n",
    "ax1.set_title(\"Novel/Uncharacterized Gene Discovery by Model and Dataset\", fontsize=16)\n",
    "ax1.set_ylabel(\"Novel/Uncharacterized Genes (%)\", fontsize=14)\n",
    "ax1.set_ylim(0, 100)  # Slightly higher to give space at the top\n",
    "ax1.yaxis.set_major_formatter(plt.FuncFormatter(lambda x, _: f\"{int(x)}%\"))\n",
    "ax1.yaxis.set_major_locator(MaxNLocator(nbins=10, integer=True))\n",
    "ax1.get_legend().remove()\n",
    "\n",
    "# Panel 2: Genes Found\n",
    "sns.barplot(\n",
    "    data=summary_df,\n",
    "    x=\"Dataset\",\n",
    "    y=\"Genes Found %\",\n",
    "    hue=\"Model\",\n",
    "    palette=model_colors,\n",
    "    ax=ax2,\n",
    ")\n",
    "\n",
    "# Set the title and labels for panel 2\n",
    "ax2.set_title(\"Genes Found by Model and Dataset\", fontsize=16)\n",
    "ax2.set_xlabel(\"Dataset\", fontsize=14)\n",
    "ax2.set_ylabel(\"Genes Found (%)\", fontsize=14)\n",
    "ax2.set_ylim(0, 100)  # Slightly higher to give space at the top\n",
    "ax2.yaxis.set_major_formatter(plt.FuncFormatter(lambda x, _: f\"{int(x)}%\"))\n",
    "ax2.yaxis.set_major_locator(MaxNLocator(nbins=10, integer=True))\n",
    "ax2.get_legend().remove()\n",
    "\n",
    "# Create custom legend\n",
    "legend_elements = []\n",
    "\n",
    "# Add model elements - group by model type for organization\n",
    "for model_type in type_base_colors.keys():\n",
    "    # Add model type header\n",
    "    legend_elements.append(\n",
    "        Line2D([0], [0], color=\"white\", lw=0, label=f\"{model_type} Models:\")\n",
    "    )\n",
    "\n",
    "    # Add models of this type\n",
    "    for model in sorted(models_by_type[model_type]):\n",
    "        color = model_colors[model]\n",
    "        # Create a simplified model name for display\n",
    "        if \"claude\" in model:\n",
    "            display_name = (\n",
    "                model.replace(\"claude-\", \"Claude \")\n",
    "                .replace(\"-20250219\", \"\")\n",
    "                .replace(\"-20241022\", \"\")\n",
    "            )\n",
    "        elif \"gemini\" in model:\n",
    "            display_name = (\n",
    "                model.replace(\"gemini-\", \"Gemini \")\n",
    "                .replace(\"-preview-04-17\", \"\")\n",
    "                .replace(\"-preview-03-25\", \"\")\n",
    "            )\n",
    "        elif \"gpt\" in model:\n",
    "            display_name = model.replace(\"gpt-\", \"GPT \")\n",
    "        else:\n",
    "            display_name = model\n",
    "\n",
    "        legend_elements.append(Line2D([0], [0], color=color, lw=4, label=display_name))\n",
    "\n",
    "    # Add a separator after each group\n",
    "    if model_type != list(type_base_colors.keys())[-1]:\n",
    "        legend_elements.append(Line2D([0], [0], color=\"white\", lw=0, label=\"\"))\n",
    "\n",
    "# Add the legend outside the plot area, positioned between the two panels\n",
    "fig.legend(\n",
    "    handles=legend_elements, loc=\"center right\", bbox_to_anchor=(0.98, 0.5), fontsize=10\n",
    ")\n",
    "\n",
    "# Adjust layout for the legend and spacing between panels\n",
    "plt.tight_layout()\n",
    "plt.subplots_adjust(right=0.8, hspace=0.3)\n",
    "\n",
    "plt.show()"
   ]
  },
  {
   "cell_type": "code",
   "execution_count": null,
   "id": "f34a516d",
   "metadata": {},
   "outputs": [],
   "source": []
  }
 ],
 "metadata": {
  "kernelspec": {
   "display_name": "mozzarellm_editable",
   "language": "python",
   "name": "python3"
  },
  "language_info": {
   "codemirror_mode": {
    "name": "ipython",
    "version": 3
   },
   "file_extension": ".py",
   "mimetype": "text/x-python",
   "name": "python",
   "nbconvert_exporter": "python",
   "pygments_lexer": "ipython3",
   "version": "3.11.11"
  }
 },
 "nbformat": 4,
 "nbformat_minor": 5
}
