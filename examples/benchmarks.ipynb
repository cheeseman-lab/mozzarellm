{
 "cells": [
  {
   "cell_type": "code",
   "execution_count": 6,
   "id": "590b2d9b",
   "metadata": {},
   "outputs": [],
   "source": [
    "import os\n",
    "import sys\n",
    "\n",
    "notebook_dir = os.path.abspath(os.path.dirname(\"__file__\"))\n",
    "project_root = os.path.abspath(os.path.join(notebook_dir, \"..\"))\n",
    "if project_root not in sys.path:\n",
    "    sys.path.insert(0, project_root)"
   ]
  },
  {
   "cell_type": "code",
   "execution_count": 8,
   "id": "2e9831e2",
   "metadata": {},
   "outputs": [
    {
     "ename": "ImportError",
     "evalue": "Missing optional dependency 'openpyxl'.  Use pip or conda to install openpyxl.",
     "output_type": "error",
     "traceback": [
      "\u001b[31m---------------------------------------------------------------------------\u001b[39m",
      "\u001b[31mModuleNotFoundError\u001b[39m                       Traceback (most recent call last)",
      "\u001b[36mFile \u001b[39m\u001b[32m/lab/barcheese01/mdiberna/miniconda3/envs/mozzarellm_test/lib/python3.11/site-packages/pandas/compat/_optional.py:135\u001b[39m, in \u001b[36mimport_optional_dependency\u001b[39m\u001b[34m(name, extra, errors, min_version)\u001b[39m\n\u001b[32m    134\u001b[39m \u001b[38;5;28;01mtry\u001b[39;00m:\n\u001b[32m--> \u001b[39m\u001b[32m135\u001b[39m     module = \u001b[43mimportlib\u001b[49m\u001b[43m.\u001b[49m\u001b[43mimport_module\u001b[49m\u001b[43m(\u001b[49m\u001b[43mname\u001b[49m\u001b[43m)\u001b[49m\n\u001b[32m    136\u001b[39m \u001b[38;5;28;01mexcept\u001b[39;00m \u001b[38;5;167;01mImportError\u001b[39;00m:\n",
      "\u001b[36mFile \u001b[39m\u001b[32m/lab/barcheese01/mdiberna/miniconda3/envs/mozzarellm_test/lib/python3.11/importlib/__init__.py:126\u001b[39m, in \u001b[36mimport_module\u001b[39m\u001b[34m(name, package)\u001b[39m\n\u001b[32m    125\u001b[39m         level += \u001b[32m1\u001b[39m\n\u001b[32m--> \u001b[39m\u001b[32m126\u001b[39m \u001b[38;5;28;01mreturn\u001b[39;00m \u001b[43m_bootstrap\u001b[49m\u001b[43m.\u001b[49m\u001b[43m_gcd_import\u001b[49m\u001b[43m(\u001b[49m\u001b[43mname\u001b[49m\u001b[43m[\u001b[49m\u001b[43mlevel\u001b[49m\u001b[43m:\u001b[49m\u001b[43m]\u001b[49m\u001b[43m,\u001b[49m\u001b[43m \u001b[49m\u001b[43mpackage\u001b[49m\u001b[43m,\u001b[49m\u001b[43m \u001b[49m\u001b[43mlevel\u001b[49m\u001b[43m)\u001b[49m\n",
      "\u001b[36mFile \u001b[39m\u001b[32m<frozen importlib._bootstrap>:1204\u001b[39m, in \u001b[36m_gcd_import\u001b[39m\u001b[34m(name, package, level)\u001b[39m\n",
      "\u001b[36mFile \u001b[39m\u001b[32m<frozen importlib._bootstrap>:1176\u001b[39m, in \u001b[36m_find_and_load\u001b[39m\u001b[34m(name, import_)\u001b[39m\n",
      "\u001b[36mFile \u001b[39m\u001b[32m<frozen importlib._bootstrap>:1140\u001b[39m, in \u001b[36m_find_and_load_unlocked\u001b[39m\u001b[34m(name, import_)\u001b[39m\n",
      "\u001b[31mModuleNotFoundError\u001b[39m: No module named 'openpyxl'",
      "\nDuring handling of the above exception, another exception occurred:\n",
      "\u001b[31mImportError\u001b[39m                               Traceback (most recent call last)",
      "\u001b[36mCell\u001b[39m\u001b[36m \u001b[39m\u001b[32mIn[8]\u001b[39m\u001b[32m, line 4\u001b[39m\n\u001b[32m      1\u001b[39m \u001b[38;5;28;01mimport\u001b[39;00m\u001b[38;5;250m \u001b[39m\u001b[34;01mpandas\u001b[39;00m\u001b[38;5;250m \u001b[39m\u001b[38;5;28;01mas\u001b[39;00m\u001b[38;5;250m \u001b[39m\u001b[34;01mpd\u001b[39;00m\n\u001b[32m      3\u001b[39m \u001b[38;5;66;03m# Read the three Excel files\u001b[39;00m\n\u001b[32m----> \u001b[39m\u001b[32m4\u001b[39m funk = \u001b[43mpd\u001b[49m\u001b[43m.\u001b[49m\u001b[43mread_excel\u001b[49m\u001b[43m(\u001b[49m\u001b[43mos\u001b[49m\u001b[43m.\u001b[49m\u001b[43mpath\u001b[49m\u001b[43m.\u001b[49m\u001b[43mjoin\u001b[49m\u001b[43m(\u001b[49m\u001b[43mproject_root\u001b[49m\u001b[43m,\u001b[49m\u001b[43m \u001b[49m\u001b[33;43m'\u001b[39;49m\u001b[33;43mdata/benchmarks/1-s2.0-S0092867422013599-mmc4.xlsx\u001b[39;49m\u001b[33;43m'\u001b[39;49m\u001b[43m)\u001b[49m\u001b[43m)\u001b[49m\n\u001b[32m      5\u001b[39m \u001b[38;5;66;03m# wainberg = pd.read_excel('Supplementary_Data_2.xlsx', \u001b[39;00m\n\u001b[32m      6\u001b[39m schaffer = pd.read_excel(os.path.join(project_root, \u001b[33m'\u001b[39m\u001b[33mdata/benchmarks/U2OS Cell Map Assemblies.xlsx\u001b[39m\u001b[33m'\u001b[39m))\n",
      "\u001b[36mFile \u001b[39m\u001b[32m/lab/barcheese01/mdiberna/miniconda3/envs/mozzarellm_test/lib/python3.11/site-packages/pandas/io/excel/_base.py:495\u001b[39m, in \u001b[36mread_excel\u001b[39m\u001b[34m(io, sheet_name, header, names, index_col, usecols, dtype, engine, converters, true_values, false_values, skiprows, nrows, na_values, keep_default_na, na_filter, verbose, parse_dates, date_parser, date_format, thousands, decimal, comment, skipfooter, storage_options, dtype_backend, engine_kwargs)\u001b[39m\n\u001b[32m    493\u001b[39m \u001b[38;5;28;01mif\u001b[39;00m \u001b[38;5;129;01mnot\u001b[39;00m \u001b[38;5;28misinstance\u001b[39m(io, ExcelFile):\n\u001b[32m    494\u001b[39m     should_close = \u001b[38;5;28;01mTrue\u001b[39;00m\n\u001b[32m--> \u001b[39m\u001b[32m495\u001b[39m     io = \u001b[43mExcelFile\u001b[49m\u001b[43m(\u001b[49m\n\u001b[32m    496\u001b[39m \u001b[43m        \u001b[49m\u001b[43mio\u001b[49m\u001b[43m,\u001b[49m\n\u001b[32m    497\u001b[39m \u001b[43m        \u001b[49m\u001b[43mstorage_options\u001b[49m\u001b[43m=\u001b[49m\u001b[43mstorage_options\u001b[49m\u001b[43m,\u001b[49m\n\u001b[32m    498\u001b[39m \u001b[43m        \u001b[49m\u001b[43mengine\u001b[49m\u001b[43m=\u001b[49m\u001b[43mengine\u001b[49m\u001b[43m,\u001b[49m\n\u001b[32m    499\u001b[39m \u001b[43m        \u001b[49m\u001b[43mengine_kwargs\u001b[49m\u001b[43m=\u001b[49m\u001b[43mengine_kwargs\u001b[49m\u001b[43m,\u001b[49m\n\u001b[32m    500\u001b[39m \u001b[43m    \u001b[49m\u001b[43m)\u001b[49m\n\u001b[32m    501\u001b[39m \u001b[38;5;28;01melif\u001b[39;00m engine \u001b[38;5;129;01mand\u001b[39;00m engine != io.engine:\n\u001b[32m    502\u001b[39m     \u001b[38;5;28;01mraise\u001b[39;00m \u001b[38;5;167;01mValueError\u001b[39;00m(\n\u001b[32m    503\u001b[39m         \u001b[33m\"\u001b[39m\u001b[33mEngine should not be specified when passing \u001b[39m\u001b[33m\"\u001b[39m\n\u001b[32m    504\u001b[39m         \u001b[33m\"\u001b[39m\u001b[33man ExcelFile - ExcelFile already has the engine set\u001b[39m\u001b[33m\"\u001b[39m\n\u001b[32m    505\u001b[39m     )\n",
      "\u001b[36mFile \u001b[39m\u001b[32m/lab/barcheese01/mdiberna/miniconda3/envs/mozzarellm_test/lib/python3.11/site-packages/pandas/io/excel/_base.py:1567\u001b[39m, in \u001b[36mExcelFile.__init__\u001b[39m\u001b[34m(self, path_or_buffer, engine, storage_options, engine_kwargs)\u001b[39m\n\u001b[32m   1564\u001b[39m \u001b[38;5;28mself\u001b[39m.engine = engine\n\u001b[32m   1565\u001b[39m \u001b[38;5;28mself\u001b[39m.storage_options = storage_options\n\u001b[32m-> \u001b[39m\u001b[32m1567\u001b[39m \u001b[38;5;28mself\u001b[39m._reader = \u001b[38;5;28;43mself\u001b[39;49m\u001b[43m.\u001b[49m\u001b[43m_engines\u001b[49m\u001b[43m[\u001b[49m\u001b[43mengine\u001b[49m\u001b[43m]\u001b[49m\u001b[43m(\u001b[49m\n\u001b[32m   1568\u001b[39m \u001b[43m    \u001b[49m\u001b[38;5;28;43mself\u001b[39;49m\u001b[43m.\u001b[49m\u001b[43m_io\u001b[49m\u001b[43m,\u001b[49m\n\u001b[32m   1569\u001b[39m \u001b[43m    \u001b[49m\u001b[43mstorage_options\u001b[49m\u001b[43m=\u001b[49m\u001b[43mstorage_options\u001b[49m\u001b[43m,\u001b[49m\n\u001b[32m   1570\u001b[39m \u001b[43m    \u001b[49m\u001b[43mengine_kwargs\u001b[49m\u001b[43m=\u001b[49m\u001b[43mengine_kwargs\u001b[49m\u001b[43m,\u001b[49m\n\u001b[32m   1571\u001b[39m \u001b[43m\u001b[49m\u001b[43m)\u001b[49m\n",
      "\u001b[36mFile \u001b[39m\u001b[32m/lab/barcheese01/mdiberna/miniconda3/envs/mozzarellm_test/lib/python3.11/site-packages/pandas/io/excel/_openpyxl.py:552\u001b[39m, in \u001b[36mOpenpyxlReader.__init__\u001b[39m\u001b[34m(self, filepath_or_buffer, storage_options, engine_kwargs)\u001b[39m\n\u001b[32m    534\u001b[39m \u001b[38;5;129m@doc\u001b[39m(storage_options=_shared_docs[\u001b[33m\"\u001b[39m\u001b[33mstorage_options\u001b[39m\u001b[33m\"\u001b[39m])\n\u001b[32m    535\u001b[39m \u001b[38;5;28;01mdef\u001b[39;00m\u001b[38;5;250m \u001b[39m\u001b[34m__init__\u001b[39m(\n\u001b[32m    536\u001b[39m     \u001b[38;5;28mself\u001b[39m,\n\u001b[32m   (...)\u001b[39m\u001b[32m    539\u001b[39m     engine_kwargs: \u001b[38;5;28mdict\u001b[39m | \u001b[38;5;28;01mNone\u001b[39;00m = \u001b[38;5;28;01mNone\u001b[39;00m,\n\u001b[32m    540\u001b[39m ) -> \u001b[38;5;28;01mNone\u001b[39;00m:\n\u001b[32m    541\u001b[39m \u001b[38;5;250m    \u001b[39m\u001b[33;03m\"\"\"\u001b[39;00m\n\u001b[32m    542\u001b[39m \u001b[33;03m    Reader using openpyxl engine.\u001b[39;00m\n\u001b[32m    543\u001b[39m \n\u001b[32m   (...)\u001b[39m\u001b[32m    550\u001b[39m \u001b[33;03m        Arbitrary keyword arguments passed to excel engine.\u001b[39;00m\n\u001b[32m    551\u001b[39m \u001b[33;03m    \"\"\"\u001b[39;00m\n\u001b[32m--> \u001b[39m\u001b[32m552\u001b[39m     \u001b[43mimport_optional_dependency\u001b[49m\u001b[43m(\u001b[49m\u001b[33;43m\"\u001b[39;49m\u001b[33;43mopenpyxl\u001b[39;49m\u001b[33;43m\"\u001b[39;49m\u001b[43m)\u001b[49m\n\u001b[32m    553\u001b[39m     \u001b[38;5;28msuper\u001b[39m().\u001b[34m__init__\u001b[39m(\n\u001b[32m    554\u001b[39m         filepath_or_buffer,\n\u001b[32m    555\u001b[39m         storage_options=storage_options,\n\u001b[32m    556\u001b[39m         engine_kwargs=engine_kwargs,\n\u001b[32m    557\u001b[39m     )\n",
      "\u001b[36mFile \u001b[39m\u001b[32m/lab/barcheese01/mdiberna/miniconda3/envs/mozzarellm_test/lib/python3.11/site-packages/pandas/compat/_optional.py:138\u001b[39m, in \u001b[36mimport_optional_dependency\u001b[39m\u001b[34m(name, extra, errors, min_version)\u001b[39m\n\u001b[32m    136\u001b[39m \u001b[38;5;28;01mexcept\u001b[39;00m \u001b[38;5;167;01mImportError\u001b[39;00m:\n\u001b[32m    137\u001b[39m     \u001b[38;5;28;01mif\u001b[39;00m errors == \u001b[33m\"\u001b[39m\u001b[33mraise\u001b[39m\u001b[33m\"\u001b[39m:\n\u001b[32m--> \u001b[39m\u001b[32m138\u001b[39m         \u001b[38;5;28;01mraise\u001b[39;00m \u001b[38;5;167;01mImportError\u001b[39;00m(msg)\n\u001b[32m    139\u001b[39m     \u001b[38;5;28;01mreturn\u001b[39;00m \u001b[38;5;28;01mNone\u001b[39;00m\n\u001b[32m    141\u001b[39m \u001b[38;5;66;03m# Handle submodules: if we have submodule, grab parent module from sys.modules\u001b[39;00m\n",
      "\u001b[31mImportError\u001b[39m: Missing optional dependency 'openpyxl'.  Use pip or conda to install openpyxl."
     ]
    }
   ],
   "source": [
    "import pandas as pd\n",
    "\n",
    "# Read the three Excel files\n",
    "funk = pd.read_excel(\n",
    "    os.path.join(project_root, \"data/benchmarks/1-s2.0-S0092867422013599-mmc4.xlsx\")\n",
    ")\n",
    "# wainberg = pd.read_excel('Supplementary_Data_2.xlsx',\n",
    "schaffer = pd.read_excel(\n",
    "    os.path.join(project_root, \"data/benchmarks/U2OS Cell Map Assemblies.xlsx\")\n",
    ")\n",
    "\n",
    "# Display basic information about each dataset\n",
    "print(\"File 1 shape:\", funk.shape)\n",
    "print(\"File 1 columns:\", funk.columns.tolist())\n",
    "# print(\"\\nFile 2 shape:\", file2.shape)\n",
    "# print(\"File 2 columns:\", file2.columns.tolist())\n",
    "print(\"\\nFile 3 shape:\", schaffer.shape)\n",
    "print(\"File 3 columns:\", schaffer.columns.tolist())\n",
    "\n",
    "# Display the first few rows of each dataset\n",
    "print(\"\\nFirst 5 rows of File 1:\")\n",
    "print(funk.head())\n",
    "# print(\"\\nFirst 5 rows of File 2:\")\n",
    "# print(file2.head())\n",
    "print(\"\\nFirst 5 rows of File 3:\")\n",
    "print(schaffer.head())"
   ]
  },
  {
   "cell_type": "code",
   "execution_count": 2,
   "id": "3d9c625c",
   "metadata": {},
   "outputs": [],
   "source": [
    "# Import necessary libraries\n",
    "from dotenv import load_dotenv\n",
    "\n",
    "# Import from mozzarellm package\n",
    "from mozzarellm import analyze_gene_clusters\n",
    "\n",
    "# Load environment variables (for API keys)\n",
    "load_dotenv()\n",
    "\n",
    "# Set up paths and parameters\n",
    "PROJECT_NAME = \"example_analysis\"\n",
    "RESULTS_DIR = os.path.join(project_root, \"results\", PROJECT_NAME)\n",
    "PROCESSED_FILE = os.path.join(project_root, \"data\", \"sample_gene_sets.csv\")\n",
    "GENE_FEATURES = os.path.join(\n",
    "    project_root, \"data\", \"HeLa_essentials/essentials_uniprot.csv\"\n",
    ")"
   ]
  },
  {
   "cell_type": "code",
   "execution_count": 3,
   "id": "27c5906b",
   "metadata": {},
   "outputs": [],
   "source": [
    "# # Step 1: Reshape clusters - now using the refactored function\n",
    "# print(\"Preprocessing data: Converting raw data to cluster format...\")\n",
    "# cluster_df = reshape_to_clusters(\n",
    "#     input_file=INPUT_FILE,\n",
    "#     output_file=PROCESSED_FILE,\n",
    "#     sep=\",\",\n",
    "#     gene_col=\"gene_symbol_0\",\n",
    "#     cluster_col=\"cluster\",\n",
    "#     gene_sep=\";\"\n",
    "# )\n",
    "\n",
    "# # Display a sample of the reshaped data\n",
    "# print(\"Sample of reshaped data:\")\n",
    "# display(cluster_df.head())"
   ]
  },
  {
   "cell_type": "code",
   "execution_count": null,
   "id": "15de3078",
   "metadata": {},
   "outputs": [
    {
     "name": "stdout",
     "output_type": "stream",
     "text": [
      "Running analysis with OpenAI GPT-4o...\n",
      "Loaded data with 7 rows and columns: ['cluster_id', 'genes']\n",
      "Loaded features for 1095 genes\n",
      "Loaded screen information: 2129 characters\n"
     ]
    },
    {
     "name": "stderr",
     "output_type": "stream",
     "text": [
      "Processing clusters:   0%|          | 0/7 [00:00<?, ?it/s]"
     ]
    },
    {
     "name": "stdout",
     "output_type": "stream",
     "text": [
      "Added 6 gene feature descriptions to prompt\n"
     ]
    },
    {
     "name": "stderr",
     "output_type": "stream",
     "text": [
      "Processing clusters:  14%|█▍        | 1/7 [00:07<00:47,  7.91s/it]"
     ]
    },
    {
     "name": "stdout",
     "output_type": "stream",
     "text": [
      "Added 2 gene feature descriptions to prompt\n"
     ]
    },
    {
     "name": "stderr",
     "output_type": "stream",
     "text": [
      "Processing clusters:  29%|██▊       | 2/7 [00:13<00:33,  6.64s/it]"
     ]
    },
    {
     "name": "stdout",
     "output_type": "stream",
     "text": [
      "Added 5 gene feature descriptions to prompt\n"
     ]
    },
    {
     "name": "stderr",
     "output_type": "stream",
     "text": [
      "Processing clusters:  43%|████▎     | 3/7 [00:23<00:31,  7.91s/it]"
     ]
    },
    {
     "name": "stdout",
     "output_type": "stream",
     "text": [
      "Added 3 gene feature descriptions to prompt\n"
     ]
    },
    {
     "name": "stderr",
     "output_type": "stream",
     "text": [
      "Processing clusters:  57%|█████▋    | 4/7 [00:28<00:20,  6.99s/it]"
     ]
    },
    {
     "name": "stdout",
     "output_type": "stream",
     "text": [
      "Added 2 gene feature descriptions to prompt\n"
     ]
    },
    {
     "name": "stderr",
     "output_type": "stream",
     "text": [
      "INFO:cluster_analysis_20250501_182101.log:Saved progress for 5 clusters\n",
      "Processing clusters:  71%|███████▏  | 5/7 [00:35<00:13,  6.95s/it]INFO:cluster_analysis_20250501_182101.log:Accessing OpenAI API\n"
     ]
    },
    {
     "name": "stdout",
     "output_type": "stream",
     "text": [
      "Added 3 gene feature descriptions to prompt\n"
     ]
    },
    {
     "name": "stderr",
     "output_type": "stream",
     "text": [
      "INFO:cluster_analysis_20250501_182101.log:API call successful: 2352 tokens, $0.0235\n",
      "INFO:cluster_analysis_20250501_182101.log:Success for cluster 37\n",
      "Processing clusters:  86%|████████▌ | 6/7 [00:43<00:07,  7.40s/it]INFO:cluster_analysis_20250501_182101.log:Accessing OpenAI API\n"
     ]
    },
    {
     "name": "stdout",
     "output_type": "stream",
     "text": [
      "No relevant gene features found for this cluster\n"
     ]
    },
    {
     "name": "stderr",
     "output_type": "stream",
     "text": [
      "INFO:cluster_analysis_20250501_182101.log:API call successful: 1837 tokens, $0.0184\n",
      "INFO:cluster_analysis_20250501_182101.log:Success for cluster 94\n",
      "Processing clusters: 100%|██████████| 7/7 [00:50<00:00,  7.17s/it]\n",
      "INFO:cluster_analysis_20250501_182101.log:Completed analysis for 7 clusters\n",
      "INFO:cluster_analysis_20250501_182151.log:Processing 7 clusters with model claude-3-7-sonnet-20250219\n"
     ]
    },
    {
     "name": "stdout",
     "output_type": "stream",
     "text": [
      "Running analysis with Anthropic Claude-3-7-Sonnet...\n",
      "Loaded data with 7 rows and columns: ['cluster_id', 'genes']\n",
      "Loaded features for 1095 genes\n",
      "Loaded screen information: 2129 characters\n"
     ]
    },
    {
     "name": "stderr",
     "output_type": "stream",
     "text": [
      "Processing clusters:   0%|          | 0/7 [00:00<?, ?it/s]INFO:cluster_analysis_20250501_182151.log:Using Anthropic Claude API\n"
     ]
    },
    {
     "name": "stdout",
     "output_type": "stream",
     "text": [
      "Added 6 gene feature descriptions to prompt\n"
     ]
    },
    {
     "name": "stderr",
     "output_type": "stream",
     "text": [
      "INFO:cluster_analysis_20250501_182151.log:Anthropic API call successful: model=claude-3-7-sonnet-20250219\n",
      "INFO:cluster_analysis_20250501_182151.log:Success for cluster 149\n",
      "Processing clusters:  14%|█▍        | 1/7 [00:19<01:58, 19.81s/it]INFO:cluster_analysis_20250501_182151.log:Using Anthropic Claude API\n"
     ]
    },
    {
     "name": "stdout",
     "output_type": "stream",
     "text": [
      "Added 2 gene feature descriptions to prompt\n"
     ]
    },
    {
     "name": "stderr",
     "output_type": "stream",
     "text": [
      "INFO:cluster_analysis_20250501_182151.log:Anthropic API call successful: model=claude-3-7-sonnet-20250219\n",
      "INFO:cluster_analysis_20250501_182151.log:Success for cluster 121\n",
      "Processing clusters:  29%|██▊       | 2/7 [00:49<02:07, 25.41s/it]INFO:cluster_analysis_20250501_182151.log:Using Anthropic Claude API\n"
     ]
    },
    {
     "name": "stdout",
     "output_type": "stream",
     "text": [
      "Added 5 gene feature descriptions to prompt\n"
     ]
    },
    {
     "name": "stderr",
     "output_type": "stream",
     "text": [
      "INFO:cluster_analysis_20250501_182151.log:Anthropic API call successful: model=claude-3-7-sonnet-20250219\n",
      "INFO:cluster_analysis_20250501_182151.log:Success for cluster 21\n",
      "Processing clusters:  43%|████▎     | 3/7 [01:14<01:42, 25.52s/it]INFO:cluster_analysis_20250501_182151.log:Using Anthropic Claude API\n"
     ]
    },
    {
     "name": "stdout",
     "output_type": "stream",
     "text": [
      "Added 3 gene feature descriptions to prompt\n"
     ]
    },
    {
     "name": "stderr",
     "output_type": "stream",
     "text": [
      "INFO:cluster_analysis_20250501_182151.log:Anthropic API call successful: model=claude-3-7-sonnet-20250219\n",
      "INFO:cluster_analysis_20250501_182151.log:Success for cluster 167\n",
      "Processing clusters:  57%|█████▋    | 4/7 [01:24<00:58, 19.35s/it]INFO:cluster_analysis_20250501_182151.log:Using Anthropic Claude API\n"
     ]
    },
    {
     "name": "stdout",
     "output_type": "stream",
     "text": [
      "Added 2 gene feature descriptions to prompt\n"
     ]
    },
    {
     "name": "stderr",
     "output_type": "stream",
     "text": [
      "INFO:cluster_analysis_20250501_182151.log:Anthropic API call successful: model=claude-3-7-sonnet-20250219\n",
      "INFO:cluster_analysis_20250501_182151.log:Success for cluster 197\n",
      "INFO:cluster_analysis_20250501_182151.log:Saved progress for 5 clusters\n",
      "Processing clusters:  71%|███████▏  | 5/7 [01:43<00:38, 19.11s/it]INFO:cluster_analysis_20250501_182151.log:Using Anthropic Claude API\n"
     ]
    },
    {
     "name": "stdout",
     "output_type": "stream",
     "text": [
      "Added 3 gene feature descriptions to prompt\n"
     ]
    }
   ],
   "source": [
    "# Create results directory if it doesn't exist\n",
    "os.makedirs(RESULTS_DIR, exist_ok=True)\n",
    "\n",
    "# Step 1: Run analysis with OpenAI GPT-4o\n",
    "print(\"Running analysis with OpenAI GPT-4o...\")\n",
    "openai_results = analyze_gene_clusters(\n",
    "    input_file=PROCESSED_FILE,\n",
    "    output_file=f\"{RESULTS_DIR}/gpt-4o\",\n",
    "    config_path=os.path.join(project_root, \"config_openai.json\"),\n",
    "    model_name=\"gpt-4o\",\n",
    "    custom_prompt_path=os.path.join(\n",
    "        project_root, \"mozzarellm\", \"prompts\", \"top_targets.txt\"\n",
    "    ),\n",
    "    gene_features_path=GENE_FEATURES,\n",
    "    screen_info_path=os.path.join(\n",
    "        project_root, \"mozzarellm\", \"prompts\", \"HeLa_interphase_screen_info.txt\"\n",
    "    ),\n",
    "    gene_column=\"genes\",\n",
    "    gene_sep=\";\",\n",
    "    batch_size=1,\n",
    "    cluster_id_column=\"cluster_id\",\n",
    ")\n",
    "\n",
    "# Step 2: Run analysis with Anthropic Claude-3-7-Sonnet\n",
    "print(\"Running analysis with Anthropic Claude-3-7-Sonnet...\")\n",
    "claude_results = analyze_gene_clusters(\n",
    "    input_file=PROCESSED_FILE,\n",
    "    output_file=f\"{RESULTS_DIR}/claude-3-7-sonnet\",\n",
    "    config_path=os.path.join(project_root, \"config_anthropic.json\"),\n",
    "    model_name=\"claude-3-7-sonnet-20250219\",\n",
    "    custom_prompt_path=os.path.join(\n",
    "        project_root, \"mozzarellm\", \"prompts\", \"top_targets.txt\"\n",
    "    ),\n",
    "    gene_features_path=GENE_FEATURES,\n",
    "    screen_info_path=os.path.join(\n",
    "        project_root, \"mozzarellm\", \"prompts\", \"HeLa_interphase_screen_info.txt\"\n",
    "    ),\n",
    "    gene_column=\"genes\",\n",
    "    gene_sep=\";\",\n",
    "    batch_size=1,\n",
    "    cluster_id_column=\"cluster_id\",\n",
    ")\n",
    "\n",
    "print(f\"Analysis complete. Results saved to {RESULTS_DIR}/\")"
   ]
  }
 ],
 "metadata": {
  "kernelspec": {
   "display_name": "mozzarellm",
   "language": "python",
   "name": "python3"
  },
  "language_info": {
   "codemirror_mode": {
    "name": "ipython",
    "version": 3
   },
   "file_extension": ".py",
   "mimetype": "text/x-python",
   "name": "python",
   "nbconvert_exporter": "python",
   "pygments_lexer": "ipython3",
   "version": "3.11.11"
  }
 },
 "nbformat": 4,
 "nbformat_minor": 5
}
