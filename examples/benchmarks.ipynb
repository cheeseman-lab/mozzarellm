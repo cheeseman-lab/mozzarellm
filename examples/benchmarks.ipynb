{
 "cells": [
  {
   "cell_type": "code",
   "execution_count": 1,
   "id": "590b2d9b",
   "metadata": {},
   "outputs": [],
   "source": [
    "import os\n",
    "import pandas as pd\n",
    "from collections import defaultdict\n",
    "\n",
    "notebook_dir = os.path.abspath(os.path.dirname(\"__file__\"))\n",
    "project_root = os.path.abspath(os.path.join(notebook_dir, \"..\"))"
   ]
  },
  {
   "cell_type": "code",
   "execution_count": 2,
   "id": "2e9831e2",
   "metadata": {},
   "outputs": [
    {
     "data": {
      "text/html": [
       "<div>\n",
       "<style scoped>\n",
       "    .dataframe tbody tr th:only-of-type {\n",
       "        vertical-align: middle;\n",
       "    }\n",
       "\n",
       "    .dataframe tbody tr th {\n",
       "        vertical-align: top;\n",
       "    }\n",
       "\n",
       "    .dataframe thead th {\n",
       "        text-align: right;\n",
       "    }\n",
       "</style>\n",
       "<table border=\"1\" class=\"dataframe\">\n",
       "  <thead>\n",
       "    <tr style=\"text-align: right;\">\n",
       "      <th></th>\n",
       "      <th>cluster</th>\n",
       "      <th>gene_symbol</th>\n",
       "    </tr>\n",
       "  </thead>\n",
       "  <tbody>\n",
       "    <tr>\n",
       "      <th>0</th>\n",
       "      <td>21</td>\n",
       "      <td>AATF</td>\n",
       "    </tr>\n",
       "    <tr>\n",
       "      <th>1</th>\n",
       "      <td>21</td>\n",
       "      <td>ABT1</td>\n",
       "    </tr>\n",
       "    <tr>\n",
       "      <th>6</th>\n",
       "      <td>21</td>\n",
       "      <td>BYSL</td>\n",
       "    </tr>\n",
       "    <tr>\n",
       "      <th>4</th>\n",
       "      <td>21</td>\n",
       "      <td>BMS1</td>\n",
       "    </tr>\n",
       "    <tr>\n",
       "      <th>7</th>\n",
       "      <td>21</td>\n",
       "      <td>C1orf131</td>\n",
       "    </tr>\n",
       "    <tr>\n",
       "      <th>...</th>\n",
       "      <td>...</td>\n",
       "      <td>...</td>\n",
       "    </tr>\n",
       "    <tr>\n",
       "      <th>56</th>\n",
       "      <td>197</td>\n",
       "      <td>METTL3</td>\n",
       "    </tr>\n",
       "    <tr>\n",
       "      <th>31</th>\n",
       "      <td>197</td>\n",
       "      <td>FITM1</td>\n",
       "    </tr>\n",
       "    <tr>\n",
       "      <th>98</th>\n",
       "      <td>197</td>\n",
       "      <td>PTCHD4</td>\n",
       "    </tr>\n",
       "    <tr>\n",
       "      <th>134</th>\n",
       "      <td>197</td>\n",
       "      <td>VRK1</td>\n",
       "    </tr>\n",
       "    <tr>\n",
       "      <th>130</th>\n",
       "      <td>197</td>\n",
       "      <td>UFL1</td>\n",
       "    </tr>\n",
       "  </tbody>\n",
       "</table>\n",
       "<p>140 rows × 2 columns</p>\n",
       "</div>"
      ],
      "text/plain": [
       "     cluster gene_symbol\n",
       "0         21        AATF\n",
       "1         21        ABT1\n",
       "6         21        BYSL\n",
       "4         21        BMS1\n",
       "7         21    C1orf131\n",
       "..       ...         ...\n",
       "56       197      METTL3\n",
       "31       197       FITM1\n",
       "98       197      PTCHD4\n",
       "134      197        VRK1\n",
       "130      197        UFL1\n",
       "\n",
       "[140 rows x 2 columns]"
      ]
     },
     "metadata": {},
     "output_type": "display_data"
    }
   ],
   "source": [
    "# Read the Funk dataset and clean\n",
    "funk = pd.read_excel(\n",
    "    os.path.join(project_root, \"data/benchmarks/1-s2.0-S0092867422013599-mmc4.xlsx\"),\n",
    "    skiprows=1,\n",
    ")\n",
    "# Select only the rows where cluster is in 149, 121, 21, 167, 197, 37\n",
    "funk = funk[funk[\"Interphase cluster\"].isin([149, 121, 21, 167, 197, 37])].reset_index(\n",
    "    drop=True\n",
    ")\n",
    "# Rename \"Gene symbol\" to \"gene_symbol\" and \"Interphase cluster\" to \"cluster\"\n",
    "funk.rename(\n",
    "    columns={\n",
    "        \"Gene symbol\": \"gene_symbol\",\n",
    "        \"Interphase cluster\": \"cluster\",\n",
    "    },\n",
    "    inplace=True,\n",
    ")\n",
    "# Drop all other columns\n",
    "funk = funk[[\"cluster\", \"gene_symbol\"]]\n",
    "# Sort by cluster\n",
    "funk.sort_values(by=[\"cluster\"], inplace=True)\n",
    "# Display the Funk dataset\n",
    "display(funk)"
   ]
  },
  {
   "cell_type": "code",
   "execution_count": 3,
   "id": "8aea9e72",
   "metadata": {},
   "outputs": [
    {
     "data": {
      "text/html": [
       "<div>\n",
       "<style scoped>\n",
       "    .dataframe tbody tr th:only-of-type {\n",
       "        vertical-align: middle;\n",
       "    }\n",
       "\n",
       "    .dataframe tbody tr th {\n",
       "        vertical-align: top;\n",
       "    }\n",
       "\n",
       "    .dataframe thead th {\n",
       "        text-align: right;\n",
       "    }\n",
       "</style>\n",
       "<table border=\"1\" class=\"dataframe\">\n",
       "  <thead>\n",
       "    <tr style=\"text-align: right;\">\n",
       "      <th></th>\n",
       "      <th>cluster</th>\n",
       "      <th>gene_symbol</th>\n",
       "    </tr>\n",
       "  </thead>\n",
       "  <tbody>\n",
       "    <tr>\n",
       "      <th>0</th>\n",
       "      <td>2067</td>\n",
       "      <td>AAGAB</td>\n",
       "    </tr>\n",
       "    <tr>\n",
       "      <th>1</th>\n",
       "      <td>2067</td>\n",
       "      <td>AGFG1</td>\n",
       "    </tr>\n",
       "    <tr>\n",
       "      <th>2</th>\n",
       "      <td>2067</td>\n",
       "      <td>AP2A1</td>\n",
       "    </tr>\n",
       "    <tr>\n",
       "      <th>3</th>\n",
       "      <td>2067</td>\n",
       "      <td>AP2A2</td>\n",
       "    </tr>\n",
       "    <tr>\n",
       "      <th>4</th>\n",
       "      <td>2067</td>\n",
       "      <td>AP2B1</td>\n",
       "    </tr>\n",
       "    <tr>\n",
       "      <th>5</th>\n",
       "      <td>2067</td>\n",
       "      <td>AP2M1</td>\n",
       "    </tr>\n",
       "    <tr>\n",
       "      <th>6</th>\n",
       "      <td>2067</td>\n",
       "      <td>AP2S1</td>\n",
       "    </tr>\n",
       "    <tr>\n",
       "      <th>7</th>\n",
       "      <td>2067</td>\n",
       "      <td>C15orf57</td>\n",
       "    </tr>\n",
       "    <tr>\n",
       "      <th>8</th>\n",
       "      <td>2067</td>\n",
       "      <td>FCHO2</td>\n",
       "    </tr>\n",
       "    <tr>\n",
       "      <th>9</th>\n",
       "      <td>2067</td>\n",
       "      <td>PICALM</td>\n",
       "    </tr>\n",
       "    <tr>\n",
       "      <th>10</th>\n",
       "      <td>2213</td>\n",
       "      <td>AGPS</td>\n",
       "    </tr>\n",
       "    <tr>\n",
       "      <th>11</th>\n",
       "      <td>2213</td>\n",
       "      <td>EPT1</td>\n",
       "    </tr>\n",
       "    <tr>\n",
       "      <th>12</th>\n",
       "      <td>2213</td>\n",
       "      <td>FAR1</td>\n",
       "    </tr>\n",
       "    <tr>\n",
       "      <th>13</th>\n",
       "      <td>2213</td>\n",
       "      <td>GNPAT</td>\n",
       "    </tr>\n",
       "    <tr>\n",
       "      <th>14</th>\n",
       "      <td>2213</td>\n",
       "      <td>PCYT2</td>\n",
       "    </tr>\n",
       "    <tr>\n",
       "      <th>15</th>\n",
       "      <td>2213</td>\n",
       "      <td>PEX7</td>\n",
       "    </tr>\n",
       "    <tr>\n",
       "      <th>16</th>\n",
       "      <td>2213</td>\n",
       "      <td>SEC14L1</td>\n",
       "    </tr>\n",
       "    <tr>\n",
       "      <th>17</th>\n",
       "      <td>2213</td>\n",
       "      <td>TMEM189</td>\n",
       "    </tr>\n",
       "  </tbody>\n",
       "</table>\n",
       "</div>"
      ],
      "text/plain": [
       "    cluster gene_symbol\n",
       "0      2067       AAGAB\n",
       "1      2067       AGFG1\n",
       "2      2067       AP2A1\n",
       "3      2067       AP2A2\n",
       "4      2067       AP2B1\n",
       "5      2067       AP2M1\n",
       "6      2067       AP2S1\n",
       "7      2067    C15orf57\n",
       "8      2067       FCHO2\n",
       "9      2067      PICALM\n",
       "10     2213        AGPS\n",
       "11     2213        EPT1\n",
       "12     2213        FAR1\n",
       "13     2213       GNPAT\n",
       "14     2213       PCYT2\n",
       "15     2213        PEX7\n",
       "16     2213     SEC14L1\n",
       "17     2213     TMEM189"
      ]
     },
     "metadata": {},
     "output_type": "display_data"
    }
   ],
   "source": [
    "# Read the Wainberg dataset and clean\n",
    "wainberg = pd.read_excel(\n",
    "    os.path.join(project_root, \"data/benchmarks/Supplementary_Data_2.xlsx\"),\n",
    "    sheet_name=\"Co-essential Modules\",\n",
    "    skiprows=(0, 1),\n",
    ")\n",
    "# Select Module # 2067 and 2213\n",
    "wainberg = wainberg[wainberg[\"Module #\"].isin([2067, 2213])].reset_index(drop=True)\n",
    "# Create a new dataframe to store the reshaped data\n",
    "reshaped_data = []\n",
    "# Process each row in the original dataframe\n",
    "for _, row in wainberg.iterrows():\n",
    "    module_num = row[\"Module #\"]\n",
    "\n",
    "    # Process 'Genes' column\n",
    "    if pd.notna(row[\"Genes\"]):\n",
    "        reshaped_data.append({\"cluster\": module_num, \"gene_symbol\": row[\"Genes\"]})\n",
    "\n",
    "    # Process all the 'Unnamed: X' columns that contain gene symbols\n",
    "    for col in wainberg.columns:\n",
    "        if col.startswith(\"Unnamed:\") and pd.notna(row[col]):\n",
    "            # Skip empty cells or non-gene values\n",
    "            if isinstance(row[col], str) and row[col].strip() != \"\":\n",
    "                reshaped_data.append({\"cluster\": module_num, \"gene_symbol\": row[col]})\n",
    "            elif isinstance(row[col], (int, float)) and not pd.isna(row[col]):\n",
    "                # Convert numeric values to string if they appear to be gene IDs\n",
    "                reshaped_data.append(\n",
    "                    {\"cluster\": module_num, \"gene_symbol\": str(row[col])}\n",
    "                )\n",
    "# Create the reshaped dataframe\n",
    "wainberg = pd.DataFrame(reshaped_data)\n",
    "# Sort by cluster\n",
    "wainberg.sort_values(by=[\"cluster\"], inplace=True)\n",
    "# Display the Wainberg dataset\n",
    "display(wainberg)"
   ]
  },
  {
   "cell_type": "code",
   "execution_count": 4,
   "id": "7e755477",
   "metadata": {},
   "outputs": [
    {
     "data": {
      "text/html": [
       "<div>\n",
       "<style scoped>\n",
       "    .dataframe tbody tr th:only-of-type {\n",
       "        vertical-align: middle;\n",
       "    }\n",
       "\n",
       "    .dataframe tbody tr th {\n",
       "        vertical-align: top;\n",
       "    }\n",
       "\n",
       "    .dataframe thead th {\n",
       "        text-align: right;\n",
       "    }\n",
       "</style>\n",
       "<table border=\"1\" class=\"dataframe\">\n",
       "  <thead>\n",
       "    <tr style=\"text-align: right;\">\n",
       "      <th></th>\n",
       "      <th>cluster</th>\n",
       "      <th>gene_symbol</th>\n",
       "    </tr>\n",
       "  </thead>\n",
       "  <tbody>\n",
       "    <tr>\n",
       "      <th>0</th>\n",
       "      <td>C5255</td>\n",
       "      <td>RPP30</td>\n",
       "    </tr>\n",
       "    <tr>\n",
       "      <th>13</th>\n",
       "      <td>C5255</td>\n",
       "      <td>RNASEH1</td>\n",
       "    </tr>\n",
       "    <tr>\n",
       "      <th>12</th>\n",
       "      <td>C5255</td>\n",
       "      <td>POP1</td>\n",
       "    </tr>\n",
       "    <tr>\n",
       "      <th>11</th>\n",
       "      <td>C5255</td>\n",
       "      <td>OSGEP</td>\n",
       "    </tr>\n",
       "    <tr>\n",
       "      <th>10</th>\n",
       "      <td>C5255</td>\n",
       "      <td>POP7</td>\n",
       "    </tr>\n",
       "    <tr>\n",
       "      <th>9</th>\n",
       "      <td>C5255</td>\n",
       "      <td>C18orf21</td>\n",
       "    </tr>\n",
       "    <tr>\n",
       "      <th>7</th>\n",
       "      <td>C5255</td>\n",
       "      <td>RPP14</td>\n",
       "    </tr>\n",
       "    <tr>\n",
       "      <th>8</th>\n",
       "      <td>C5255</td>\n",
       "      <td>RPP40</td>\n",
       "    </tr>\n",
       "    <tr>\n",
       "      <th>5</th>\n",
       "      <td>C5255</td>\n",
       "      <td>RPP38</td>\n",
       "    </tr>\n",
       "    <tr>\n",
       "      <th>4</th>\n",
       "      <td>C5255</td>\n",
       "      <td>GON7</td>\n",
       "    </tr>\n",
       "    <tr>\n",
       "      <th>3</th>\n",
       "      <td>C5255</td>\n",
       "      <td>RPP25L</td>\n",
       "    </tr>\n",
       "    <tr>\n",
       "      <th>2</th>\n",
       "      <td>C5255</td>\n",
       "      <td>POP5</td>\n",
       "    </tr>\n",
       "    <tr>\n",
       "      <th>1</th>\n",
       "      <td>C5255</td>\n",
       "      <td>MAGED2</td>\n",
       "    </tr>\n",
       "    <tr>\n",
       "      <th>6</th>\n",
       "      <td>C5255</td>\n",
       "      <td>POP4</td>\n",
       "    </tr>\n",
       "    <tr>\n",
       "      <th>16</th>\n",
       "      <td>C5415</td>\n",
       "      <td>STAT1</td>\n",
       "    </tr>\n",
       "    <tr>\n",
       "      <th>14</th>\n",
       "      <td>C5415</td>\n",
       "      <td>DPP9</td>\n",
       "    </tr>\n",
       "    <tr>\n",
       "      <th>15</th>\n",
       "      <td>C5415</td>\n",
       "      <td>STAT2</td>\n",
       "    </tr>\n",
       "    <tr>\n",
       "      <th>17</th>\n",
       "      <td>C5415</td>\n",
       "      <td>IRF9</td>\n",
       "    </tr>\n",
       "  </tbody>\n",
       "</table>\n",
       "</div>"
      ],
      "text/plain": [
       "   cluster gene_symbol\n",
       "0    C5255       RPP30\n",
       "13   C5255     RNASEH1\n",
       "12   C5255        POP1\n",
       "11   C5255       OSGEP\n",
       "10   C5255        POP7\n",
       "9    C5255    C18orf21\n",
       "7    C5255       RPP14\n",
       "8    C5255       RPP40\n",
       "5    C5255       RPP38\n",
       "4    C5255        GON7\n",
       "3    C5255      RPP25L\n",
       "2    C5255        POP5\n",
       "1    C5255      MAGED2\n",
       "6    C5255        POP4\n",
       "16   C5415       STAT1\n",
       "14   C5415        DPP9\n",
       "15   C5415       STAT2\n",
       "17   C5415        IRF9"
      ]
     },
     "metadata": {},
     "output_type": "display_data"
    }
   ],
   "source": [
    "schaffer = pd.read_excel(\n",
    "    os.path.join(project_root, \"data/benchmarks/U2OS Cell Map Assemblies.xlsx\")\n",
    ")\n",
    "# Select Assembly ID C5255, C5415\n",
    "schaffer = schaffer[schaffer[\"Assembly ID\"].isin([\"C5255\", \"C5415\"])].reset_index(\n",
    "    drop=True\n",
    ")\n",
    "# Create a new dataframe to store the reshaped data\n",
    "reshaped_data = []\n",
    "\n",
    "# Process each row in the original dataframe\n",
    "for _, row in schaffer.iterrows():\n",
    "    cluster = row[\"Assembly ID\"]\n",
    "\n",
    "    # Handle the case where Proteins might be missing or NaN\n",
    "    if pd.notna(row[\"Proteins\"]):\n",
    "        # Split the space-separated proteins\n",
    "        proteins = str(row[\"Proteins\"]).split()\n",
    "\n",
    "        # Add each protein to the reshaped data\n",
    "        for protein in proteins:\n",
    "            if protein.strip():  # Skip empty strings\n",
    "                reshaped_data.append(\n",
    "                    {\"cluster\": cluster, \"gene_symbol\": protein.strip()}\n",
    "                )\n",
    "# Create the reshaped dataframe\n",
    "schaffer = pd.DataFrame(reshaped_data)\n",
    "# Rename \"Gene Symbol\" to \"gene_symbol\" and \"Assembly ID\" to \"cluster\"\n",
    "schaffer.rename(\n",
    "    columns={\n",
    "        \"Gene Symbol\": \"gene_symbol\",\n",
    "        \"Assembly ID\": \"cluster\",\n",
    "    },\n",
    "    inplace=True,\n",
    ")\n",
    "# Sort by cluster\n",
    "schaffer.sort_values(by=[\"cluster\"], inplace=True)\n",
    "# Display the Schaffer dataset\n",
    "display(schaffer)"
   ]
  },
  {
   "cell_type": "code",
   "execution_count": 5,
   "id": "4f383584",
   "metadata": {},
   "outputs": [],
   "source": [
    "# Read in the uniprot_data.tsv\n",
    "uniprot_data = pd.read_csv(\n",
    "    os.path.join(project_root, \"data/benchmarks/uniprot_data.tsv\"), sep=\"\\t\"\n",
    ")\n",
    "# Create multiple rows for each gene name with position information\n",
    "expanded_rows = []\n",
    "for _, row in uniprot_data.iterrows():\n",
    "    if pd.notna(row[\"gene_names\"]):\n",
    "        gene_names = row[\"gene_names\"].split()\n",
    "        for position, gene in enumerate(gene_names):\n",
    "            new_row = row.copy()\n",
    "            new_row[\"gene_name\"] = gene\n",
    "            new_row[\"position\"] = position\n",
    "            expanded_rows.append(new_row)\n",
    "# Create expanded dataframe\n",
    "expanded_df = pd.DataFrame(expanded_rows)\n",
    "# Sort by gene_name and position, then drop duplicates keeping the one with lower position\n",
    "expanded_df = expanded_df.sort_values([\"gene_name\", \"position\"])\n",
    "expanded_df = expanded_df.drop_duplicates(\"gene_name\", keep=\"first\")\n",
    "# Select and rename columns\n",
    "uniprot_data = expanded_df[[\"gene_name\", \"entry\", \"function\"]].rename(\n",
    "    columns={\"function\": \"uniprot_function\"}\n",
    ")"
   ]
  },
  {
   "cell_type": "code",
   "execution_count": 6,
   "id": "1ba9148d",
   "metadata": {},
   "outputs": [
    {
     "name": "stdout",
     "output_type": "stream",
     "text": [
      "funk dataset: 140 rows, 5 missing uniprot_function\n",
      "wainberg dataset: 18 rows, 0 missing uniprot_function\n",
      "schaffer dataset: 18 rows, 1 missing uniprot_function\n"
     ]
    }
   ],
   "source": [
    "# Merge each dataset with UniProt data\n",
    "for dataset_name in [\"funk\", \"wainberg\", \"schaffer\"]:\n",
    "    dataset = locals()[dataset_name]  # Access dataset from local variables\n",
    "\n",
    "    # Merge with UniProt data\n",
    "    dataset = dataset.merge(\n",
    "        uniprot_data, how=\"left\", left_on=\"gene_symbol\", right_on=\"gene_name\"\n",
    "    ).drop(columns=\"gene_name\", errors=\"ignore\")\n",
    "\n",
    "    # Print the number of rows in the merged dataset and the number of rows missing a uniprot_function\n",
    "    print(\n",
    "        f\"{dataset_name} dataset: {len(dataset)} rows, {dataset['uniprot_function'].isna().sum()} missing uniprot_function\"\n",
    "    )\n",
    "\n",
    "    # Update the original dataset variable\n",
    "    locals()[dataset_name] = dataset"
   ]
  },
  {
   "cell_type": "code",
   "execution_count": 7,
   "id": "3d9c625c",
   "metadata": {},
   "outputs": [
    {
     "data": {
      "text/html": [
       "<div>\n",
       "<style scoped>\n",
       "    .dataframe tbody tr th:only-of-type {\n",
       "        vertical-align: middle;\n",
       "    }\n",
       "\n",
       "    .dataframe tbody tr th {\n",
       "        vertical-align: top;\n",
       "    }\n",
       "\n",
       "    .dataframe thead th {\n",
       "        text-align: right;\n",
       "    }\n",
       "</style>\n",
       "<table border=\"1\" class=\"dataframe\">\n",
       "  <thead>\n",
       "    <tr style=\"text-align: right;\">\n",
       "      <th></th>\n",
       "      <th>cluster</th>\n",
       "      <th>gene_symbol</th>\n",
       "      <th>entry</th>\n",
       "      <th>uniprot_function</th>\n",
       "    </tr>\n",
       "  </thead>\n",
       "  <tbody>\n",
       "    <tr>\n",
       "      <th>0</th>\n",
       "      <td>21</td>\n",
       "      <td>AATF</td>\n",
       "      <td>Q9NY61</td>\n",
       "      <td>Part of the small subunit (SSU) processome, fi...</td>\n",
       "    </tr>\n",
       "    <tr>\n",
       "      <th>1</th>\n",
       "      <td>21</td>\n",
       "      <td>ABT1</td>\n",
       "      <td>Q9ULW3</td>\n",
       "      <td>Could be a novel TATA-binding protein (TBP) wh...</td>\n",
       "    </tr>\n",
       "    <tr>\n",
       "      <th>2</th>\n",
       "      <td>21</td>\n",
       "      <td>BYSL</td>\n",
       "      <td>Q13895</td>\n",
       "      <td>Required for processing of 20S pre-rRNA precur...</td>\n",
       "    </tr>\n",
       "    <tr>\n",
       "      <th>3</th>\n",
       "      <td>21</td>\n",
       "      <td>BMS1</td>\n",
       "      <td>Q14692</td>\n",
       "      <td>GTPase required for the synthesis of 40S ribos...</td>\n",
       "    </tr>\n",
       "    <tr>\n",
       "      <th>4</th>\n",
       "      <td>21</td>\n",
       "      <td>C1orf131</td>\n",
       "      <td>Q8NDD1</td>\n",
       "      <td>Part of the small subunit (SSU) processome, fi...</td>\n",
       "    </tr>\n",
       "    <tr>\n",
       "      <th>...</th>\n",
       "      <td>...</td>\n",
       "      <td>...</td>\n",
       "      <td>...</td>\n",
       "      <td>...</td>\n",
       "    </tr>\n",
       "    <tr>\n",
       "      <th>135</th>\n",
       "      <td>197</td>\n",
       "      <td>METTL3</td>\n",
       "      <td>Q86U44</td>\n",
       "      <td>The METTL3-METTL14 heterodimer forms a N6-meth...</td>\n",
       "    </tr>\n",
       "    <tr>\n",
       "      <th>136</th>\n",
       "      <td>197</td>\n",
       "      <td>FITM1</td>\n",
       "      <td>A5D6W6</td>\n",
       "      <td>Plays an important role in the formation of li...</td>\n",
       "    </tr>\n",
       "    <tr>\n",
       "      <th>137</th>\n",
       "      <td>197</td>\n",
       "      <td>PTCHD4</td>\n",
       "      <td>Q6ZW05</td>\n",
       "      <td>Could act as a repressor of canonical hedgehog...</td>\n",
       "    </tr>\n",
       "    <tr>\n",
       "      <th>138</th>\n",
       "      <td>197</td>\n",
       "      <td>VRK1</td>\n",
       "      <td>Q99986</td>\n",
       "      <td>Serine/threonine kinase involved in the regula...</td>\n",
       "    </tr>\n",
       "    <tr>\n",
       "      <th>139</th>\n",
       "      <td>197</td>\n",
       "      <td>UFL1</td>\n",
       "      <td>O94874</td>\n",
       "      <td>E3 protein ligase that mediates ufmylation, th...</td>\n",
       "    </tr>\n",
       "  </tbody>\n",
       "</table>\n",
       "<p>140 rows × 4 columns</p>\n",
       "</div>"
      ],
      "text/plain": [
       "     cluster gene_symbol   entry  \\\n",
       "0         21        AATF  Q9NY61   \n",
       "1         21        ABT1  Q9ULW3   \n",
       "2         21        BYSL  Q13895   \n",
       "3         21        BMS1  Q14692   \n",
       "4         21    C1orf131  Q8NDD1   \n",
       "..       ...         ...     ...   \n",
       "135      197      METTL3  Q86U44   \n",
       "136      197       FITM1  A5D6W6   \n",
       "137      197      PTCHD4  Q6ZW05   \n",
       "138      197        VRK1  Q99986   \n",
       "139      197        UFL1  O94874   \n",
       "\n",
       "                                      uniprot_function  \n",
       "0    Part of the small subunit (SSU) processome, fi...  \n",
       "1    Could be a novel TATA-binding protein (TBP) wh...  \n",
       "2    Required for processing of 20S pre-rRNA precur...  \n",
       "3    GTPase required for the synthesis of 40S ribos...  \n",
       "4    Part of the small subunit (SSU) processome, fi...  \n",
       "..                                                 ...  \n",
       "135  The METTL3-METTL14 heterodimer forms a N6-meth...  \n",
       "136  Plays an important role in the formation of li...  \n",
       "137  Could act as a repressor of canonical hedgehog...  \n",
       "138  Serine/threonine kinase involved in the regula...  \n",
       "139  E3 protein ligase that mediates ufmylation, th...  \n",
       "\n",
       "[140 rows x 4 columns]"
      ]
     },
     "metadata": {},
     "output_type": "display_data"
    },
    {
     "data": {
      "text/html": [
       "<div>\n",
       "<style scoped>\n",
       "    .dataframe tbody tr th:only-of-type {\n",
       "        vertical-align: middle;\n",
       "    }\n",
       "\n",
       "    .dataframe tbody tr th {\n",
       "        vertical-align: top;\n",
       "    }\n",
       "\n",
       "    .dataframe thead th {\n",
       "        text-align: right;\n",
       "    }\n",
       "</style>\n",
       "<table border=\"1\" class=\"dataframe\">\n",
       "  <thead>\n",
       "    <tr style=\"text-align: right;\">\n",
       "      <th></th>\n",
       "      <th>cluster</th>\n",
       "      <th>gene_symbol</th>\n",
       "      <th>entry</th>\n",
       "      <th>uniprot_function</th>\n",
       "    </tr>\n",
       "  </thead>\n",
       "  <tbody>\n",
       "    <tr>\n",
       "      <th>0</th>\n",
       "      <td>2067</td>\n",
       "      <td>AAGAB</td>\n",
       "      <td>Q6PD74</td>\n",
       "      <td>May be involved in endocytic recycling of grow...</td>\n",
       "    </tr>\n",
       "    <tr>\n",
       "      <th>1</th>\n",
       "      <td>2067</td>\n",
       "      <td>AGFG1</td>\n",
       "      <td>P52594</td>\n",
       "      <td>Required for vesicle docking or fusion during ...</td>\n",
       "    </tr>\n",
       "    <tr>\n",
       "      <th>2</th>\n",
       "      <td>2067</td>\n",
       "      <td>AP2A1</td>\n",
       "      <td>O95782</td>\n",
       "      <td>Component of the adaptor protein complex 2 (AP...</td>\n",
       "    </tr>\n",
       "    <tr>\n",
       "      <th>3</th>\n",
       "      <td>2067</td>\n",
       "      <td>AP2A2</td>\n",
       "      <td>O94973</td>\n",
       "      <td>Component of the adaptor protein complex 2 (AP...</td>\n",
       "    </tr>\n",
       "    <tr>\n",
       "      <th>4</th>\n",
       "      <td>2067</td>\n",
       "      <td>AP2B1</td>\n",
       "      <td>P63010</td>\n",
       "      <td>Component of the adaptor protein complex 2 (AP...</td>\n",
       "    </tr>\n",
       "    <tr>\n",
       "      <th>5</th>\n",
       "      <td>2067</td>\n",
       "      <td>AP2M1</td>\n",
       "      <td>Q96CW1</td>\n",
       "      <td>Component of the adaptor protein complex 2 (AP...</td>\n",
       "    </tr>\n",
       "    <tr>\n",
       "      <th>6</th>\n",
       "      <td>2067</td>\n",
       "      <td>AP2S1</td>\n",
       "      <td>P53680</td>\n",
       "      <td>Component of the adaptor protein complex 2 (AP...</td>\n",
       "    </tr>\n",
       "    <tr>\n",
       "      <th>7</th>\n",
       "      <td>2067</td>\n",
       "      <td>C15orf57</td>\n",
       "      <td>Q9BV29</td>\n",
       "      <td>Regulates clathrin-mediated endocytsois of car...</td>\n",
       "    </tr>\n",
       "    <tr>\n",
       "      <th>8</th>\n",
       "      <td>2067</td>\n",
       "      <td>FCHO2</td>\n",
       "      <td>Q0JRZ9</td>\n",
       "      <td>Functions in an early step of clathrin-mediate...</td>\n",
       "    </tr>\n",
       "    <tr>\n",
       "      <th>9</th>\n",
       "      <td>2067</td>\n",
       "      <td>PICALM</td>\n",
       "      <td>Q13492</td>\n",
       "      <td>Cytoplasmic adapter protein that plays a criti...</td>\n",
       "    </tr>\n",
       "    <tr>\n",
       "      <th>10</th>\n",
       "      <td>2213</td>\n",
       "      <td>AGPS</td>\n",
       "      <td>O00116</td>\n",
       "      <td>Catalyzes the exchange of the acyl chain in ac...</td>\n",
       "    </tr>\n",
       "    <tr>\n",
       "      <th>11</th>\n",
       "      <td>2213</td>\n",
       "      <td>EPT1</td>\n",
       "      <td>Q9C0D9</td>\n",
       "      <td>Ethanolaminephosphotransferase that catalyzes ...</td>\n",
       "    </tr>\n",
       "    <tr>\n",
       "      <th>12</th>\n",
       "      <td>2213</td>\n",
       "      <td>FAR1</td>\n",
       "      <td>Q8WVX9</td>\n",
       "      <td>Catalyzes the reduction of saturated and unsat...</td>\n",
       "    </tr>\n",
       "    <tr>\n",
       "      <th>13</th>\n",
       "      <td>2213</td>\n",
       "      <td>GNPAT</td>\n",
       "      <td>O15228</td>\n",
       "      <td>Dihydroxyacetonephosphate acyltransferase cata...</td>\n",
       "    </tr>\n",
       "    <tr>\n",
       "      <th>14</th>\n",
       "      <td>2213</td>\n",
       "      <td>PCYT2</td>\n",
       "      <td>Q99447</td>\n",
       "      <td>Ethanolamine-phosphate cytidylyltransferase th...</td>\n",
       "    </tr>\n",
       "    <tr>\n",
       "      <th>15</th>\n",
       "      <td>2213</td>\n",
       "      <td>PEX7</td>\n",
       "      <td>O00628</td>\n",
       "      <td>Receptor required for the peroxisomal import o...</td>\n",
       "    </tr>\n",
       "    <tr>\n",
       "      <th>16</th>\n",
       "      <td>2213</td>\n",
       "      <td>SEC14L1</td>\n",
       "      <td>Q92503</td>\n",
       "      <td>May play a role in innate immunity by inhibiti...</td>\n",
       "    </tr>\n",
       "    <tr>\n",
       "      <th>17</th>\n",
       "      <td>2213</td>\n",
       "      <td>TMEM189</td>\n",
       "      <td>A5PLL7</td>\n",
       "      <td>Plasmanylethanolamine desaturase involved in p...</td>\n",
       "    </tr>\n",
       "  </tbody>\n",
       "</table>\n",
       "</div>"
      ],
      "text/plain": [
       "    cluster gene_symbol   entry  \\\n",
       "0      2067       AAGAB  Q6PD74   \n",
       "1      2067       AGFG1  P52594   \n",
       "2      2067       AP2A1  O95782   \n",
       "3      2067       AP2A2  O94973   \n",
       "4      2067       AP2B1  P63010   \n",
       "5      2067       AP2M1  Q96CW1   \n",
       "6      2067       AP2S1  P53680   \n",
       "7      2067    C15orf57  Q9BV29   \n",
       "8      2067       FCHO2  Q0JRZ9   \n",
       "9      2067      PICALM  Q13492   \n",
       "10     2213        AGPS  O00116   \n",
       "11     2213        EPT1  Q9C0D9   \n",
       "12     2213        FAR1  Q8WVX9   \n",
       "13     2213       GNPAT  O15228   \n",
       "14     2213       PCYT2  Q99447   \n",
       "15     2213        PEX7  O00628   \n",
       "16     2213     SEC14L1  Q92503   \n",
       "17     2213     TMEM189  A5PLL7   \n",
       "\n",
       "                                     uniprot_function  \n",
       "0   May be involved in endocytic recycling of grow...  \n",
       "1   Required for vesicle docking or fusion during ...  \n",
       "2   Component of the adaptor protein complex 2 (AP...  \n",
       "3   Component of the adaptor protein complex 2 (AP...  \n",
       "4   Component of the adaptor protein complex 2 (AP...  \n",
       "5   Component of the adaptor protein complex 2 (AP...  \n",
       "6   Component of the adaptor protein complex 2 (AP...  \n",
       "7   Regulates clathrin-mediated endocytsois of car...  \n",
       "8   Functions in an early step of clathrin-mediate...  \n",
       "9   Cytoplasmic adapter protein that plays a criti...  \n",
       "10  Catalyzes the exchange of the acyl chain in ac...  \n",
       "11  Ethanolaminephosphotransferase that catalyzes ...  \n",
       "12  Catalyzes the reduction of saturated and unsat...  \n",
       "13  Dihydroxyacetonephosphate acyltransferase cata...  \n",
       "14  Ethanolamine-phosphate cytidylyltransferase th...  \n",
       "15  Receptor required for the peroxisomal import o...  \n",
       "16  May play a role in innate immunity by inhibiti...  \n",
       "17  Plasmanylethanolamine desaturase involved in p...  "
      ]
     },
     "metadata": {},
     "output_type": "display_data"
    },
    {
     "data": {
      "text/html": [
       "<div>\n",
       "<style scoped>\n",
       "    .dataframe tbody tr th:only-of-type {\n",
       "        vertical-align: middle;\n",
       "    }\n",
       "\n",
       "    .dataframe tbody tr th {\n",
       "        vertical-align: top;\n",
       "    }\n",
       "\n",
       "    .dataframe thead th {\n",
       "        text-align: right;\n",
       "    }\n",
       "</style>\n",
       "<table border=\"1\" class=\"dataframe\">\n",
       "  <thead>\n",
       "    <tr style=\"text-align: right;\">\n",
       "      <th></th>\n",
       "      <th>cluster</th>\n",
       "      <th>gene_symbol</th>\n",
       "      <th>entry</th>\n",
       "      <th>uniprot_function</th>\n",
       "    </tr>\n",
       "  </thead>\n",
       "  <tbody>\n",
       "    <tr>\n",
       "      <th>0</th>\n",
       "      <td>C5255</td>\n",
       "      <td>RPP30</td>\n",
       "      <td>P78346</td>\n",
       "      <td>Component of ribonuclease P, a ribonucleoprote...</td>\n",
       "    </tr>\n",
       "    <tr>\n",
       "      <th>1</th>\n",
       "      <td>C5255</td>\n",
       "      <td>RNASEH1</td>\n",
       "      <td>O60930</td>\n",
       "      <td>Endonuclease that specifically degrades the RN...</td>\n",
       "    </tr>\n",
       "    <tr>\n",
       "      <th>2</th>\n",
       "      <td>C5255</td>\n",
       "      <td>POP1</td>\n",
       "      <td>Q99575</td>\n",
       "      <td>Component of ribonuclease P, a ribonucleoprote...</td>\n",
       "    </tr>\n",
       "    <tr>\n",
       "      <th>3</th>\n",
       "      <td>C5255</td>\n",
       "      <td>OSGEP</td>\n",
       "      <td>Q9NPF4</td>\n",
       "      <td>Component of the EKC/KEOPS complex that is req...</td>\n",
       "    </tr>\n",
       "    <tr>\n",
       "      <th>4</th>\n",
       "      <td>C5255</td>\n",
       "      <td>POP7</td>\n",
       "      <td>O75817</td>\n",
       "      <td>Component of ribonuclease P, a ribonucleoprote...</td>\n",
       "    </tr>\n",
       "    <tr>\n",
       "      <th>5</th>\n",
       "      <td>C5255</td>\n",
       "      <td>C18orf21</td>\n",
       "      <td>Q32NC0</td>\n",
       "      <td>NaN</td>\n",
       "    </tr>\n",
       "    <tr>\n",
       "      <th>6</th>\n",
       "      <td>C5255</td>\n",
       "      <td>RPP14</td>\n",
       "      <td>O95059</td>\n",
       "      <td>Component of ribonuclease P, a ribonucleoprote...</td>\n",
       "    </tr>\n",
       "    <tr>\n",
       "      <th>7</th>\n",
       "      <td>C5255</td>\n",
       "      <td>RPP40</td>\n",
       "      <td>O75818</td>\n",
       "      <td>Component of ribonuclease P, a ribonucleoprote...</td>\n",
       "    </tr>\n",
       "    <tr>\n",
       "      <th>8</th>\n",
       "      <td>C5255</td>\n",
       "      <td>RPP38</td>\n",
       "      <td>P78345</td>\n",
       "      <td>Component of ribonuclease P, a ribonucleoprote...</td>\n",
       "    </tr>\n",
       "    <tr>\n",
       "      <th>9</th>\n",
       "      <td>C5255</td>\n",
       "      <td>GON7</td>\n",
       "      <td>Q9BXV9</td>\n",
       "      <td>Component of the EKC/KEOPS complex that is req...</td>\n",
       "    </tr>\n",
       "    <tr>\n",
       "      <th>10</th>\n",
       "      <td>C5255</td>\n",
       "      <td>RPP25L</td>\n",
       "      <td>Q8N5L8</td>\n",
       "      <td>May be a component of ribonuclease P or MRP.</td>\n",
       "    </tr>\n",
       "    <tr>\n",
       "      <th>11</th>\n",
       "      <td>C5255</td>\n",
       "      <td>POP5</td>\n",
       "      <td>Q969H6</td>\n",
       "      <td>Component of ribonuclease P, a protein complex...</td>\n",
       "    </tr>\n",
       "    <tr>\n",
       "      <th>12</th>\n",
       "      <td>C5255</td>\n",
       "      <td>MAGED2</td>\n",
       "      <td>Q9UNF1</td>\n",
       "      <td>Regulates the expression, localization to the ...</td>\n",
       "    </tr>\n",
       "    <tr>\n",
       "      <th>13</th>\n",
       "      <td>C5255</td>\n",
       "      <td>POP4</td>\n",
       "      <td>O95707</td>\n",
       "      <td>Component of ribonuclease P, a ribonucleoprote...</td>\n",
       "    </tr>\n",
       "    <tr>\n",
       "      <th>14</th>\n",
       "      <td>C5415</td>\n",
       "      <td>STAT1</td>\n",
       "      <td>P42224</td>\n",
       "      <td>Signal transducer and transcription activator ...</td>\n",
       "    </tr>\n",
       "    <tr>\n",
       "      <th>15</th>\n",
       "      <td>C5415</td>\n",
       "      <td>DPP9</td>\n",
       "      <td>Q86TI2</td>\n",
       "      <td>Dipeptidyl peptidase that cleaves off N-termin...</td>\n",
       "    </tr>\n",
       "    <tr>\n",
       "      <th>16</th>\n",
       "      <td>C5415</td>\n",
       "      <td>STAT2</td>\n",
       "      <td>P52630</td>\n",
       "      <td>Signal transducer and activator of transcripti...</td>\n",
       "    </tr>\n",
       "    <tr>\n",
       "      <th>17</th>\n",
       "      <td>C5415</td>\n",
       "      <td>IRF9</td>\n",
       "      <td>Q00978</td>\n",
       "      <td>Transcription factor that plays an essential r...</td>\n",
       "    </tr>\n",
       "  </tbody>\n",
       "</table>\n",
       "</div>"
      ],
      "text/plain": [
       "   cluster gene_symbol   entry  \\\n",
       "0    C5255       RPP30  P78346   \n",
       "1    C5255     RNASEH1  O60930   \n",
       "2    C5255        POP1  Q99575   \n",
       "3    C5255       OSGEP  Q9NPF4   \n",
       "4    C5255        POP7  O75817   \n",
       "5    C5255    C18orf21  Q32NC0   \n",
       "6    C5255       RPP14  O95059   \n",
       "7    C5255       RPP40  O75818   \n",
       "8    C5255       RPP38  P78345   \n",
       "9    C5255        GON7  Q9BXV9   \n",
       "10   C5255      RPP25L  Q8N5L8   \n",
       "11   C5255        POP5  Q969H6   \n",
       "12   C5255      MAGED2  Q9UNF1   \n",
       "13   C5255        POP4  O95707   \n",
       "14   C5415       STAT1  P42224   \n",
       "15   C5415        DPP9  Q86TI2   \n",
       "16   C5415       STAT2  P52630   \n",
       "17   C5415        IRF9  Q00978   \n",
       "\n",
       "                                     uniprot_function  \n",
       "0   Component of ribonuclease P, a ribonucleoprote...  \n",
       "1   Endonuclease that specifically degrades the RN...  \n",
       "2   Component of ribonuclease P, a ribonucleoprote...  \n",
       "3   Component of the EKC/KEOPS complex that is req...  \n",
       "4   Component of ribonuclease P, a ribonucleoprote...  \n",
       "5                                                 NaN  \n",
       "6   Component of ribonuclease P, a ribonucleoprote...  \n",
       "7   Component of ribonuclease P, a ribonucleoprote...  \n",
       "8   Component of ribonuclease P, a ribonucleoprote...  \n",
       "9   Component of the EKC/KEOPS complex that is req...  \n",
       "10       May be a component of ribonuclease P or MRP.  \n",
       "11  Component of ribonuclease P, a protein complex...  \n",
       "12  Regulates the expression, localization to the ...  \n",
       "13  Component of ribonuclease P, a ribonucleoprote...  \n",
       "14  Signal transducer and transcription activator ...  \n",
       "15  Dipeptidyl peptidase that cleaves off N-termin...  \n",
       "16  Signal transducer and activator of transcripti...  \n",
       "17  Transcription factor that plays an essential r...  "
      ]
     },
     "metadata": {},
     "output_type": "display_data"
    }
   ],
   "source": [
    "display(funk)\n",
    "display(wainberg)\n",
    "display(schaffer)"
   ]
  },
  {
   "cell_type": "code",
   "execution_count": 8,
   "id": "00a5fcce",
   "metadata": {},
   "outputs": [],
   "source": [
    "from mozzarellm import analyze_gene_clusters, reshape_to_clusters\n",
    "from mozzarellm.prompts import ROBUST_SCREEN_CONTEXT, ROBUST_CLUSTER_PROMPT\n",
    "from mozzarellm.configs import (\n",
    "    DEFAULT_OPENAI_REASONING_CONFIG,\n",
    "    DEFAULT_OPENAI_CONFIG,\n",
    "    DEFAULT_ANTHROPIC_CONFIG,\n",
    "    DEFAULT_GEMINI_CONFIG,\n",
    ")"
   ]
  },
  {
   "cell_type": "markdown",
   "id": "34006815",
   "metadata": {},
   "source": [
    "### Reshape clusters"
   ]
  },
  {
   "cell_type": "code",
   "execution_count": 9,
   "id": "472c1b70",
   "metadata": {},
   "outputs": [
    {
     "name": "stdout",
     "output_type": "stream",
     "text": [
      "Using provided DataFrame with 140 rows\n",
      "Found 140 genes across 6 clusters\n",
      "Extracting gene features from uniprot_function column\n",
      "Processed funk: 6 clusters with 140 unique genes\n",
      "Using provided DataFrame with 18 rows\n",
      "Found 18 genes across 2 clusters\n",
      "Extracting gene features from uniprot_function column\n",
      "Processed wainberg: 2 clusters with 18 unique genes\n",
      "Using provided DataFrame with 18 rows\n",
      "Found 18 genes across 2 clusters\n",
      "Extracting gene features from uniprot_function column\n",
      "Could not convert cluster_id to numeric: Unable to parse string \"C5255\" at position 0. Sorting as strings.\n",
      "Processed schaffer: 2 clusters with 18 unique genes\n"
     ]
    }
   ],
   "source": [
    "GENE_COL = \"gene_symbol\"\n",
    "CLUSTER_COL = \"cluster\"\n",
    "UNIPROT_COL = \"uniprot_function\"\n",
    "\n",
    "# Dictionary to store the processed results\n",
    "processed_data = {}\n",
    "\n",
    "for dataset_name in [\"funk\", \"wainberg\", \"schaffer\"]:\n",
    "    # Get the dataset from local variables\n",
    "    sample_data = locals()[dataset_name]\n",
    "\n",
    "    # Process with reshape_to_clusters without saving\n",
    "    cluster_df, gene_features = reshape_to_clusters(\n",
    "        input_df=sample_data,\n",
    "        gene_col=GENE_COL,\n",
    "        cluster_col=CLUSTER_COL,\n",
    "        uniprot_col=UNIPROT_COL,\n",
    "        verbose=True,\n",
    "    )\n",
    "\n",
    "    # Store results in dictionary for later use\n",
    "    processed_data[dataset_name] = {\n",
    "        \"clusters\": cluster_df,\n",
    "        \"gene_features\": gene_features,\n",
    "    }\n",
    "\n",
    "    # Print summary stats\n",
    "    print(\n",
    "        f\"Processed {dataset_name}: {len(cluster_df)} clusters with {len(gene_features)} unique genes\"\n",
    "    )"
   ]
  },
  {
   "cell_type": "markdown",
   "id": "ca33a6a2",
   "metadata": {},
   "source": [
    "### Knowledge cutoffs:\n",
    "- o4-mini: May 2024\n",
    "- o3: May 2024\n",
    "- o3-mini: Sep 2023\n",
    "- gpt-4.1: May 2024\n",
    "- gpt-4o: Sep 2023\n",
    "- claude-3-7-sonnet-20250219: Nov 2024\n",
    "- claude-3-5-haiku-20241022: Apr 2024\n",
    "- gemini-2.5-pro-preview-03-25: Jan 2025\n",
    "- gemini-2.5-flash-preview-04-17: Jan 2025"
   ]
  },
  {
   "cell_type": "code",
   "execution_count": 10,
   "id": "6d6fdff5",
   "metadata": {},
   "outputs": [
    {
     "name": "stdout",
     "output_type": "stream",
     "text": [
      "\n",
      "============================================================\n",
      "Processing dataset: funk\n",
      "============================================================\n",
      "\n",
      "--------------------------------------------------\n",
      "Running o4-mini on funk\n",
      "--------------------------------------------------\n",
      "Loaded data with 6 rows and columns: ['cluster_id', 'genes']\n",
      "Created annotations dictionary with 140 entries from DataFrame\n"
     ]
    },
    {
     "name": "stderr",
     "output_type": "stream",
     "text": [
      "Processing clusters:   0%|          | 0/6 [00:00<?, ?it/s]"
     ]
    },
    {
     "name": "stdout",
     "output_type": "stream",
     "text": [
      "Using provided template string\n",
      "Appending output format instructions to template\n",
      "Added 39 gene feature descriptions to prompt\n"
     ]
    },
    {
     "name": "stderr",
     "output_type": "stream",
     "text": [
      "Processing clusters:  17%|█▋        | 1/6 [00:34<02:53, 34.80s/it]"
     ]
    },
    {
     "name": "stdout",
     "output_type": "stream",
     "text": [
      "Using provided template string\n",
      "Appending output format instructions to template\n",
      "Added 33 gene feature descriptions to prompt\n"
     ]
    },
    {
     "name": "stderr",
     "output_type": "stream",
     "text": [
      "Processing clusters:  33%|███▎      | 2/6 [01:02<02:02, 30.75s/it]"
     ]
    },
    {
     "name": "stdout",
     "output_type": "stream",
     "text": [
      "Using provided template string\n",
      "Appending output format instructions to template\n",
      "Added 22 gene feature descriptions to prompt\n"
     ]
    },
    {
     "name": "stderr",
     "output_type": "stream",
     "text": [
      "Processing clusters:  50%|█████     | 3/6 [02:23<02:40, 53.55s/it]"
     ]
    },
    {
     "name": "stdout",
     "output_type": "stream",
     "text": [
      "Using provided template string\n",
      "Appending output format instructions to template\n",
      "Added 19 gene feature descriptions to prompt\n"
     ]
    },
    {
     "name": "stderr",
     "output_type": "stream",
     "text": [
      "Processing clusters:  67%|██████▋   | 4/6 [02:55<01:30, 45.09s/it]"
     ]
    },
    {
     "name": "stdout",
     "output_type": "stream",
     "text": [
      "Using provided template string\n",
      "Appending output format instructions to template\n",
      "Added 16 gene feature descriptions to prompt\n"
     ]
    },
    {
     "name": "stderr",
     "output_type": "stream",
     "text": [
      "INFO:cluster_analysis_20250506_163502.log:Saved progress for 5 clusters\n",
      "Processing clusters:  83%|████████▎ | 5/6 [03:09<00:33, 33.79s/it]INFO:cluster_analysis_20250506_163502.log:Accessing OpenAI API\n"
     ]
    },
    {
     "name": "stdout",
     "output_type": "stream",
     "text": [
      "Using provided template string\n",
      "Appending output format instructions to template\n",
      "Added 11 gene feature descriptions to prompt\n"
     ]
    },
    {
     "name": "stderr",
     "output_type": "stream",
     "text": [
      "INFO:cluster_analysis_20250506_163502.log:API call successful: 9370 tokens, $0.0937\n",
      "INFO:cluster_analysis_20250506_163502.log:Success for cluster 197\n",
      "Processing clusters: 100%|██████████| 6/6 [03:29<00:00, 34.97s/it]\n",
      "INFO:cluster_analysis_20250506_163502.log:Completed analysis for 6 clusters with data saved to disk\n",
      "INFO:cluster_analysis_20250506_163832.log:Processing 6 clusters with model o4-mini\n"
     ]
    },
    {
     "name": "stdout",
     "output_type": "stream",
     "text": [
      "✓ Successfully analyzed funk with openai_reasoning o4-mini\n",
      "\n",
      "--------------------------------------------------\n",
      "Running o3-mini on funk\n",
      "--------------------------------------------------\n",
      "Loaded data with 6 rows and columns: ['cluster_id', 'genes']\n",
      "Created annotations dictionary with 140 entries from DataFrame\n"
     ]
    },
    {
     "name": "stderr",
     "output_type": "stream",
     "text": [
      "Processing clusters:   0%|          | 0/6 [00:00<?, ?it/s]INFO:cluster_analysis_20250506_163832.log:Accessing OpenAI API\n"
     ]
    },
    {
     "name": "stdout",
     "output_type": "stream",
     "text": [
      "Using provided template string\n",
      "Appending output format instructions to template\n",
      "Added 39 gene feature descriptions to prompt\n"
     ]
    },
    {
     "name": "stderr",
     "output_type": "stream",
     "text": [
      "INFO:cluster_analysis_20250506_163832.log:API call successful: 12590 tokens, $0.1259\n",
      "INFO:cluster_analysis_20250506_163832.log:Success for cluster 21\n",
      "Processing clusters:  17%|█▋        | 1/6 [00:39<03:17, 39.41s/it]INFO:cluster_analysis_20250506_163832.log:Accessing OpenAI API\n"
     ]
    },
    {
     "name": "stdout",
     "output_type": "stream",
     "text": [
      "Using provided template string\n",
      "Appending output format instructions to template\n",
      "Added 33 gene feature descriptions to prompt\n"
     ]
    },
    {
     "name": "stderr",
     "output_type": "stream",
     "text": [
      "INFO:cluster_analysis_20250506_163832.log:API call successful: 18808 tokens, $0.1881\n",
      "INFO:cluster_analysis_20250506_163832.log:Success for cluster 37\n",
      "Processing clusters:  33%|███▎      | 2/6 [01:15<02:30, 37.68s/it]INFO:cluster_analysis_20250506_163832.log:Accessing OpenAI API\n"
     ]
    },
    {
     "name": "stdout",
     "output_type": "stream",
     "text": [
      "Using provided template string\n",
      "Appending output format instructions to template\n",
      "Added 22 gene feature descriptions to prompt\n"
     ]
    },
    {
     "name": "stderr",
     "output_type": "stream",
     "text": [
      "INFO:cluster_analysis_20250506_163832.log:API call successful: 13148 tokens, $0.1315\n",
      "INFO:cluster_analysis_20250506_163832.log:Success for cluster 121\n",
      "Processing clusters:  50%|█████     | 3/6 [02:39<02:56, 58.72s/it]INFO:cluster_analysis_20250506_163832.log:Accessing OpenAI API\n"
     ]
    },
    {
     "name": "stdout",
     "output_type": "stream",
     "text": [
      "Using provided template string\n",
      "Appending output format instructions to template\n",
      "Added 19 gene feature descriptions to prompt\n"
     ]
    },
    {
     "name": "stderr",
     "output_type": "stream",
     "text": [
      "INFO:cluster_analysis_20250506_163832.log:API call successful: 7896 tokens, $0.0790\n",
      "INFO:cluster_analysis_20250506_163832.log:Success for cluster 149\n",
      "Processing clusters:  67%|██████▋   | 4/6 [03:07<01:33, 46.67s/it]INFO:cluster_analysis_20250506_163832.log:Accessing OpenAI API\n"
     ]
    },
    {
     "name": "stdout",
     "output_type": "stream",
     "text": [
      "Using provided template string\n",
      "Appending output format instructions to template\n",
      "Added 16 gene feature descriptions to prompt\n"
     ]
    },
    {
     "name": "stderr",
     "output_type": "stream",
     "text": [
      "INFO:cluster_analysis_20250506_163832.log:API call successful: 7124 tokens, $0.0712\n",
      "INFO:cluster_analysis_20250506_163832.log:Success for cluster 167\n",
      "INFO:cluster_analysis_20250506_163832.log:Saved progress for 5 clusters\n",
      "Processing clusters:  83%|████████▎ | 5/6 [03:24<00:35, 35.68s/it]INFO:cluster_analysis_20250506_163832.log:Accessing OpenAI API\n"
     ]
    },
    {
     "name": "stdout",
     "output_type": "stream",
     "text": [
      "Using provided template string\n",
      "Appending output format instructions to template\n",
      "Added 11 gene feature descriptions to prompt\n"
     ]
    },
    {
     "name": "stderr",
     "output_type": "stream",
     "text": [
      "INFO:cluster_analysis_20250506_163832.log:API call successful: 9370 tokens, $0.0937\n",
      "INFO:cluster_analysis_20250506_163832.log:Success for cluster 197\n",
      "Processing clusters: 100%|██████████| 6/6 [03:50<00:00, 38.35s/it]\n",
      "INFO:cluster_analysis_20250506_163832.log:Completed analysis for 6 clusters with data saved to disk\n",
      "INFO:cluster_analysis_20250506_164222.log:Processing 6 clusters with model gpt-4o\n"
     ]
    },
    {
     "name": "stdout",
     "output_type": "stream",
     "text": [
      "✓ Successfully analyzed funk with openai_reasoning o3-mini\n",
      "\n",
      "--------------------------------------------------\n",
      "Running gpt-4.1 on funk\n",
      "--------------------------------------------------\n",
      "Loaded data with 6 rows and columns: ['cluster_id', 'genes']\n",
      "Created annotations dictionary with 140 entries from DataFrame\n"
     ]
    },
    {
     "name": "stderr",
     "output_type": "stream",
     "text": [
      "Processing clusters:   0%|          | 0/6 [00:00<?, ?it/s]INFO:cluster_analysis_20250506_164222.log:Accessing OpenAI API\n"
     ]
    },
    {
     "name": "stdout",
     "output_type": "stream",
     "text": [
      "Using provided template string\n",
      "Appending output format instructions to template\n",
      "Added 39 gene feature descriptions to prompt\n"
     ]
    },
    {
     "name": "stderr",
     "output_type": "stream",
     "text": [
      "INFO:cluster_analysis_20250506_164222.log:API call successful: 9187 tokens, $0.0919\n",
      "INFO:cluster_analysis_20250506_164222.log:Success for cluster 21\n",
      "Processing clusters:  17%|█▋        | 1/6 [00:22<01:52, 22.49s/it]INFO:cluster_analysis_20250506_164222.log:Accessing OpenAI API\n"
     ]
    },
    {
     "name": "stdout",
     "output_type": "stream",
     "text": [
      "Using provided template string\n",
      "Appending output format instructions to template\n",
      "Added 33 gene feature descriptions to prompt\n"
     ]
    },
    {
     "name": "stderr",
     "output_type": "stream",
     "text": [
      "INFO:cluster_analysis_20250506_164222.log:API call successful: 16390 tokens, $0.1639\n",
      "INFO:cluster_analysis_20250506_164222.log:Success for cluster 37\n",
      "Processing clusters:  33%|███▎      | 2/6 [00:37<01:12, 18.05s/it]INFO:cluster_analysis_20250506_164222.log:Accessing OpenAI API\n"
     ]
    },
    {
     "name": "stdout",
     "output_type": "stream",
     "text": [
      "Using provided template string\n",
      "Appending output format instructions to template\n",
      "Added 22 gene feature descriptions to prompt\n"
     ]
    },
    {
     "name": "stderr",
     "output_type": "stream",
     "text": [
      "INFO:cluster_analysis_20250506_164222.log:API call successful: 7363 tokens, $0.0736\n",
      "INFO:cluster_analysis_20250506_164222.log:Success for cluster 121\n",
      "Processing clusters:  50%|█████     | 3/6 [00:45<00:40, 13.57s/it]INFO:cluster_analysis_20250506_164222.log:Accessing OpenAI API\n"
     ]
    },
    {
     "name": "stdout",
     "output_type": "stream",
     "text": [
      "Using provided template string\n",
      "Appending output format instructions to template\n",
      "Added 19 gene feature descriptions to prompt\n"
     ]
    },
    {
     "name": "stderr",
     "output_type": "stream",
     "text": [
      "INFO:cluster_analysis_20250506_164222.log:API call successful: 5375 tokens, $0.0538\n",
      "INFO:cluster_analysis_20250506_164222.log:Success for cluster 149\n",
      "Processing clusters:  67%|██████▋   | 4/6 [00:54<00:23, 11.55s/it]INFO:cluster_analysis_20250506_164222.log:Accessing OpenAI API\n"
     ]
    },
    {
     "name": "stdout",
     "output_type": "stream",
     "text": [
      "Using provided template string\n",
      "Appending output format instructions to template\n",
      "Added 16 gene feature descriptions to prompt\n"
     ]
    },
    {
     "name": "stderr",
     "output_type": "stream",
     "text": [
      "INFO:cluster_analysis_20250506_164222.log:API call successful: 5715 tokens, $0.0572\n",
      "INFO:cluster_analysis_20250506_164222.log:Success for cluster 167\n",
      "INFO:cluster_analysis_20250506_164222.log:Saved progress for 5 clusters\n",
      "Processing clusters:  83%|████████▎ | 5/6 [01:01<00:09,  9.89s/it]INFO:cluster_analysis_20250506_164222.log:Accessing OpenAI API\n"
     ]
    },
    {
     "name": "stdout",
     "output_type": "stream",
     "text": [
      "Using provided template string\n",
      "Appending output format instructions to template\n",
      "Added 11 gene feature descriptions to prompt\n"
     ]
    },
    {
     "name": "stderr",
     "output_type": "stream",
     "text": [
      "INFO:cluster_analysis_20250506_164222.log:API call successful: 7328 tokens, $0.0733\n",
      "INFO:cluster_analysis_20250506_164222.log:Success for cluster 197\n",
      "Processing clusters: 100%|██████████| 6/6 [01:11<00:00, 11.93s/it]\n",
      "INFO:cluster_analysis_20250506_164222.log:Completed analysis for 6 clusters with data saved to disk\n",
      "INFO:cluster_analysis_20250506_164334.log:Processing 6 clusters with model gpt-4o\n"
     ]
    },
    {
     "name": "stdout",
     "output_type": "stream",
     "text": [
      "✓ Successfully analyzed funk with openai gpt-4.1\n",
      "\n",
      "--------------------------------------------------\n",
      "Running gpt-4o on funk\n",
      "--------------------------------------------------\n",
      "Loaded data with 6 rows and columns: ['cluster_id', 'genes']\n",
      "Created annotations dictionary with 140 entries from DataFrame\n"
     ]
    },
    {
     "name": "stderr",
     "output_type": "stream",
     "text": [
      "Processing clusters:   0%|          | 0/6 [00:00<?, ?it/s]INFO:cluster_analysis_20250506_164334.log:Accessing OpenAI API\n"
     ]
    },
    {
     "name": "stdout",
     "output_type": "stream",
     "text": [
      "Using provided template string\n",
      "Appending output format instructions to template\n",
      "Added 39 gene feature descriptions to prompt\n"
     ]
    },
    {
     "name": "stderr",
     "output_type": "stream",
     "text": [
      "INFO:cluster_analysis_20250506_164334.log:API call successful: 9180 tokens, $0.0918\n",
      "INFO:cluster_analysis_20250506_164334.log:Success for cluster 21\n",
      "Processing clusters:  17%|█▋        | 1/6 [00:19<01:36, 19.33s/it]INFO:cluster_analysis_20250506_164334.log:Accessing OpenAI API\n"
     ]
    },
    {
     "name": "stdout",
     "output_type": "stream",
     "text": [
      "Using provided template string\n",
      "Appending output format instructions to template\n",
      "Added 33 gene feature descriptions to prompt\n"
     ]
    },
    {
     "name": "stderr",
     "output_type": "stream",
     "text": [
      "INFO:cluster_analysis_20250506_164334.log:API call successful: 16385 tokens, $0.1639\n",
      "INFO:cluster_analysis_20250506_164334.log:Success for cluster 37\n",
      "Processing clusters:  33%|███▎      | 2/6 [00:32<01:01, 15.45s/it]INFO:cluster_analysis_20250506_164334.log:Accessing OpenAI API\n"
     ]
    },
    {
     "name": "stdout",
     "output_type": "stream",
     "text": [
      "Using provided template string\n",
      "Appending output format instructions to template\n",
      "Added 22 gene feature descriptions to prompt\n"
     ]
    },
    {
     "name": "stderr",
     "output_type": "stream",
     "text": [
      "INFO:cluster_analysis_20250506_164334.log:API call successful: 7310 tokens, $0.0731\n",
      "INFO:cluster_analysis_20250506_164334.log:Success for cluster 121\n",
      "Processing clusters:  50%|█████     | 3/6 [00:51<00:51, 17.33s/it]INFO:cluster_analysis_20250506_164334.log:Accessing OpenAI API\n"
     ]
    },
    {
     "name": "stdout",
     "output_type": "stream",
     "text": [
      "Using provided template string\n",
      "Appending output format instructions to template\n",
      "Added 19 gene feature descriptions to prompt\n"
     ]
    },
    {
     "name": "stderr",
     "output_type": "stream",
     "text": [
      "INFO:cluster_analysis_20250506_164334.log:API call successful: 5368 tokens, $0.0537\n",
      "INFO:cluster_analysis_20250506_164334.log:Success for cluster 149\n",
      "Processing clusters:  67%|██████▋   | 4/6 [01:01<00:28, 14.31s/it]INFO:cluster_analysis_20250506_164334.log:Accessing OpenAI API\n"
     ]
    },
    {
     "name": "stdout",
     "output_type": "stream",
     "text": [
      "Using provided template string\n",
      "Appending output format instructions to template\n",
      "Added 16 gene feature descriptions to prompt\n"
     ]
    },
    {
     "name": "stderr",
     "output_type": "stream",
     "text": [
      "INFO:cluster_analysis_20250506_164334.log:API call successful: 5722 tokens, $0.0572\n",
      "INFO:cluster_analysis_20250506_164334.log:Success for cluster 167\n",
      "INFO:cluster_analysis_20250506_164334.log:Saved progress for 5 clusters\n",
      "Processing clusters:  83%|████████▎ | 5/6 [01:11<00:12, 12.99s/it]INFO:cluster_analysis_20250506_164334.log:Accessing OpenAI API\n"
     ]
    },
    {
     "name": "stdout",
     "output_type": "stream",
     "text": [
      "Using provided template string\n",
      "Appending output format instructions to template\n",
      "Added 11 gene feature descriptions to prompt\n"
     ]
    },
    {
     "name": "stderr",
     "output_type": "stream",
     "text": [
      "INFO:cluster_analysis_20250506_164334.log:API call successful: 7326 tokens, $0.0733\n",
      "INFO:cluster_analysis_20250506_164334.log:Success for cluster 197\n",
      "Processing clusters: 100%|██████████| 6/6 [01:25<00:00, 14.19s/it]\n",
      "INFO:cluster_analysis_20250506_164334.log:Completed analysis for 6 clusters with data saved to disk\n",
      "INFO:cluster_analysis_20250506_164459.log:Processing 6 clusters with model claude-3-7-sonnet-20250219\n"
     ]
    },
    {
     "name": "stdout",
     "output_type": "stream",
     "text": [
      "✓ Successfully analyzed funk with openai gpt-4o\n",
      "\n",
      "--------------------------------------------------\n",
      "Running claude-3-7-sonnet-20250219 on funk\n",
      "--------------------------------------------------\n",
      "Loaded data with 6 rows and columns: ['cluster_id', 'genes']\n",
      "Created annotations dictionary with 140 entries from DataFrame\n"
     ]
    },
    {
     "name": "stderr",
     "output_type": "stream",
     "text": [
      "Processing clusters:   0%|          | 0/6 [00:00<?, ?it/s]INFO:cluster_analysis_20250506_164459.log:Using Anthropic Claude API\n"
     ]
    },
    {
     "name": "stdout",
     "output_type": "stream",
     "text": [
      "Using provided template string\n",
      "Appending output format instructions to template\n",
      "Added 39 gene feature descriptions to prompt\n"
     ]
    },
    {
     "name": "stderr",
     "output_type": "stream",
     "text": [
      "INFO:cluster_analysis_20250506_164459.log:Anthropic API call successful: model=claude-3-7-sonnet-20250219\n",
      "INFO:cluster_analysis_20250506_164459.log:Success for cluster 21\n",
      "Processing clusters:  17%|█▋        | 1/6 [00:17<01:27, 17.52s/it]INFO:cluster_analysis_20250506_164459.log:Using Anthropic Claude API\n"
     ]
    },
    {
     "name": "stdout",
     "output_type": "stream",
     "text": [
      "Using provided template string\n",
      "Appending output format instructions to template\n",
      "Added 33 gene feature descriptions to prompt\n"
     ]
    },
    {
     "name": "stderr",
     "output_type": "stream",
     "text": [
      "INFO:cluster_analysis_20250506_164459.log:Anthropic API call successful: model=claude-3-7-sonnet-20250219\n",
      "INFO:cluster_analysis_20250506_164459.log:Success for cluster 37\n",
      "Processing clusters:  33%|███▎      | 2/6 [00:38<01:18, 19.64s/it]INFO:cluster_analysis_20250506_164459.log:Using Anthropic Claude API\n"
     ]
    },
    {
     "name": "stdout",
     "output_type": "stream",
     "text": [
      "Using provided template string\n",
      "Appending output format instructions to template\n",
      "Added 22 gene feature descriptions to prompt\n"
     ]
    },
    {
     "name": "stderr",
     "output_type": "stream",
     "text": [
      "INFO:cluster_analysis_20250506_164459.log:Anthropic API call successful: model=claude-3-7-sonnet-20250219\n",
      "INFO:cluster_analysis_20250506_164459.log:Success for cluster 121\n",
      "Processing clusters:  50%|█████     | 3/6 [01:00<01:02, 20.83s/it]INFO:cluster_analysis_20250506_164459.log:Using Anthropic Claude API\n"
     ]
    },
    {
     "name": "stdout",
     "output_type": "stream",
     "text": [
      "Using provided template string\n",
      "Appending output format instructions to template\n",
      "Added 19 gene feature descriptions to prompt\n"
     ]
    },
    {
     "name": "stderr",
     "output_type": "stream",
     "text": [
      "INFO:cluster_analysis_20250506_164459.log:Anthropic API call successful: model=claude-3-7-sonnet-20250219\n",
      "INFO:cluster_analysis_20250506_164459.log:Success for cluster 149\n",
      "Processing clusters:  67%|██████▋   | 4/6 [01:22<00:42, 21.01s/it]INFO:cluster_analysis_20250506_164459.log:Using Anthropic Claude API\n"
     ]
    },
    {
     "name": "stdout",
     "output_type": "stream",
     "text": [
      "Using provided template string\n",
      "Appending output format instructions to template\n",
      "Added 16 gene feature descriptions to prompt\n"
     ]
    },
    {
     "name": "stderr",
     "output_type": "stream",
     "text": [
      "INFO:cluster_analysis_20250506_164459.log:Anthropic API call successful: model=claude-3-7-sonnet-20250219\n",
      "INFO:cluster_analysis_20250506_164459.log:Success for cluster 167\n",
      "INFO:cluster_analysis_20250506_164459.log:Saved progress for 5 clusters\n",
      "Processing clusters:  83%|████████▎ | 5/6 [01:33<00:17, 17.68s/it]INFO:cluster_analysis_20250506_164459.log:Using Anthropic Claude API\n"
     ]
    },
    {
     "name": "stdout",
     "output_type": "stream",
     "text": [
      "Using provided template string\n",
      "Appending output format instructions to template\n",
      "Added 11 gene feature descriptions to prompt\n"
     ]
    },
    {
     "name": "stderr",
     "output_type": "stream",
     "text": [
      "INFO:cluster_analysis_20250506_164459.log:Anthropic API call successful: model=claude-3-7-sonnet-20250219\n",
      "INFO:cluster_analysis_20250506_164459.log:Success for cluster 197\n",
      "Processing clusters: 100%|██████████| 6/6 [01:48<00:00, 18.07s/it]\n",
      "INFO:cluster_analysis_20250506_164459.log:Completed analysis for 6 clusters with data saved to disk\n",
      "INFO:cluster_analysis_20250506_164647.log:Processing 6 clusters with model claude-3-7-sonnet-20250219\n"
     ]
    },
    {
     "name": "stdout",
     "output_type": "stream",
     "text": [
      "✓ Successfully analyzed funk with anthropic claude-3-7-sonnet-20250219\n",
      "\n",
      "--------------------------------------------------\n",
      "Running claude-3-5-haiku-20241022 on funk\n",
      "--------------------------------------------------\n",
      "Loaded data with 6 rows and columns: ['cluster_id', 'genes']\n",
      "Created annotations dictionary with 140 entries from DataFrame\n"
     ]
    },
    {
     "name": "stderr",
     "output_type": "stream",
     "text": [
      "Processing clusters:   0%|          | 0/6 [00:00<?, ?it/s]INFO:cluster_analysis_20250506_164647.log:Using Anthropic Claude API\n"
     ]
    },
    {
     "name": "stdout",
     "output_type": "stream",
     "text": [
      "Using provided template string\n",
      "Appending output format instructions to template\n",
      "Added 39 gene feature descriptions to prompt\n"
     ]
    },
    {
     "name": "stderr",
     "output_type": "stream",
     "text": [
      "INFO:cluster_analysis_20250506_164647.log:Anthropic API call successful: model=claude-3-7-sonnet-20250219\n",
      "INFO:cluster_analysis_20250506_164647.log:Success for cluster 21\n",
      "Processing clusters:  17%|█▋        | 1/6 [00:17<01:29, 17.83s/it]INFO:cluster_analysis_20250506_164647.log:Using Anthropic Claude API\n"
     ]
    },
    {
     "name": "stdout",
     "output_type": "stream",
     "text": [
      "Using provided template string\n",
      "Appending output format instructions to template\n",
      "Added 33 gene feature descriptions to prompt\n"
     ]
    },
    {
     "name": "stderr",
     "output_type": "stream",
     "text": [
      "INFO:cluster_analysis_20250506_164647.log:Anthropic API call successful: model=claude-3-7-sonnet-20250219\n",
      "INFO:cluster_analysis_20250506_164647.log:Success for cluster 37\n",
      "Processing clusters:  33%|███▎      | 2/6 [00:41<01:24, 21.22s/it]INFO:cluster_analysis_20250506_164647.log:Using Anthropic Claude API\n"
     ]
    },
    {
     "name": "stdout",
     "output_type": "stream",
     "text": [
      "Using provided template string\n",
      "Appending output format instructions to template\n",
      "Added 22 gene feature descriptions to prompt\n"
     ]
    },
    {
     "name": "stderr",
     "output_type": "stream",
     "text": [
      "INFO:cluster_analysis_20250506_164647.log:Anthropic API call successful: model=claude-3-7-sonnet-20250219\n",
      "INFO:cluster_analysis_20250506_164647.log:Success for cluster 121\n",
      "Processing clusters:  50%|█████     | 3/6 [00:57<00:55, 18.66s/it]INFO:cluster_analysis_20250506_164647.log:Using Anthropic Claude API\n"
     ]
    },
    {
     "name": "stdout",
     "output_type": "stream",
     "text": [
      "Using provided template string\n",
      "Appending output format instructions to template\n",
      "Added 19 gene feature descriptions to prompt\n"
     ]
    },
    {
     "name": "stderr",
     "output_type": "stream",
     "text": [
      "INFO:cluster_analysis_20250506_164647.log:Anthropic API call successful: model=claude-3-7-sonnet-20250219\n",
      "INFO:cluster_analysis_20250506_164647.log:Success for cluster 149\n",
      "Processing clusters:  67%|██████▋   | 4/6 [01:23<00:43, 21.69s/it]INFO:cluster_analysis_20250506_164647.log:Using Anthropic Claude API\n"
     ]
    },
    {
     "name": "stdout",
     "output_type": "stream",
     "text": [
      "Using provided template string\n",
      "Appending output format instructions to template\n",
      "Added 16 gene feature descriptions to prompt\n"
     ]
    },
    {
     "name": "stderr",
     "output_type": "stream",
     "text": [
      "INFO:cluster_analysis_20250506_164647.log:Anthropic API call successful: model=claude-3-7-sonnet-20250219\n",
      "INFO:cluster_analysis_20250506_164647.log:Success for cluster 167\n",
      "INFO:cluster_analysis_20250506_164647.log:Saved progress for 5 clusters\n",
      "Processing clusters:  83%|████████▎ | 5/6 [01:35<00:18, 18.18s/it]INFO:cluster_analysis_20250506_164647.log:Using Anthropic Claude API\n"
     ]
    },
    {
     "name": "stdout",
     "output_type": "stream",
     "text": [
      "Using provided template string\n",
      "Appending output format instructions to template\n",
      "Added 11 gene feature descriptions to prompt\n"
     ]
    },
    {
     "name": "stderr",
     "output_type": "stream",
     "text": [
      "INFO:cluster_analysis_20250506_164647.log:Anthropic API call successful: model=claude-3-7-sonnet-20250219\n",
      "INFO:cluster_analysis_20250506_164647.log:Success for cluster 197\n",
      "Processing clusters: 100%|██████████| 6/6 [01:51<00:00, 18.55s/it]\n",
      "INFO:cluster_analysis_20250506_164647.log:Completed analysis for 6 clusters with data saved to disk\n",
      "INFO:cluster_analysis_20250506_164839.log:Processing 6 clusters with model gemini-2.5-pro-preview-03-25\n"
     ]
    },
    {
     "name": "stdout",
     "output_type": "stream",
     "text": [
      "✓ Successfully analyzed funk with anthropic claude-3-5-haiku-20241022\n",
      "\n",
      "--------------------------------------------------\n",
      "Running gemini-2.5-pro-preview-03-25 on funk\n",
      "--------------------------------------------------\n",
      "Loaded data with 6 rows and columns: ['cluster_id', 'genes']\n",
      "Created annotations dictionary with 140 entries from DataFrame\n"
     ]
    },
    {
     "name": "stderr",
     "output_type": "stream",
     "text": [
      "Processing clusters:   0%|          | 0/6 [00:00<?, ?it/s]INFO:cluster_analysis_20250506_164839.log:Using Google Gemini API\n"
     ]
    },
    {
     "name": "stdout",
     "output_type": "stream",
     "text": [
      "Using provided template string\n",
      "Appending output format instructions to template\n",
      "Added 39 gene feature descriptions to prompt\n"
     ]
    },
    {
     "name": "stderr",
     "output_type": "stream",
     "text": [
      "INFO:cluster_analysis_20250506_164839.log:Google Gemini API call successful: model=gemini-2.5-pro-preview-03-25\n",
      "ERROR: Error for cluster 21: None\n",
      "ERROR:cluster_analysis_20250506_164839.log:Error for cluster 21: None\n",
      "WARNING:root:No cluster data to save\n",
      "INFO:cluster_analysis_20250506_164839.log:Saved progress for 0 clusters\n",
      "Processing clusters:  17%|█▋        | 1/6 [01:24<07:01, 84.22s/it]INFO:cluster_analysis_20250506_164839.log:Using Google Gemini API\n"
     ]
    },
    {
     "name": "stdout",
     "output_type": "stream",
     "text": [
      "Using provided template string\n",
      "Appending output format instructions to template\n",
      "Added 33 gene feature descriptions to prompt\n"
     ]
    },
    {
     "name": "stderr",
     "output_type": "stream",
     "text": [
      "INFO:cluster_analysis_20250506_164839.log:Google Gemini API call successful: model=gemini-2.5-pro-preview-03-25\n",
      "ERROR: Error for cluster 37: None\n",
      "ERROR:cluster_analysis_20250506_164839.log:Error for cluster 37: None\n",
      "WARNING:root:No cluster data to save\n",
      "INFO:cluster_analysis_20250506_164839.log:Saved progress for 0 clusters\n",
      "Processing clusters:  33%|███▎      | 2/6 [02:53<05:49, 87.44s/it]INFO:cluster_analysis_20250506_164839.log:Using Google Gemini API\n"
     ]
    },
    {
     "name": "stdout",
     "output_type": "stream",
     "text": [
      "Using provided template string\n",
      "Appending output format instructions to template\n",
      "Added 22 gene feature descriptions to prompt\n"
     ]
    },
    {
     "name": "stderr",
     "output_type": "stream",
     "text": [
      "INFO:cluster_analysis_20250506_164839.log:Google Gemini API call successful: model=gemini-2.5-pro-preview-03-25\n",
      "ERROR: Error for cluster 121: None\n",
      "ERROR:cluster_analysis_20250506_164839.log:Error for cluster 121: None\n",
      "WARNING:root:No cluster data to save\n",
      "INFO:cluster_analysis_20250506_164839.log:Saved progress for 0 clusters\n",
      "Processing clusters:  50%|█████     | 3/6 [04:20<04:21, 87.18s/it]INFO:cluster_analysis_20250506_164839.log:Using Google Gemini API\n"
     ]
    },
    {
     "name": "stdout",
     "output_type": "stream",
     "text": [
      "Using provided template string\n",
      "Appending output format instructions to template\n",
      "Added 19 gene feature descriptions to prompt\n"
     ]
    },
    {
     "name": "stderr",
     "output_type": "stream",
     "text": [
      "INFO:cluster_analysis_20250506_164839.log:Google Gemini API call successful: model=gemini-2.5-pro-preview-03-25\n",
      "INFO:cluster_analysis_20250506_164839.log:Success for cluster 149\n",
      "Processing clusters:  67%|██████▋   | 4/6 [05:42<02:49, 84.97s/it]INFO:cluster_analysis_20250506_164839.log:Using Google Gemini API\n"
     ]
    },
    {
     "name": "stdout",
     "output_type": "stream",
     "text": [
      "Using provided template string\n",
      "Appending output format instructions to template\n",
      "Added 16 gene feature descriptions to prompt\n"
     ]
    },
    {
     "name": "stderr",
     "output_type": "stream",
     "text": [
      "INFO:cluster_analysis_20250506_164839.log:Google Gemini API call successful: model=gemini-2.5-pro-preview-03-25\n",
      "ERROR: Error for cluster 167: None\n",
      "ERROR:cluster_analysis_20250506_164839.log:Error for cluster 167: None\n",
      "Processing clusters:  83%|████████▎ | 5/6 [07:05<01:24, 84.21s/it]INFO:cluster_analysis_20250506_164839.log:Using Google Gemini API\n"
     ]
    },
    {
     "name": "stdout",
     "output_type": "stream",
     "text": [
      "Using provided template string\n",
      "Appending output format instructions to template\n",
      "Added 11 gene feature descriptions to prompt\n"
     ]
    },
    {
     "name": "stderr",
     "output_type": "stream",
     "text": [
      "INFO:cluster_analysis_20250506_164839.log:Google Gemini API call successful: model=gemini-2.5-pro-preview-03-25\n",
      "INFO:cluster_analysis_20250506_164839.log:Success for cluster 197\n",
      "Processing clusters: 100%|██████████| 6/6 [08:16<00:00, 82.83s/it]\n",
      "INFO:cluster_analysis_20250506_164839.log:Completed analysis for 2 clusters with data saved to disk\n",
      "INFO:cluster_analysis_20250506_165656.log:Processing 6 clusters with model gemini-2.5-pro-preview-03-25\n"
     ]
    },
    {
     "name": "stdout",
     "output_type": "stream",
     "text": [
      "✓ Successfully analyzed funk with gemini gemini-2.5-pro-preview-03-25\n",
      "\n",
      "--------------------------------------------------\n",
      "Running gemini-2.5-flash-preview-04-17 on funk\n",
      "--------------------------------------------------\n",
      "Loaded data with 6 rows and columns: ['cluster_id', 'genes']\n",
      "Created annotations dictionary with 140 entries from DataFrame\n"
     ]
    },
    {
     "name": "stderr",
     "output_type": "stream",
     "text": [
      "Processing clusters:   0%|          | 0/6 [00:00<?, ?it/s]INFO:cluster_analysis_20250506_165656.log:Using Google Gemini API\n"
     ]
    },
    {
     "name": "stdout",
     "output_type": "stream",
     "text": [
      "Using provided template string\n",
      "Appending output format instructions to template\n",
      "Added 39 gene feature descriptions to prompt\n"
     ]
    },
    {
     "name": "stderr",
     "output_type": "stream",
     "text": [
      "INFO:cluster_analysis_20250506_165656.log:Google Gemini API call successful: model=gemini-2.5-pro-preview-03-25\n",
      "ERROR: Error for cluster 21: None\n",
      "ERROR:cluster_analysis_20250506_165656.log:Error for cluster 21: None\n",
      "WARNING:root:No cluster data to save\n",
      "INFO:cluster_analysis_20250506_165656.log:Saved progress for 0 clusters\n",
      "Processing clusters:  17%|█▋        | 1/6 [01:22<06:51, 82.22s/it]INFO:cluster_analysis_20250506_165656.log:Using Google Gemini API\n"
     ]
    },
    {
     "name": "stdout",
     "output_type": "stream",
     "text": [
      "Using provided template string\n",
      "Appending output format instructions to template\n",
      "Added 33 gene feature descriptions to prompt\n"
     ]
    },
    {
     "name": "stderr",
     "output_type": "stream",
     "text": [
      "INFO:cluster_analysis_20250506_165656.log:Google Gemini API call successful: model=gemini-2.5-pro-preview-03-25\n",
      "WARNING:root:All standard parsing methods failed, attempting final recovery approach\n",
      "WARNING: Cluster ID mismatch. Expected 37, got None. Fixing.\n",
      "WARNING:cluster_analysis_20250506_165656.log:Cluster ID mismatch. Expected 37, got None. Fixing.\n",
      "INFO:cluster_analysis_20250506_165656.log:Success for cluster 37\n",
      "Processing clusters:  33%|███▎      | 2/6 [02:51<05:46, 86.51s/it]INFO:cluster_analysis_20250506_165656.log:Using Google Gemini API\n"
     ]
    },
    {
     "name": "stdout",
     "output_type": "stream",
     "text": [
      "Using provided template string\n",
      "Appending output format instructions to template\n",
      "Added 22 gene feature descriptions to prompt\n"
     ]
    },
    {
     "name": "stderr",
     "output_type": "stream",
     "text": [
      "INFO:cluster_analysis_20250506_165656.log:Google Gemini API call successful: model=gemini-2.5-pro-preview-03-25\n",
      "ERROR: Error for cluster 121: None\n",
      "ERROR:cluster_analysis_20250506_165656.log:Error for cluster 121: None\n",
      "Processing clusters:  50%|█████     | 3/6 [04:18<04:19, 86.57s/it]INFO:cluster_analysis_20250506_165656.log:Using Google Gemini API\n"
     ]
    },
    {
     "name": "stdout",
     "output_type": "stream",
     "text": [
      "Using provided template string\n",
      "Appending output format instructions to template\n",
      "Added 19 gene feature descriptions to prompt\n"
     ]
    },
    {
     "name": "stderr",
     "output_type": "stream",
     "text": [
      "INFO:cluster_analysis_20250506_165656.log:Google Gemini API call successful: model=gemini-2.5-pro-preview-03-25\n",
      "ERROR:root:Failed to parse JSON object from regex match: Expecting ',' delimiter: line 45 column 6 (char 2251)\n",
      "ERROR:root:Failed to parse JSON object using indices: Expecting ',' delimiter: line 45 column 6 (char 2251)\n",
      "WARNING:root:All standard parsing methods failed, attempting final recovery approach\n",
      "INFO:cluster_analysis_20250506_165656.log:Success for cluster 149\n",
      "Processing clusters:  67%|██████▋   | 4/6 [05:42<02:51, 85.61s/it]INFO:cluster_analysis_20250506_165656.log:Using Google Gemini API\n"
     ]
    },
    {
     "name": "stdout",
     "output_type": "stream",
     "text": [
      "Using provided template string\n",
      "Appending output format instructions to template\n",
      "Added 16 gene feature descriptions to prompt\n"
     ]
    },
    {
     "name": "stderr",
     "output_type": "stream",
     "text": [
      "INFO:cluster_analysis_20250506_165656.log:Google Gemini API call successful: model=gemini-2.5-pro-preview-03-25\n",
      "ERROR: Error for cluster 167: None\n",
      "ERROR:cluster_analysis_20250506_165656.log:Error for cluster 167: None\n",
      "Processing clusters:  83%|████████▎ | 5/6 [07:05<01:24, 84.59s/it]INFO:cluster_analysis_20250506_165656.log:Using Google Gemini API\n"
     ]
    },
    {
     "name": "stdout",
     "output_type": "stream",
     "text": [
      "Using provided template string\n",
      "Appending output format instructions to template\n",
      "Added 11 gene feature descriptions to prompt\n"
     ]
    },
    {
     "name": "stderr",
     "output_type": "stream",
     "text": [
      "INFO:cluster_analysis_20250506_165656.log:Google Gemini API call successful: model=gemini-2.5-pro-preview-03-25\n",
      "ERROR: Error for cluster 197: None\n",
      "ERROR:cluster_analysis_20250506_165656.log:Error for cluster 197: None\n",
      "Processing clusters: 100%|██████████| 6/6 [08:34<00:00, 85.71s/it]\n",
      "WARNING:root:No gene data to save\n",
      "INFO:cluster_analysis_20250506_165656.log:Completed analysis for 2 clusters with data saved to disk\n",
      "INFO:cluster_analysis_20250506_170530.log:Processing 2 clusters with model o4-mini\n"
     ]
    },
    {
     "name": "stdout",
     "output_type": "stream",
     "text": [
      "✓ Successfully analyzed funk with gemini gemini-2.5-flash-preview-04-17\n",
      "\n",
      "============================================================\n",
      "Processing dataset: wainberg\n",
      "============================================================\n",
      "\n",
      "--------------------------------------------------\n",
      "Running o4-mini on wainberg\n",
      "--------------------------------------------------\n",
      "Loaded data with 2 rows and columns: ['cluster_id', 'genes']\n",
      "Created annotations dictionary with 18 entries from DataFrame\n"
     ]
    },
    {
     "name": "stderr",
     "output_type": "stream",
     "text": [
      "Processing clusters:   0%|          | 0/2 [00:00<?, ?it/s]INFO:cluster_analysis_20250506_170530.log:Accessing OpenAI API\n"
     ]
    },
    {
     "name": "stdout",
     "output_type": "stream",
     "text": [
      "Using provided template string\n",
      "Appending output format instructions to template\n",
      "Added 10 gene feature descriptions to prompt\n"
     ]
    },
    {
     "name": "stderr",
     "output_type": "stream",
     "text": [
      "INFO:cluster_analysis_20250506_170530.log:API call successful: 7012 tokens, $0.0701\n",
      "INFO:cluster_analysis_20250506_170530.log:Success for cluster 2067\n",
      "Processing clusters:  50%|█████     | 1/2 [00:13<00:13, 13.23s/it]INFO:cluster_analysis_20250506_170530.log:Accessing OpenAI API\n"
     ]
    },
    {
     "name": "stdout",
     "output_type": "stream",
     "text": [
      "Using provided template string\n",
      "Appending output format instructions to template\n",
      "Added 8 gene feature descriptions to prompt\n"
     ]
    },
    {
     "name": "stderr",
     "output_type": "stream",
     "text": [
      "INFO:cluster_analysis_20250506_170530.log:API call successful: 4401 tokens, $0.0440\n",
      "INFO:cluster_analysis_20250506_170530.log:Success for cluster 2213\n",
      "Processing clusters: 100%|██████████| 2/2 [00:25<00:00, 12.69s/it]\n",
      "INFO:cluster_analysis_20250506_170530.log:Completed analysis for 2 clusters with data saved to disk\n",
      "INFO:cluster_analysis_20250506_170555.log:Processing 2 clusters with model o4-mini\n"
     ]
    },
    {
     "name": "stdout",
     "output_type": "stream",
     "text": [
      "✓ Successfully analyzed wainberg with openai_reasoning o4-mini\n",
      "\n",
      "--------------------------------------------------\n",
      "Running o3-mini on wainberg\n",
      "--------------------------------------------------\n",
      "Loaded data with 2 rows and columns: ['cluster_id', 'genes']\n",
      "Created annotations dictionary with 18 entries from DataFrame\n"
     ]
    },
    {
     "name": "stderr",
     "output_type": "stream",
     "text": [
      "Processing clusters:   0%|          | 0/2 [00:00<?, ?it/s]INFO:cluster_analysis_20250506_170555.log:Accessing OpenAI API\n"
     ]
    },
    {
     "name": "stdout",
     "output_type": "stream",
     "text": [
      "Using provided template string\n",
      "Appending output format instructions to template\n",
      "Added 10 gene feature descriptions to prompt\n"
     ]
    },
    {
     "name": "stderr",
     "output_type": "stream",
     "text": [
      "INFO:cluster_analysis_20250506_170555.log:API call successful: 7012 tokens, $0.0701\n",
      "INFO:cluster_analysis_20250506_170555.log:Success for cluster 2067\n",
      "Processing clusters:  50%|█████     | 1/2 [00:12<00:12, 12.87s/it]INFO:cluster_analysis_20250506_170555.log:Accessing OpenAI API\n"
     ]
    },
    {
     "name": "stdout",
     "output_type": "stream",
     "text": [
      "Using provided template string\n",
      "Appending output format instructions to template\n",
      "Added 8 gene feature descriptions to prompt\n"
     ]
    },
    {
     "name": "stderr",
     "output_type": "stream",
     "text": [
      "INFO:cluster_analysis_20250506_170555.log:API call successful: 4401 tokens, $0.0440\n",
      "INFO:cluster_analysis_20250506_170555.log:Success for cluster 2213\n",
      "Processing clusters: 100%|██████████| 2/2 [00:27<00:00, 13.92s/it]\n",
      "INFO:cluster_analysis_20250506_170555.log:Completed analysis for 2 clusters with data saved to disk\n",
      "INFO:cluster_analysis_20250506_170623.log:Processing 2 clusters with model gpt-4o\n"
     ]
    },
    {
     "name": "stdout",
     "output_type": "stream",
     "text": [
      "✓ Successfully analyzed wainberg with openai_reasoning o3-mini\n",
      "\n",
      "--------------------------------------------------\n",
      "Running gpt-4.1 on wainberg\n",
      "--------------------------------------------------\n",
      "Loaded data with 2 rows and columns: ['cluster_id', 'genes']\n",
      "Created annotations dictionary with 18 entries from DataFrame\n"
     ]
    },
    {
     "name": "stderr",
     "output_type": "stream",
     "text": [
      "Processing clusters:   0%|          | 0/2 [00:00<?, ?it/s]INFO:cluster_analysis_20250506_170623.log:Accessing OpenAI API\n"
     ]
    },
    {
     "name": "stdout",
     "output_type": "stream",
     "text": [
      "Using provided template string\n",
      "Appending output format instructions to template\n",
      "Added 10 gene feature descriptions to prompt\n"
     ]
    },
    {
     "name": "stderr",
     "output_type": "stream",
     "text": [
      "INFO:cluster_analysis_20250506_170623.log:API call successful: 5599 tokens, $0.0560\n",
      "INFO:cluster_analysis_20250506_170623.log:Success for cluster 2067\n",
      "Processing clusters:  50%|█████     | 1/2 [00:06<00:06,  6.53s/it]INFO:cluster_analysis_20250506_170623.log:Accessing OpenAI API\n"
     ]
    },
    {
     "name": "stdout",
     "output_type": "stream",
     "text": [
      "Using provided template string\n",
      "Appending output format instructions to template\n",
      "Added 8 gene feature descriptions to prompt\n"
     ]
    },
    {
     "name": "stderr",
     "output_type": "stream",
     "text": [
      "INFO:cluster_analysis_20250506_170623.log:API call successful: 3185 tokens, $0.0319\n",
      "INFO:cluster_analysis_20250506_170623.log:Success for cluster 2213\n",
      "Processing clusters: 100%|██████████| 2/2 [00:13<00:00,  6.79s/it]\n",
      "INFO:cluster_analysis_20250506_170623.log:Completed analysis for 2 clusters with data saved to disk\n",
      "INFO:cluster_analysis_20250506_170637.log:Processing 2 clusters with model gpt-4o\n"
     ]
    },
    {
     "name": "stdout",
     "output_type": "stream",
     "text": [
      "✓ Successfully analyzed wainberg with openai gpt-4.1\n",
      "\n",
      "--------------------------------------------------\n",
      "Running gpt-4o on wainberg\n",
      "--------------------------------------------------\n",
      "Loaded data with 2 rows and columns: ['cluster_id', 'genes']\n",
      "Created annotations dictionary with 18 entries from DataFrame\n"
     ]
    },
    {
     "name": "stderr",
     "output_type": "stream",
     "text": [
      "Processing clusters:   0%|          | 0/2 [00:00<?, ?it/s]INFO:cluster_analysis_20250506_170637.log:Accessing OpenAI API\n"
     ]
    },
    {
     "name": "stdout",
     "output_type": "stream",
     "text": [
      "Using provided template string\n",
      "Appending output format instructions to template\n",
      "Added 10 gene feature descriptions to prompt\n"
     ]
    },
    {
     "name": "stderr",
     "output_type": "stream",
     "text": [
      "INFO:cluster_analysis_20250506_170637.log:API call successful: 5561 tokens, $0.0556\n",
      "INFO:cluster_analysis_20250506_170637.log:Success for cluster 2067\n",
      "Processing clusters:  50%|█████     | 1/2 [00:07<00:07,  7.79s/it]INFO:cluster_analysis_20250506_170637.log:Accessing OpenAI API\n"
     ]
    },
    {
     "name": "stdout",
     "output_type": "stream",
     "text": [
      "Using provided template string\n",
      "Appending output format instructions to template\n",
      "Added 8 gene feature descriptions to prompt\n"
     ]
    },
    {
     "name": "stderr",
     "output_type": "stream",
     "text": [
      "INFO:cluster_analysis_20250506_170637.log:API call successful: 3219 tokens, $0.0322\n",
      "INFO:cluster_analysis_20250506_170637.log:Success for cluster 2213\n",
      "Processing clusters: 100%|██████████| 2/2 [00:14<00:00,  7.06s/it]\n",
      "INFO:cluster_analysis_20250506_170637.log:Completed analysis for 2 clusters with data saved to disk\n",
      "INFO:cluster_analysis_20250506_170651.log:Processing 2 clusters with model claude-3-7-sonnet-20250219\n"
     ]
    },
    {
     "name": "stdout",
     "output_type": "stream",
     "text": [
      "✓ Successfully analyzed wainberg with openai gpt-4o\n",
      "\n",
      "--------------------------------------------------\n",
      "Running claude-3-7-sonnet-20250219 on wainberg\n",
      "--------------------------------------------------\n",
      "Loaded data with 2 rows and columns: ['cluster_id', 'genes']\n",
      "Created annotations dictionary with 18 entries from DataFrame\n"
     ]
    },
    {
     "name": "stderr",
     "output_type": "stream",
     "text": [
      "Processing clusters:   0%|          | 0/2 [00:00<?, ?it/s]INFO:cluster_analysis_20250506_170651.log:Using Anthropic Claude API\n"
     ]
    },
    {
     "name": "stdout",
     "output_type": "stream",
     "text": [
      "Using provided template string\n",
      "Appending output format instructions to template\n",
      "Added 10 gene feature descriptions to prompt\n"
     ]
    },
    {
     "name": "stderr",
     "output_type": "stream",
     "text": [
      "INFO:cluster_analysis_20250506_170651.log:Anthropic API call successful: model=claude-3-7-sonnet-20250219\n",
      "INFO:cluster_analysis_20250506_170651.log:Success for cluster 2067\n",
      "Processing clusters:  50%|█████     | 1/2 [00:12<00:12, 12.31s/it]INFO:cluster_analysis_20250506_170651.log:Using Anthropic Claude API\n"
     ]
    },
    {
     "name": "stdout",
     "output_type": "stream",
     "text": [
      "Using provided template string\n",
      "Appending output format instructions to template\n",
      "Added 8 gene feature descriptions to prompt\n"
     ]
    },
    {
     "name": "stderr",
     "output_type": "stream",
     "text": [
      "INFO:cluster_analysis_20250506_170651.log:Anthropic API call successful: model=claude-3-7-sonnet-20250219\n",
      "INFO:cluster_analysis_20250506_170651.log:Success for cluster 2213\n",
      "Processing clusters: 100%|██████████| 2/2 [00:26<00:00, 13.08s/it]\n",
      "INFO:cluster_analysis_20250506_170651.log:Completed analysis for 2 clusters with data saved to disk\n",
      "INFO:cluster_analysis_20250506_170717.log:Processing 2 clusters with model claude-3-7-sonnet-20250219\n"
     ]
    },
    {
     "name": "stdout",
     "output_type": "stream",
     "text": [
      "✓ Successfully analyzed wainberg with anthropic claude-3-7-sonnet-20250219\n",
      "\n",
      "--------------------------------------------------\n",
      "Running claude-3-5-haiku-20241022 on wainberg\n",
      "--------------------------------------------------\n",
      "Loaded data with 2 rows and columns: ['cluster_id', 'genes']\n",
      "Created annotations dictionary with 18 entries from DataFrame\n"
     ]
    },
    {
     "name": "stderr",
     "output_type": "stream",
     "text": [
      "Processing clusters:   0%|          | 0/2 [00:00<?, ?it/s]INFO:cluster_analysis_20250506_170717.log:Using Anthropic Claude API\n"
     ]
    },
    {
     "name": "stdout",
     "output_type": "stream",
     "text": [
      "Using provided template string\n",
      "Appending output format instructions to template\n",
      "Added 10 gene feature descriptions to prompt\n"
     ]
    },
    {
     "name": "stderr",
     "output_type": "stream",
     "text": [
      "INFO:cluster_analysis_20250506_170717.log:Anthropic API call successful: model=claude-3-7-sonnet-20250219\n",
      "INFO:cluster_analysis_20250506_170717.log:Success for cluster 2067\n",
      "Processing clusters:  50%|█████     | 1/2 [00:13<00:13, 13.39s/it]INFO:cluster_analysis_20250506_170717.log:Using Anthropic Claude API\n"
     ]
    },
    {
     "name": "stdout",
     "output_type": "stream",
     "text": [
      "Using provided template string\n",
      "Appending output format instructions to template\n",
      "Added 8 gene feature descriptions to prompt\n"
     ]
    },
    {
     "name": "stderr",
     "output_type": "stream",
     "text": [
      "INFO:cluster_analysis_20250506_170717.log:Anthropic API call successful: model=claude-3-7-sonnet-20250219\n",
      "INFO:cluster_analysis_20250506_170717.log:Success for cluster 2213\n",
      "Processing clusters: 100%|██████████| 2/2 [00:25<00:00, 12.64s/it]\n",
      "INFO:cluster_analysis_20250506_170717.log:Completed analysis for 2 clusters with data saved to disk\n",
      "INFO:cluster_analysis_20250506_170743.log:Processing 2 clusters with model gemini-2.5-pro-preview-03-25\n"
     ]
    },
    {
     "name": "stdout",
     "output_type": "stream",
     "text": [
      "✓ Successfully analyzed wainberg with anthropic claude-3-5-haiku-20241022\n",
      "\n",
      "--------------------------------------------------\n",
      "Running gemini-2.5-pro-preview-03-25 on wainberg\n",
      "--------------------------------------------------\n",
      "Loaded data with 2 rows and columns: ['cluster_id', 'genes']\n",
      "Created annotations dictionary with 18 entries from DataFrame\n"
     ]
    },
    {
     "name": "stderr",
     "output_type": "stream",
     "text": [
      "Processing clusters:   0%|          | 0/2 [00:00<?, ?it/s]INFO:cluster_analysis_20250506_170743.log:Using Google Gemini API\n"
     ]
    },
    {
     "name": "stdout",
     "output_type": "stream",
     "text": [
      "Using provided template string\n",
      "Appending output format instructions to template\n",
      "Added 10 gene feature descriptions to prompt\n"
     ]
    },
    {
     "name": "stderr",
     "output_type": "stream",
     "text": [
      "INFO:cluster_analysis_20250506_170743.log:Google Gemini API call successful: model=gemini-2.5-pro-preview-03-25\n",
      "INFO:cluster_analysis_20250506_170743.log:Success for cluster 2067\n",
      "Processing clusters:  50%|█████     | 1/2 [00:55<00:55, 55.87s/it]INFO:cluster_analysis_20250506_170743.log:Using Google Gemini API\n"
     ]
    },
    {
     "name": "stdout",
     "output_type": "stream",
     "text": [
      "Using provided template string\n",
      "Appending output format instructions to template\n",
      "Added 8 gene feature descriptions to prompt\n"
     ]
    },
    {
     "name": "stderr",
     "output_type": "stream",
     "text": [
      "INFO:cluster_analysis_20250506_170743.log:Google Gemini API call successful: model=gemini-2.5-pro-preview-03-25\n",
      "INFO:cluster_analysis_20250506_170743.log:Success for cluster 2213\n",
      "Processing clusters: 100%|██████████| 2/2 [01:42<00:00, 51.44s/it]\n",
      "INFO:cluster_analysis_20250506_170743.log:Completed analysis for 2 clusters with data saved to disk\n",
      "INFO:cluster_analysis_20250506_170926.log:Processing 2 clusters with model gemini-2.5-pro-preview-03-25\n"
     ]
    },
    {
     "name": "stdout",
     "output_type": "stream",
     "text": [
      "✓ Successfully analyzed wainberg with gemini gemini-2.5-pro-preview-03-25\n",
      "\n",
      "--------------------------------------------------\n",
      "Running gemini-2.5-flash-preview-04-17 on wainberg\n",
      "--------------------------------------------------\n",
      "Loaded data with 2 rows and columns: ['cluster_id', 'genes']\n",
      "Created annotations dictionary with 18 entries from DataFrame\n"
     ]
    },
    {
     "name": "stderr",
     "output_type": "stream",
     "text": [
      "Processing clusters:   0%|          | 0/2 [00:00<?, ?it/s]INFO:cluster_analysis_20250506_170926.log:Using Google Gemini API\n"
     ]
    },
    {
     "name": "stdout",
     "output_type": "stream",
     "text": [
      "Using provided template string\n",
      "Appending output format instructions to template\n",
      "Added 10 gene feature descriptions to prompt\n"
     ]
    },
    {
     "name": "stderr",
     "output_type": "stream",
     "text": [
      "INFO:cluster_analysis_20250506_170926.log:Google Gemini API call successful: model=gemini-2.5-pro-preview-03-25\n",
      "INFO:cluster_analysis_20250506_170926.log:Success for cluster 2067\n",
      "Processing clusters:  50%|█████     | 1/2 [01:01<01:01, 61.36s/it]INFO:cluster_analysis_20250506_170926.log:Using Google Gemini API\n"
     ]
    },
    {
     "name": "stdout",
     "output_type": "stream",
     "text": [
      "Using provided template string\n",
      "Appending output format instructions to template\n",
      "Added 8 gene feature descriptions to prompt\n"
     ]
    },
    {
     "name": "stderr",
     "output_type": "stream",
     "text": [
      "INFO:cluster_analysis_20250506_170926.log:Google Gemini API call successful: model=gemini-2.5-pro-preview-03-25\n",
      "INFO:cluster_analysis_20250506_170926.log:Success for cluster 2213\n",
      "Processing clusters: 100%|██████████| 2/2 [02:02<00:00, 61.44s/it]\n",
      "INFO:cluster_analysis_20250506_170926.log:Completed analysis for 2 clusters with data saved to disk\n",
      "INFO:cluster_analysis_20250506_171129.log:Processing 2 clusters with model o4-mini\n"
     ]
    },
    {
     "name": "stdout",
     "output_type": "stream",
     "text": [
      "✓ Successfully analyzed wainberg with gemini gemini-2.5-flash-preview-04-17\n",
      "\n",
      "============================================================\n",
      "Processing dataset: schaffer\n",
      "============================================================\n",
      "\n",
      "--------------------------------------------------\n",
      "Running o4-mini on schaffer\n",
      "--------------------------------------------------\n",
      "Loaded data with 2 rows and columns: ['cluster_id', 'genes']\n",
      "Created annotations dictionary with 18 entries from DataFrame\n"
     ]
    },
    {
     "name": "stderr",
     "output_type": "stream",
     "text": [
      "Processing clusters:   0%|          | 0/2 [00:00<?, ?it/s]INFO:cluster_analysis_20250506_171129.log:Accessing OpenAI API\n"
     ]
    },
    {
     "name": "stdout",
     "output_type": "stream",
     "text": [
      "Using provided template string\n",
      "Appending output format instructions to template\n",
      "Added 14 gene feature descriptions to prompt\n"
     ]
    },
    {
     "name": "stderr",
     "output_type": "stream",
     "text": [
      "INFO:cluster_analysis_20250506_171129.log:API call successful: 4697 tokens, $0.0470\n",
      "INFO:cluster_analysis_20250506_171129.log:Success for cluster C5255\n",
      "Processing clusters:  50%|█████     | 1/2 [00:11<00:11, 11.62s/it]INFO:cluster_analysis_20250506_171129.log:Accessing OpenAI API\n"
     ]
    },
    {
     "name": "stdout",
     "output_type": "stream",
     "text": [
      "Using provided template string\n",
      "Appending output format instructions to template\n",
      "Added 4 gene feature descriptions to prompt\n"
     ]
    },
    {
     "name": "stderr",
     "output_type": "stream",
     "text": [
      "INFO:cluster_analysis_20250506_171129.log:API call successful: 4538 tokens, $0.0454\n",
      "INFO:cluster_analysis_20250506_171129.log:Success for cluster C5415\n",
      "Processing clusters: 100%|██████████| 2/2 [00:21<00:00, 10.54s/it]\n",
      "INFO:cluster_analysis_20250506_171129.log:Completed analysis for 2 clusters with data saved to disk\n",
      "INFO:cluster_analysis_20250506_171150.log:Processing 2 clusters with model o4-mini\n"
     ]
    },
    {
     "name": "stdout",
     "output_type": "stream",
     "text": [
      "✓ Successfully analyzed schaffer with openai_reasoning o4-mini\n",
      "\n",
      "--------------------------------------------------\n",
      "Running o3-mini on schaffer\n",
      "--------------------------------------------------\n",
      "Loaded data with 2 rows and columns: ['cluster_id', 'genes']\n",
      "Created annotations dictionary with 18 entries from DataFrame\n"
     ]
    },
    {
     "name": "stderr",
     "output_type": "stream",
     "text": [
      "Processing clusters:   0%|          | 0/2 [00:00<?, ?it/s]INFO:cluster_analysis_20250506_171150.log:Accessing OpenAI API\n"
     ]
    },
    {
     "name": "stdout",
     "output_type": "stream",
     "text": [
      "Using provided template string\n",
      "Appending output format instructions to template\n",
      "Added 14 gene feature descriptions to prompt\n"
     ]
    },
    {
     "name": "stderr",
     "output_type": "stream",
     "text": [
      "INFO:cluster_analysis_20250506_171150.log:API call successful: 4697 tokens, $0.0470\n",
      "INFO:cluster_analysis_20250506_171150.log:Success for cluster C5255\n",
      "Processing clusters:  50%|█████     | 1/2 [00:15<00:15, 15.39s/it]INFO:cluster_analysis_20250506_171150.log:Accessing OpenAI API\n"
     ]
    },
    {
     "name": "stdout",
     "output_type": "stream",
     "text": [
      "Using provided template string\n",
      "Appending output format instructions to template\n",
      "Added 4 gene feature descriptions to prompt\n"
     ]
    },
    {
     "name": "stderr",
     "output_type": "stream",
     "text": [
      "INFO:cluster_analysis_20250506_171150.log:API call successful: 4538 tokens, $0.0454\n",
      "INFO:cluster_analysis_20250506_171150.log:Success for cluster C5415\n",
      "Processing clusters: 100%|██████████| 2/2 [00:31<00:00, 15.96s/it]\n",
      "INFO:cluster_analysis_20250506_171150.log:Completed analysis for 2 clusters with data saved to disk\n",
      "INFO:cluster_analysis_20250506_171222.log:Processing 2 clusters with model gpt-4o\n"
     ]
    },
    {
     "name": "stdout",
     "output_type": "stream",
     "text": [
      "✓ Successfully analyzed schaffer with openai_reasoning o3-mini\n",
      "\n",
      "--------------------------------------------------\n",
      "Running gpt-4.1 on schaffer\n",
      "--------------------------------------------------\n",
      "Loaded data with 2 rows and columns: ['cluster_id', 'genes']\n",
      "Created annotations dictionary with 18 entries from DataFrame\n"
     ]
    },
    {
     "name": "stderr",
     "output_type": "stream",
     "text": [
      "Processing clusters:   0%|          | 0/2 [00:00<?, ?it/s]INFO:cluster_analysis_20250506_171222.log:Accessing OpenAI API\n"
     ]
    },
    {
     "name": "stdout",
     "output_type": "stream",
     "text": [
      "Using provided template string\n",
      "Appending output format instructions to template\n",
      "Added 14 gene feature descriptions to prompt\n"
     ]
    },
    {
     "name": "stderr",
     "output_type": "stream",
     "text": [
      "INFO:cluster_analysis_20250506_171222.log:API call successful: 3535 tokens, $0.0353\n",
      "INFO:cluster_analysis_20250506_171222.log:Success for cluster C5255\n",
      "Processing clusters:  50%|█████     | 1/2 [00:19<00:19, 19.07s/it]INFO:cluster_analysis_20250506_171222.log:Accessing OpenAI API\n"
     ]
    },
    {
     "name": "stdout",
     "output_type": "stream",
     "text": [
      "Using provided template string\n",
      "Appending output format instructions to template\n",
      "Added 4 gene feature descriptions to prompt\n"
     ]
    },
    {
     "name": "stderr",
     "output_type": "stream",
     "text": [
      "INFO:cluster_analysis_20250506_171222.log:API call successful: 3412 tokens, $0.0341\n",
      "INFO:cluster_analysis_20250506_171222.log:Success for cluster C5415\n",
      "Processing clusters: 100%|██████████| 2/2 [00:28<00:00, 14.18s/it]\n",
      "INFO:cluster_analysis_20250506_171222.log:Completed analysis for 2 clusters with data saved to disk\n",
      "INFO:cluster_analysis_20250506_171250.log:Processing 2 clusters with model gpt-4o\n"
     ]
    },
    {
     "name": "stdout",
     "output_type": "stream",
     "text": [
      "✓ Successfully analyzed schaffer with openai gpt-4.1\n",
      "\n",
      "--------------------------------------------------\n",
      "Running gpt-4o on schaffer\n",
      "--------------------------------------------------\n",
      "Loaded data with 2 rows and columns: ['cluster_id', 'genes']\n",
      "Created annotations dictionary with 18 entries from DataFrame\n"
     ]
    },
    {
     "name": "stderr",
     "output_type": "stream",
     "text": [
      "Processing clusters:   0%|          | 0/2 [00:00<?, ?it/s]INFO:cluster_analysis_20250506_171250.log:Accessing OpenAI API\n"
     ]
    },
    {
     "name": "stdout",
     "output_type": "stream",
     "text": [
      "Using provided template string\n",
      "Appending output format instructions to template\n",
      "Added 14 gene feature descriptions to prompt\n"
     ]
    },
    {
     "name": "stderr",
     "output_type": "stream",
     "text": [
      "INFO:cluster_analysis_20250506_171250.log:API call successful: 3305 tokens, $0.0331\n",
      "INFO:cluster_analysis_20250506_171250.log:Success for cluster C5255\n",
      "Processing clusters:  50%|█████     | 1/2 [00:08<00:08,  8.54s/it]INFO:cluster_analysis_20250506_171250.log:Accessing OpenAI API\n"
     ]
    },
    {
     "name": "stdout",
     "output_type": "stream",
     "text": [
      "Using provided template string\n",
      "Appending output format instructions to template\n",
      "Added 4 gene feature descriptions to prompt\n"
     ]
    },
    {
     "name": "stderr",
     "output_type": "stream",
     "text": [
      "INFO:cluster_analysis_20250506_171250.log:API call successful: 3413 tokens, $0.0341\n",
      "INFO:cluster_analysis_20250506_171250.log:Success for cluster C5415\n",
      "Processing clusters: 100%|██████████| 2/2 [00:13<00:00,  6.78s/it]\n",
      "INFO:cluster_analysis_20250506_171250.log:Completed analysis for 2 clusters with data saved to disk\n",
      "INFO:cluster_analysis_20250506_171304.log:Processing 2 clusters with model claude-3-7-sonnet-20250219\n"
     ]
    },
    {
     "name": "stdout",
     "output_type": "stream",
     "text": [
      "✓ Successfully analyzed schaffer with openai gpt-4o\n",
      "\n",
      "--------------------------------------------------\n",
      "Running claude-3-7-sonnet-20250219 on schaffer\n",
      "--------------------------------------------------\n",
      "Loaded data with 2 rows and columns: ['cluster_id', 'genes']\n",
      "Created annotations dictionary with 18 entries from DataFrame\n"
     ]
    },
    {
     "name": "stderr",
     "output_type": "stream",
     "text": [
      "Processing clusters:   0%|          | 0/2 [00:00<?, ?it/s]INFO:cluster_analysis_20250506_171304.log:Using Anthropic Claude API\n"
     ]
    },
    {
     "name": "stdout",
     "output_type": "stream",
     "text": [
      "Using provided template string\n",
      "Appending output format instructions to template\n",
      "Added 14 gene feature descriptions to prompt\n"
     ]
    },
    {
     "name": "stderr",
     "output_type": "stream",
     "text": [
      "INFO:cluster_analysis_20250506_171304.log:Anthropic API call successful: model=claude-3-7-sonnet-20250219\n",
      "INFO:cluster_analysis_20250506_171304.log:Success for cluster C5255\n",
      "Processing clusters:  50%|█████     | 1/2 [00:11<00:11, 11.67s/it]INFO:cluster_analysis_20250506_171304.log:Using Anthropic Claude API\n"
     ]
    },
    {
     "name": "stdout",
     "output_type": "stream",
     "text": [
      "Using provided template string\n",
      "Appending output format instructions to template\n",
      "Added 4 gene feature descriptions to prompt\n"
     ]
    },
    {
     "name": "stderr",
     "output_type": "stream",
     "text": [
      "INFO:cluster_analysis_20250506_171304.log:Anthropic API call successful: model=claude-3-7-sonnet-20250219\n",
      "INFO:cluster_analysis_20250506_171304.log:Success for cluster C5415\n",
      "Processing clusters: 100%|██████████| 2/2 [00:19<00:00,  9.71s/it]\n",
      "INFO:cluster_analysis_20250506_171304.log:Completed analysis for 2 clusters with data saved to disk\n",
      "INFO:cluster_analysis_20250506_171323.log:Processing 2 clusters with model claude-3-7-sonnet-20250219\n"
     ]
    },
    {
     "name": "stdout",
     "output_type": "stream",
     "text": [
      "✓ Successfully analyzed schaffer with anthropic claude-3-7-sonnet-20250219\n",
      "\n",
      "--------------------------------------------------\n",
      "Running claude-3-5-haiku-20241022 on schaffer\n",
      "--------------------------------------------------\n",
      "Loaded data with 2 rows and columns: ['cluster_id', 'genes']\n",
      "Created annotations dictionary with 18 entries from DataFrame\n"
     ]
    },
    {
     "name": "stderr",
     "output_type": "stream",
     "text": [
      "Processing clusters:   0%|          | 0/2 [00:00<?, ?it/s]INFO:cluster_analysis_20250506_171323.log:Using Anthropic Claude API\n"
     ]
    },
    {
     "name": "stdout",
     "output_type": "stream",
     "text": [
      "Using provided template string\n",
      "Appending output format instructions to template\n",
      "Added 14 gene feature descriptions to prompt\n"
     ]
    },
    {
     "name": "stderr",
     "output_type": "stream",
     "text": [
      "INFO:cluster_analysis_20250506_171323.log:Anthropic API call successful: model=claude-3-7-sonnet-20250219\n",
      "INFO:cluster_analysis_20250506_171323.log:Success for cluster C5255\n",
      "Processing clusters:  50%|█████     | 1/2 [00:12<00:12, 12.16s/it]INFO:cluster_analysis_20250506_171323.log:Using Anthropic Claude API\n"
     ]
    },
    {
     "name": "stdout",
     "output_type": "stream",
     "text": [
      "Using provided template string\n",
      "Appending output format instructions to template\n",
      "Added 4 gene feature descriptions to prompt\n"
     ]
    },
    {
     "name": "stderr",
     "output_type": "stream",
     "text": [
      "INFO:cluster_analysis_20250506_171323.log:Anthropic API call successful: model=claude-3-7-sonnet-20250219\n",
      "INFO:cluster_analysis_20250506_171323.log:Success for cluster C5415\n",
      "Processing clusters: 100%|██████████| 2/2 [00:19<00:00,  9.88s/it]\n",
      "INFO:cluster_analysis_20250506_171323.log:Completed analysis for 2 clusters with data saved to disk\n",
      "INFO:cluster_analysis_20250506_171343.log:Processing 2 clusters with model gemini-2.5-pro-preview-03-25\n"
     ]
    },
    {
     "name": "stdout",
     "output_type": "stream",
     "text": [
      "✓ Successfully analyzed schaffer with anthropic claude-3-5-haiku-20241022\n",
      "\n",
      "--------------------------------------------------\n",
      "Running gemini-2.5-pro-preview-03-25 on schaffer\n",
      "--------------------------------------------------\n",
      "Loaded data with 2 rows and columns: ['cluster_id', 'genes']\n",
      "Created annotations dictionary with 18 entries from DataFrame\n"
     ]
    },
    {
     "name": "stderr",
     "output_type": "stream",
     "text": [
      "Processing clusters:   0%|          | 0/2 [00:00<?, ?it/s]INFO:cluster_analysis_20250506_171343.log:Using Google Gemini API\n"
     ]
    },
    {
     "name": "stdout",
     "output_type": "stream",
     "text": [
      "Using provided template string\n",
      "Appending output format instructions to template\n",
      "Added 14 gene feature descriptions to prompt\n"
     ]
    },
    {
     "name": "stderr",
     "output_type": "stream",
     "text": [
      "INFO:cluster_analysis_20250506_171343.log:Google Gemini API call successful: model=gemini-2.5-pro-preview-03-25\n",
      "ERROR: Error for cluster C5255: None\n",
      "ERROR:cluster_analysis_20250506_171343.log:Error for cluster C5255: None\n",
      "WARNING:root:No cluster data to save\n",
      "INFO:cluster_analysis_20250506_171343.log:Saved progress for 0 clusters\n",
      "Processing clusters:  50%|█████     | 1/2 [01:25<01:25, 85.62s/it]INFO:cluster_analysis_20250506_171343.log:Using Google Gemini API\n"
     ]
    },
    {
     "name": "stdout",
     "output_type": "stream",
     "text": [
      "Using provided template string\n",
      "Appending output format instructions to template\n",
      "Added 4 gene feature descriptions to prompt\n"
     ]
    },
    {
     "name": "stderr",
     "output_type": "stream",
     "text": [
      "INFO:cluster_analysis_20250506_171343.log:Google Gemini API call successful: model=gemini-2.5-pro-preview-03-25\n",
      "INFO:cluster_analysis_20250506_171343.log:Success for cluster C5415\n",
      "Processing clusters: 100%|██████████| 2/2 [02:09<00:00, 64.97s/it]\n",
      "INFO:cluster_analysis_20250506_171343.log:Completed analysis for 1 clusters with data saved to disk\n",
      "INFO:cluster_analysis_20250506_171553.log:Processing 2 clusters with model gemini-2.5-pro-preview-03-25\n"
     ]
    },
    {
     "name": "stdout",
     "output_type": "stream",
     "text": [
      "✓ Successfully analyzed schaffer with gemini gemini-2.5-pro-preview-03-25\n",
      "\n",
      "--------------------------------------------------\n",
      "Running gemini-2.5-flash-preview-04-17 on schaffer\n",
      "--------------------------------------------------\n",
      "Loaded data with 2 rows and columns: ['cluster_id', 'genes']\n",
      "Created annotations dictionary with 18 entries from DataFrame\n"
     ]
    },
    {
     "name": "stderr",
     "output_type": "stream",
     "text": [
      "Processing clusters:   0%|          | 0/2 [00:00<?, ?it/s]INFO:cluster_analysis_20250506_171553.log:Using Google Gemini API\n"
     ]
    },
    {
     "name": "stdout",
     "output_type": "stream",
     "text": [
      "Using provided template string\n",
      "Appending output format instructions to template\n",
      "Added 14 gene feature descriptions to prompt\n"
     ]
    },
    {
     "name": "stderr",
     "output_type": "stream",
     "text": [
      "INFO:cluster_analysis_20250506_171553.log:Google Gemini API call successful: model=gemini-2.5-pro-preview-03-25\n",
      "ERROR:root:Failed to parse JSON object from regex match: Expecting ',' delimiter: line 39 column 6 (char 2254)\n",
      "ERROR:root:Failed to parse JSON object using indices: Expecting ',' delimiter: line 39 column 6 (char 2254)\n",
      "WARNING:root:All standard parsing methods failed, attempting final recovery approach\n",
      "INFO:cluster_analysis_20250506_171553.log:Success for cluster C5255\n",
      "Processing clusters:  50%|█████     | 1/2 [01:24<01:24, 84.25s/it]INFO:cluster_analysis_20250506_171553.log:Using Google Gemini API\n"
     ]
    },
    {
     "name": "stdout",
     "output_type": "stream",
     "text": [
      "Using provided template string\n",
      "Appending output format instructions to template\n",
      "Added 4 gene feature descriptions to prompt\n"
     ]
    },
    {
     "name": "stderr",
     "output_type": "stream",
     "text": [
      "INFO:cluster_analysis_20250506_171553.log:Google Gemini API call successful: model=gemini-2.5-pro-preview-03-25\n",
      "INFO:cluster_analysis_20250506_171553.log:Success for cluster C5415\n",
      "Processing clusters: 100%|██████████| 2/2 [02:08<00:00, 64.24s/it]\n",
      "INFO:cluster_analysis_20250506_171553.log:Completed analysis for 2 clusters with data saved to disk\n"
     ]
    },
    {
     "name": "stdout",
     "output_type": "stream",
     "text": [
      "✓ Successfully analyzed schaffer with gemini gemini-2.5-flash-preview-04-17\n",
      "\n",
      "\n",
      "================================================================================\n",
      "BENCHMARK RESULTS SUMMARY:\n",
      "================================================================================\n",
      "\n",
      "Dataset: funk\n",
      "  ✓ openai_reasoning_o4-mini: Success\n",
      "  ✓ openai_reasoning_o3-mini: Success\n",
      "  ✓ openai_gpt-4.1: Success\n",
      "  ✓ openai_gpt-4o: Success\n",
      "  ✓ anthropic_claude-3-7-sonnet-20250219: Success\n",
      "  ✓ anthropic_claude-3-5-haiku-20241022: Success\n",
      "  ✓ gemini_gemini-2.5-pro-preview-03-25: Success\n",
      "  ✓ gemini_gemini-2.5-flash-preview-04-17: Success\n",
      "\n",
      "Dataset: wainberg\n",
      "  ✓ openai_reasoning_o4-mini: Success\n",
      "  ✓ openai_reasoning_o3-mini: Success\n",
      "  ✓ openai_gpt-4.1: Success\n",
      "  ✓ openai_gpt-4o: Success\n",
      "  ✓ anthropic_claude-3-7-sonnet-20250219: Success\n",
      "  ✓ anthropic_claude-3-5-haiku-20241022: Success\n",
      "  ✓ gemini_gemini-2.5-pro-preview-03-25: Success\n",
      "  ✓ gemini_gemini-2.5-flash-preview-04-17: Success\n",
      "\n",
      "Dataset: schaffer\n",
      "  ✓ openai_reasoning_o4-mini: Success\n",
      "  ✓ openai_reasoning_o3-mini: Success\n",
      "  ✓ openai_gpt-4.1: Success\n",
      "  ✓ openai_gpt-4o: Success\n",
      "  ✓ anthropic_claude-3-7-sonnet-20250219: Success\n",
      "  ✓ anthropic_claude-3-5-haiku-20241022: Success\n",
      "  ✓ gemini_gemini-2.5-pro-preview-03-25: Success\n",
      "  ✓ gemini_gemini-2.5-flash-preview-04-17: Success\n"
     ]
    }
   ],
   "source": [
    "# Define the models and configurations to test\n",
    "models_to_test = {\n",
    "    \"openai_reasoning\": {\n",
    "        \"models\": [\"o4-mini\", \"o3-mini\"],\n",
    "        \"config\": DEFAULT_OPENAI_REASONING_CONFIG,\n",
    "    },\n",
    "    \"openai\": {\"models\": [\"gpt-4.1\", \"gpt-4o\"], \"config\": DEFAULT_OPENAI_CONFIG},\n",
    "    \"anthropic\": {\n",
    "        \"models\": [\"claude-3-7-sonnet-20250219\", \"claude-3-5-haiku-20241022\"],\n",
    "        \"config\": DEFAULT_ANTHROPIC_CONFIG,\n",
    "    },\n",
    "    \"gemini\": {\n",
    "        \"models\": [\"gemini-2.5-pro-preview-03-25\", \"gemini-2.5-flash-preview-04-17\"],\n",
    "        \"config\": DEFAULT_GEMINI_CONFIG,\n",
    "    },\n",
    "}\n",
    "\n",
    "# Dictionary to track results\n",
    "results_summary = {}\n",
    "\n",
    "# Loop through datasets\n",
    "for dataset_name in [\"funk\", \"wainberg\", \"schaffer\"]:\n",
    "    print(f\"\\n{'='*60}\")\n",
    "    print(f\"Processing dataset: {dataset_name}\")\n",
    "    print(f\"{'='*60}\")\n",
    "\n",
    "    results_summary[dataset_name] = {}\n",
    "\n",
    "    # Get the processed data from our dictionary\n",
    "    cluster_df = processed_data[dataset_name][\"clusters\"]\n",
    "    gene_features = processed_data[dataset_name][\"gene_features\"]\n",
    "\n",
    "    # Loop through each configuration and model\n",
    "    for provider, provider_info in models_to_test.items():\n",
    "        models = provider_info[\"models\"]\n",
    "        config_dict = provider_info[\"config\"]\n",
    "\n",
    "        for MODEL_NAME in models:\n",
    "            print(f\"\\n{'-'*50}\")\n",
    "            print(f\"Running {MODEL_NAME} on {dataset_name}\")\n",
    "            print(f\"{'-'*50}\")\n",
    "\n",
    "            # Define results directory for this model\n",
    "            RESULTS_DIR = os.path.join(\n",
    "                project_root,\n",
    "                f\"results/{dataset_name}/{provider}/{MODEL_NAME.replace('/', '_')}\",\n",
    "            )\n",
    "            os.makedirs(RESULTS_DIR, exist_ok=True)\n",
    "\n",
    "            try:\n",
    "                # Run the analysis with in-memory DataFrames\n",
    "                results = analyze_gene_clusters(\n",
    "                    # Input data options\n",
    "                    input_df=cluster_df,\n",
    "                    # Model and configuration\n",
    "                    model_name=MODEL_NAME,\n",
    "                    config_dict=config_dict,\n",
    "                    # Analysis context and prompts\n",
    "                    screen_context=ROBUST_SCREEN_CONTEXT,\n",
    "                    cluster_analysis_prompt=ROBUST_CLUSTER_PROMPT,\n",
    "                    # Gene annotations\n",
    "                    gene_annotations_df=gene_features,\n",
    "                    # Processing options\n",
    "                    batch_size=1,\n",
    "                    # Output options\n",
    "                    output_file=f\"{RESULTS_DIR}/{MODEL_NAME.replace('/', '_')}\",\n",
    "                    save_outputs=True,\n",
    "                    outputs_to_generate=[\"json\", \"clusters\", \"flagged_genes\"],\n",
    "                )\n",
    "\n",
    "                results_summary[dataset_name][f\"{provider}_{MODEL_NAME}\"] = \"Success\"\n",
    "                print(\n",
    "                    f\"✓ Successfully analyzed {dataset_name} with {provider} {MODEL_NAME}\"\n",
    "                )\n",
    "\n",
    "            except Exception as e:\n",
    "                results_summary[dataset_name][f\"{provider}_{MODEL_NAME}\"] = (\n",
    "                    f\"Failed: {str(e)}\"\n",
    "                )\n",
    "                print(\n",
    "                    f\"✗ Error analyzing {dataset_name} with {provider} {MODEL_NAME}: {str(e)}\"\n",
    "                )\n",
    "\n",
    "# Print final summary\n",
    "print(\"\\n\\n\" + \"=\" * 80)\n",
    "print(\"BENCHMARK RESULTS SUMMARY:\")\n",
    "print(\"=\" * 80)\n",
    "for dataset, model_results in results_summary.items():\n",
    "    print(f\"\\nDataset: {dataset}\")\n",
    "    for model, result in model_results.items():\n",
    "        status = \"✓\" if result == \"Success\" else \"✗\"\n",
    "        print(f\"  {status} {model}: {result}\")"
   ]
  },
  {
   "cell_type": "code",
   "execution_count": null,
   "id": "a22fbefa",
   "metadata": {},
   "outputs": [],
   "source": [
    "# import os\n",
    "# import pandas as pd\n",
    "\n",
    "# # Datasets to analyze\n",
    "# datasets = [\"funk\", \"wainberg\", \"schaffer\"]\n",
    "# # Models to check\n",
    "# models_to_check = [\n",
    "#     \"anthropic/claude-3-7-sonnet-20250219\",\n",
    "#     \"anthropic/claude-3-5-haiku-20241022\",\n",
    "#     \"gemini/gemini-2.5-flash-preview-04-17\",\n",
    "#     \"gemini/gemini-2.5-pro-preview-03-25\",\n",
    "#     \"openai/gpt-4.1\",\n",
    "#     \"openai/gpt-4o\",\n",
    "#     \"openai_reasoning/o3-mini\",\n",
    "#     \"openai_reasoning/o4-mini\",\n",
    "# ]\n",
    "\n",
    "\n",
    "# def parse_gene_list(gene_str):\n",
    "#     \"\"\"Parse gene list string into a list of genes, considering different separators\"\"\"\n",
    "#     if not gene_str or pd.isna(gene_str):\n",
    "#         return []\n",
    "\n",
    "#     gene_str = str(gene_str).strip()\n",
    "\n",
    "#     # Try different separators\n",
    "#     for separator in [\";\", \",\", \" \"]:\n",
    "#         if separator in gene_str:\n",
    "#             return [g.strip() for g in gene_str.split(separator) if g.strip()]\n",
    "\n",
    "#     # If no separator found but string is not empty\n",
    "#     return [gene_str] if gene_str else []\n",
    "\n",
    "\n",
    "# def load_data(project_root):\n",
    "#     \"\"\"Load benchmark findings and prepare data structures\"\"\"\n",
    "#     # Load findings.csv\n",
    "#     findings_path = os.path.join(project_root, \"data/benchmarks/findings.csv\")\n",
    "#     try:\n",
    "#         findings_df = pd.read_csv(findings_path)\n",
    "#     except Exception as e:\n",
    "#         print(f\"Error loading findings file: {str(e)}\")\n",
    "#         return None\n",
    "\n",
    "#     # Prepare benchmark data\n",
    "#     benchmark_data = defaultdict(dict)\n",
    "\n",
    "#     for dataset, group in findings_df.groupby(\"dataset\"):\n",
    "#         if dataset not in datasets:\n",
    "#             continue\n",
    "\n",
    "#         print(f\"\\nAnalyzing dataset: {dataset}\")\n",
    "\n",
    "#         # Process findings for this dataset\n",
    "#         for _, row in group.iterrows():\n",
    "#             cluster = str(row[\"cluster\"])\n",
    "#             gene = row[\"gene\"]\n",
    "#             function = row[\"function\"]\n",
    "\n",
    "#             if cluster not in benchmark_data[dataset]:\n",
    "#                 benchmark_data[dataset][cluster] = {\"function\": function, \"genes\": []}\n",
    "\n",
    "#             benchmark_data[dataset][cluster][\"genes\"].append(gene)\n",
    "\n",
    "#     return benchmark_data\n",
    "\n",
    "\n",
    "# def load_clusters_data(project_root, dataset, model):\n",
    "#     \"\"\"Load clusters data for a specific model and dataset\"\"\"\n",
    "#     # Extract provider and model name\n",
    "#     provider, model_name = model.split(\"/\")\n",
    "    \n",
    "#     # Construct the path based on the actual directory structure\n",
    "#     clusters_file = os.path.join(\n",
    "#         project_root,\n",
    "#         \"results\",\n",
    "#         dataset,\n",
    "#         provider,\n",
    "#         model_name,\n",
    "#         f\"{model_name}_clusters.csv\"\n",
    "#     )\n",
    "\n",
    "#     print(clusters_file)\n",
    "\n",
    "#     if not os.path.exists(clusters_file):\n",
    "#         print(f\"No clusters file found for {model} on {dataset}\")\n",
    "#         return None\n",
    "\n",
    "#     try:\n",
    "#         return pd.read_csv(clusters_file)\n",
    "#     except Exception as e:\n",
    "#         print(f\"Error loading clusters for {model} on {dataset}: {str(e)}\")\n",
    "#         return None\n",
    "\n",
    "\n",
    "# def analyze_model_output(project_root, benchmark_data):\n",
    "#     \"\"\"Analyze and compare model outputs with benchmark data\"\"\"\n",
    "#     results = defaultdict(lambda: defaultdict(dict))\n",
    "\n",
    "#     for dataset, clusters in benchmark_data.items():\n",
    "#         # Count benchmark clusters and genes for this dataset\n",
    "#         benchmark_clusters = list(clusters.keys())\n",
    "#         benchmark_genes = []\n",
    "#         for cluster_data in clusters.values():\n",
    "#             benchmark_genes.extend(cluster_data[\"genes\"])\n",
    "#         benchmark_genes = list(set(benchmark_genes))  # Remove duplicates\n",
    "\n",
    "#         for model in models_to_check:\n",
    "#             print(f\"  Checking model: {model}\")\n",
    "\n",
    "#             # Load clusters.csv for this model and dataset\n",
    "#             safe_model_name = model.replace(\"/\", \"_\")\n",
    "#             clusters_file = os.path.join(\n",
    "#                 project_root,\n",
    "#                 f\"results/{dataset}/{safe_model_name}/{safe_model_name}_clusters.csv\",\n",
    "#             )\n",
    "\n",
    "#             if not os.path.exists(clusters_file):\n",
    "#                 # Record failure and continue to next model\n",
    "#                 results[dataset][model] = create_empty_result(\n",
    "#                     benchmark_clusters,\n",
    "#                     benchmark_genes,\n",
    "#                     \"Failed - No clusters.csv found\",\n",
    "#                 )\n",
    "#                 continue\n",
    "\n",
    "#             try:\n",
    "#                 clusters_df = pd.read_csv(clusters_file)\n",
    "#             except Exception as e:\n",
    "#                 # Record error and continue to next model\n",
    "#                 results[dataset][model] = create_empty_result(\n",
    "#                     benchmark_clusters,\n",
    "#                     benchmark_genes,\n",
    "#                     f\"Failed - Error loading file: {str(e)}\",\n",
    "#                 )\n",
    "#                 continue\n",
    "\n",
    "#             # Check for required columns\n",
    "#             if \"cluster_id\" not in clusters_df.columns:\n",
    "#                 results[dataset][model] = create_empty_result(\n",
    "#                     benchmark_clusters,\n",
    "#                     benchmark_genes,\n",
    "#                     \"Failed - Missing cluster_id column\",\n",
    "#                 )\n",
    "#                 continue\n",
    "\n",
    "#             # Process model output\n",
    "#             results[dataset][model] = compare_model_to_benchmark(\n",
    "#                 clusters_df, benchmark_clusters, benchmark_genes, clusters\n",
    "#             )\n",
    "\n",
    "#     return results\n",
    "\n",
    "\n",
    "# def create_empty_result(benchmark_clusters, benchmark_genes, status=\"Failed\"):\n",
    "#     \"\"\"Create a default result structure for failed analyses\"\"\"\n",
    "#     return {\n",
    "#         \"status\": status,\n",
    "#         \"cluster_matches\": {},\n",
    "#         \"gene_categories\": {},\n",
    "#         \"total_clusters\": len(benchmark_clusters),\n",
    "#         \"found_clusters\": 0,\n",
    "#         \"found_cluster_percent\": 0.0,\n",
    "#         \"total_genes\": len(benchmark_genes),\n",
    "#         \"found_genes\": 0,\n",
    "#         \"found_gene_percent\": 0.0,\n",
    "#         \"novel_count\": 0,\n",
    "#         \"uncharacterized_count\": 0,\n",
    "#     }\n",
    "\n",
    "\n",
    "# def compare_model_to_benchmark(\n",
    "#     clusters_df, benchmark_clusters, benchmark_genes, benchmark_data\n",
    "# ):\n",
    "#     \"\"\"Compare model output to benchmark data and compute metrics\"\"\"\n",
    "#     # Find all columns that might contain genes\n",
    "#     gene_columns = [\n",
    "#         col\n",
    "#         for col in clusters_df.columns\n",
    "#         if any(term in col.lower() for term in [\"gene\", \"genes\"])\n",
    "#     ]\n",
    "\n",
    "#     # Convert cluster IDs to strings for comparison\n",
    "#     clusters_df[\"cluster_id_str\"] = clusters_df[\"cluster_id\"].astype(str)\n",
    "\n",
    "#     # Initialize tracking\n",
    "#     cluster_matches = {}\n",
    "#     found_clusters = []\n",
    "#     gene_categories = {}\n",
    "#     found_genes = []  # This will now only include properly categorized genes\n",
    "#     novel_count = 0\n",
    "#     uncharacterized_count = 0\n",
    "#     established_count = 0\n",
    "\n",
    "#     # Check each benchmark cluster\n",
    "#     for benchmark_cluster, cluster_info in benchmark_data.items():\n",
    "#         benchmark_function = cluster_info[\"function\"].lower()\n",
    "#         benchmark_genes_for_cluster = cluster_info[\"genes\"]\n",
    "\n",
    "#         # Find matching clusters in model output\n",
    "#         cluster_rows = clusters_df[clusters_df[\"cluster_id_str\"] == benchmark_cluster]\n",
    "\n",
    "#         if not cluster_rows.empty:\n",
    "#             # Found exact cluster match\n",
    "#             cluster_matches[benchmark_cluster] = \"found\"\n",
    "#             found_clusters.append(benchmark_cluster)\n",
    "\n",
    "#             # Check for function match\n",
    "#             function_match = check_function_match(cluster_rows, benchmark_function)\n",
    "#             if function_match:\n",
    "#                 cluster_matches[benchmark_cluster] += \"_with_matching_function\"\n",
    "\n",
    "#             # Check each gene in this cluster\n",
    "#             for gene in benchmark_genes_for_cluster:\n",
    "#                 # Get the category using the find_gene_category function\n",
    "#                 gene_category = find_gene_category(cluster_rows, gene, gene_columns)\n",
    "\n",
    "#                 # Only count genes that are properly categorized into one of the three categories\n",
    "#                 if gene_category in [\"established\", \"novel_role\", \"uncharacterized\"]:\n",
    "#                     found_genes.append(gene)\n",
    "\n",
    "#                     # Count each category\n",
    "#                     if gene_category == \"novel_role\":\n",
    "#                         novel_count += 1\n",
    "#                     elif gene_category == \"uncharacterized\":\n",
    "#                         uncharacterized_count += 1\n",
    "#                     elif gene_category == \"established\":\n",
    "#                         established_count += 1\n",
    "\n",
    "#                 # Always record the category for the gene categorization table\n",
    "#                 gene_categories[gene] = gene_category\n",
    "#         else:\n",
    "#             # No exact match, check for similar function in other clusters\n",
    "#             function_cluster = find_function_in_other_clusters(\n",
    "#                 clusters_df, benchmark_function\n",
    "#             )\n",
    "#             if function_cluster:\n",
    "#                 cluster_matches[benchmark_cluster] = (\n",
    "#                     f\"similar_function_in_{function_cluster}\"\n",
    "#                 )\n",
    "#             else:\n",
    "#                 cluster_matches[benchmark_cluster] = \"not_found\"\n",
    "\n",
    "#     # Calculate metrics\n",
    "#     total_clusters = len(benchmark_clusters)\n",
    "#     found_cluster_count = len(found_clusters)\n",
    "#     found_cluster_percent = (\n",
    "#         (found_cluster_count / total_clusters) * 100 if total_clusters > 0 else 0\n",
    "#     )\n",
    "\n",
    "#     total_genes = len(benchmark_genes)\n",
    "#     found_gene_count = len(set(found_genes))  # Ensure uniqueness\n",
    "#     found_gene_percent = (\n",
    "#         (found_gene_count / total_genes) * 100 if total_genes > 0 else 0\n",
    "#     )\n",
    "\n",
    "#     # Print summary with more detailed breakdown\n",
    "#     print(\n",
    "#         f\"    Found {found_cluster_count}/{total_clusters} clusters ({found_cluster_percent:.1f}%)\"\n",
    "#     )\n",
    "#     print(\n",
    "#         f\"    Properly categorized genes: {found_gene_count}/{total_genes} ({found_gene_percent:.1f}%)\"\n",
    "#     )\n",
    "#     print(\n",
    "#         f\"      Established: {established_count}, Novel role: {novel_count}, Uncharacterized: {uncharacterized_count}\"\n",
    "#     )\n",
    "\n",
    "#     return {\n",
    "#         \"status\": \"Success\",\n",
    "#         \"total_clusters\": total_clusters,\n",
    "#         \"found_clusters\": found_cluster_count,\n",
    "#         \"found_cluster_percent\": found_cluster_percent,\n",
    "#         \"cluster_matches\": cluster_matches,\n",
    "#         \"total_genes\": total_genes,\n",
    "#         \"found_genes\": found_gene_count,\n",
    "#         \"found_gene_percent\": found_gene_percent,\n",
    "#         \"established_count\": established_count,\n",
    "#         \"novel_count\": novel_count,\n",
    "#         \"uncharacterized_count\": uncharacterized_count,\n",
    "#         \"gene_categories\": gene_categories,\n",
    "#     }\n",
    "\n",
    "\n",
    "# def check_function_match(cluster_rows, benchmark_function):\n",
    "#     \"\"\"Check if any function column matches the benchmark function\"\"\"\n",
    "#     function_columns = ['cluster_biological_process', 'function', 'biological_process', 'description']\n",
    "    \n",
    "#     for function_col in function_columns:\n",
    "#         if function_col in cluster_rows.columns:\n",
    "#             for _, row in cluster_rows.iterrows():\n",
    "#                 if pd.notna(row[function_col]) and any(term in str(row[function_col]).lower() \n",
    "#                                                       for term in benchmark_function.split()):\n",
    "#                     return True\n",
    "    \n",
    "#     return False\n",
    "\n",
    "# def find_function_in_other_clusters(clusters_df, benchmark_function):\n",
    "#     \"\"\"Find any cluster with a similar function to the benchmark\"\"\"\n",
    "#     function_columns = ['cluster_biological_process', 'function', 'biological_process', 'description']\n",
    "    \n",
    "#     for function_col in function_columns:\n",
    "#         if function_col in clusters_df.columns:\n",
    "#             for _, row in clusters_df.iterrows():\n",
    "#                 if pd.notna(row[function_col]) and any(term in str(row[function_col]).lower() \n",
    "#                                                       for term in benchmark_function.split()):\n",
    "#                     return row['cluster_id']\n",
    "    \n",
    "#     return None\n",
    "\n",
    "# def find_gene_category(cluster_rows, gene, gene_columns):\n",
    "#     \"\"\"Find gene in cluster and determine its category\"\"\"\n",
    "#     # Check each row in the cluster\n",
    "#     for _, row in cluster_rows.iterrows():\n",
    "#         # Check each specific category column\n",
    "#         if \"novel_role_genes\" in row and pd.notna(row[\"novel_role_genes\"]):\n",
    "#             gene_list = parse_gene_list(row[\"novel_role_genes\"])\n",
    "#             if gene in gene_list:\n",
    "#                 return \"novel_role\"  # Found in novel_role category\n",
    "\n",
    "#         if \"uncharacterized_genes\" in row and pd.notna(row[\"uncharacterized_genes\"]):\n",
    "#             gene_list = parse_gene_list(row[\"uncharacterized_genes\"])\n",
    "#             if gene in gene_list:\n",
    "#                 return \"uncharacterized\"  # Found in uncharacterized category\n",
    "\n",
    "#         if \"established_genes\" in row and pd.notna(row[\"established_genes\"]):\n",
    "#             gene_list = parse_gene_list(row[\"established_genes\"])\n",
    "#             if gene in gene_list:\n",
    "#                 return \"established\"  # Found in established category\n",
    "\n",
    "#     # If we reach here, the gene wasn't found in any of the three category columns\n",
    "\n",
    "#     # Check if it's in any general gene column (for the gene categorization table)\n",
    "#     for _, row in cluster_rows.iterrows():\n",
    "#         for gene_col in gene_columns:\n",
    "#             if gene_col in row and pd.notna(row[gene_col]):\n",
    "#                 gene_list = parse_gene_list(row[gene_col])\n",
    "#                 if gene in gene_list:\n",
    "#                     return \"found_but_uncategorized\"  # Found in a general gene list but not categorized\n",
    "\n",
    "#     # If not found anywhere\n",
    "#     return \"missing_in_cluster\"\n",
    "\n",
    "\n",
    "# def generate_summary_table(results):\n",
    "#     \"\"\"Generate enhanced summary table with strict gene categorization metrics\"\"\"\n",
    "#     rows = []\n",
    "\n",
    "#     for dataset, models in results.items():\n",
    "#         for model, data in models.items():\n",
    "#             # Skip failed analyses\n",
    "#             if data[\"status\"] != \"Success\":\n",
    "#                 row = {\n",
    "#                     \"Dataset\": dataset,\n",
    "#                     \"Model\": model,\n",
    "#                     \"Status\": data[\"status\"],\n",
    "#                     \"Clusters Found\": f\"0/{data['total_clusters']} (0.0%)\",\n",
    "#                     \"Genes Found\": f\"0/{data['total_genes']} (0.0%)\",\n",
    "#                     \"Established Genes\": 0,\n",
    "#                     \"Novel Role Genes\": 0,\n",
    "#                     \"Uncharacterized Genes\": 0,\n",
    "#                     \"Novel/Unchar Count\": 0,\n",
    "#                     \"Novel/Unchar %\": \"0.0%\",\n",
    "#                 }\n",
    "#                 rows.append(row)\n",
    "#                 continue\n",
    "\n",
    "#             # Calculate the sum of novel and uncharacterized genes\n",
    "#             novel_unchar_count = data[\"novel_count\"] + data[\"uncharacterized_count\"]\n",
    "\n",
    "#             # Calculate the percentage of novel and uncharacterized genes out of total genes\n",
    "#             novel_unchar_percent = (\n",
    "#                 (novel_unchar_count / data[\"total_genes\"]) * 100\n",
    "#                 if data[\"total_genes\"] > 0\n",
    "#                 else 0\n",
    "#             )\n",
    "\n",
    "#             # Create a row with all metrics\n",
    "#             row = {\n",
    "#                 \"Dataset\": dataset,\n",
    "#                 \"Model\": model,\n",
    "#                 \"Status\": data[\"status\"],\n",
    "#                 \"Clusters Found\": f\"{data['found_clusters']}/{data['total_clusters']} ({data['found_cluster_percent']:.1f}%)\",\n",
    "#                 \"Genes Found\": f\"{data['found_genes']}/{data['total_genes']} ({data['found_gene_percent']:.1f}%)\",\n",
    "#                 \"Established Genes\": data.get(\n",
    "#                     \"established_count\", 0\n",
    "#                 ),  # Add established count\n",
    "#                 \"Novel Role Genes\": data[\"novel_count\"],\n",
    "#                 \"Uncharacterized Genes\": data[\"uncharacterized_count\"],\n",
    "#                 \"Novel/Unchar Count\": novel_unchar_count,\n",
    "#                 \"Novel/Unchar %\": f\"{novel_unchar_percent:.1f}%\",\n",
    "#             }\n",
    "#             rows.append(row)\n",
    "\n",
    "#     # Convert to DataFrame\n",
    "#     if rows:\n",
    "#         return pd.DataFrame(rows)\n",
    "#     return None\n",
    "\n",
    "\n",
    "# def generate_cluster_table(results, project_root):\n",
    "#     \"\"\"Generate a cluster information table with biological process and follow-up suggestion\"\"\"\n",
    "#     # Collect all unique datasets and clusters\n",
    "#     dataset_clusters = {}\n",
    "#     all_models = set()\n",
    "\n",
    "#     for dataset, models in results.items():\n",
    "#         dataset_clusters[dataset] = set()\n",
    "#         for model, data in models.items():\n",
    "#             all_models.add(model)\n",
    "#             if data[\"status\"] == \"Success\":\n",
    "#                 dataset_clusters[dataset].update(data[\"cluster_matches\"].keys())\n",
    "\n",
    "#     # Sort models for consistent column order\n",
    "#     sorted_models = sorted(all_models)\n",
    "\n",
    "#     # Create rows for the table\n",
    "#     rows = []\n",
    "#     for dataset, clusters in dataset_clusters.items():\n",
    "#         for cluster in sorted(clusters):\n",
    "#             # Create a row for each dataset-cluster combination\n",
    "#             row = {\"Dataset\": dataset, \"Cluster\": cluster}\n",
    "\n",
    "#             # Add columns for each model\n",
    "#             for model in sorted_models:\n",
    "#                 if (\n",
    "#                     model in results[dataset]\n",
    "#                     and results[dataset][model][\"status\"] == \"Success\"\n",
    "#                 ):\n",
    "#                     # Get the biological process and follow-up suggestion\n",
    "#                     process, followup = get_cluster_info(\n",
    "#                         project_root, dataset, model, cluster\n",
    "#                     )\n",
    "#                     row[f\"{model}_biological_process\"] = process\n",
    "#                     row[f\"{model}_follow_up\"] = followup\n",
    "#                 else:\n",
    "#                     row[f\"{model}_biological_process\"] = \"N/A\"\n",
    "#                     row[f\"{model}_follow_up\"] = \"N/A\"\n",
    "\n",
    "#             rows.append(row)\n",
    "\n",
    "#     # Convert to DataFrame\n",
    "#     if rows:\n",
    "#         return pd.DataFrame(rows)\n",
    "#     return None\n",
    "\n",
    "\n",
    "# def get_cluster_info(project_root, dataset, model, cluster):\n",
    "#     \"\"\"Get both biological process and follow-up suggestion for a specific cluster\"\"\"\n",
    "#     # Load the clusters file for this model using the provided function\n",
    "#     clusters_df = load_clusters_data(project_root, dataset, model)\n",
    "\n",
    "#     if clusters_df is None:\n",
    "#         return \"File not found\", \"File not found\"\n",
    "\n",
    "#     # Convert cluster IDs to strings for comparison\n",
    "#     clusters_df[\"cluster_id_str\"] = clusters_df[\"cluster_id\"].astype(str)\n",
    "\n",
    "#     # Find the matching cluster\n",
    "#     cluster_rows = clusters_df[clusters_df[\"cluster_id_str\"] == cluster]\n",
    "\n",
    "#     if cluster_rows.empty:\n",
    "#         return \"Cluster not found\", \"Cluster not found\"\n",
    "\n",
    "#     # Get biological process\n",
    "#     process = \"No process found\"\n",
    "#     for column in [\n",
    "#         \"cluster_biological_process\",\n",
    "#         \"biological_process\",\n",
    "#         \"function\",\n",
    "#         \"description\",\n",
    "#     ]:\n",
    "#         if column in cluster_rows.columns and pd.notna(cluster_rows.iloc[0][column]):\n",
    "#             process = cluster_rows.iloc[0][column]\n",
    "#             break\n",
    "\n",
    "#     # Get follow-up suggestion\n",
    "#     followup = \"No follow-up found\"\n",
    "#     if \"follow_up_suggestion\" in cluster_rows.columns and pd.notna(\n",
    "#         cluster_rows.iloc[0][\"follow_up_suggestion\"]\n",
    "#     ):\n",
    "#         followup = cluster_rows.iloc[0][\"follow_up_suggestion\"]\n",
    "\n",
    "#     return process, followup\n",
    "\n",
    "\n",
    "# def generate_streamlined_gene_table(results):\n",
    "#     \"\"\"Generate a streamlined gene categorization table as requested\"\"\"\n",
    "#     # Collect all unique datasets and genes\n",
    "#     dataset_genes = {}\n",
    "#     all_models = set()\n",
    "\n",
    "#     for dataset, models in results.items():\n",
    "#         dataset_genes[dataset] = set()\n",
    "#         for model, data in models.items():\n",
    "#             all_models.add(model)\n",
    "#             if data[\"status\"] == \"Success\":\n",
    "#                 dataset_genes[dataset].update(data[\"gene_categories\"].keys())\n",
    "\n",
    "#     # Sort models for consistent column order\n",
    "#     sorted_models = sorted(all_models)\n",
    "\n",
    "#     # Create rows for the table\n",
    "#     rows = []\n",
    "#     for dataset, genes in dataset_genes.items():\n",
    "#         for gene in sorted(genes):\n",
    "#             # Create a row for each dataset-gene combination\n",
    "#             row = {\"Dataset\": dataset, \"Gene\": gene}\n",
    "\n",
    "#             # Add a column for each model\n",
    "#             for model in sorted_models:\n",
    "#                 if (\n",
    "#                     model in results[dataset]\n",
    "#                     and results[dataset][model][\"status\"] == \"Success\"\n",
    "#                 ):\n",
    "#                     gene_categories = results[dataset][model][\"gene_categories\"]\n",
    "#                     # Get this gene's category for this model (or 'missing_cluster' if not found)\n",
    "#                     category = gene_categories.get(gene, \"missing_from_all_clusters\")\n",
    "#                     row[model] = category\n",
    "#                 else:\n",
    "#                     row[model] = \"N/A\"  # Model analysis failed\n",
    "\n",
    "#             rows.append(row)\n",
    "\n",
    "#     # Convert to DataFrame\n",
    "#     if rows:\n",
    "#         return pd.DataFrame(rows)\n",
    "#     return None\n",
    "\n",
    "\n",
    "# def generate_reports(project_root, results):\n",
    "#     \"\"\"Generate all summary reports\"\"\"\n",
    "#     # Basic summary table\n",
    "#     summary_df = generate_summary_table(results)\n",
    "#     if summary_df is not None:\n",
    "#         print(\"\\n=== SUMMARY TABLE ===\")\n",
    "#         print(summary_df.to_string())\n",
    "\n",
    "#     # Generate streamlined gene categorization table\n",
    "#     gene_table = generate_streamlined_gene_table(results)\n",
    "#     if gene_table is not None:\n",
    "#         print(\"\\n=== GENE CATEGORIZATION TABLE ===\")\n",
    "#         print(gene_table.to_string())\n",
    "\n",
    "#     # Generate cluster information table\n",
    "#     cluster_table = generate_cluster_table(results, project_root)\n",
    "#     if cluster_table is not None:\n",
    "#         print(\"\\n=== CLUSTER INFORMATION TABLE ===\")\n",
    "#         print(cluster_table.to_string())\n",
    "\n",
    "#     return summary_df, gene_table, cluster_table"
   ]
  },
  {
   "cell_type": "code",
   "execution_count": 30,
   "id": "b8aaa1ff",
   "metadata": {},
   "outputs": [],
   "source": [
    "# Datasets to analyze\n",
    "datasets = [\"funk\", \"wainberg\", \"schaffer\"]\n",
    "# Models to check\n",
    "models_to_check = [\n",
    "    \"anthropic/claude-3-7-sonnet-20250219\",\n",
    "    \"anthropic/claude-3-5-haiku-20241022\",\n",
    "    \"gemini/gemini-2.5-flash-preview-04-17\",\n",
    "    \"gemini/gemini-2.5-pro-preview-03-25\",\n",
    "    \"openai/gpt-4.1\",\n",
    "    \"openai/gpt-4o\",\n",
    "    \"openai_reasoning/o3-mini\",\n",
    "    \"openai_reasoning/o4-mini\",\n",
    "]\n",
    "\n",
    "# Cache to store loaded data\n",
    "data_cache = {\n",
    "    \"clusters\": {},\n",
    "    \"flagged_genes\": {}\n",
    "}\n",
    "\n",
    "def parse_gene_list(gene_str):\n",
    "    \"\"\"Parse gene list string into a list of genes, considering different separators\"\"\"\n",
    "    if not gene_str or pd.isna(gene_str):\n",
    "        return []\n",
    "\n",
    "    gene_str = str(gene_str).strip()\n",
    "\n",
    "    # Try different separators\n",
    "    for separator in [\";\", \",\", \" \"]:\n",
    "        if separator in gene_str:\n",
    "            return [g.strip() for g in gene_str.split(separator) if g.strip()]\n",
    "\n",
    "    # If no separator found but string is not empty\n",
    "    return [gene_str] if gene_str else []\n",
    "\n",
    "def load_benchmark_data(project_root):\n",
    "    \"\"\"Load benchmark findings and prepare data structures\"\"\"\n",
    "    # Load findings.csv\n",
    "    findings_path = os.path.join(project_root, \"data/benchmarks/findings.csv\")\n",
    "    try:\n",
    "        findings_df = pd.read_csv(findings_path)\n",
    "    except Exception as e:\n",
    "        print(f\"Error loading findings file: {str(e)}\")\n",
    "        return None\n",
    "\n",
    "    # Prepare benchmark data\n",
    "    benchmark_data = defaultdict(dict)\n",
    "\n",
    "    for dataset, group in findings_df.groupby(\"dataset\"):\n",
    "        if dataset not in datasets:\n",
    "            continue\n",
    "\n",
    "        print(f\"\\nAnalyzing dataset: {dataset}\")\n",
    "\n",
    "        # Process findings for this dataset\n",
    "        for _, row in group.iterrows():\n",
    "            cluster = str(row[\"cluster\"])\n",
    "            gene = row[\"gene\"]\n",
    "            function = row[\"function\"]\n",
    "\n",
    "            if cluster not in benchmark_data[dataset]:\n",
    "                benchmark_data[dataset][cluster] = {\"function\": function, \"genes\": []}\n",
    "\n",
    "            benchmark_data[dataset][cluster][\"genes\"].append(gene)\n",
    "\n",
    "    return benchmark_data\n",
    "\n",
    "def get_model_data(project_root, dataset, model):\n",
    "    \"\"\"Load and cache model data (clusters and flagged genes)\"\"\"\n",
    "    provider, model_name = model.split(\"/\")\n",
    "    \n",
    "    # Create cache key\n",
    "    cache_key = f\"{dataset}_{provider}_{model_name}\"\n",
    "    \n",
    "    # Check if already in cache\n",
    "    if cache_key in data_cache[\"clusters\"]:\n",
    "        return data_cache[\"clusters\"][cache_key], data_cache[\"flagged_genes\"].get(cache_key)\n",
    "    \n",
    "    # Construct paths based on the directory structure in the image\n",
    "    clusters_file = os.path.join(\n",
    "        project_root,\n",
    "        \"results\",\n",
    "        dataset,\n",
    "        provider,\n",
    "        model_name,\n",
    "        f\"{model_name}_clusters.csv\"\n",
    "    )\n",
    "    \n",
    "    flagged_genes_file = os.path.join(\n",
    "        project_root,\n",
    "        \"results\",\n",
    "        dataset,\n",
    "        provider,\n",
    "        model_name,\n",
    "        f\"{model_name}_flagged_genes.csv\"\n",
    "    )\n",
    "    \n",
    "    # Load clusters file\n",
    "    clusters_df = None\n",
    "    if os.path.exists(clusters_file):\n",
    "        try:\n",
    "            clusters_df = pd.read_csv(clusters_file)\n",
    "            # Convert cluster IDs to strings for consistent comparison\n",
    "            if \"cluster_id\" in clusters_df.columns:\n",
    "                clusters_df[\"cluster_id_str\"] = clusters_df[\"cluster_id\"].astype(str)\n",
    "        except Exception as e:\n",
    "            print(f\"Error loading clusters for {model} on {dataset}: {str(e)}\")\n",
    "    else:\n",
    "        print(f\"No clusters file found for {model} on {dataset}: {clusters_file}\")\n",
    "    \n",
    "    # Load flagged genes file (if exists)\n",
    "    flagged_genes_df = None\n",
    "    if os.path.exists(flagged_genes_file):\n",
    "        try:\n",
    "            flagged_genes_df = pd.read_csv(flagged_genes_file)\n",
    "        except Exception as e:\n",
    "            print(f\"Error loading flagged genes for {model} on {dataset}: {str(e)}\")\n",
    "    \n",
    "    # Cache the loaded data\n",
    "    data_cache[\"clusters\"][cache_key] = clusters_df\n",
    "    data_cache[\"flagged_genes\"][cache_key] = flagged_genes_df\n",
    "    \n",
    "    return clusters_df, flagged_genes_df\n",
    "\n",
    "def check_function_match(cluster_rows, benchmark_function):\n",
    "    \"\"\"Check if any function column matches the benchmark function\"\"\"\n",
    "    function_columns = ['cluster_biological_process', 'function', 'biological_process', 'description']\n",
    "    \n",
    "    for function_col in function_columns:\n",
    "        if function_col in cluster_rows.columns:\n",
    "            for _, row in cluster_rows.iterrows():\n",
    "                if pd.notna(row[function_col]) and any(term in str(row[function_col]).lower() \n",
    "                                                      for term in benchmark_function.split()):\n",
    "                    return True\n",
    "    \n",
    "    return False\n",
    "\n",
    "def find_function_in_other_clusters(clusters_df, benchmark_function):\n",
    "    \"\"\"Find any cluster with a similar function to the benchmark\"\"\"\n",
    "    function_columns = ['cluster_biological_process', 'function', 'biological_process', 'description']\n",
    "    \n",
    "    for function_col in function_columns:\n",
    "        if function_col in clusters_df.columns:\n",
    "            for _, row in clusters_df.iterrows():\n",
    "                if pd.notna(row[function_col]) and any(term in str(row[function_col]).lower() \n",
    "                                                      for term in benchmark_function.split()):\n",
    "                    return row['cluster_id']\n",
    "    \n",
    "    return None\n",
    "\n",
    "def find_gene_category(cluster_rows, gene, gene_columns):\n",
    "    \"\"\"Find gene in cluster and determine its category\"\"\"\n",
    "    # Check each row in the cluster\n",
    "    for _, row in cluster_rows.iterrows():\n",
    "        # Check each specific category column\n",
    "        if \"novel_role_genes\" in row and pd.notna(row[\"novel_role_genes\"]):\n",
    "            gene_list = parse_gene_list(row[\"novel_role_genes\"])\n",
    "            if gene in gene_list:\n",
    "                return \"novel_role\"  # Found in novel_role category\n",
    "\n",
    "        if \"uncharacterized_genes\" in row and pd.notna(row[\"uncharacterized_genes\"]):\n",
    "            gene_list = parse_gene_list(row[\"uncharacterized_genes\"])\n",
    "            if gene in gene_list:\n",
    "                return \"uncharacterized\"  # Found in uncharacterized category\n",
    "\n",
    "        if \"established_genes\" in row and pd.notna(row[\"established_genes\"]):\n",
    "            gene_list = parse_gene_list(row[\"established_genes\"])\n",
    "            if gene in gene_list:\n",
    "                return \"established\"  # Found in established category\n",
    "\n",
    "    # If we reach here, the gene wasn't found in any of the three category columns\n",
    "\n",
    "    # Check if it's in any general gene column (for the gene categorization table)\n",
    "    for _, row in cluster_rows.iterrows():\n",
    "        for gene_col in gene_columns:\n",
    "            if gene_col in row and pd.notna(row[gene_col]):\n",
    "                gene_list = parse_gene_list(row[gene_col])\n",
    "                if gene in gene_list:\n",
    "                    return \"found_but_uncategorized\"  # Found in a general gene list but not categorized\n",
    "\n",
    "    # If not found anywhere\n",
    "    return \"missing_in_cluster\"\n",
    "\n",
    "def create_empty_result(benchmark_clusters, benchmark_genes, status=\"Failed\"):\n",
    "    \"\"\"Create a default result structure for failed analyses\"\"\"\n",
    "    return {\n",
    "        \"status\": status,\n",
    "        \"cluster_matches\": {},\n",
    "        \"gene_categories\": {},\n",
    "        \"total_clusters\": len(benchmark_clusters),\n",
    "        \"found_clusters\": 0,\n",
    "        \"found_cluster_percent\": 0.0,\n",
    "        \"total_genes\": len(benchmark_genes),\n",
    "        \"found_genes\": 0,\n",
    "        \"found_gene_percent\": 0.0,\n",
    "        \"novel_count\": 0,\n",
    "        \"uncharacterized_count\": 0,\n",
    "        \"established_count\": 0,\n",
    "    }\n",
    "\n",
    "def compare_model_to_benchmark(clusters_df, benchmark_clusters, benchmark_genes, benchmark_data):\n",
    "    \"\"\"Compare model output to benchmark data and compute metrics\"\"\"\n",
    "    # Find all columns that might contain genes\n",
    "    gene_columns = [\n",
    "        col\n",
    "        for col in clusters_df.columns\n",
    "        if any(term in col.lower() for term in [\"gene\", \"genes\"])\n",
    "    ]\n",
    "\n",
    "    # Initialize tracking\n",
    "    cluster_matches = {}\n",
    "    found_clusters = []\n",
    "    gene_categories = {}\n",
    "    found_genes = []  # This will now only include properly categorized genes\n",
    "    novel_count = 0\n",
    "    uncharacterized_count = 0\n",
    "    established_count = 0\n",
    "\n",
    "    # Check each benchmark cluster\n",
    "    for benchmark_cluster, cluster_info in benchmark_data.items():\n",
    "        benchmark_function = cluster_info[\"function\"].lower()\n",
    "        benchmark_genes_for_cluster = cluster_info[\"genes\"]\n",
    "\n",
    "        # Find matching clusters in model output\n",
    "        cluster_rows = clusters_df[clusters_df[\"cluster_id_str\"] == benchmark_cluster]\n",
    "\n",
    "        if not cluster_rows.empty:\n",
    "            # Found exact cluster match\n",
    "            cluster_matches[benchmark_cluster] = \"found\"\n",
    "            found_clusters.append(benchmark_cluster)\n",
    "\n",
    "            # Check for function match\n",
    "            function_match = check_function_match(cluster_rows, benchmark_function)\n",
    "            if function_match:\n",
    "                cluster_matches[benchmark_cluster] += \"_with_matching_function\"\n",
    "\n",
    "            # Check each gene in this cluster\n",
    "            for gene in benchmark_genes_for_cluster:\n",
    "                # Get the category using the find_gene_category function\n",
    "                gene_category = find_gene_category(cluster_rows, gene, gene_columns)\n",
    "\n",
    "                # Only count genes that are properly categorized into one of the three categories\n",
    "                if gene_category in [\"established\", \"novel_role\", \"uncharacterized\"]:\n",
    "                    found_genes.append(gene)\n",
    "\n",
    "                    # Count each category\n",
    "                    if gene_category == \"novel_role\":\n",
    "                        novel_count += 1\n",
    "                    elif gene_category == \"uncharacterized\":\n",
    "                        uncharacterized_count += 1\n",
    "                    elif gene_category == \"established\":\n",
    "                        established_count += 1\n",
    "\n",
    "                # Always record the category for the gene categorization table\n",
    "                gene_categories[gene] = gene_category\n",
    "        else:\n",
    "            # No exact match, check for similar function in other clusters\n",
    "            function_cluster = find_function_in_other_clusters(\n",
    "                clusters_df, benchmark_function\n",
    "            )\n",
    "            if function_cluster:\n",
    "                cluster_matches[benchmark_cluster] = (\n",
    "                    f\"similar_function_in_{function_cluster}\"\n",
    "                )\n",
    "            else:\n",
    "                cluster_matches[benchmark_cluster] = \"not_found\"\n",
    "\n",
    "    # Calculate metrics\n",
    "    total_clusters = len(benchmark_clusters)\n",
    "    found_cluster_count = len(found_clusters)\n",
    "    found_cluster_percent = (\n",
    "        (found_cluster_count / total_clusters) * 100 if total_clusters > 0 else 0\n",
    "    )\n",
    "\n",
    "    total_genes = len(benchmark_genes)\n",
    "    found_gene_count = len(set(found_genes))  # Ensure uniqueness\n",
    "    found_gene_percent = (\n",
    "        (found_gene_count / total_genes) * 100 if total_genes > 0 else 0\n",
    "    )\n",
    "\n",
    "    # Print summary with more detailed breakdown\n",
    "    print(\n",
    "        f\"    Found {found_cluster_count}/{total_clusters} clusters ({found_cluster_percent:.1f}%)\"\n",
    "    )\n",
    "    print(\n",
    "        f\"    Properly categorized genes: {found_gene_count}/{total_genes} ({found_gene_percent:.1f}%)\"\n",
    "    )\n",
    "    print(\n",
    "        f\"      Established: {established_count}, Novel role: {novel_count}, Uncharacterized: {uncharacterized_count}\"\n",
    "    )\n",
    "\n",
    "    return {\n",
    "        \"status\": \"Success\",\n",
    "        \"total_clusters\": total_clusters,\n",
    "        \"found_clusters\": found_cluster_count,\n",
    "        \"found_cluster_percent\": found_cluster_percent,\n",
    "        \"cluster_matches\": cluster_matches,\n",
    "        \"total_genes\": total_genes,\n",
    "        \"found_genes\": found_gene_count,\n",
    "        \"found_gene_percent\": found_gene_percent,\n",
    "        \"established_count\": established_count,\n",
    "        \"novel_count\": novel_count,\n",
    "        \"uncharacterized_count\": uncharacterized_count,\n",
    "        \"gene_categories\": gene_categories,\n",
    "    }\n",
    "\n",
    "def analyze_model_output(project_root, benchmark_data):\n",
    "    \"\"\"Analyze and compare model outputs with benchmark data\"\"\"\n",
    "    results = defaultdict(lambda: defaultdict(dict))\n",
    "\n",
    "    for dataset, clusters in benchmark_data.items():\n",
    "        # Count benchmark clusters and genes for this dataset\n",
    "        benchmark_clusters = list(clusters.keys())\n",
    "        benchmark_genes = []\n",
    "        for cluster_data in clusters.values():\n",
    "            benchmark_genes.extend(cluster_data[\"genes\"])\n",
    "        benchmark_genes = list(set(benchmark_genes))  # Remove duplicates\n",
    "\n",
    "        for model in models_to_check:\n",
    "            print(f\"  Checking model: {model}\")\n",
    "\n",
    "            # Load clusters and flagged genes data (using cache if available)\n",
    "            clusters_df, _ = get_model_data(project_root, dataset, model)\n",
    "\n",
    "            if clusters_df is None:\n",
    "                # Record failure and continue to next model\n",
    "                results[dataset][model] = create_empty_result(\n",
    "                    benchmark_clusters,\n",
    "                    benchmark_genes,\n",
    "                    \"Failed - No clusters.csv found or error loading\"\n",
    "                )\n",
    "                continue\n",
    "\n",
    "            # Check for required columns\n",
    "            if \"cluster_id\" not in clusters_df.columns:\n",
    "                results[dataset][model] = create_empty_result(\n",
    "                    benchmark_clusters,\n",
    "                    benchmark_genes,\n",
    "                    \"Failed - Missing cluster_id column\"\n",
    "                )\n",
    "                continue\n",
    "\n",
    "            # Process model output\n",
    "            results[dataset][model] = compare_model_to_benchmark(\n",
    "                clusters_df, benchmark_clusters, benchmark_genes, clusters\n",
    "            )\n",
    "\n",
    "    return results\n",
    "\n",
    "def generate_summary_table(results):\n",
    "    \"\"\"Generate enhanced summary table with strict gene categorization metrics\"\"\"\n",
    "    rows = []\n",
    "\n",
    "    for dataset, models in results.items():\n",
    "        for model, data in models.items():\n",
    "            # Skip failed analyses\n",
    "            if data[\"status\"] != \"Success\":\n",
    "                row = {\n",
    "                    \"Dataset\": dataset,\n",
    "                    \"Model\": model,\n",
    "                    \"Status\": data[\"status\"],\n",
    "                    \"Clusters Found\": f\"0/{data['total_clusters']} (0.0%)\",\n",
    "                    \"Genes Found\": f\"0/{data['total_genes']} (0.0%)\",\n",
    "                    \"Established Genes\": 0,\n",
    "                    \"Novel Role Genes\": 0,\n",
    "                    \"Uncharacterized Genes\": 0,\n",
    "                    \"Novel/Unchar Count\": 0,\n",
    "                    \"Novel/Unchar %\": \"0.0%\",\n",
    "                }\n",
    "                rows.append(row)\n",
    "                continue\n",
    "\n",
    "            # Calculate the sum of novel and uncharacterized genes\n",
    "            novel_unchar_count = data[\"novel_count\"] + data[\"uncharacterized_count\"]\n",
    "\n",
    "            # Calculate the percentage of novel and uncharacterized genes out of total genes\n",
    "            novel_unchar_percent = (\n",
    "                (novel_unchar_count / data[\"total_genes\"]) * 100\n",
    "                if data[\"total_genes\"] > 0\n",
    "                else 0\n",
    "            )\n",
    "\n",
    "            # Create a row with all metrics\n",
    "            row = {\n",
    "                \"Dataset\": dataset,\n",
    "                \"Model\": model,\n",
    "                \"Status\": data[\"status\"],\n",
    "                \"Clusters Found\": f\"{data['found_clusters']}/{data['total_clusters']} ({data['found_cluster_percent']:.1f}%)\",\n",
    "                \"Genes Found\": f\"{data['found_genes']}/{data['total_genes']} ({data['found_gene_percent']:.1f}%)\",\n",
    "                \"Established Genes\": data.get(\"established_count\", 0),\n",
    "                \"Novel Role Genes\": data[\"novel_count\"],\n",
    "                \"Uncharacterized Genes\": data[\"uncharacterized_count\"],\n",
    "                \"Novel/Unchar Count\": novel_unchar_count,\n",
    "                \"Novel/Unchar %\": f\"{novel_unchar_percent:.1f}%\",\n",
    "            }\n",
    "            rows.append(row)\n",
    "\n",
    "    # Convert to DataFrame\n",
    "    if rows:\n",
    "        return pd.DataFrame(rows)\n",
    "    return None\n",
    "\n",
    "def get_cluster_info(cluster_rows):\n",
    "    \"\"\"Get both biological process and follow-up suggestion from cluster rows\"\"\"\n",
    "    if cluster_rows.empty:\n",
    "        return \"Cluster not found\", \"Cluster not found\"\n",
    "\n",
    "    # Get biological process\n",
    "    process = \"No process found\"\n",
    "    for column in [\"cluster_biological_process\", \"biological_process\", \"function\", \"description\"]:\n",
    "        if column in cluster_rows.columns and pd.notna(cluster_rows.iloc[0][column]):\n",
    "            process = cluster_rows.iloc[0][column]\n",
    "            break\n",
    "\n",
    "    # Get follow-up suggestion\n",
    "    followup = \"No follow-up found\"\n",
    "    if \"follow_up_suggestion\" in cluster_rows.columns and pd.notna(\n",
    "        cluster_rows.iloc[0][\"follow_up_suggestion\"]\n",
    "    ):\n",
    "        followup = cluster_rows.iloc[0][\"follow_up_suggestion\"]\n",
    "\n",
    "    return process, followup\n",
    "\n",
    "def generate_cluster_table(results, project_root):\n",
    "    \"\"\"Generate a cluster information table with biological process and follow-up suggestion\"\"\"\n",
    "    # Collect all unique datasets and clusters\n",
    "    dataset_clusters = {}\n",
    "    all_models = set()\n",
    "\n",
    "    for dataset, models in results.items():\n",
    "        dataset_clusters[dataset] = set()\n",
    "        for model, data in models.items():\n",
    "            all_models.add(model)\n",
    "            if data[\"status\"] == \"Success\":\n",
    "                dataset_clusters[dataset].update(data[\"cluster_matches\"].keys())\n",
    "\n",
    "    # Sort models for consistent column order\n",
    "    sorted_models = sorted(all_models)\n",
    "\n",
    "    # Create rows for the table\n",
    "    rows = []\n",
    "    for dataset, clusters in dataset_clusters.items():\n",
    "        for cluster in sorted(clusters):\n",
    "            # Create a row for each dataset-cluster combination\n",
    "            row = {\"Dataset\": dataset, \"Cluster\": cluster}\n",
    "\n",
    "            # Add columns for each model\n",
    "            for model in sorted_models:\n",
    "                if (\n",
    "                    model in results[dataset]\n",
    "                    and results[dataset][model][\"status\"] == \"Success\"\n",
    "                ):\n",
    "                    # Get cached clusters data\n",
    "                    clusters_df, _ = get_model_data(project_root, dataset, model)\n",
    "                    \n",
    "                    if clusters_df is not None:\n",
    "                        # Find the matching cluster\n",
    "                        cluster_rows = clusters_df[clusters_df[\"cluster_id_str\"] == cluster]\n",
    "                        process, followup = get_cluster_info(cluster_rows)\n",
    "                    else:\n",
    "                        process, followup = \"Data not available\", \"Data not available\"\n",
    "                        \n",
    "                    row[f\"{model}_biological_process\"] = process\n",
    "                    row[f\"{model}_follow_up\"] = followup\n",
    "                else:\n",
    "                    row[f\"{model}_biological_process\"] = \"N/A\"\n",
    "                    row[f\"{model}_follow_up\"] = \"N/A\"\n",
    "\n",
    "            rows.append(row)\n",
    "\n",
    "    # Convert to DataFrame\n",
    "    if rows:\n",
    "        return pd.DataFrame(rows)\n",
    "    return None\n",
    "\n",
    "def generate_streamlined_gene_table(results):\n",
    "    \"\"\"Generate a streamlined gene categorization table as requested\"\"\"\n",
    "    # Collect all unique datasets and genes\n",
    "    dataset_genes = {}\n",
    "    all_models = set()\n",
    "\n",
    "    for dataset, models in results.items():\n",
    "        dataset_genes[dataset] = set()\n",
    "        for model, data in models.items():\n",
    "            all_models.add(model)\n",
    "            if data[\"status\"] == \"Success\":\n",
    "                dataset_genes[dataset].update(data[\"gene_categories\"].keys())\n",
    "\n",
    "    # Sort models for consistent column order\n",
    "    sorted_models = sorted(all_models)\n",
    "\n",
    "    # Create rows for the table\n",
    "    rows = []\n",
    "    for dataset, genes in dataset_genes.items():\n",
    "        for gene in sorted(genes):\n",
    "            # Create a row for each dataset-gene combination\n",
    "            row = {\"Dataset\": dataset, \"Gene\": gene}\n",
    "\n",
    "            # Add a column for each model\n",
    "            for model in sorted_models:\n",
    "                if (\n",
    "                    model in results[dataset]\n",
    "                    and results[dataset][model][\"status\"] == \"Success\"\n",
    "                ):\n",
    "                    gene_categories = results[dataset][model][\"gene_categories\"]\n",
    "                    # Get this gene's category for this model (or 'missing_cluster' if not found)\n",
    "                    category = gene_categories.get(gene, \"missing_from_all_clusters\")\n",
    "                    row[model] = category\n",
    "                else:\n",
    "                    row[model] = \"N/A\"  # Model analysis failed\n",
    "\n",
    "            rows.append(row)\n",
    "\n",
    "    # Convert to DataFrame\n",
    "    if rows:\n",
    "        return pd.DataFrame(rows)\n",
    "    return None\n",
    "\n",
    "def run_analysis(project_root):\n",
    "    \"\"\"Run the complete analysis workflow\"\"\"\n",
    "    # Load benchmark data\n",
    "    benchmark_data = load_benchmark_data(project_root)\n",
    "\n",
    "    # Analyze model outputs\n",
    "    results = analyze_model_output(project_root, benchmark_data)\n",
    "\n",
    "    # Generate reports\n",
    "    summary_df = generate_summary_table(results)\n",
    "    if summary_df is not None:\n",
    "        print(\"\\n=== SUMMARY TABLE ===\")\n",
    "        print(summary_df.to_string())\n",
    "\n",
    "    # Generate streamlined gene categorization table\n",
    "    gene_table = generate_streamlined_gene_table(results)\n",
    "    if gene_table is not None:\n",
    "        print(\"\\n=== GENE CATEGORIZATION TABLE ===\")\n",
    "        print(gene_table.to_string())\n",
    "\n",
    "    # Generate cluster information table\n",
    "    cluster_table = generate_cluster_table(results, project_root)\n",
    "    if cluster_table is not None:\n",
    "        print(\"\\n=== CLUSTER INFORMATION TABLE ===\")\n",
    "        print(cluster_table.to_string())\n",
    "\n",
    "    return summary_df, gene_table, cluster_table\n"
   ]
  },
  {
   "cell_type": "code",
   "execution_count": 31,
   "id": "43d62c9c",
   "metadata": {},
   "outputs": [
    {
     "name": "stdout",
     "output_type": "stream",
     "text": [
      "\n",
      "Analyzing dataset: funk\n",
      "\n",
      "Analyzing dataset: schaffer\n",
      "\n",
      "Analyzing dataset: wainberg\n",
      "  Checking model: anthropic/claude-3-7-sonnet-20250219\n",
      "    Found 6/6 clusters (100.0%)\n",
      "    Properly categorized genes: 7/7 (100.0%)\n",
      "      Established: 3, Novel role: 3, Uncharacterized: 1\n",
      "  Checking model: anthropic/claude-3-5-haiku-20241022\n",
      "    Found 6/6 clusters (100.0%)\n",
      "    Properly categorized genes: 7/7 (100.0%)\n",
      "      Established: 3, Novel role: 3, Uncharacterized: 1\n",
      "  Checking model: gemini/gemini-2.5-flash-preview-04-17\n",
      "    Found 2/6 clusters (33.3%)\n",
      "    Properly categorized genes: 0/7 (0.0%)\n",
      "      Established: 0, Novel role: 0, Uncharacterized: 0\n",
      "  Checking model: gemini/gemini-2.5-pro-preview-03-25\n",
      "    Found 2/6 clusters (33.3%)\n",
      "    Properly categorized genes: 3/7 (42.9%)\n",
      "      Established: 0, Novel role: 3, Uncharacterized: 0\n",
      "  Checking model: openai/gpt-4.1\n",
      "    Found 6/6 clusters (100.0%)\n",
      "    Properly categorized genes: 4/7 (57.1%)\n",
      "      Established: 2, Novel role: 2, Uncharacterized: 0\n",
      "  Checking model: openai/gpt-4o\n",
      "    Found 6/6 clusters (100.0%)\n",
      "    Properly categorized genes: 4/7 (57.1%)\n",
      "      Established: 2, Novel role: 2, Uncharacterized: 0\n",
      "  Checking model: openai_reasoning/o3-mini\n",
      "    Found 6/6 clusters (100.0%)\n",
      "    Properly categorized genes: 5/7 (71.4%)\n",
      "      Established: 3, Novel role: 2, Uncharacterized: 0\n",
      "  Checking model: openai_reasoning/o4-mini\n",
      "    Found 6/6 clusters (100.0%)\n",
      "    Properly categorized genes: 5/7 (71.4%)\n",
      "      Established: 3, Novel role: 2, Uncharacterized: 0\n",
      "  Checking model: anthropic/claude-3-7-sonnet-20250219\n",
      "    Found 2/2 clusters (100.0%)\n",
      "    Properly categorized genes: 2/2 (100.0%)\n",
      "      Established: 0, Novel role: 1, Uncharacterized: 1\n",
      "  Checking model: anthropic/claude-3-5-haiku-20241022\n",
      "    Found 2/2 clusters (100.0%)\n",
      "    Properly categorized genes: 2/2 (100.0%)\n",
      "      Established: 0, Novel role: 1, Uncharacterized: 1\n",
      "  Checking model: gemini/gemini-2.5-flash-preview-04-17\n",
      "    Found 2/2 clusters (100.0%)\n",
      "    Properly categorized genes: 1/2 (50.0%)\n",
      "      Established: 0, Novel role: 1, Uncharacterized: 0\n",
      "  Checking model: gemini/gemini-2.5-pro-preview-03-25\n",
      "    Found 1/2 clusters (50.0%)\n",
      "    Properly categorized genes: 1/2 (50.0%)\n",
      "      Established: 0, Novel role: 1, Uncharacterized: 0\n",
      "  Checking model: openai/gpt-4.1\n",
      "    Found 2/2 clusters (100.0%)\n",
      "    Properly categorized genes: 2/2 (100.0%)\n",
      "      Established: 0, Novel role: 1, Uncharacterized: 1\n",
      "  Checking model: openai/gpt-4o\n",
      "    Found 2/2 clusters (100.0%)\n",
      "    Properly categorized genes: 2/2 (100.0%)\n",
      "      Established: 0, Novel role: 1, Uncharacterized: 1\n",
      "  Checking model: openai_reasoning/o3-mini\n",
      "    Found 2/2 clusters (100.0%)\n",
      "    Properly categorized genes: 2/2 (100.0%)\n",
      "      Established: 0, Novel role: 1, Uncharacterized: 1\n",
      "  Checking model: openai_reasoning/o4-mini\n",
      "    Found 2/2 clusters (100.0%)\n",
      "    Properly categorized genes: 2/2 (100.0%)\n",
      "      Established: 0, Novel role: 1, Uncharacterized: 1\n",
      "  Checking model: anthropic/claude-3-7-sonnet-20250219\n",
      "    Found 2/2 clusters (100.0%)\n",
      "    Properly categorized genes: 2/2 (100.0%)\n",
      "      Established: 1, Novel role: 0, Uncharacterized: 1\n",
      "  Checking model: anthropic/claude-3-5-haiku-20241022\n",
      "    Found 2/2 clusters (100.0%)\n",
      "    Properly categorized genes: 2/2 (100.0%)\n",
      "      Established: 1, Novel role: 0, Uncharacterized: 1\n",
      "  Checking model: gemini/gemini-2.5-flash-preview-04-17\n",
      "    Found 2/2 clusters (100.0%)\n",
      "    Properly categorized genes: 2/2 (100.0%)\n",
      "      Established: 2, Novel role: 0, Uncharacterized: 0\n",
      "  Checking model: gemini/gemini-2.5-pro-preview-03-25\n",
      "    Found 2/2 clusters (100.0%)\n",
      "    Properly categorized genes: 2/2 (100.0%)\n",
      "      Established: 2, Novel role: 0, Uncharacterized: 0\n",
      "  Checking model: openai/gpt-4.1\n",
      "    Found 2/2 clusters (100.0%)\n",
      "    Properly categorized genes: 2/2 (100.0%)\n",
      "      Established: 1, Novel role: 1, Uncharacterized: 0\n",
      "  Checking model: openai/gpt-4o\n",
      "    Found 2/2 clusters (100.0%)\n",
      "    Properly categorized genes: 2/2 (100.0%)\n",
      "      Established: 1, Novel role: 1, Uncharacterized: 0\n",
      "  Checking model: openai_reasoning/o3-mini\n",
      "    Found 2/2 clusters (100.0%)\n",
      "    Properly categorized genes: 2/2 (100.0%)\n",
      "      Established: 2, Novel role: 0, Uncharacterized: 0\n",
      "  Checking model: openai_reasoning/o4-mini\n",
      "    Found 2/2 clusters (100.0%)\n",
      "    Properly categorized genes: 2/2 (100.0%)\n",
      "      Established: 2, Novel role: 0, Uncharacterized: 0\n",
      "\n",
      "=== SUMMARY TABLE ===\n",
      "     Dataset                                  Model   Status Clusters Found   Genes Found  Established Genes  Novel Role Genes  Uncharacterized Genes  Novel/Unchar Count Novel/Unchar %\n",
      "0       funk   anthropic/claude-3-7-sonnet-20250219  Success   6/6 (100.0%)  7/7 (100.0%)                  3                 3                      1                   4          57.1%\n",
      "1       funk    anthropic/claude-3-5-haiku-20241022  Success   6/6 (100.0%)  7/7 (100.0%)                  3                 3                      1                   4          57.1%\n",
      "2       funk  gemini/gemini-2.5-flash-preview-04-17  Success    2/6 (33.3%)    0/7 (0.0%)                  0                 0                      0                   0           0.0%\n",
      "3       funk    gemini/gemini-2.5-pro-preview-03-25  Success    2/6 (33.3%)   3/7 (42.9%)                  0                 3                      0                   3          42.9%\n",
      "4       funk                         openai/gpt-4.1  Success   6/6 (100.0%)   4/7 (57.1%)                  2                 2                      0                   2          28.6%\n",
      "5       funk                          openai/gpt-4o  Success   6/6 (100.0%)   4/7 (57.1%)                  2                 2                      0                   2          28.6%\n",
      "6       funk               openai_reasoning/o3-mini  Success   6/6 (100.0%)   5/7 (71.4%)                  3                 2                      0                   2          28.6%\n",
      "7       funk               openai_reasoning/o4-mini  Success   6/6 (100.0%)   5/7 (71.4%)                  3                 2                      0                   2          28.6%\n",
      "8   schaffer   anthropic/claude-3-7-sonnet-20250219  Success   2/2 (100.0%)  2/2 (100.0%)                  0                 1                      1                   2         100.0%\n",
      "9   schaffer    anthropic/claude-3-5-haiku-20241022  Success   2/2 (100.0%)  2/2 (100.0%)                  0                 1                      1                   2         100.0%\n",
      "10  schaffer  gemini/gemini-2.5-flash-preview-04-17  Success   2/2 (100.0%)   1/2 (50.0%)                  0                 1                      0                   1          50.0%\n",
      "11  schaffer    gemini/gemini-2.5-pro-preview-03-25  Success    1/2 (50.0%)   1/2 (50.0%)                  0                 1                      0                   1          50.0%\n",
      "12  schaffer                         openai/gpt-4.1  Success   2/2 (100.0%)  2/2 (100.0%)                  0                 1                      1                   2         100.0%\n",
      "13  schaffer                          openai/gpt-4o  Success   2/2 (100.0%)  2/2 (100.0%)                  0                 1                      1                   2         100.0%\n",
      "14  schaffer               openai_reasoning/o3-mini  Success   2/2 (100.0%)  2/2 (100.0%)                  0                 1                      1                   2         100.0%\n",
      "15  schaffer               openai_reasoning/o4-mini  Success   2/2 (100.0%)  2/2 (100.0%)                  0                 1                      1                   2         100.0%\n",
      "16  wainberg   anthropic/claude-3-7-sonnet-20250219  Success   2/2 (100.0%)  2/2 (100.0%)                  1                 0                      1                   1          50.0%\n",
      "17  wainberg    anthropic/claude-3-5-haiku-20241022  Success   2/2 (100.0%)  2/2 (100.0%)                  1                 0                      1                   1          50.0%\n",
      "18  wainberg  gemini/gemini-2.5-flash-preview-04-17  Success   2/2 (100.0%)  2/2 (100.0%)                  2                 0                      0                   0           0.0%\n",
      "19  wainberg    gemini/gemini-2.5-pro-preview-03-25  Success   2/2 (100.0%)  2/2 (100.0%)                  2                 0                      0                   0           0.0%\n",
      "20  wainberg                         openai/gpt-4.1  Success   2/2 (100.0%)  2/2 (100.0%)                  1                 1                      0                   1          50.0%\n",
      "21  wainberg                          openai/gpt-4o  Success   2/2 (100.0%)  2/2 (100.0%)                  1                 1                      0                   1          50.0%\n",
      "22  wainberg               openai_reasoning/o3-mini  Success   2/2 (100.0%)  2/2 (100.0%)                  2                 0                      0                   0           0.0%\n",
      "23  wainberg               openai_reasoning/o4-mini  Success   2/2 (100.0%)  2/2 (100.0%)                  2                 0                      0                   0           0.0%\n",
      "\n",
      "=== GENE CATEGORIZATION TABLE ===\n",
      "     Dataset      Gene anthropic/claude-3-5-haiku-20241022 anthropic/claude-3-7-sonnet-20250219 gemini/gemini-2.5-flash-preview-04-17 gemini/gemini-2.5-pro-preview-03-25      openai/gpt-4.1       openai/gpt-4o openai_reasoning/o3-mini openai_reasoning/o4-mini\n",
      "0       funk   AKIRIN2                          novel_role                           novel_role             missing_from_all_clusters           missing_from_all_clusters          novel_role          novel_role              established              established\n",
      "1       funk      BRAF                          novel_role                           novel_role                    missing_in_cluster                          novel_role  missing_in_cluster  missing_in_cluster               novel_role               novel_role\n",
      "2       funk  C1orf131                         established                          established             missing_from_all_clusters           missing_from_all_clusters         established         established              established              established\n",
      "3       funk   C7orf26                     uncharacterized                      uncharacterized                    missing_in_cluster           missing_from_all_clusters  missing_in_cluster  missing_in_cluster       missing_in_cluster       missing_in_cluster\n",
      "4       funk    HNRNPD                         established                          established             missing_from_all_clusters                          novel_role          novel_role          novel_role       missing_in_cluster       missing_in_cluster\n",
      "5       funk      KRAS                          novel_role                           novel_role                    missing_in_cluster                          novel_role  missing_in_cluster  missing_in_cluster               novel_role               novel_role\n",
      "6       funk     SETD2                         established                          established             missing_from_all_clusters           missing_from_all_clusters         established         established              established              established\n",
      "7   schaffer  C18orf21                     uncharacterized                      uncharacterized                    missing_in_cluster           missing_from_all_clusters     uncharacterized     uncharacterized          uncharacterized          uncharacterized\n",
      "8   schaffer      DPP9                          novel_role                           novel_role                            novel_role                          novel_role          novel_role          novel_role               novel_role               novel_role\n",
      "9   wainberg  C15orf57                     uncharacterized                      uncharacterized                           established                         established          novel_role          novel_role              established              established\n",
      "10  wainberg   TMEM189                         established                          established                           established                         established         established         established              established              established\n",
      "\n",
      "=== CLUSTER INFORMATION TABLE ===\n",
      "    Dataset Cluster         anthropic/claude-3-5-haiku-20241022_biological_process                                                                                                                                                                                                                                                                                                                                                                                                                                                                                                                                                                                                                                                                                                                                                                                                                                                                                                                                             anthropic/claude-3-5-haiku-20241022_follow_up        anthropic/claude-3-7-sonnet-20250219_biological_process                                                                                                                                                                                                                                                                                                                                                                                                                                                                                                                                                                                                                                                                                                                                                                                                                                                                                                                                 anthropic/claude-3-7-sonnet-20250219_follow_up                          gemini/gemini-2.5-flash-preview-04-17_biological_process                                                                                                                                                                                                                                                                                                                                                                                                                                                                                                                                                                                                                                                                                                                                                                                                                                                                                                     gemini/gemini-2.5-flash-preview-04-17_follow_up                            gemini/gemini-2.5-pro-preview-03-25_biological_process                                                                                                                                                                                                                                                                                                                                                                                                                                                                                                                                                                                                                                                                                                                                                                                                            gemini/gemini-2.5-pro-preview-03-25_follow_up                      openai/gpt-4.1_biological_process                                                                                                                                                                                                                                                                                                                                                                                                                                                                                                                                                                            openai/gpt-4.1_follow_up                       openai/gpt-4o_biological_process                                                                                                                                                                                                                                                                                                                                                                                                                                                                                                                                                openai/gpt-4o_follow_up                                                                                                      openai_reasoning/o3-mini_biological_process                                                                                                                                                                                                                                                                                                                                                                                                                                                                                                                                                                              openai_reasoning/o3-mini_follow_up                                                                                                      openai_reasoning/o4-mini_biological_process                                                                                                                                                                                                                                                                                                                                                                                                                                                                                                                                                                              openai_reasoning/o4-mini_follow_up\n",
      "0      funk     121          Transcriptional regulation and chromatin modification                                                                                                                                                                                                                                                                                   This cluster shows a strong signature of transcriptional regulation and chromatin modification, with multiple established transcription factors (GABPA, GABPB1, SP2, MYC, MAX) and chromatin modifiers (SETD2, ZMYND8). Several genes function in RNA processing (ILF3, HNRNPM, SON) which is tightly coupled to transcription. The uncharacterized genes (CCDC174, POU5F1B) may have undiscovered roles in transcriptional control. The novel role candidates include proteins involved in post-translational modifications (N6AMT1, KEAP1, DDA1, SPAG5) that could regulate transcription factors or chromatin modifiers, potentially revealing new regulatory mechanisms in gene expression control.          Transcriptional regulation and chromatin modification                                                                                                                                      This cluster shows a strong signature of genes involved in transcriptional regulation and chromatin modification. Core members include well-established transcription factors (GABPA/B1, SP2, MYC, MAX), chromatin modifiers (SETD2, ZMYND8), and RNA processing factors that influence gene expression (ILF3, HNRNPM, SON). Several genes with established functions in other pathways may have novel roles in transcriptional regulation, particularly ZBTB11 (a zinc finger protein with minimal characterization) and N6AMT1 (a methyltransferase). Two minimally characterized genes (CCDC174 and POU5F1B) may represent novel components of transcriptional regulatory networks. The cluster suggests a functional network connecting transcription factors, chromatin modifiers, and RNA processing to coordinate gene expression.                                                                 Cluster not found                                                                                                                                                                                                                                                                                                                                                                                                                                                                                                                                                                                                                                                                                                                                                                                                                                                                                                                                   Cluster not found                                                                 Cluster not found                                                                                                                                                                                                                                                                                                                                                                                                                                                                                                                                                                                                                                                                                                                                                                                                                                        Cluster not found  Transcriptional regulation and chromatin modification                                                                                                               The dominant process for cluster 121 is transcriptional regulation and chromatin modification, with medium confidence. Established genes like GABPA, GABPB1, MYC, MAX, and SETD2 are well-documented in this pathway. CCDC174 and ZBTB11 are uncharacterized and merit further investigation due to their potential roles in transcriptional regulation. SP2, ZMYND8, and SON are identified as having novel roles in this pathway, given their known functions in related processes.  Transcriptional regulation and chromatin modification                                                                                                                                              The gene cluster 121 is primarily associated with transcriptional regulation and chromatin modification, with medium confidence. Established genes like GABPA, GABPB1, MYC, MAX, and SETD2 are well-documented in these processes. CCDC174 and ZBTB11 are uncharacterized and may have unexplored roles in transcriptional regulation. KEAP1 and MEMO1, known for other pathways, could have novel roles in this context.   RNA polymerase II–mediated transcription regulation, including promoter binding, chromatin modification and co-transcriptional mRNA processing                                                                                                                                                                                       Cluster 121 is highly enriched for core components of the Pol II transcription cycle: sequence-specific activators, histone methyltransferases and readers, and splicing cofactors. Four poorly studied genes emerge as high-priority candidates for novel roles in transcription, while six characterized genes warrant follow-up to test underappreciated functions in chromatin dynamics or Pol II complex regulation.   RNA polymerase II–mediated transcription regulation, including promoter binding, chromatin modification and co-transcriptional mRNA processing                                                                                                                                                                                       Cluster 121 is highly enriched for core components of the Pol II transcription cycle: sequence-specific activators, histone methyltransferases and readers, and splicing cofactors. Four poorly studied genes emerge as high-priority candidates for novel roles in transcription, while six characterized genes warrant follow-up to test underappreciated functions in chromatin dynamics or Pol II complex regulation.\n",
      "1      funk     149  Mitochondrial respiratory chain complex assembly and function  Cluster 149 shows a strong signature of mitochondrial respiratory chain complex assembly and function, with multiple established components of respiratory chain complexes I, III, and V (ATP synthase). The cluster contains seven well-established genes directly involved in respiratory chain function (NDUFV2, NDUFA6, NDUFC1, ATP5ME, DMAC1, CYC1, UQCRFS1). Two mitochondrial ribosomal proteins (MRPL55, MRPL57) are uncharacterized and represent high-priority candidates for investigation. Several genes with established functions in other pathways (KRAS, BRAF, RAD23B, LRPPRC, GATC, MRPL18) may have novel roles in regulating mitochondrial function. The presence of signaling proteins like KRAS and BRAF suggests potential regulatory mechanisms connecting growth factor signaling to mitochondrial function. This cluster highlights the complex interplay between mitochondrial protein synthesis, respiratory chain assembly, and cellular signaling pathways.  Mitochondrial respiratory chain complex assembly and function  Cluster 149 shows a strong signature of mitochondrial respiratory chain complex assembly and function, with multiple established components of respiratory chain complexes I (NDUFV2, NDUFA6, NDUFC1, DMAC1), III (CYC1, UQCRFS1), and V (ATP5ME). The cluster includes uncharacterized mitochondrial ribosomal proteins (MRPL57, MRPL55) that likely contribute to mitochondrial translation of respiratory chain components. Intriguingly, the presence of signaling proteins KRAS and BRAF suggests a potential novel regulatory connection between MAPK signaling and mitochondrial function. Several genes involved in protein quality control (RAD23B), RNA metabolism (LRPPRC), and mitochondrial translation (GATC, MRPL18) may have broader roles in coordinating respiratory chain assembly than currently recognized. This cluster highlights the complex interplay between signaling pathways, mitochondrial translation, and respiratory chain complex assembly.                Mitochondrial Electron Transport Chain / Oxidative Phosphorylation                                                                                                                                                                                                                                                                                                                                                                                                                                                                                                                                                                                                                                                                                                                                                                                                                                                                                                                                  No follow-up found                                           Mitochondrial Oxidative Phosphorylation  Cluster 149 exhibits a strong and coherent signature for Mitochondrial Oxidative Phosphorylation. 12 of the 19 genes are established components of the electron transport chain (Complexes I, III, V), or factors essential for mitochondrial protein synthesis and complex assembly (e.g., GATC, LRPPRC, MRPLs, DMAC1). The pathway confidence is high. No genes meet the criteria for 'UNCHARACTERIZED'. The remaining 7 genes, including oncogenes KRAS and BRAF, and proteins involved in diverse cellular processes like DNA repair/proteostasis (RAD23B), RNA processing (SNAPC1, LSM11), and organelle dynamics/trafficking (NINL, UBAC2), are proposed as candidates for novel regulatory roles or functional links to mitochondrial energy metabolism, meriting follow-up investigation due to their co-clustering with core OxPhos machinery.                 Mitochondrial electron transport chain                                                                                                                                                                                                  Cluster 149 is dominated by genes involved in the mitochondrial electron transport chain, with high confidence due to the presence of multiple established genes. MRPL57 and MRPL55 are uncharacterized and may represent novel components of mitochondrial processes. LRPPRC and GATC, while known for other mitochondrial roles, could have novel contributions to the electron transport chain.                 Mitochondrial electron transport chain                                                                                                                                                                                                                         Cluster 149 is dominated by genes involved in the mitochondrial electron transport chain, with high confidence due to the presence of multiple established genes. MRPL57 and MRPL55 are uncharacterized and present opportunities for novel discovery. LRPPRC and GATC may have novel roles in this pathway, warranting further investigation.                                                                   Mitochondrial oxidative phosphorylation and respiratory chain complex assembly                                                                                                                                                               Cluster 149 is dominated by mitochondrial oxidative phosphorylation and respiratory chain complex assembly, with 12 core complex I, III, V subunits or assembly/translational factors. Seven genes (KRAS, BRAF, RAD23B, UBAC2, SNAPC1, NINL, LSM11) are established in other processes but may have novel regulatory or quality-control roles in OXPHOS; KRAS and BRAF score highest for follow-up based on known metabolic signaling cross-talk.                                                                   Mitochondrial oxidative phosphorylation and respiratory chain complex assembly                                                                                                                                                               Cluster 149 is dominated by mitochondrial oxidative phosphorylation and respiratory chain complex assembly, with 12 core complex I, III, V subunits or assembly/translational factors. Seven genes (KRAS, BRAF, RAD23B, UBAC2, SNAPC1, NINL, LSM11) are established in other processes but may have novel regulatory or quality-control roles in OXPHOS; KRAS and BRAF score highest for follow-up based on known metabolic signaling cross-talk.\n",
      "2      funk     167                               Proteasome assembly and function                                                                                                                                                                                                                                                                                                                                                                      This cluster represents a highly coherent group of genes involved in proteasome assembly and function. It contains 14 established genes that are core components of the 20S proteasome complex (PSMA1-7 and PSMB1-7) along with POMP, a dedicated proteasome assembly chaperone. Two genes have potential novel roles: AKIRIN2, recently identified as a mediator of proteasome nuclear import, and UBE2R2, an E2 ubiquitin-conjugating enzyme that functions upstream of proteasomal degradation. The cluster demonstrates a clear biological signature centered on protein degradation via the proteasome pathway.                        Proteasome-mediated protein degradation                                                                                                                                                                                                           This cluster shows a highly coherent biological signature centered on the proteasome-mediated protein degradation pathway. It contains 14 established proteasome components, including multiple subunits of both the alpha (PSMA1-7) and beta (PSMB1-7) rings of the 20S core proteasome, as well as POMP, a dedicated proteasome assembly chaperone. Two genes (AKIRIN2 and UBE2R2) represent potential novel connections to proteasome function. AKIRIN2 has a recently discovered role in nuclear import of proteasomes, while UBE2R2 functions in the upstream ubiquitination process that marks proteins for proteasomal degradation. Their presence in this cluster suggests they may have additional undiscovered roles in proteasome regulation or function.                                                                 Cluster not found                                                                                                                                                                                                                                                                                                                                                                                                                                                                                                                                                                                                                                                                                                                                                                                                                                                                                                                                   Cluster not found                                                                 Cluster not found                                                                                                                                                                                                                                                                                                                                                                                                                                                                                                                                                                                                                                                                                                                                                                                                                                        Cluster not found                Proteasome-mediated protein degradation                                                                                                                                                                                                     The dominant biological pathway for gene cluster 167 is proteasome-mediated protein degradation, with high confidence due to the presence of multiple well-established proteasome components. Most genes in the cluster are established members of the proteasome complex. AKIRIN2 and UBE2R2 are identified as having potential novel roles in this pathway, warranting further investigation.                Proteasome-mediated protein degradation                                                                                                                                                                                                                                                   Cluster 167 is dominated by genes involved in the proteasome-mediated protein degradation pathway, with high confidence due to the presence of multiple well-established proteasome components. AKIRIN2 and UBE2R2 are identified as having potential novel roles in this pathway, warranting further investigation.                                                                 20S proteasome core complex assembly and ubiquitin-dependent protein degradation                                                                                                                                                                                                                                                                                              Cluster 167 is almost entirely composed of canonical 20S proteasome subunits and the assembly chaperone POMP, plus AKIRIN2, the nuclear import adaptor for mature proteasomes. The only non-core component, UBE2R2, may represent a novel regulatory interface between ubiquitination and proteasomal degradation.                                                                 20S proteasome core complex assembly and ubiquitin-dependent protein degradation                                                                                                                                                                                                                                                                                              Cluster 167 is almost entirely composed of canonical 20S proteasome subunits and the assembly chaperone POMP, plus AKIRIN2, the nuclear import adaptor for mature proteasomes. The only non-core component, UBE2R2, may represent a novel regulatory interface between ubiquitination and proteasomal degradation.\n",
      "3      funk     197                                RNA modification and processing                                                                                                                                     This cluster reveals a coherent signature centered on RNA modification and processing, with METTL3 and METTL14 forming the core N6-methyltransferase complex that methylates adenosine residues in mRNAs (m6A modification), and HNRNPD as an established RNA-binding protein involved in mRNA stability. The cluster suggests potential novel connections between RNA modification and other cellular processes: UFL1-mediated ufmylation may regulate RNA processing machinery; VRK1 kinase activity might phosphorylate RNA modifiers; and MCM3 might link DNA replication to RNA processing. PTCHD4 remains largely uncharacterized but may have an undiscovered role in RNA regulation. Other genes in the cluster (SPAST, NCOR2, NCAPD3, FITM1) have established functions in different pathways with less clear connections to RNA processing.                                RNA modification and processing                                                                                                                                                                                  This cluster reveals a coherent RNA modification and processing pathway, anchored by the established m6A methyltransferase complex components METTL3 and METTL14, along with the RNA-binding protein HNRNPD. The presence of UFL1 (ufmylation E3 ligase) suggests potential cross-talk between protein modification and RNA processing. VRK1 (kinase) and MCM3 (DNA replication) may represent novel regulatory connections to RNA modification. PTCHD4 remains largely uncharacterized and warrants investigation for potential RNA-related functions. Other genes in the cluster (SPAST, NCOR2, NCAPD3, FITM1) have established functions in diverse processes unrelated to RNA modification, suggesting they may represent noise in the cluster or have undiscovered roles in RNA biology.                                                                 Cluster not found                                                                                                                                                                                                                                                                                                                                                                                                                                                                                                                                                                                                                                                                                                                                                                                                                                                                                                                                   Cluster not found                                       Cell Cycle Regulation and Mitotic Processes                                                                                                                                                                                                                         Cluster 197 strongly implicates 'Cell Cycle Regulation and Mitotic Processes' as the dominant pathway, supported by established members SPAST (cytokinesis/spindle dynamics), NCAPD3 (chromosome condensation), MCM3 (DNA replication), and VRK1 (cell cycle kinase). Seven additional genes (NCOR2, HNRNPD, METTL3, METTL14, FITM1, PTCHD4, UFL1) are proposed to have novel regulatory roles in this pathway. UFL1, an E3 ligase for ufmylation, is a high-priority candidate (score 8) for follow-up, potentially uncovering novel mechanisms in cell cycle control via histone modification or DNA damage response pathways.                         RNA methylation and processing                        The dominant process identified in cluster 197 is RNA methylation and processing, primarily driven by the presence of METTL3 and METTL14, which are well-established in this pathway. The pathway confidence is medium due to the presence of these two key genes, but the rest of the cluster shows diverse functions. HNRNPD and UFL1 are identified as having potential novel roles in RNA methylation due to their involvement in RNA binding and protein modification, respectively. Other genes in the cluster do not show a clear connection to the dominant process.                         RNA methylation and processing                                                                                                                                 The dominant process identified in cluster 197 is RNA methylation and processing, primarily driven by the presence of METTL3 and METTL14, which are well-established in this pathway. The pathway confidence is medium due to the presence of these two key genes. HNRNPD and UFL1 are identified as having potential novel roles in this pathway due to their involvement in RNA-related processes, warranting further investigation.                                                                                                                   No coherent biological pathway                                                                                                                Cluster 197 contains genes spanning microtubule severing (SPAST), chromosome condensation (NCAPD3), DNA replication (MCM3), mRNA methylation (METTL3/METTL14), transcriptional repression (NCOR2), RNA turnover (HNRNPD), lipid droplet biogenesis (FITM1), Hedgehog antagonism (PTCHD4), kinase-mediated chromatin regulation (VRK1), and ufmylation (UFL1). These diverse molecular functions do not converge on a single specific pathway, precluding a coherent dominant process assignment.                                                                                                                   No coherent biological pathway                                                                                                                Cluster 197 contains genes spanning microtubule severing (SPAST), chromosome condensation (NCAPD3), DNA replication (MCM3), mRNA methylation (METTL3/METTL14), transcriptional repression (NCOR2), RNA turnover (HNRNPD), lipid droplet biogenesis (FITM1), Hedgehog antagonism (PTCHD4), kinase-mediated chromatin regulation (VRK1), and ufmylation (UFL1). These diverse molecular functions do not converge on a single specific pathway, precluding a coherent dominant process assignment.\n",
      "4      funk      21                    Ribosome biogenesis and pre-rRNA processing                                                         Cluster 21 shows a strong signature of ribosome biogenesis and pre-rRNA processing, particularly focused on small subunit (40S) processome components. The majority of genes (17) are established factors in this pathway, including several SSU processome components (AATF, C1orf131, NGDN, RRP7A, UTP20), rRNA modification enzymes (DIMT1, TRMT112), and factors required for pre-rRNA cleavage (PDCD11, RRP36). Three genes (NOC4L, NOL10, RRP12) remain largely uncharacterized despite nucleolar localization, making them high-priority candidates for investigation. Several genes with established functions in other pathways (INO80, DYRK1A, NEPRO) may represent novel connections between chromatin regulation, signaling pathways, and ribosome biogenesis. The cluster also contains translation initiation factors (EIF3 subunits, EIF4A1), suggesting coordination between ribosome production and translation.                    Ribosome biogenesis and pre-rRNA processing                    Cluster 21 shows a strong signature of ribosome biogenesis and pre-rRNA processing, particularly focused on small subunit (SSU) processome assembly and 18S rRNA maturation. The cluster contains 17 established genes with well-documented roles in this pathway, including components of the SSU processome (AATF, C1orf131, RRP7A, UTP20, NGDN) and factors involved in rRNA modification (TRMT112, DIMT1). Three genes (NOC4L, NOL10, RRP12) remain functionally uncharacterized despite their likely involvement in ribosome biogenesis based on nomenclature. The cluster also contains intriguing novel connections, particularly INO80, which may link chromatin remodeling to rDNA transcription, and DYRK1A, which could represent a previously unrecognized regulatory kinase in the pathway. The presence of translation initiation factors (EIF3 subunits, EIF4A1) suggests coordination between ribosome assembly and translation initiation.                                                                 Cluster not found                                                                                                                                                                                                                                                                                                                                                                                                                                                                                                                                                                                                                                                                                                                                                                                                                                                                                                                                   Cluster not found                                                                 Cluster not found                                                                                                                                                                                                                                                                                                                                                                                                                                                                                                                                                                                                                                                                                                                                                                                                                                        Cluster not found         Ribosome biogenesis and translation initiation                                                                                                                                                   Cluster 21 is dominated by genes involved in ribosome biogenesis and translation initiation, with high confidence due to the presence of multiple well-established genes in these processes. Several genes are uncharacterized, presenting opportunities for novel discoveries in ribosome biogenesis. Additionally, some genes with known roles in other pathways may have novel roles in ribosome biogenesis, warranting further investigation.         Ribosome biogenesis and translation initiation                                                                                     Cluster 21 is dominated by genes involved in ribosome biogenesis and translation initiation, with high confidence due to the presence of multiple well-established genes in these processes. Several genes, such as RRP12, NOC4L, and NOL10, are uncharacterized and present opportunities for novel discoveries. Additionally, genes like DYRK1A and INO80, known for roles in other pathways, may have novel roles in ribosome biogenesis, suggesting new regulatory mechanisms.                                                         Small (40S) ribosomal subunit biogenesis via SSU processome–mediated pre-rRNA processing                            Cluster 21 is highly enriched for known SSU processome and 40S pre-rRNA processing factors, indicating a dominant pathway of small ribosomal subunit biogenesis. Two poorly annotated factors (NOC4L, NOL10) emerge as top priorities for experimental follow-up. A set of transcription regulators, kinases, and chromatin remodelers (e.g. ESF1, ABT1, DYRK1A, INO80) are flagged as candidates for novel regulatory roles in rRNA transcription or processing, while canonical translation factors and metabolic enzymes are deprioritized as unlikely SSU processome components.                                                         Small (40S) ribosomal subunit biogenesis via SSU processome–mediated pre-rRNA processing                            Cluster 21 is highly enriched for known SSU processome and 40S pre-rRNA processing factors, indicating a dominant pathway of small ribosomal subunit biogenesis. Two poorly annotated factors (NOC4L, NOL10) emerge as top priorities for experimental follow-up. A set of transcription regulators, kinases, and chromatin remodelers (e.g. ESF1, ABT1, DYRK1A, INO80) are flagged as candidates for novel regulatory roles in rRNA transcription or processing, while canonical translation factors and metabolic enzymes are deprioritized as unlikely SSU processome components.\n",
      "5      funk      37                                         mTOR signaling pathway           Cluster 37 shows a strong enrichment for components of the mTOR signaling pathway, including the core kinase (MTOR) and key components of both mTORC1 (RPTOR, RHEB) and mTORC2 (RICTOR, MLST8) complexes. The cluster also includes upstream regulators (PDPK1) and components of the GATOR2 complex (WDR24, SEH1L) that regulate mTOR in response to amino acids. Notably, the cluster contains multiple components of vesicular trafficking complexes (TRAPP and COG complexes) that may represent novel connections between mTOR signaling and membrane trafficking/secretory pathways. SLC4A7 emerges as a high-priority novel connection, with recent evidence suggesting it functions downstream of mTORC1 to provide bicarbonate for nucleotide synthesis. The presence of integrator complex components (INTS9, INTS10, INTS11, INTS4, C7orf26) suggests potential connections between mTOR signaling and transcription termination that warrant further investigation.                                         mTOR signaling pathway                                                          This cluster shows a strong enrichment for mTOR signaling pathway components, including core members of both mTORC1 (MTOR, RPTOR, MLST8) and mTORC2 (MTOR, RICTOR, MLST8) complexes, as well as upstream regulators (RHEB) and downstream effectors (PDPK1). The GATOR2 complex components (WDR24, SEH1L) that regulate mTORC1 in response to amino acids are also present. The cluster reveals potential novel connections between mTOR signaling and membrane trafficking pathways, with multiple TRAPP complex (TRAPPC3/8/11) and COG complex (COG2/3/4) components that may link vesicular transport to mTOR-regulated growth. SLC4A7 represents a particularly interesting novel connection as a bicarbonate transporter recently implicated in mTORC1-regulated nucleotide synthesis. The integrator complex components (INTS4/9/10/11, C7orf26) may represent a separate functional group within this cluster.                                                                           Unknown                                                                                                                                                                                                                                                                                                                                                                                                                                                                                                                                                                                                                                                                                                                                                                                                                                                                                                                                  No follow-up found                                                                 Cluster not found                                                                                                                                                                                                                                                                                                                                                                                                                                                                                                                                                                                                                                                                                                                                                                                                                                        Cluster not found                                 mTOR signaling pathway  Cluster 37 is dominated by the mTOR signaling pathway, with high confidence due to the presence of multiple well-established genes such as MTOR, RICTOR, RPTOR, MLST8, PDPK1, and RHEB. The cluster also includes genes like SEH1L and WDR24, which are part of the GATOR2 complex, suggesting novel regulatory roles in mTOR signaling. SLC4A7's involvement in bicarbonate transport and nucleotide synthesis further supports its potential novel role in this pathway. ERH is identified as uncharacterized, warranting further investigation for potential novel functions in mTOR signaling.                                 mTOR signaling pathway  Cluster 37 is dominated by the mTOR signaling pathway, with high confidence due to the presence of multiple well-established genes such as MTOR, RICTOR, RPTOR, MLST8, PDPK1, and RHEB. The cluster also includes genes like SEH1L and WDR24, which are part of the GATOR2 complex, indicating potential novel roles in mTOR regulation. SLC4A7's involvement in bicarbonate transport and mTORC1 signaling suggests a novel regulatory role. ERH is identified as uncharacterized, warranting further investigation for potential novel functions in mTOR signaling.                                                                                                        Regulation of mTORC1 and mTORC2 signaling  Cluster 37 is enriched for core components and regulators of mTORC1 and mTORC2, including MTOR, RPTOR, RICTOR, MLST8, RHEB, PDPK1 and the GATOR2 subunits WDR24 and SEH1L, as well as the mTORC1‐dependent nucleotide transporter SLC4A7. This coherent mTOR signaling signature, though covering ~27% of members, suggests a shared morphological phenotype driven by nutrient‐sensing and growth‐factor pathways. ERH emerges as the only largely uncharacterized gene in the cluster, while PRKAR1A, MAP7D1 and TRAPPC8 warrant investigation as potential novel modulators or effectors of mTOR complexes.                                                                                                        Regulation of mTORC1 and mTORC2 signaling  Cluster 37 is enriched for core components and regulators of mTORC1 and mTORC2, including MTOR, RPTOR, RICTOR, MLST8, RHEB, PDPK1 and the GATOR2 subunits WDR24 and SEH1L, as well as the mTORC1‐dependent nucleotide transporter SLC4A7. This coherent mTOR signaling signature, though covering ~27% of members, suggests a shared morphological phenotype driven by nutrient‐sensing and growth‐factor pathways. ERH emerges as the only largely uncharacterized gene in the cluster, while PRKAR1A, MAP7D1 and TRAPPC8 warrant investigation as potential novel modulators or effectors of mTOR complexes.\n",
      "6  schaffer   C5255       tRNA processing via ribonuclease P and tRNA modification                                                                                                                                                                                                                                                                                                                             This cluster shows a strong signature of tRNA processing and modification, with 10 established genes involved in either ribonuclease P complex (RPP30, POP1, POP7, RPP14, RPP40, RPP38, POP5, POP4) or the EKC/KEOPS complex (OSGEP, GON7) that performs tRNA modifications. Two uncharacterized genes (C18orf21, RPP25L) may represent novel components of these pathways. Two genes with established roles in other processes (RNASEH1 in RNA-DNA hybrid resolution, MAGED2 in ion transport) may have unexpected functions in tRNA biology. The high representation of RNase P components makes this a highly coherent cluster focused on tRNA maturation.       tRNA processing via ribonuclease P and tRNA modification                                                                                                                                                                                                                                                                                                                                                                              This cluster shows a strong signature of tRNA processing and modification, with 10 established genes involved in either ribonuclease P complex (RPP30, POP1, POP7, RPP14, RPP40, RPP38, POP5, POP4) or the EKC/KEOPS complex (OSGEP, GON7) that performs tRNA modifications. Two uncharacterized genes (C18orf21, RPP25L) may represent novel components of these pathways. RNASEH1 and MAGED2 have established roles in other processes but may have additional functions in tRNA metabolism. The coherence of this cluster strongly suggests these genes cooperate in tRNA maturation pathways.        tRNA 5'-end maturation, pre-rRNA processing, and tRNA t(6)A37 modification                                                                                                                                                                                                                                                                                                                                                                                                                                                                                                                                                                                                                                                                                                                                                                                                                                                                                                                                  No follow-up found                                                                 Cluster not found                                                                                                                                                                                                                                                                                                                                                                                                                                                                                                                                                                                                                                                                                                                                                                                                                                        Cluster not found                    Ribonuclease P/MRP complex function                                                                                                                                             The dominant biological pathway for cluster C5255 is the ribonuclease P/MRP complex function, with high confidence due to the presence of multiple well-established genes involved in this pathway. C18orf21 is uncharacterized and a high-priority candidate for novel discovery. RNASEH1, OSGEP, GON7, RPP25L, and MAGED2 are identified as having potential novel roles in this pathway, with varying degrees of priority for further investigation.                    Ribonuclease P/MRP complex function                                                                                                                                                                            The dominant biological pathway for cluster C5255 is the ribonuclease P/MRP complex function, with high confidence due to the presence of multiple well-established genes involved in this pathway. C18orf21 is uncharacterized and presents a high priority for investigation. RPP25L and MAGED2 are identified as having potential novel roles in this pathway, warranting further study.                                                     pre-tRNA 5′-end cleavage by RNase P/MRP and tRNA t6A37 modification by the EKC/KEOPS complex                                                                                                                                Cluster C5255 is dominated by core subunits of the RNase P/MRP ribonucleoprotein and the KEOPS complex, which together execute pre-tRNA 5′ cleavage and t6A37 modification. Ten genes are well-established pathway members, supporting a High confidence assignment. Two poorly characterized open reading frames (C18orf21, RPP25L) warrant follow-up, and two genes with unrelated known roles (RNASEH1, MAGED2) are deprioritized but noted for possible novel contributions.                                                     pre-tRNA 5′-end cleavage by RNase P/MRP and tRNA t6A37 modification by the EKC/KEOPS complex                                                                                                                                Cluster C5255 is dominated by core subunits of the RNase P/MRP ribonucleoprotein and the KEOPS complex, which together execute pre-tRNA 5′ cleavage and t6A37 modification. Ten genes are well-established pathway members, supporting a High confidence assignment. Two poorly characterized open reading frames (C18orf21, RPP25L) warrant follow-up, and two genes with unrelated known roles (RNASEH1, MAGED2) are deprioritized but noted for possible novel contributions.\n",
      "7  schaffer   C5415                            Type I Interferon Signaling Pathway                                                                                                                                                                                                                                                                                                                                                                                                               This cluster represents a highly coherent type I interferon signaling pathway with three established components (STAT1, STAT2, IRF9) that form the ISGF3 transcription factor complex, which is essential for interferon-stimulated gene expression and antiviral responses. STAT1, STAT2, and IRF9 are canonical members with well-documented roles in this pathway. DPP9 appears as a potential novel contributor to interferon signaling, warranting investigation into how its peptidase activity or inflammasome regulation might intersect with interferon responses.                            Type I Interferon Signaling Pathway                                                                                                                                                                                                                                       This cluster represents a highly coherent type I interferon signaling pathway with three established components (STAT1, STAT2, IRF9) that form the ISGF3 transcription factor complex, which is essential for interferon-stimulated gene expression and antiviral responses. STAT1, STAT2, and IRF9 are canonical members of this pathway with well-documented roles. DPP9 is identified as a potential novel member of this pathway, as it has established roles in inflammasome regulation but no direct connection to interferon signaling has been reported. The clustering suggests DPP9 may have an undiscovered function in modulating interferon responses, potentially linking inflammasome regulation with antiviral immunity.  Type I Interferon signaling pathway (ISGF3 complex formation and ISG activation)                                                                                                                                                                                                                                                                                                                          Cluster C5415 exhibits high confidence for association with the Type I Interferon signaling pathway. Three core members, STAT1, STAT2, and IRF9, are established components that form the ISGF3 transcription factor complex essential for IFN-stimulated gene activation. DPP9, a known dipeptidyl peptidase involved in inflammasome regulation, is classified as having a potential novel role in this IFN pathway. Its investigation is prioritized to determine if it modulates IFN signaling, possibly through direct enzymatic action on pathway components or via indirect cross-talk with inflammasome signaling.  Type I Interferon signaling pathway (ISGF3 complex formation and ISG activation)                                                                                                                                                                                                                               Cluster C5415 exhibits high confidence for association with the Type I Interferon signaling pathway. Three core members, STAT1, STAT2, and IRF9, are established components that form the ISGF3 transcription factor complex essential for IFN-stimulated gene activation. DPP9, a known dipeptidyl peptidase involved in inflammasome regulation, is classified as having a potential novel role in this IFN pathway. Its investigation is prioritized to determine if it modulates IFN signaling, possibly through direct enzymatic action on pathway components or via indirect cross-talk with inflammasome signaling.                    Type I Interferon Signaling Pathway                                                                                                                                                                                                                                                        The gene cluster C5415 is strongly associated with the Type I Interferon Signaling Pathway, with STAT1, STAT2, and IRF9 being well-established members. DPP9, while primarily characterized in inflammasome regulation, may have a novel role in this pathway due to its involvement in immune modulation, warranting further investigation.                    Type I Interferon Signaling Pathway                                                                                                                                                                               The gene cluster C5415 is strongly associated with the type I interferon signaling pathway, with STAT1, STAT2, and IRF9 being well-established components of this pathway. DPP9, while primarily characterized in inflammasome regulation, may have a novel role in modulating immune responses within the type I interferon signaling pathway, making it a candidate for further study.  Type I interferon signaling via JAK1/TYK2-mediated STAT1–STAT2 phosphorylation, ISGF3 complex assembly with IRF9, and ISRE-driven transcription                                                                                                                                                                                                     Cluster C5415 is dominated by the core type I IFN pathway: JAK1/TYK2 activation leads to STAT1/STAT2 phosphorylation, association with IRF9 to form ISGF3, and transcription of ISGs. STAT1, STAT2, and IRF9 are established ISGF3 components. DPP9, known for inflammasome inhibition, clusters phenotypically with IFN pathway genes and represents a novel candidate for modulating antiviral signaling.  Type I interferon signaling via JAK1/TYK2-mediated STAT1–STAT2 phosphorylation, ISGF3 complex assembly with IRF9, and ISRE-driven transcription                                                                                                                                                                                                     Cluster C5415 is dominated by the core type I IFN pathway: JAK1/TYK2 activation leads to STAT1/STAT2 phosphorylation, association with IRF9 to form ISGF3, and transcription of ISGs. STAT1, STAT2, and IRF9 are established ISGF3 components. DPP9, known for inflammasome inhibition, clusters phenotypically with IFN pathway genes and represents a novel candidate for modulating antiviral signaling.\n",
      "8  wainberg    2067                                  Clathrin-mediated endocytosis                                                                                                                                                                This cluster shows a highly coherent signature of clathrin-mediated endocytosis (CME), with 7 established genes representing core components of this pathway. The AP-2 complex (AP2A1, AP2A2, AP2B1, AP2M1, AP2S1) forms the central hub, functioning as the major adaptor complex for clathrin-coated vesicle formation. FCHO2 and PICALM are well-established regulators of early clathrin-coated pit formation and maturation. C15orf57 appears to be an emerging player in CME with recent evidence for AP-2 modulation, but requires further characterization. AAGAB and AGFG1 have established roles in other aspects of membrane trafficking but may have additional uncharacterized functions in CME. This cluster provides strong evidence for functional interactions between these proteins in the CME pathway.                                  Clathrin-mediated endocytosis                                                                                                                                                                            This cluster shows a highly coherent signature of clathrin-mediated endocytosis (CME), with 7 established genes representing core components of this pathway. The AP-2 complex (AP2A1, AP2A2, AP2B1, AP2M1, AP2S1) forms the adaptor complex essential for clathrin-coated vesicle formation, while FCHO2 and PICALM are key regulators of early clathrin-coated pit formation and maturation. C15orf57 has recently been linked to CME but remains relatively uncharacterized. AAGAB and AGFG1 have established roles in other vesicular trafficking processes but may have novel functions specifically in CME. This cluster represents a comprehensive collection of proteins involved in different stages of the CME pathway, from membrane bending and cargo recognition to vesicle formation.                                                     Clathrin-Mediated Endocytosis                                                                                                             Gene cluster 2067 exhibits a strong and coherent signature for Clathrin-Mediated Endocytosis (CME). Eight of the ten genes (AP2A1, AP2A2, AP2B1, AP2M1, AP2S1, C15orf57, FCHO2, PICALM) are well-established components or direct regulators of this pathway, including multiple subunits of the AP-2 adaptor complex. No uncharacterized genes were identified based on the provided information. Two genes, AGFG1 and AAGAB, are proposed for follow-up due to potential novel roles in CME. AGFG1, primarily associated with RNA trafficking and HIV Rev function, is a high-priority candidate (priority 8) for a new function within the CME pathway. AAGAB, known for its role in AP-1 mediated endocytic recycling, is suggested to have an unappreciated role with the AP-2 complex in CME at the plasma membrane (priority 7).                                               Clathrin-Mediated Endocytosis (CME)                                                                                                                                                                                                                                                                                                                                                                                                                                Cluster 2067 exhibits a strong signature for Clathrin-Mediated Endocytosis (CME). Nine of the ten genes (AAGAB, AP2A1, AP2A2, AP2B1, AP2M1, AP2S1, C15orf57, FCHO2, PICALM) are well-established components or regulators of this pathway. AGFG1, with known roles in distinct vesicle transport and RNA trafficking processes, is highlighted as a potential novel contributor to CME, warranting further investigation.                          Clathrin-mediated endocytosis                                       The dominant biological pathway for gene cluster 2067 is clathrin-mediated endocytosis, with high confidence due to the presence of multiple well-established genes involved in this process. The AP-2 complex components (AP2A1, AP2A2, AP2B1, AP2M1, AP2S1) and other key players like FCHO2 and PICALM are well-documented in this pathway. AAGAB, AGFG1, and C15orf57 are identified as having potential novel roles in this pathway, with C15orf57 being a particularly promising candidate for further study due to its regulatory role in endocytosis.                          Clathrin-mediated endocytosis                                                                                                                                                                                               Cluster 2067 is strongly associated with clathrin-mediated endocytosis, with multiple established genes (AP2A1, AP2A2, AP2B1, AP2M1, AP2S1, FCHO2, PICALM) playing key roles in this process. AAGAB, AGFG1, and C15orf57 are identified as having potential novel roles in this pathway, warranting further investigation due to their involvement in related processes.                                              AP-2–dependent clathrin-mediated endocytosis (clathrin-coated pit nucleation and vesicle formation)           Cluster 2067 is dominated by core components and nucleators of AP-2–mediated clathrin-coated pit formation. Eight genes encode canonical adaptor subunits (AP2A1, AP2A2, AP2B1, AP2M1, AP2S1), membrane curvature generators (FCHO2), coat recruiters (PICALM), and a recently described AP-2 modulator (C15orf57). High confidence arises from multiple well-studied factors covering coat initiation, cargo selection, and vesicle scission. AAGAB and AGFG1 emerge as candidates for novel roles in early CME steps based on their vesicle trafficking functions outside of standard CME pathways.                                              AP-2–dependent clathrin-mediated endocytosis (clathrin-coated pit nucleation and vesicle formation)           Cluster 2067 is dominated by core components and nucleators of AP-2–mediated clathrin-coated pit formation. Eight genes encode canonical adaptor subunits (AP2A1, AP2A2, AP2B1, AP2M1, AP2S1), membrane curvature generators (FCHO2), coat recruiters (PICALM), and a recently described AP-2 modulator (C15orf57). High confidence arises from multiple well-studied factors covering coat initiation, cargo selection, and vesicle scission. AAGAB and AGFG1 emerge as candidates for novel roles in early CME steps based on their vesicle trafficking functions outside of standard CME pathways.\n",
      "9  wainberg    2213                   Ether lipid/plasmalogen biosynthesis pathway                                                                                                                                                                                                          This cluster shows a strong signature of the ether lipid/plasmalogen biosynthesis pathway, with 5 established genes (AGPS, FAR1, GNPAT, TMEM189, PEX7) directly involved in different steps of this process. AGPS and GNPAT catalyze the initial steps in ether lipid synthesis, FAR1 produces fatty alcohols essential for plasmalogen production, TMEM189 functions as a plasmanylethanolamine desaturase, and PEX7 is required for peroxisomal import of enzymes involved in this pathway. Three genes (EPT1, PCYT2, SEC14L1) have established roles in other pathways but may have novel connections to ether lipid metabolism. SEC14L1 represents the highest priority for investigation due to its potential undiscovered role in lipid transport related to plasmalogens.                   Ether lipid/plasmalogen biosynthesis pathway                                                                                                                                            This cluster shows a strong signature of the ether lipid/plasmalogen biosynthesis pathway, with 5 established genes (AGPS, FAR1, GNPAT, TMEM189, PEX7) representing key enzymatic and transport functions in this pathway. AGPS and GNPAT catalyze the initial steps of ether lipid synthesis, FAR1 produces fatty alcohols essential for this process, TMEM189 functions as a plasmanylethanolamine desaturase, and PEX7 facilitates peroxisomal import of pathway enzymes. Three genes (EPT1, PCYT2, SEC14L1) appear to have potential novel roles in this pathway. EPT1 and PCYT2 are established in phosphatidylethanolamine synthesis but may have underappreciated contributions to plasmalogen production, while SEC14L1, known for different functions, may have an unexplored role in ether lipid transport or metabolism.                                                          Plasmalogen Biosynthesis  Cluster 2213 exhibits high confidence for involvement in Plasmalogen Biosynthesis. Seven of the eight genes (AGPS, EPT1, FAR1, GNPAT, PCYT2, PEX7, TMEM189) are well-established components or essential supporting factors for this pathway, encompassing precursor synthesis (FAR1), initial peroxisomal enzymatic steps (GNPAT, AGPS), the necessary peroxisomal import machinery (PEX7), synthesis of the ethanolamine head group precursor (PCYT2), and subsequent ER-localized modifications including head group attachment and desaturation (EPT1, TMEM189). SEC14L1, with known roles in other cellular processes, is identified as a high-priority candidate for a novel role in plasmalogen biosynthesis, potentially in lipid transport or pathway regulation, meriting further investigation due to its SEC14 domain and strong co-clustering with established pathway members. No uncharacterized genes are present in this cluster.                                                          Plasmalogen Biosynthesis                                                                                                                                            Cluster 2213 exhibits a strong and coherent signature for Plasmalogen Biosynthesis. Seven of the eight genes (AGPS, EPT1, FAR1, GNPAT, PCYT2, PEX7, TMEM189) are well-established components directly involved in enzymatic steps, precursor supply (fatty alcohols, CDP-ethanolamine), or essential peroxisomal protein import crucial for this pathway. The remaining gene, SEC14L1, has known functions in innate immunity and transporter regulation. Due to its SEC14 lipid-binding domain and its presence in this highly specific lipid biosynthesis cluster, SEC14L1 is proposed as a novel candidate for involvement in plasmalogen metabolism, potentially in a regulatory or trafficking capacity.                               Ether lipid biosynthesis                                                                                                               The dominant biological pathway for cluster 2213 is ether lipid biosynthesis, with high confidence due to the presence of multiple established genes (AGPS, FAR1, GNPAT, TMEM189) directly involved in this process. EPT1 and PCYT2, while primarily associated with phosphatidylethanolamine synthesis, may have novel roles in ether lipid biosynthesis. PEX7 and SEC14L1, although not directly linked, could have indirect roles in this pathway, meriting further investigation.                               Ether lipid biosynthesis                                             The dominant biological pathway for cluster 2213 is ether lipid biosynthesis, with high confidence due to the presence of multiple established genes (AGPS, FAR1, GNPAT, TMEM189) directly involved in this process. EPT1 and PCYT2, while primarily associated with phosphatidylethanolamine synthesis, may have novel roles in ether lipid biosynthesis. PEX7 and SEC14L1, though not directly part of the biosynthetic pathway, could play supportive roles in peroxisomal function and lipid regulation, respectively.                                                                               Peroxisome-dependent ether phospholipid (plasmalogen) biosynthesis                                                                                                                                                                                              Cluster 2213 is dominated by high‐confidence components of the ether lipid biosynthetic pathway: peroxisomal GNPAT and AGPS initiate alkyl-DHAP formation, FAR1 supplies fatty alcohols, PEX7 imports these enzymes, and ER‐localized TMEM189, EPT1 and PCYT2 complete plasmalogen formation. SEC14L1 is the lone outlier, presenting as a promising candidate for novel lipid transfer functions in this pathway.                                                                               Peroxisome-dependent ether phospholipid (plasmalogen) biosynthesis                                                                                                                                                                                              Cluster 2213 is dominated by high‐confidence components of the ether lipid biosynthetic pathway: peroxisomal GNPAT and AGPS initiate alkyl-DHAP formation, FAR1 supplies fatty alcohols, PEX7 imports these enzymes, and ER‐localized TMEM189, EPT1 and PCYT2 complete plasmalogen formation. SEC14L1 is the lone outlier, presenting as a promising candidate for novel lipid transfer functions in this pathway.\n"
     ]
    }
   ],
   "source": [
    "summary_df, gene_table, cluster_table = run_analysis(project_root)"
   ]
  },
  {
   "cell_type": "code",
   "execution_count": 28,
   "id": "4d3dde53",
   "metadata": {},
   "outputs": [
    {
     "name": "stdout",
     "output_type": "stream",
     "text": [
      "Results saved to /lab/barcheese01/mdiberna/mozzarellm/data/benchmarks/analysis_results.xlsx\n"
     ]
    }
   ],
   "source": [
    "# save all the tables to excel sheets\n",
    "output_file = os.path.join(project_root, \"data/benchmarks/analysis_results.xlsx\")\n",
    "with pd.ExcelWriter(output_file) as writer:\n",
    "    summary_df.to_excel(writer, sheet_name=\"Summary\", index=False)\n",
    "    gene_table.to_excel(writer, sheet_name=\"Gene Categorization\", index=False)\n",
    "    cluster_table.to_excel(writer, sheet_name=\"Cluster Information\", index=False)\n",
    "print(f\"Results saved to {output_file}\")"
   ]
  },
  {
   "cell_type": "code",
   "execution_count": 29,
   "id": "23cb4cd4",
   "metadata": {},
   "outputs": [
    {
     "data": {
      "image/png": "[encoded data removed]",
      "text/plain": [
       "<Figure size 1400x1200 with 2 Axes>"
      ]
     },
     "metadata": {},
     "output_type": "display_data"
    }
   ],
   "source": [
    "import matplotlib.pyplot as plt\n",
    "import seaborn as sns\n",
    "import pandas as pd\n",
    "from matplotlib.ticker import MaxNLocator\n",
    "from matplotlib.lines import Line2D\n",
    "import matplotlib.colors as mcolors\n",
    "\n",
    "# Extract percentages from strings\n",
    "summary_df[\"Novel/Unchar %\"] = (\n",
    "    summary_df[\"Novel/Unchar %\"].str.rstrip(\"%\").astype(float)\n",
    ")\n",
    "\n",
    "# Extract Genes Found percentage from the string format \"X/Y (Z%)\"\n",
    "summary_df[\"Genes Found %\"] = summary_df[\"Genes Found\"].apply(\n",
    "    lambda x: float(x.split(\"(\")[1].split(\"%\")[0])\n",
    ")\n",
    "\n",
    "# Create a model type mapping\n",
    "model_types = {\n",
    "    \"anthropic/claude-3-7-sonnet-20250219\": \"Claude\",\n",
    "    \"anthropic/claude-3-5-haiku-20241022\": \"Claude\",\n",
    "    \"gemini/gemini-2.5-flash-preview-04-17\": \"Gemini\",\n",
    "    \"gemini/gemini-2.5-pro-preview-03-25\": \"Gemini\",\n",
    "    \"openai/gpt-4.1\": \"GPT\",\n",
    "    \"openai/gpt-4o\": \"GPT\",\n",
    "    \"openai_reasoning/o3-mini\": \"GPT\",\n",
    "    \"openai_reasoning/o4-mini\": \"GPT\",\n",
    "}\n",
    "\n",
    "# Add model type column\n",
    "summary_df[\"Model Type\"] = summary_df[\"Model\"].map(model_types)\n",
    "\n",
    "# Define base colors for each model type\n",
    "type_base_colors = {\n",
    "    \"Claude\": \"#9467bd\",  # Purple\n",
    "    \"Gemini\": \"#2ca02c\",  # Green\n",
    "    \"GPT\": \"#d62728\",  # Red\n",
    "}\n",
    "\n",
    "# Group models by type\n",
    "models_by_type = {}\n",
    "for model, model_type in model_types.items():\n",
    "    if model_type not in models_by_type:\n",
    "        models_by_type[model_type] = []\n",
    "    models_by_type[model_type].append(model)\n",
    "\n",
    "# Create different shades for each model within the same family\n",
    "model_colors = {}\n",
    "for model_type, models in models_by_type.items():\n",
    "    base_color = mcolors.to_rgb(type_base_colors[model_type])\n",
    "\n",
    "    # Create shades based on number of models\n",
    "    if len(models) == 2:\n",
    "        # For 2 models: one darker, one lighter\n",
    "        model_colors[models[0]] = mcolors.to_hex(\n",
    "            [c * 0.7 for c in base_color]\n",
    "        )  # Darker\n",
    "        model_colors[models[1]] = mcolors.to_hex(\n",
    "            [min(1.0, c * 1.3) for c in base_color]\n",
    "        )  # Lighter\n",
    "    elif len(models) == 4:  # For GPT with 4 models\n",
    "        # Create 4 shades from dark to light\n",
    "        shadings = [0.6, 0.8, 1.0, 1.2]\n",
    "        for i, model in enumerate(models):\n",
    "            shade_factor = shadings[i]\n",
    "            model_colors[model] = mcolors.to_hex(\n",
    "                [min(1.0, c * shade_factor) for c in base_color]\n",
    "            )\n",
    "    else:\n",
    "        # If just one model, use the base color\n",
    "        for model in models:\n",
    "            model_colors[model] = type_base_colors[model_type]\n",
    "\n",
    "# Set the style\n",
    "sns.set(style=\"whitegrid\")\n",
    "\n",
    "# Create a figure with two panels\n",
    "fig, (ax1, ax2) = plt.subplots(2, 1, figsize=(14, 12), sharex=True)\n",
    "\n",
    "# Panel 1: Novel/Uncharacterized Genes\n",
    "sns.barplot(\n",
    "    data=summary_df,\n",
    "    x=\"Dataset\",\n",
    "    y=\"Novel/Unchar %\",\n",
    "    hue=\"Model\",\n",
    "    palette=model_colors,\n",
    "    ax=ax1,\n",
    ")\n",
    "\n",
    "# Set the title and labels for panel 1\n",
    "ax1.set_title(\"Novel/Uncharacterized Gene Discovery by Model and Dataset\", fontsize=16)\n",
    "ax1.set_ylabel(\"Novel/Uncharacterized Genes (%)\", fontsize=14)\n",
    "ax1.set_ylim(0, 100)  # Slightly higher to give space at the top\n",
    "ax1.yaxis.set_major_formatter(plt.FuncFormatter(lambda x, _: f\"{int(x)}%\"))\n",
    "ax1.yaxis.set_major_locator(MaxNLocator(nbins=10, integer=True))\n",
    "ax1.get_legend().remove()\n",
    "\n",
    "# Panel 2: Genes Found\n",
    "sns.barplot(\n",
    "    data=summary_df,\n",
    "    x=\"Dataset\",\n",
    "    y=\"Genes Found %\",\n",
    "    hue=\"Model\",\n",
    "    palette=model_colors,\n",
    "    ax=ax2,\n",
    ")\n",
    "\n",
    "# Set the title and labels for panel 2\n",
    "ax2.set_title(\"Genes Found by Model and Dataset\", fontsize=16)\n",
    "ax2.set_xlabel(\"Dataset\", fontsize=14)\n",
    "ax2.set_ylabel(\"Genes Found (%)\", fontsize=14)\n",
    "ax2.set_ylim(0, 100)  # Slightly higher to give space at the top\n",
    "ax2.yaxis.set_major_formatter(plt.FuncFormatter(lambda x, _: f\"{int(x)}%\"))\n",
    "ax2.yaxis.set_major_locator(MaxNLocator(nbins=10, integer=True))\n",
    "ax2.get_legend().remove()\n",
    "\n",
    "# Create custom legend\n",
    "legend_elements = []\n",
    "\n",
    "# Add model elements - group by model type for organization\n",
    "for model_type in type_base_colors.keys():\n",
    "    # Add model type header\n",
    "    legend_elements.append(\n",
    "        Line2D([0], [0], color=\"white\", lw=0, label=f\"{model_type} Models:\")\n",
    "    )\n",
    "\n",
    "    # Add models of this type\n",
    "    for model in sorted(models_by_type[model_type]):\n",
    "        color = model_colors[model]\n",
    "        # Create a simplified model name for display\n",
    "        if \"claude\" in model:\n",
    "            display_name = (\n",
    "                model.replace(\"claude-\", \"Claude \")\n",
    "                .replace(\"-20250219\", \"\")\n",
    "                .replace(\"-20241022\", \"\")\n",
    "            )\n",
    "        elif \"gemini\" in model:\n",
    "            display_name = (\n",
    "                model.replace(\"gemini-\", \"Gemini \")\n",
    "                .replace(\"-preview-04-17\", \"\")\n",
    "                .replace(\"-preview-03-25\", \"\")\n",
    "            )\n",
    "        elif \"gpt\" in model:\n",
    "            display_name = model.replace(\"gpt-\", \"GPT \")\n",
    "        else:\n",
    "            display_name = model\n",
    "\n",
    "        legend_elements.append(Line2D([0], [0], color=color, lw=4, label=display_name))\n",
    "\n",
    "    # Add a separator after each group\n",
    "    if model_type != list(type_base_colors.keys())[-1]:\n",
    "        legend_elements.append(Line2D([0], [0], color=\"white\", lw=0, label=\"\"))\n",
    "\n",
    "# Add the legend outside the plot area, positioned between the two panels\n",
    "fig.legend(\n",
    "    handles=legend_elements, loc=\"center right\", bbox_to_anchor=(0.98, 0.5), fontsize=10\n",
    ")\n",
    "\n",
    "# Adjust layout for the legend and spacing between panels\n",
    "plt.tight_layout()\n",
    "plt.subplots_adjust(right=0.8, hspace=0.3)\n",
    "\n",
    "# Construct the save path\n",
    "save_path = os.path.join(project_root, \"data/benchmarks/analysis_figure.png\")\n",
    "\n",
    "# Save the figure with high dpi (e.g., 300)\n",
    "plt.savefig(save_path, dpi=300)\n",
    "\n",
    "plt.show()"
   ]
  },
  {
   "cell_type": "code",
   "execution_count": null,
   "id": "490a6d45",
   "metadata": {},
   "outputs": [],
   "source": []
  }
 ],
 "metadata": {
  "kernelspec": {
   "display_name": "mozzarellm_editable",
   "language": "python",
   "name": "python3"
  },
  "language_info": {
   "codemirror_mode": {
    "name": "ipython",
    "version": 3
   },
   "file_extension": ".py",
   "mimetype": "text/x-python",
   "name": "python",
   "nbconvert_exporter": "python",
   "pygments_lexer": "ipython3",
   "version": "3.11.11"
  }
 },
 "nbformat": 4,
 "nbformat_minor": 5
}
