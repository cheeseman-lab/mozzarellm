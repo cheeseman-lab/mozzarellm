{
 "cells": [
  {
   "cell_type": "code",
   "execution_count": null,
   "id": "3d9c625c",
   "metadata": {},
   "outputs": [],
   "source": [
    "# Import necessary libraries\n",
    "import os\n",
    "from dotenv import load_dotenv\n",
    "\n",
    "# Import from the refactored utilities\n",
    "from utils.cluster_analyzer import analyze_gene_clusters\n",
    "\n",
    "# Load environment variables (for API keys)\n",
    "load_dotenv()\n",
    "\n",
    "# Set up paths and parameters\n",
    "DATA_DIR = \"data\"\n",
    "RESULTS_DIR = \"results/luke_benchmark_1\"\n",
    "INPUT_FILE = f\"{DATA_DIR}/HeLa_essentials/cell_2022_clustering.csv\"\n",
    "PROCESSED_FILE = f\"{DATA_DIR}/luke_interphase.csv\"\n",
    "GENE_FEATURES = f\"{DATA_DIR}/HeLa_essentials/essentials_uniprot.csv\"\n",
    "PROJECT_NAME = \"sample_gene_sets\"\n",
    "\n",
    "# Create results directory\n",
    "os.makedirs(RESULTS_DIR, exist_ok=True)"
   ]
  },
  {
   "cell_type": "code",
   "execution_count": null,
   "id": "27c5906b",
   "metadata": {},
   "outputs": [],
   "source": [
    "# # Step 1: Reshape clusters - now using the refactored function\n",
    "# print(\"Preprocessing data: Converting raw data to cluster format...\")\n",
    "# cluster_df = reshape_to_clusters(\n",
    "#     input_file=INPUT_FILE,\n",
    "#     output_file=PROCESSED_FILE,\n",
    "#     sep=\",\",\n",
    "#     gene_col=\"gene_symbol_0\",\n",
    "#     cluster_col=\"cluster\",\n",
    "#     gene_sep=\";\"\n",
    "# )\n",
    "\n",
    "# # Display a sample of the reshaped data\n",
    "# print(\"Sample of reshaped data:\")\n",
    "# display(cluster_df.head())"
   ]
  },
  {
   "cell_type": "code",
   "execution_count": null,
   "id": "15de3078",
   "metadata": {},
   "outputs": [],
   "source": [
    "# Step 2: Run analysis with OpenAI GPT-4o\n",
    "print(\"Running analysis with OpenAI GPT-4o...\")\n",
    "openai_results = analyze_gene_clusters(\n",
    "    input_file=PROCESSED_FILE,\n",
    "    output_file=f\"{RESULTS_DIR}/{PROJECT_NAME}_openai\",\n",
    "    config_path=\"config_openai.json\",\n",
    "    model_name=\"gpt-4o\",\n",
    "    custom_prompt_path=\"prompts/top_targets.txt\",\n",
    "    gene_features_path=GENE_FEATURES,\n",
    "    screen_info_path=\"prompts/HeLa_interphase_screen_info.txt\",\n",
    "    gene_column=\"genes\",\n",
    "    gene_sep=\";\",\n",
    "    batch_size=1,\n",
    ")\n",
    "\n",
    "# Step 3: Run analysis with Anthropic Claude-3-7-Sonnet\n",
    "print(\"Running analysis with Anthropic Claude-3-7-Sonnet...\")\n",
    "claude_results = analyze_gene_clusters(\n",
    "    input_file=PROCESSED_FILE,\n",
    "    output_file=f\"{RESULTS_DIR}/{PROJECT_NAME}_anthropic\",\n",
    "    config_path=\"config_anthropic.json\",\n",
    "    model_name=\"claude-3-7-sonnet-20250219\",\n",
    "    custom_prompt_path=\"prompts/top_targets.txt\",\n",
    "    gene_features_path=GENE_FEATURES,\n",
    "    screen_info_path=\"prompts/HeLa_interphase_screen_info.txt\",\n",
    "    gene_column=\"genes\",\n",
    "    gene_sep=\";\",\n",
    "    batch_size=1,\n",
    ")\n",
    "\n",
    "print(f\"Analysis complete. Results saved to {RESULTS_DIR}/\")\n",
    "\n",
    "# Analysis code - load and visualize results\n",
    "# (Same as in previous examples)"
   ]
  }
 ],
 "metadata": {
  "kernelspec": {
   "display_name": "mozzarellm",
   "language": "python",
   "name": "python3"
  },
  "language_info": {
   "codemirror_mode": {
    "name": "ipython",
    "version": 3
   },
   "file_extension": ".py",
   "mimetype": "text/x-python",
   "name": "python",
   "nbconvert_exporter": "python",
   "pygments_lexer": "ipython3",
   "version": "3.11.11"
  }
 },
 "nbformat": 4,
 "nbformat_minor": 5
}
