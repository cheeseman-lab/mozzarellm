{
 "cells": [
  {
   "cell_type": "code",
   "execution_count": 2,
   "id": "3d9c625c",
   "metadata": {},
   "outputs": [],
   "source": [
    "# Import necessary libraries\n",
    "import os\n",
    "from dotenv import load_dotenv\n",
    "\n",
    "# Import from the refactored utilities\n",
    "from utils.cluster_analyzer import analyze_gene_clusters\n",
    "\n",
    "# Load environment variables (for API keys)\n",
    "load_dotenv()\n",
    "\n",
    "# Set up paths and parameters\n",
    "DATA_DIR = \"data\"\n",
    "RESULTS_DIR = \"results/luke_benchmark_1\"\n",
    "INPUT_FILE = f\"{DATA_DIR}/HeLa_essentials/cell_2022_clustering.csv\"\n",
    "PROCESSED_FILE = f\"{DATA_DIR}/luke_interphase.csv\"\n",
    "GENE_FEATURES = f\"{DATA_DIR}/HeLa_essentials/essentials_uniprot.csv\"\n",
    "PROJECT_NAME = \"sample_gene_sets\"\n",
    "\n",
    "# Create results directory\n",
    "os.makedirs(RESULTS_DIR, exist_ok=True)"
   ]
  },
  {
   "cell_type": "code",
   "execution_count": null,
   "id": "27c5906b",
   "metadata": {},
   "outputs": [],
   "source": [
    "# # Step 1: Reshape clusters - now using the refactored function\n",
    "# print(\"Preprocessing data: Converting raw data to cluster format...\")\n",
    "# cluster_df = reshape_to_clusters(\n",
    "#     input_file=INPUT_FILE,\n",
    "#     output_file=PROCESSED_FILE,\n",
    "#     sep=\",\",\n",
    "#     gene_col=\"gene_symbol_0\",\n",
    "#     cluster_col=\"cluster\",\n",
    "#     gene_sep=\";\"\n",
    "# )\n",
    "\n",
    "# # Display a sample of the reshaped data\n",
    "# print(\"Sample of reshaped data:\")\n",
    "# display(cluster_df.head())"
   ]
  },
  {
   "cell_type": "code",
   "execution_count": 3,
   "id": "15de3078",
   "metadata": {},
   "outputs": [
    {
     "name": "stdout",
     "output_type": "stream",
     "text": [
      "Running analysis with OpenAI GPT-4o...\n",
      "Loaded data with 6 rows and columns: ['cluster_id', 'genes']\n",
      "Loaded features for 1095 genes\n",
      "Loaded screen information: 2129 characters\n"
     ]
    },
    {
     "name": "stderr",
     "output_type": "stream",
     "text": [
      "Processing clusters:   0%|          | 0/6 [00:00<?, ?it/s]"
     ]
    },
    {
     "name": "stdout",
     "output_type": "stream",
     "text": [
      "Added 6 gene feature descriptions to prompt\n"
     ]
    },
    {
     "name": "stderr",
     "output_type": "stream",
     "text": [
      "Processing clusters:  17%|█▋        | 1/6 [00:07<00:39,  7.95s/it]"
     ]
    },
    {
     "name": "stdout",
     "output_type": "stream",
     "text": [
      "Added 2 gene feature descriptions to prompt\n"
     ]
    },
    {
     "name": "stderr",
     "output_type": "stream",
     "text": [
      "Processing clusters:  33%|███▎      | 2/6 [00:15<00:30,  7.64s/it]"
     ]
    },
    {
     "name": "stdout",
     "output_type": "stream",
     "text": [
      "Added 5 gene feature descriptions to prompt\n"
     ]
    },
    {
     "name": "stderr",
     "output_type": "stream",
     "text": [
      "Processing clusters:  50%|█████     | 3/6 [00:24<00:24,  8.13s/it]"
     ]
    },
    {
     "name": "stdout",
     "output_type": "stream",
     "text": [
      "Added 3 gene feature descriptions to prompt\n"
     ]
    },
    {
     "name": "stderr",
     "output_type": "stream",
     "text": [
      "Processing clusters:  67%|██████▋   | 4/6 [00:31<00:15,  7.89s/it]"
     ]
    },
    {
     "name": "stdout",
     "output_type": "stream",
     "text": [
      "Added 2 gene feature descriptions to prompt\n"
     ]
    },
    {
     "name": "stderr",
     "output_type": "stream",
     "text": [
      "INFO:cluster_analysis_20250501_161139.log:Saved progress for 5 clusters\n",
      "Processing clusters:  83%|████████▎ | 5/6 [00:37<00:07,  7.09s/it]INFO:cluster_analysis_20250501_161139.log:Accessing OpenAI API\n"
     ]
    },
    {
     "name": "stdout",
     "output_type": "stream",
     "text": [
      "Added 3 gene feature descriptions to prompt\n"
     ]
    },
    {
     "name": "stderr",
     "output_type": "stream",
     "text": [
      "INFO:cluster_analysis_20250501_161139.log:API call successful: 2476 tokens, $0.0248\n",
      "INFO:cluster_analysis_20250501_161139.log:Success for cluster 37\n",
      "Processing clusters: 100%|██████████| 6/6 [00:58<00:00,  9.82s/it]\n",
      "INFO:cluster_analysis_20250501_161139.log:Completed analysis for 6 clusters\n",
      "INFO:cluster_analysis_20250501_161238.log:Processing 6 clusters with model claude-3-7-sonnet-20250219\n"
     ]
    },
    {
     "name": "stdout",
     "output_type": "stream",
     "text": [
      "Running analysis with Anthropic Claude-3-7-Sonnet...\n",
      "Loaded data with 6 rows and columns: ['cluster_id', 'genes']\n",
      "Loaded features for 1095 genes\n",
      "Loaded screen information: 2129 characters\n"
     ]
    },
    {
     "name": "stderr",
     "output_type": "stream",
     "text": [
      "Processing clusters:   0%|          | 0/6 [00:00<?, ?it/s]INFO:cluster_analysis_20250501_161238.log:Using Anthropic Claude API\n"
     ]
    },
    {
     "name": "stdout",
     "output_type": "stream",
     "text": [
      "Added 6 gene feature descriptions to prompt\n"
     ]
    },
    {
     "name": "stderr",
     "output_type": "stream",
     "text": [
      "INFO:cluster_analysis_20250501_161238.log:Anthropic API call successful: model=claude-3-7-sonnet-20250219\n",
      "INFO:cluster_analysis_20250501_161238.log:Success for cluster 149\n",
      "Processing clusters:  17%|█▋        | 1/6 [00:24<02:02, 24.58s/it]INFO:cluster_analysis_20250501_161238.log:Using Anthropic Claude API\n"
     ]
    },
    {
     "name": "stdout",
     "output_type": "stream",
     "text": [
      "Added 2 gene feature descriptions to prompt\n"
     ]
    },
    {
     "name": "stderr",
     "output_type": "stream",
     "text": [
      "INFO:cluster_analysis_20250501_161238.log:Anthropic API call successful: model=claude-3-7-sonnet-20250219\n",
      "INFO:cluster_analysis_20250501_161238.log:Success for cluster 121\n",
      "Processing clusters:  33%|███▎      | 2/6 [00:41<01:20, 20.14s/it]INFO:cluster_analysis_20250501_161238.log:Using Anthropic Claude API\n"
     ]
    },
    {
     "name": "stdout",
     "output_type": "stream",
     "text": [
      "Added 5 gene feature descriptions to prompt\n"
     ]
    },
    {
     "name": "stderr",
     "output_type": "stream",
     "text": [
      "INFO:cluster_analysis_20250501_161238.log:Anthropic API call successful: model=claude-3-7-sonnet-20250219\n",
      "INFO:cluster_analysis_20250501_161238.log:Success for cluster 21\n",
      "Processing clusters:  50%|█████     | 3/6 [01:02<01:01, 20.35s/it]INFO:cluster_analysis_20250501_161238.log:Using Anthropic Claude API\n"
     ]
    },
    {
     "name": "stdout",
     "output_type": "stream",
     "text": [
      "Added 3 gene feature descriptions to prompt\n"
     ]
    },
    {
     "name": "stderr",
     "output_type": "stream",
     "text": [
      "INFO:cluster_analysis_20250501_161238.log:Anthropic API call successful: model=claude-3-7-sonnet-20250219\n",
      "INFO:cluster_analysis_20250501_161238.log:Success for cluster 167\n",
      "Processing clusters:  67%|██████▋   | 4/6 [01:13<00:33, 16.62s/it]INFO:cluster_analysis_20250501_161238.log:Using Anthropic Claude API\n"
     ]
    },
    {
     "name": "stdout",
     "output_type": "stream",
     "text": [
      "Added 2 gene feature descriptions to prompt\n"
     ]
    },
    {
     "name": "stderr",
     "output_type": "stream",
     "text": [
      "INFO:cluster_analysis_20250501_161238.log:Anthropic API call successful: model=claude-3-7-sonnet-20250219\n",
      "INFO:cluster_analysis_20250501_161238.log:Success for cluster 197\n",
      "INFO:cluster_analysis_20250501_161238.log:Saved progress for 5 clusters\n",
      "Processing clusters:  83%|████████▎ | 5/6 [01:31<00:17, 17.39s/it]INFO:cluster_analysis_20250501_161238.log:Using Anthropic Claude API\n"
     ]
    },
    {
     "name": "stdout",
     "output_type": "stream",
     "text": [
      "Added 3 gene feature descriptions to prompt\n"
     ]
    },
    {
     "name": "stderr",
     "output_type": "stream",
     "text": [
      "INFO:cluster_analysis_20250501_161238.log:Anthropic API call successful: model=claude-3-7-sonnet-20250219\n",
      "INFO:cluster_analysis_20250501_161238.log:Success for cluster 37\n",
      "Processing clusters: 100%|██████████| 6/6 [01:44<00:00, 17.47s/it]\n",
      "INFO:cluster_analysis_20250501_161238.log:Completed analysis for 6 clusters\n"
     ]
    },
    {
     "name": "stdout",
     "output_type": "stream",
     "text": [
      "Analysis complete. Results saved to results/luke_benchmark_1/\n"
     ]
    }
   ],
   "source": [
    "# Step 2: Run analysis with OpenAI GPT-4o\n",
    "print(\"Running analysis with OpenAI GPT-4o...\")\n",
    "openai_results = analyze_gene_clusters(\n",
    "    input_file=PROCESSED_FILE,\n",
    "    output_file=f\"{RESULTS_DIR}/{PROJECT_NAME}_openai\",\n",
    "    config_path=\"config_openai.json\",\n",
    "    model_name=\"gpt-4o\",\n",
    "    custom_prompt_path=\"prompts/top_targets.txt\",\n",
    "    gene_features_path=GENE_FEATURES,\n",
    "    screen_info_path=\"prompts/HeLa_interphase_screen_info.txt\",\n",
    "    gene_column=\"genes\",\n",
    "    gene_sep=\";\",\n",
    "    batch_size=1,\n",
    "    cluster_id_column=\"cluster_id\",\n",
    ")\n",
    "\n",
    "# Step 3: Run analysis with Anthropic Claude-3-7-Sonnet\n",
    "print(\"Running analysis with Anthropic Claude-3-7-Sonnet...\")\n",
    "claude_results = analyze_gene_clusters(\n",
    "    input_file=PROCESSED_FILE,\n",
    "    output_file=f\"{RESULTS_DIR}/{PROJECT_NAME}_anthropic\",\n",
    "    config_path=\"config_anthropic.json\",\n",
    "    model_name=\"claude-3-7-sonnet-20250219\",\n",
    "    custom_prompt_path=\"prompts/top_targets.txt\",\n",
    "    gene_features_path=GENE_FEATURES,\n",
    "    screen_info_path=\"prompts/HeLa_interphase_screen_info.txt\",\n",
    "    gene_column=\"genes\",\n",
    "    gene_sep=\";\",\n",
    "    batch_size=1,\n",
    "    cluster_id_column=\"cluster_id\",\n",
    ")\n",
    "\n",
    "print(f\"Analysis complete. Results saved to {RESULTS_DIR}/\")"
   ]
  }
 ],
 "metadata": {
  "kernelspec": {
   "display_name": "mozzarellm",
   "language": "python",
   "name": "python3"
  },
  "language_info": {
   "codemirror_mode": {
    "name": "ipython",
    "version": 3
   },
   "file_extension": ".py",
   "mimetype": "text/x-python",
   "name": "python",
   "nbconvert_exporter": "python",
   "pygments_lexer": "ipython3",
   "version": "3.11.11"
  }
 },
 "nbformat": 4,
 "nbformat_minor": 5
}
